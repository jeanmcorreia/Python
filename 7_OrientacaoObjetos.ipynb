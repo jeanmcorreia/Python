{
  "nbformat": 4,
  "nbformat_minor": 0,
  "metadata": {
    "colab": {
      "provenance": [],
      "authorship_tag": "ABX9TyMhP2bJD0ePT4rmhmRSupjH",
      "include_colab_link": true
    },
    "kernelspec": {
      "name": "python3",
      "display_name": "Python 3"
    },
    "language_info": {
      "name": "python"
    }
  },
  "cells": [
    {
      "cell_type": "markdown",
      "metadata": {
        "id": "view-in-github",
        "colab_type": "text"
      },
      "source": [
        "<a href=\"https://colab.research.google.com/github/jeanmcorreia/Python/blob/main/7_OrientacaoObjetos.ipynb\" target=\"_parent\"><img src=\"https://colab.research.google.com/assets/colab-badge.svg\" alt=\"Open In Colab\"/></a>"
      ]
    },
    {
      "cell_type": "code",
      "execution_count": null,
      "metadata": {
        "colab": {
          "base_uri": "https://localhost:8080/"
        },
        "id": "oJTpc0znaRnQ",
        "outputId": "da1c4823-8ca6-4bfc-e23f-90f0d480229c"
      },
      "outputs": [
        {
          "output_type": "stream",
          "name": "stdout",
          "text": [
            "<class '__main__.Teste'>\n"
          ]
        }
      ],
      "source": [
        "class Teste:\n",
        "  pass\n",
        "\n",
        "minha_classe = Teste()\n",
        "print(type(minha_classe))"
      ]
    },
    {
      "cell_type": "code",
      "source": [
        "class NossaClasse:\n",
        "  def __init__(self):\n",
        "    print(\"Eu existo\")\n",
        "\n",
        "var = NossaClasse()\n",
        "print(type(var))"
      ],
      "metadata": {
        "colab": {
          "base_uri": "https://localhost:8080/"
        },
        "id": "birs6C0eaiEI",
        "outputId": "d0505d77-bd75-4231-f071-b127e8d1ef29"
      },
      "execution_count": null,
      "outputs": [
        {
          "output_type": "stream",
          "name": "stdout",
          "text": [
            "Eu existo\n",
            "<class '__main__.NossaClasse'>\n"
          ]
        }
      ]
    },
    {
      "cell_type": "code",
      "source": [
        "class Pessoa:\n",
        "  def __init__(self, nome, idade):\n",
        "    self.nome = nome\n",
        "    self.idade = idade\n",
        "    print(f\"Pessoa com nome {nome} e idade {idade} criada\")\n",
        "\n",
        "pessoa1 = Pessoa('Rodrigo', 34)\n",
        "pessoa2 = Pessoa('Lucas', 21)\n",
        "\n",
        "print(pessoa1.nome)\n",
        "print(pessoa2.idade)"
      ],
      "metadata": {
        "colab": {
          "base_uri": "https://localhost:8080/"
        },
        "id": "9wZ9DxJwbcTe",
        "outputId": "ceb84fea-6906-409e-d6a5-55d5a1225a5e"
      },
      "execution_count": null,
      "outputs": [
        {
          "output_type": "stream",
          "name": "stdout",
          "text": [
            "Pessoa com nome Rodrigo e idade 34 criada\n",
            "Pessoa com nome Lucas e idade 21 criada\n",
            "Rodrigo\n",
            "21\n"
          ]
        }
      ]
    },
    {
      "cell_type": "code",
      "source": [
        "class Pessoa:\n",
        "  def __init__(self, nome, idade):\n",
        "    self.nome = nome\n",
        "    self.idade = idade\n",
        "    print(f\"Pessoa com nome {nome} e idade {idade} criada\")\n",
        "\n",
        "pessoa1 = Pessoa('Rodrigo', 34)\n",
        "\n",
        "pessoa1.nome = 'Marcelo'\n",
        "print(pessoa1.nome)"
      ],
      "metadata": {
        "id": "_mbjPrfycdjP",
        "colab": {
          "base_uri": "https://localhost:8080/"
        },
        "outputId": "a5e6b78a-961f-435f-bb96-d3b990165669"
      },
      "execution_count": null,
      "outputs": [
        {
          "output_type": "stream",
          "name": "stdout",
          "text": [
            "Pessoa com nome Rodrigo e idade 34 criada\n",
            "Marcelo\n"
          ]
        }
      ]
    },
    {
      "cell_type": "code",
      "source": [
        "class Pessoa:\n",
        "  especie = 'Homo Sapiens'\n",
        "  def __init__(self, nome, idade):\n",
        "    self.nome = nome\n",
        "    self.idade = idade\n",
        "    print(f\"Pessoa com nome {nome} e idade {idade} criada\")\n",
        "\n",
        "pessoa1 = Pessoa('Rodrigo', 34)\n",
        "pessoa2 = Pessoa('Lucas', 21)\n",
        "\n",
        "print(pessoa1.especie)\n",
        "print(pessoa2.especie)"
      ],
      "metadata": {
        "colab": {
          "base_uri": "https://localhost:8080/"
        },
        "id": "sWWIfhktoHYZ",
        "outputId": "63949007-3a66-4def-c49b-e654d2d63828"
      },
      "execution_count": null,
      "outputs": [
        {
          "output_type": "stream",
          "name": "stdout",
          "text": [
            "Pessoa com nome Rodrigo e idade 34 criada\n",
            "Pessoa com nome Lucas e idade 21 criada\n",
            "Homo Sapiens\n",
            "Homo Sapiens\n"
          ]
        }
      ]
    },
    {
      "cell_type": "code",
      "source": [
        "class Pessoa:\n",
        "  especie = 'Homo Sapiens'\n",
        "  num_pessoas = 0\n",
        "  def __init__(self, nome, idade):\n",
        "    self.nome = nome\n",
        "    self.idade = idade\n",
        "    Pessoa.num_pessoas += 1\n",
        "\n",
        "pessoa1 = Pessoa('Rodrigo', 34)\n",
        "print(Pessoa.num_pessoas)\n",
        "pessoa2 = Pessoa('Lucas', 21)\n",
        "print(Pessoa.num_pessoas)\n",
        "pessoa3 = Pessoa('Maria', 22)\n",
        "print(Pessoa.num_pessoas)"
      ],
      "metadata": {
        "colab": {
          "base_uri": "https://localhost:8080/"
        },
        "id": "rnPG5rCuokk4",
        "outputId": "0fc3179b-3ad5-415c-bf8e-774e6eca93ee"
      },
      "execution_count": null,
      "outputs": [
        {
          "output_type": "stream",
          "name": "stdout",
          "text": [
            "1\n",
            "2\n",
            "3\n"
          ]
        }
      ]
    },
    {
      "cell_type": "code",
      "source": [
        "class Pessoa:\n",
        "  def __init__(self, nome, idade):\n",
        "    self.nome = nome\n",
        "    self.idade = idade\n",
        "  def print_nome(self):\n",
        "    print(f\"Meu nome é {self.nome}\")\n",
        "\n",
        "pessoa1 = Pessoa('Rodrigo', 34)\n",
        "pessoa2 = Pessoa('Maria', 22)\n",
        "\n",
        "pessoa1.print_nome()\n",
        "pessoa2.print_nome()"
      ],
      "metadata": {
        "id": "cHiPGokZpBSQ",
        "colab": {
          "base_uri": "https://localhost:8080/"
        },
        "outputId": "ee7dbf57-0414-4b21-fdea-cd506ad24ff7"
      },
      "execution_count": null,
      "outputs": [
        {
          "output_type": "stream",
          "name": "stdout",
          "text": [
            "Meu nome é Rodrigo\n",
            "Meu nome é Maria\n"
          ]
        }
      ]
    },
    {
      "cell_type": "code",
      "source": [
        "class Pessoa:\n",
        "  def __init__(self, nome, idade):\n",
        "    self.nome = nome\n",
        "    self.idade = idade\n",
        "  def print_string(self, nome):\n",
        "    print(f\"Meu nome é {nome}\")\n",
        "  def print_nome(self):\n",
        "    self.print_string(self.nome)\n",
        "\n",
        "pessoa1 = Pessoa('Rodrigo', 34)\n",
        "pessoa2 = Pessoa('Maria', 22)\n",
        "\n",
        "pessoa1.print_nome()\n",
        "pessoa2.print_nome()"
      ],
      "metadata": {
        "id": "FOm1klwdsHqo"
      },
      "execution_count": null,
      "outputs": []
    },
    {
      "cell_type": "code",
      "source": [
        "class Pessoa:\n",
        "  def __init__(self, nome):\n",
        "    self.nome = nome\n",
        "  def insere_idade(self, idade):\n",
        "    self.idade = idade\n",
        "\n",
        "rodrigo = Pessoa(\"Rodrigo\")\n",
        "rodrigo.insere_idade(34)\n",
        "\n",
        "print(rodrigo.idade)"
      ],
      "metadata": {
        "colab": {
          "base_uri": "https://localhost:8080/"
        },
        "id": "y3Ob-w2z6KJ6",
        "outputId": "8fd8d724-68f3-43f8-846d-8ba332ba8b97"
      },
      "execution_count": 1,
      "outputs": [
        {
          "output_type": "stream",
          "name": "stdout",
          "text": [
            "34\n"
          ]
        }
      ]
    },
    {
      "cell_type": "code",
      "source": [],
      "metadata": {
        "id": "No0LR83v6mNK"
      },
      "execution_count": null,
      "outputs": []
    }
  ]
}