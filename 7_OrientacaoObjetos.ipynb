{
  "nbformat": 4,
  "nbformat_minor": 0,
  "metadata": {
    "colab": {
      "provenance": [],
      "authorship_tag": "ABX9TyNar/FZ0HalZHlp3Zqm7JpH",
      "include_colab_link": true
    },
    "kernelspec": {
      "name": "python3",
      "display_name": "Python 3"
    },
    "language_info": {
      "name": "python"
    }
  },
  "cells": [
    {
      "cell_type": "markdown",
      "metadata": {
        "id": "view-in-github",
        "colab_type": "text"
      },
      "source": [
        "<a href=\"https://colab.research.google.com/github/jeanmcorreia/Python/blob/main/7_OrientacaoObjetos.ipynb\" target=\"_parent\"><img src=\"https://colab.research.google.com/assets/colab-badge.svg\" alt=\"Open In Colab\"/></a>"
      ]
    },
    {
      "cell_type": "code",
      "execution_count": null,
      "metadata": {
        "colab": {
          "base_uri": "https://localhost:8080/"
        },
        "id": "oJTpc0znaRnQ",
        "outputId": "da1c4823-8ca6-4bfc-e23f-90f0d480229c"
      },
      "outputs": [
        {
          "output_type": "stream",
          "name": "stdout",
          "text": [
            "<class '__main__.Teste'>\n"
          ]
        }
      ],
      "source": [
        "class Teste:\n",
        "  pass\n",
        "\n",
        "minha_classe = Teste()\n",
        "print(type(minha_classe))"
      ]
    },
    {
      "cell_type": "code",
      "source": [
        "class NossaClasse:\n",
        "  def __init__(self):\n",
        "    print(\"Eu existo\")\n",
        "\n",
        "var = NossaClasse()\n",
        "print(type(var))"
      ],
      "metadata": {
        "colab": {
          "base_uri": "https://localhost:8080/"
        },
        "id": "birs6C0eaiEI",
        "outputId": "d0505d77-bd75-4231-f071-b127e8d1ef29"
      },
      "execution_count": null,
      "outputs": [
        {
          "output_type": "stream",
          "name": "stdout",
          "text": [
            "Eu existo\n",
            "<class '__main__.NossaClasse'>\n"
          ]
        }
      ]
    },
    {
      "cell_type": "code",
      "source": [
        "class Pessoa:\n",
        "  def __init__(self, nome, idade):\n",
        "    self.nome = nome\n",
        "    self.idade = idade\n",
        "    print(f\"Pessoa com nome {nome} e idade {idade} criada\")\n",
        "\n",
        "pessoa1 = Pessoa('Rodrigo', 34)\n",
        "pessoa2 = Pessoa('Lucas', 21)\n",
        "\n",
        "print(pessoa1.nome)\n",
        "print(pessoa2.idade)"
      ],
      "metadata": {
        "colab": {
          "base_uri": "https://localhost:8080/"
        },
        "id": "9wZ9DxJwbcTe",
        "outputId": "ceb84fea-6906-409e-d6a5-55d5a1225a5e"
      },
      "execution_count": null,
      "outputs": [
        {
          "output_type": "stream",
          "name": "stdout",
          "text": [
            "Pessoa com nome Rodrigo e idade 34 criada\n",
            "Pessoa com nome Lucas e idade 21 criada\n",
            "Rodrigo\n",
            "21\n"
          ]
        }
      ]
    },
    {
      "cell_type": "code",
      "source": [
        "class Pessoa:\n",
        "  def __init__(self, nome, idade):\n",
        "    self.nome = nome\n",
        "    self.idade = idade\n",
        "    print(f\"Pessoa com nome {nome} e idade {idade} criada\")\n",
        "\n",
        "pessoa1 = Pessoa('Rodrigo', 34)\n",
        "\n",
        "pessoa1.nome = 'Marcelo'\n",
        "print(pessoa1.nome)"
      ],
      "metadata": {
        "id": "_mbjPrfycdjP",
        "colab": {
          "base_uri": "https://localhost:8080/"
        },
        "outputId": "a5e6b78a-961f-435f-bb96-d3b990165669"
      },
      "execution_count": null,
      "outputs": [
        {
          "output_type": "stream",
          "name": "stdout",
          "text": [
            "Pessoa com nome Rodrigo e idade 34 criada\n",
            "Marcelo\n"
          ]
        }
      ]
    },
    {
      "cell_type": "code",
      "source": [
        "class Pessoa:\n",
        "  especie = 'Homo Sapiens'\n",
        "  def __init__(self, nome, idade):\n",
        "    self.nome = nome\n",
        "    self.idade = idade\n",
        "    print(f\"Pessoa com nome {nome} e idade {idade} criada\")\n",
        "\n",
        "pessoa1 = Pessoa('Rodrigo', 34)\n",
        "pessoa2 = Pessoa('Lucas', 21)\n",
        "\n",
        "print(pessoa1.especie)\n",
        "print(pessoa2.especie)"
      ],
      "metadata": {
        "colab": {
          "base_uri": "https://localhost:8080/"
        },
        "id": "sWWIfhktoHYZ",
        "outputId": "63949007-3a66-4def-c49b-e654d2d63828"
      },
      "execution_count": null,
      "outputs": [
        {
          "output_type": "stream",
          "name": "stdout",
          "text": [
            "Pessoa com nome Rodrigo e idade 34 criada\n",
            "Pessoa com nome Lucas e idade 21 criada\n",
            "Homo Sapiens\n",
            "Homo Sapiens\n"
          ]
        }
      ]
    },
    {
      "cell_type": "code",
      "source": [
        "class Pessoa:\n",
        "  especie = 'Homo Sapiens'\n",
        "  num_pessoas = 0\n",
        "  def __init__(self, nome, idade):\n",
        "    self.nome = nome\n",
        "    self.idade = idade\n",
        "    Pessoa.num_pessoas += 1\n",
        "\n",
        "pessoa1 = Pessoa('Rodrigo', 34)\n",
        "print(Pessoa.num_pessoas)\n",
        "pessoa2 = Pessoa('Lucas', 21)\n",
        "print(Pessoa.num_pessoas)\n",
        "pessoa3 = Pessoa('Maria', 22)\n",
        "print(Pessoa.num_pessoas)"
      ],
      "metadata": {
        "colab": {
          "base_uri": "https://localhost:8080/"
        },
        "id": "rnPG5rCuokk4",
        "outputId": "0fc3179b-3ad5-415c-bf8e-774e6eca93ee"
      },
      "execution_count": null,
      "outputs": [
        {
          "output_type": "stream",
          "name": "stdout",
          "text": [
            "1\n",
            "2\n",
            "3\n"
          ]
        }
      ]
    },
    {
      "cell_type": "code",
      "source": [
        "class Pessoa:\n",
        "  def __init__(self, nome, idade):\n",
        "    self.nome = nome\n",
        "    self.idade = idade\n",
        "  def print_nome(self):\n",
        "    print(f\"Meu nome é {self.nome}\")\n",
        "\n",
        "pessoa1 = Pessoa('Rodrigo', 34)\n",
        "pessoa2 = Pessoa('Maria', 22)\n",
        "\n",
        "pessoa1.print_nome()\n",
        "pessoa2.print_nome()"
      ],
      "metadata": {
        "id": "cHiPGokZpBSQ",
        "colab": {
          "base_uri": "https://localhost:8080/"
        },
        "outputId": "ee7dbf57-0414-4b21-fdea-cd506ad24ff7"
      },
      "execution_count": null,
      "outputs": [
        {
          "output_type": "stream",
          "name": "stdout",
          "text": [
            "Meu nome é Rodrigo\n",
            "Meu nome é Maria\n"
          ]
        }
      ]
    },
    {
      "cell_type": "code",
      "source": [
        "class Pessoa:\n",
        "  def __init__(self, nome, idade):\n",
        "    self.nome = nome\n",
        "    self.idade = idade\n",
        "  def print_string(self, nome):\n",
        "    print(f\"Meu nome é {nome}\")\n",
        "  def print_nome(self):\n",
        "    self.print_string(self.nome)\n",
        "\n",
        "pessoa1 = Pessoa('Rodrigo', 34)\n",
        "pessoa2 = Pessoa('Maria', 22)\n",
        "\n",
        "pessoa1.print_nome()\n",
        "pessoa2.print_nome()"
      ],
      "metadata": {
        "id": "FOm1klwdsHqo"
      },
      "execution_count": null,
      "outputs": []
    },
    {
      "cell_type": "code",
      "source": [
        "class Pessoa:\n",
        "  def __init__(self, nome):\n",
        "    self.nome = nome\n",
        "  def insere_idade(self, idade):\n",
        "    self.idade = idade\n",
        "\n",
        "rodrigo = Pessoa(\"Rodrigo\")\n",
        "rodrigo.insere_idade(34)\n",
        "\n",
        "print(rodrigo.idade)"
      ],
      "metadata": {
        "colab": {
          "base_uri": "https://localhost:8080/"
        },
        "id": "y3Ob-w2z6KJ6",
        "outputId": "8fd8d724-68f3-43f8-846d-8ba332ba8b97"
      },
      "execution_count": null,
      "outputs": [
        {
          "output_type": "stream",
          "name": "stdout",
          "text": [
            "34\n"
          ]
        }
      ]
    },
    {
      "cell_type": "code",
      "source": [
        "class Tipo1:\n",
        "  def __init__(self, outra_classe):\n",
        "    self.outra = outra_classe\n",
        "\n",
        "class Tipo2:\n",
        "  numero = 10\n",
        "\n",
        "classe2 = Tipo2()\n",
        "classe1 = Tipo1(classe2)\n",
        "\n",
        "print(classe1.outra.numero)"
      ],
      "metadata": {
        "colab": {
          "base_uri": "https://localhost:8080/"
        },
        "id": "No0LR83v6mNK",
        "outputId": "40c0075a-4272-48bc-b684-0070b0739f70"
      },
      "execution_count": null,
      "outputs": [
        {
          "output_type": "stream",
          "name": "stdout",
          "text": [
            "10\n"
          ]
        }
      ]
    },
    {
      "cell_type": "code",
      "source": [
        "class Exemplo:\n",
        "  def __init__(self):\n",
        "    pass\n",
        "\n",
        "lista = []\n",
        "ex1 = Exemplo\n",
        "ex2 = Exemplo\n",
        "\n",
        "lista.append(ex1)\n",
        "lista.append(ex2)\n",
        "\n",
        "print(lista[1])"
      ],
      "metadata": {
        "colab": {
          "base_uri": "https://localhost:8080/"
        },
        "id": "MC0mC2Df7np5",
        "outputId": "ed46a992-c792-4e6c-dc7a-491629af3969"
      },
      "execution_count": null,
      "outputs": [
        {
          "output_type": "stream",
          "name": "stdout",
          "text": [
            "<class '__main__.Exemplo'>\n"
          ]
        }
      ]
    },
    {
      "cell_type": "code",
      "source": [
        "class FormaGeometrica:\n",
        "  def __init__(self, altura, largura):\n",
        "    self.altura = altura\n",
        "    self.largura = largura\n",
        "\n",
        "class Quadrado(FormaGeometrica):\n",
        "  pass\n",
        "\n",
        "class Triagulo(FormaGeometrica):\n",
        "  pass\n",
        "\n",
        "quadrado = Quadrado(100, 50)\n",
        "triangulo = Triagulo(90, 40)\n",
        "\n",
        "print(quadrado.altura)\n",
        "print(quadrado.largura)\n",
        "print(triangulo.altura)\n",
        "print(triangulo.largura)"
      ],
      "metadata": {
        "colab": {
          "base_uri": "https://localhost:8080/"
        },
        "id": "isVdXy568w4h",
        "outputId": "3de4087b-884b-4757-f52f-46196eab4e30"
      },
      "execution_count": null,
      "outputs": [
        {
          "output_type": "stream",
          "name": "stdout",
          "text": [
            "100\n",
            "50\n",
            "90\n",
            "40\n"
          ]
        }
      ]
    },
    {
      "cell_type": "code",
      "source": [
        "class FormaGeometrica:\n",
        "  def __init__(self, altura, largura):\n",
        "    self.altura = altura\n",
        "    self.largura = largura\n",
        "\n",
        "class Quadrado(FormaGeometrica):\n",
        "  lado = 10\n",
        "\n",
        "class Triagulo(FormaGeometrica):\n",
        "  angulo = 30\n",
        "\n",
        "quadrado = Quadrado(100, 50)\n",
        "triangulo = Triagulo(90, 40)\n",
        "\n",
        "print(quadrado.altura)\n",
        "print(quadrado.largura)\n",
        "print(quadrado.lado)\n",
        "print(triangulo.altura)\n",
        "print(triangulo.largura)\n",
        "print(triangulo.angulo)"
      ],
      "metadata": {
        "colab": {
          "base_uri": "https://localhost:8080/"
        },
        "id": "-fElihH1-GTx",
        "outputId": "45bfdec6-a911-4101-bbe7-9b2423ab30d0"
      },
      "execution_count": null,
      "outputs": [
        {
          "output_type": "stream",
          "name": "stdout",
          "text": [
            "100\n",
            "50\n",
            "10\n",
            "90\n",
            "40\n",
            "30\n"
          ]
        }
      ]
    },
    {
      "cell_type": "code",
      "source": [
        "class FormaGeometrica:\n",
        "  def __init__(self, altura, largura):\n",
        "    self.altura = altura\n",
        "    self.largura = largura\n",
        "  def funcao_herdada(self):\n",
        "    print(\"Sou herdado\")\n",
        "\n",
        "class Quadrado(FormaGeometrica):\n",
        "  pass\n",
        "\n",
        "class Triagulo(FormaGeometrica):\n",
        "  pass\n",
        "\n",
        "quadrado = Quadrado(100, 50)\n",
        "triangulo = Triagulo(90, 40)\n",
        "quadrado.funcao_herdada()\n",
        "triangulo.funcao_herdada()"
      ],
      "metadata": {
        "colab": {
          "base_uri": "https://localhost:8080/"
        },
        "id": "A1QzJm-k-Xq3",
        "outputId": "d1657834-f64a-4540-8272-171d33dab3a0"
      },
      "execution_count": null,
      "outputs": [
        {
          "output_type": "stream",
          "name": "stdout",
          "text": [
            "Sou herdado\n",
            "Sou herdado\n"
          ]
        }
      ]
    },
    {
      "cell_type": "code",
      "source": [
        "class ClassePai:\n",
        "  def __init__(self):\n",
        "    print(\"Sou classe pai\")\n",
        "\n",
        "class ClasseFilha1(ClassePai):\n",
        "  def __init__(self):\n",
        "    print(\"Sou classe filha 1\")\n",
        "\n",
        "class ClasseFilha2(ClassePai):\n",
        "  def __init__(self):\n",
        "    print(\"Sou classe filha 2\")\n",
        "\n",
        "pai = ClassePai()\n",
        "filha1 = ClasseFilha1()\n",
        "filha2 = ClasseFilha"
      ],
      "metadata": {
        "id": "5cuMKlfX_BCZ"
      },
      "execution_count": null,
      "outputs": []
    },
    {
      "cell_type": "code",
      "source": [
        "class FormaGeometrica:\n",
        "  def __init__(self, altura, largura):\n",
        "    self.altura = altura\n",
        "    self.largura = largura\n",
        "\n",
        "class Quadrado(FormaGeometrica):\n",
        "  def __init__(self, altura, largura, atributo_quadrado):\n",
        "    FormaGeometrica.__init__(self, altura, largura)\n",
        "    self.atributo_quadrado = atributo_quadrado\n",
        "\n",
        "class Triangulo(FormaGeometrica):\n",
        "  def __init__(self, altura, largura, atributo_triangulo):\n",
        "    FormaGeometrica.__init__(self, altura, largura)\n",
        "    self.atributo_triangulo = atributo_triangulo\n",
        "\n",
        "quadrado = Quadrado(100, 200, 'quadrado')\n",
        "triangulo = Triangulo(100, 200, 'triangulo')\n",
        "\n",
        "print(quadrado.altura)\n",
        "print(quadrado.atributo_quadrado)\n",
        "\n",
        "print(triangulo.largura)\n",
        "print(triangulo.atributo_triangulo)"
      ],
      "metadata": {
        "colab": {
          "base_uri": "https://localhost:8080/"
        },
        "id": "wy_igWNpDQcD",
        "outputId": "36a5be5d-8c77-4fb6-a0f3-ef5bf48f6618"
      },
      "execution_count": 1,
      "outputs": [
        {
          "output_type": "stream",
          "name": "stdout",
          "text": [
            "100\n",
            "quadrado\n",
            "200\n",
            "triangulo\n"
          ]
        }
      ]
    },
    {
      "cell_type": "code",
      "source": [
        "class FormaGeometrica:\n",
        "  def __init__(self, altura, largura):\n",
        "    self.altura = altura\n",
        "    self.largura = largura\n",
        "  def calcula_area(self):\n",
        "    pass\n",
        "\n",
        "class Quadrado(FormaGeometrica):\n",
        "  def calcula_area(self):\n",
        "    return self.altura * self.largura\n",
        "\n",
        "class Triangulo(FormaGeometrica):\n",
        "  def calcula_area(self):\n",
        "    return (self.altura * self.largura)/2\n",
        "\n",
        "quadrado = Quadrado(200, 200)\n",
        "triangulo = Triangulo(200, 200)\n",
        "\n",
        "print(triangulo.calcula_area())\n",
        "print(quadrado.calcula_area())"
      ],
      "metadata": {
        "colab": {
          "base_uri": "https://localhost:8080/"
        },
        "id": "tI8bDPuJEyas",
        "outputId": "f1c8ad92-b477-4f6a-aed7-20fd6ee49c7f"
      },
      "execution_count": 2,
      "outputs": [
        {
          "output_type": "stream",
          "name": "stdout",
          "text": [
            "20000.0\n",
            "40000\n"
          ]
        }
      ]
    },
    {
      "cell_type": "code",
      "source": [
        "class Veiculo:\n",
        "  def __init__(self, marcha):\n",
        "    self.marcha = marcha\n",
        "  def aumenta_marcha(self):\n",
        "    self.marcha += 1\n",
        "    self.marcha = min(self.marcha,5)\n",
        "  def diminui_marcha(self):\n",
        "    self.marcha -= 1\n",
        "    self.marcha = min(self.marcha,1)\n",
        "\n",
        "class Palio(Veiculo):\n",
        "  def __init__(self, marcha):\n",
        "    Veiculo.__init__(self, marcha)\n",
        "\n",
        "class EcoSport(Veiculo):\n",
        "  def __init__(self, marcha):\n",
        "    Veiculo.__init__(self, marcha)\n",
        "\n",
        "  def aumenta_marcha(self):\n",
        "    self.marcha += 1\n",
        "    self.marcha = min(self.marcha,6)\n",
        "\n",
        "\n",
        "carro = EcoSport(5)\n",
        "carro.diminui_marcha()\n",
        "print(carro.marcha)\n",
        "carro.aumenta_marcha()\n",
        "print(carro.marcha)"
      ],
      "metadata": {
        "colab": {
          "base_uri": "https://localhost:8080/"
        },
        "id": "jyiAtYOfF6VD",
        "outputId": "e19ea312-c5b6-4da8-c0f6-f2d076559075"
      },
      "execution_count": 8,
      "outputs": [
        {
          "output_type": "stream",
          "name": "stdout",
          "text": [
            "1\n",
            "2\n"
          ]
        }
      ]
    },
    {
      "cell_type": "code",
      "source": [],
      "metadata": {
        "id": "jkhnVUTwHebp"
      },
      "execution_count": null,
      "outputs": []
    }
  ]
}