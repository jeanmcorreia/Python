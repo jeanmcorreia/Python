{
  "nbformat": 4,
  "nbformat_minor": 0,
  "metadata": {
    "colab": {
      "provenance": [],
      "authorship_tag": "ABX9TyMsf0QVfTAxS/dYwaabCcIM",
      "include_colab_link": true
    },
    "kernelspec": {
      "name": "python3",
      "display_name": "Python 3"
    },
    "language_info": {
      "name": "python"
    }
  },
  "cells": [
    {
      "cell_type": "markdown",
      "metadata": {
        "id": "view-in-github",
        "colab_type": "text"
      },
      "source": [
        "<a href=\"https://colab.research.google.com/github/jeanmcorreia/Python/blob/main/7_OrientacaoObjetos.ipynb\" target=\"_parent\"><img src=\"https://colab.research.google.com/assets/colab-badge.svg\" alt=\"Open In Colab\"/></a>"
      ]
    },
    {
      "cell_type": "code",
      "execution_count": null,
      "metadata": {
        "colab": {
          "base_uri": "https://localhost:8080/"
        },
        "id": "oJTpc0znaRnQ",
        "outputId": "da1c4823-8ca6-4bfc-e23f-90f0d480229c"
      },
      "outputs": [
        {
          "output_type": "stream",
          "name": "stdout",
          "text": [
            "<class '__main__.Teste'>\n"
          ]
        }
      ],
      "source": [
        "class Teste:\n",
        "  pass\n",
        "\n",
        "minha_classe = Teste()\n",
        "print(type(minha_classe))"
      ]
    },
    {
      "cell_type": "code",
      "source": [],
      "metadata": {
        "id": "izWi-mMf4Fen"
      },
      "execution_count": null,
      "outputs": []
    },
    {
      "cell_type": "code",
      "source": [
        "class NossaClasse:\n",
        "  def __init__(self):\n",
        "    print(\"Eu existo\")\n",
        "\n",
        "var = NossaClasse()\n",
        "print(type(var))"
      ],
      "metadata": {
        "colab": {
          "base_uri": "https://localhost:8080/"
        },
        "id": "birs6C0eaiEI",
        "outputId": "d0505d77-bd75-4231-f071-b127e8d1ef29"
      },
      "execution_count": null,
      "outputs": [
        {
          "output_type": "stream",
          "name": "stdout",
          "text": [
            "Eu existo\n",
            "<class '__main__.NossaClasse'>\n"
          ]
        }
      ]
    },
    {
      "cell_type": "code",
      "source": [
        "class Pessoa:\n",
        "  def __init__(self, nome, idade):\n",
        "    self.nome = nome\n",
        "    self.idade = idade\n",
        "    print(f\"Pessoa com nome {nome} e idade {idade} criada\")\n",
        "\n",
        "pessoa1 = Pessoa('Rodrigo', 34)\n",
        "pessoa2 = Pessoa('Lucas', 21)\n",
        "\n",
        "print(pessoa1.nome)\n",
        "print(pessoa2.idade)"
      ],
      "metadata": {
        "colab": {
          "base_uri": "https://localhost:8080/"
        },
        "id": "9wZ9DxJwbcTe",
        "outputId": "ceb84fea-6906-409e-d6a5-55d5a1225a5e"
      },
      "execution_count": null,
      "outputs": [
        {
          "output_type": "stream",
          "name": "stdout",
          "text": [
            "Pessoa com nome Rodrigo e idade 34 criada\n",
            "Pessoa com nome Lucas e idade 21 criada\n",
            "Rodrigo\n",
            "21\n"
          ]
        }
      ]
    },
    {
      "cell_type": "code",
      "source": [
        "class Pessoa:\n",
        "  def __init__(self, nome, idade):\n",
        "    self.nome = nome\n",
        "    self.idade = idade\n",
        "    print(f\"Pessoa com nome {nome} e idade {idade} criada\")\n",
        "\n",
        "pessoa1 = Pessoa('Rodrigo', 34)\n",
        "\n",
        "pessoa1.nome = 'Marcelo'\n",
        "print(pessoa1.nome)"
      ],
      "metadata": {
        "id": "_mbjPrfycdjP",
        "colab": {
          "base_uri": "https://localhost:8080/"
        },
        "outputId": "a5e6b78a-961f-435f-bb96-d3b990165669"
      },
      "execution_count": null,
      "outputs": [
        {
          "output_type": "stream",
          "name": "stdout",
          "text": [
            "Pessoa com nome Rodrigo e idade 34 criada\n",
            "Marcelo\n"
          ]
        }
      ]
    },
    {
      "cell_type": "code",
      "source": [
        "class Pessoa:\n",
        "  especie = 'Homo Sapiens'\n",
        "  def __init__(self, nome, idade):\n",
        "    self.nome = nome\n",
        "    self.idade = idade\n",
        "    print(f\"Pessoa com nome {nome} e idade {idade} criada\")\n",
        "\n",
        "pessoa1 = Pessoa('Rodrigo', 34)\n",
        "pessoa2 = Pessoa('Lucas', 21)\n",
        "\n",
        "print(pessoa1.especie)\n",
        "print(pessoa2.especie)"
      ],
      "metadata": {
        "colab": {
          "base_uri": "https://localhost:8080/"
        },
        "id": "sWWIfhktoHYZ",
        "outputId": "63949007-3a66-4def-c49b-e654d2d63828"
      },
      "execution_count": null,
      "outputs": [
        {
          "output_type": "stream",
          "name": "stdout",
          "text": [
            "Pessoa com nome Rodrigo e idade 34 criada\n",
            "Pessoa com nome Lucas e idade 21 criada\n",
            "Homo Sapiens\n",
            "Homo Sapiens\n"
          ]
        }
      ]
    },
    {
      "cell_type": "code",
      "source": [
        "class Pessoa:\n",
        "  especie = 'Homo Sapiens'\n",
        "  num_pessoas = 0\n",
        "  def __init__(self, nome, idade):\n",
        "    self.nome = nome\n",
        "    self.idade = idade\n",
        "    Pessoa.num_pessoas += 1\n",
        "\n",
        "pessoa1 = Pessoa('Rodrigo', 34)\n",
        "print(Pessoa.num_pessoas)\n",
        "pessoa2 = Pessoa('Lucas', 21)\n",
        "print(Pessoa.num_pessoas)\n",
        "pessoa3 = Pessoa('Maria', 22)\n",
        "print(Pessoa.num_pessoas)"
      ],
      "metadata": {
        "colab": {
          "base_uri": "https://localhost:8080/"
        },
        "id": "rnPG5rCuokk4",
        "outputId": "0fc3179b-3ad5-415c-bf8e-774e6eca93ee"
      },
      "execution_count": null,
      "outputs": [
        {
          "output_type": "stream",
          "name": "stdout",
          "text": [
            "1\n",
            "2\n",
            "3\n"
          ]
        }
      ]
    },
    {
      "cell_type": "code",
      "source": [
        "class Pessoa:\n",
        "  def __init__(self, nome, idade):\n",
        "    self.nome = nome\n",
        "    self.idade = idade\n",
        "  def print_nome(self):\n",
        "    print(f\"Meu nome é {self.nome}\")\n",
        "\n",
        "pessoa1 = Pessoa('Rodrigo', 34)\n",
        "pessoa2 = Pessoa('Maria', 22)\n",
        "\n",
        "pessoa1.print_nome()\n",
        "pessoa2.print_nome()"
      ],
      "metadata": {
        "id": "cHiPGokZpBSQ",
        "colab": {
          "base_uri": "https://localhost:8080/"
        },
        "outputId": "ee7dbf57-0414-4b21-fdea-cd506ad24ff7"
      },
      "execution_count": null,
      "outputs": [
        {
          "output_type": "stream",
          "name": "stdout",
          "text": [
            "Meu nome é Rodrigo\n",
            "Meu nome é Maria\n"
          ]
        }
      ]
    },
    {
      "cell_type": "code",
      "source": [
        "class Pessoa:\n",
        "  def __init__(self, nome, idade):\n",
        "    self.nome = nome\n",
        "    self.idade = idade\n",
        "  def print_string(self, nome):\n",
        "    print(f\"Meu nome é {nome}\")\n",
        "  def print_nome(self):\n",
        "    self.print_string(self.nome)\n",
        "\n",
        "pessoa1 = Pessoa('Rodrigo', 34)\n",
        "pessoa2 = Pessoa('Maria', 22)\n",
        "\n",
        "pessoa1.print_nome()\n",
        "pessoa2.print_nome()"
      ],
      "metadata": {
        "id": "FOm1klwdsHqo"
      },
      "execution_count": null,
      "outputs": []
    },
    {
      "cell_type": "code",
      "source": [
        "class Pessoa:\n",
        "  def __init__(self, nome):\n",
        "    self.nome = nome\n",
        "  def insere_idade(self, idade):\n",
        "    self.idade = idade\n",
        "\n",
        "rodrigo = Pessoa(\"Rodrigo\")\n",
        "rodrigo.insere_idade(34)\n",
        "\n",
        "print(rodrigo.idade)"
      ],
      "metadata": {
        "colab": {
          "base_uri": "https://localhost:8080/"
        },
        "id": "y3Ob-w2z6KJ6",
        "outputId": "8fd8d724-68f3-43f8-846d-8ba332ba8b97"
      },
      "execution_count": null,
      "outputs": [
        {
          "output_type": "stream",
          "name": "stdout",
          "text": [
            "34\n"
          ]
        }
      ]
    },
    {
      "cell_type": "code",
      "source": [
        "class Tipo1:\n",
        "  def __init__(self, outra_classe):\n",
        "    self.outra = outra_classe\n",
        "\n",
        "class Tipo2:\n",
        "  numero = 10\n",
        "\n",
        "classe2 = Tipo2()\n",
        "classe1 = Tipo1(classe2)\n",
        "\n",
        "print(classe1.outra.numero)"
      ],
      "metadata": {
        "colab": {
          "base_uri": "https://localhost:8080/"
        },
        "id": "No0LR83v6mNK",
        "outputId": "40c0075a-4272-48bc-b684-0070b0739f70"
      },
      "execution_count": null,
      "outputs": [
        {
          "output_type": "stream",
          "name": "stdout",
          "text": [
            "10\n"
          ]
        }
      ]
    },
    {
      "cell_type": "code",
      "source": [
        "class Exemplo:\n",
        "  def __init__(self):\n",
        "    pass\n",
        "\n",
        "lista = []\n",
        "ex1 = Exemplo\n",
        "ex2 = Exemplo\n",
        "\n",
        "lista.append(ex1)\n",
        "lista.append(ex2)\n",
        "\n",
        "print(lista[1])"
      ],
      "metadata": {
        "colab": {
          "base_uri": "https://localhost:8080/"
        },
        "id": "MC0mC2Df7np5",
        "outputId": "ed46a992-c792-4e6c-dc7a-491629af3969"
      },
      "execution_count": null,
      "outputs": [
        {
          "output_type": "stream",
          "name": "stdout",
          "text": [
            "<class '__main__.Exemplo'>\n"
          ]
        }
      ]
    },
    {
      "cell_type": "code",
      "source": [
        "class FormaGeometrica:\n",
        "  def __init__(self, altura, largura):\n",
        "    self.altura = altura\n",
        "    self.largura = largura\n",
        "\n",
        "class Quadrado(FormaGeometrica):\n",
        "  pass\n",
        "\n",
        "class Triagulo(FormaGeometrica):\n",
        "  pass\n",
        "\n",
        "quadrado = Quadrado(100, 50)\n",
        "triangulo = Triagulo(90, 40)\n",
        "\n",
        "print(quadrado.altura)\n",
        "print(quadrado.largura)\n",
        "print(triangulo.altura)\n",
        "print(triangulo.largura)"
      ],
      "metadata": {
        "colab": {
          "base_uri": "https://localhost:8080/"
        },
        "id": "isVdXy568w4h",
        "outputId": "3de4087b-884b-4757-f52f-46196eab4e30"
      },
      "execution_count": null,
      "outputs": [
        {
          "output_type": "stream",
          "name": "stdout",
          "text": [
            "100\n",
            "50\n",
            "90\n",
            "40\n"
          ]
        }
      ]
    },
    {
      "cell_type": "code",
      "source": [
        "class FormaGeometrica:\n",
        "  def __init__(self, altura, largura):\n",
        "    self.altura = altura\n",
        "    self.largura = largura\n",
        "\n",
        "class Quadrado(FormaGeometrica):\n",
        "  lado = 10\n",
        "\n",
        "class Triagulo(FormaGeometrica):\n",
        "  angulo = 30\n",
        "\n",
        "quadrado = Quadrado(100, 50)\n",
        "triangulo = Triagulo(90, 40)\n",
        "\n",
        "print(quadrado.altura)\n",
        "print(quadrado.largura)\n",
        "print(quadrado.lado)\n",
        "print(triangulo.altura)\n",
        "print(triangulo.largura)\n",
        "print(triangulo.angulo)"
      ],
      "metadata": {
        "colab": {
          "base_uri": "https://localhost:8080/"
        },
        "id": "-fElihH1-GTx",
        "outputId": "45bfdec6-a911-4101-bbe7-9b2423ab30d0"
      },
      "execution_count": null,
      "outputs": [
        {
          "output_type": "stream",
          "name": "stdout",
          "text": [
            "100\n",
            "50\n",
            "10\n",
            "90\n",
            "40\n",
            "30\n"
          ]
        }
      ]
    },
    {
      "cell_type": "code",
      "source": [
        "class FormaGeometrica:\n",
        "  def __init__(self, altura, largura):\n",
        "    self.altura = altura\n",
        "    self.largura = largura\n",
        "  def funcao_herdada(self):\n",
        "    print(\"Sou herdado\")\n",
        "\n",
        "class Quadrado(FormaGeometrica):\n",
        "  pass\n",
        "\n",
        "class Triagulo(FormaGeometrica):\n",
        "  pass\n",
        "\n",
        "quadrado = Quadrado(100, 50)\n",
        "triangulo = Triagulo(90, 40)\n",
        "quadrado.funcao_herdada()\n",
        "triangulo.funcao_herdada()"
      ],
      "metadata": {
        "colab": {
          "base_uri": "https://localhost:8080/"
        },
        "id": "A1QzJm-k-Xq3",
        "outputId": "d1657834-f64a-4540-8272-171d33dab3a0"
      },
      "execution_count": null,
      "outputs": [
        {
          "output_type": "stream",
          "name": "stdout",
          "text": [
            "Sou herdado\n",
            "Sou herdado\n"
          ]
        }
      ]
    },
    {
      "cell_type": "code",
      "source": [
        "class ClassePai:\n",
        "  def __init__(self):\n",
        "    print(\"Sou classe pai\")\n",
        "\n",
        "class ClasseFilha1(ClassePai):\n",
        "  def __init__(self):\n",
        "    print(\"Sou classe filha 1\")\n",
        "\n",
        "class ClasseFilha2(ClassePai):\n",
        "  def __init__(self):\n",
        "    print(\"Sou classe filha 2\")\n",
        "\n",
        "pai = ClassePai()\n",
        "filha1 = ClasseFilha1()\n",
        "filha2 = ClasseFilha"
      ],
      "metadata": {
        "id": "5cuMKlfX_BCZ"
      },
      "execution_count": null,
      "outputs": []
    },
    {
      "cell_type": "code",
      "source": [
        "class FormaGeometrica:\n",
        "  def __init__(self, altura, largura):\n",
        "    self.altura = altura\n",
        "    self.largura = largura\n",
        "\n",
        "class Quadrado(FormaGeometrica):\n",
        "  def __init__(self, altura, largura, atributo_quadrado):\n",
        "    FormaGeometrica.__init__(self, altura, largura)\n",
        "    self.atributo_quadrado = atributo_quadrado\n",
        "\n",
        "class Triangulo(FormaGeometrica):\n",
        "  def __init__(self, altura, largura, atributo_triangulo):\n",
        "    FormaGeometrica.__init__(self, altura, largura)\n",
        "    self.atributo_triangulo = atributo_triangulo\n",
        "\n",
        "quadrado = Quadrado(100, 200, 'quadrado')\n",
        "triangulo = Triangulo(100, 200, 'triangulo')\n",
        "\n",
        "print(quadrado.altura)\n",
        "print(quadrado.atributo_quadrado)\n",
        "\n",
        "print(triangulo.largura)\n",
        "print(triangulo.atributo_triangulo)"
      ],
      "metadata": {
        "colab": {
          "base_uri": "https://localhost:8080/"
        },
        "id": "wy_igWNpDQcD",
        "outputId": "36a5be5d-8c77-4fb6-a0f3-ef5bf48f6618"
      },
      "execution_count": null,
      "outputs": [
        {
          "output_type": "stream",
          "name": "stdout",
          "text": [
            "100\n",
            "quadrado\n",
            "200\n",
            "triangulo\n"
          ]
        }
      ]
    },
    {
      "cell_type": "code",
      "source": [
        "class FormaGeometrica:\n",
        "  def __init__(self, altura, largura):\n",
        "    self.altura = altura\n",
        "    self.largura = largura\n",
        "  def calcula_area(self):\n",
        "    pass\n",
        "\n",
        "class Quadrado(FormaGeometrica):\n",
        "  def calcula_area(self):\n",
        "    return self.altura * self.largura\n",
        "\n",
        "class Triangulo(FormaGeometrica):\n",
        "  def calcula_area(self):\n",
        "    return (self.altura * self.largura)/2\n",
        "\n",
        "quadrado = Quadrado(200, 200)\n",
        "triangulo = Triangulo(200, 200)\n",
        "\n",
        "print(triangulo.calcula_area())\n",
        "print(quadrado.calcula_area())"
      ],
      "metadata": {
        "colab": {
          "base_uri": "https://localhost:8080/"
        },
        "id": "tI8bDPuJEyas",
        "outputId": "f1c8ad92-b477-4f6a-aed7-20fd6ee49c7f"
      },
      "execution_count": null,
      "outputs": [
        {
          "output_type": "stream",
          "name": "stdout",
          "text": [
            "20000.0\n",
            "40000\n"
          ]
        }
      ]
    },
    {
      "cell_type": "code",
      "source": [
        "class Veiculo:\n",
        "  def __init__(self, marcha):\n",
        "    self.marcha = marcha\n",
        "  def aumenta_marcha(self):\n",
        "    self.marcha += 1\n",
        "    self.marcha = min(self.marcha,5)\n",
        "  def diminui_marcha(self):\n",
        "    self.marcha -= 1\n",
        "    self.marcha = min(self.marcha,1)\n",
        "\n",
        "class Palio(Veiculo):\n",
        "  def __init__(self, marcha):\n",
        "    Veiculo.__init__(self, marcha)\n",
        "\n",
        "class EcoSport(Veiculo):\n",
        "  def __init__(self, marcha):\n",
        "    Veiculo.__init__(self, marcha)\n",
        "\n",
        "  def aumenta_marcha(self):\n",
        "    self.marcha += 1\n",
        "    self.marcha = min(self.marcha,6)\n",
        "\n",
        "\n",
        "carro = EcoSport(5)\n",
        "carro.diminui_marcha()\n",
        "print(carro.marcha)\n",
        "carro.aumenta_marcha()\n",
        "print(carro.marcha)"
      ],
      "metadata": {
        "colab": {
          "base_uri": "https://localhost:8080/"
        },
        "id": "jyiAtYOfF6VD",
        "outputId": "e19ea312-c5b6-4da8-c0f6-f2d076559075"
      },
      "execution_count": null,
      "outputs": [
        {
          "output_type": "stream",
          "name": "stdout",
          "text": [
            "1\n",
            "2\n"
          ]
        }
      ]
    },
    {
      "cell_type": "code",
      "source": [
        "class Base1:\n",
        "  def __init__(self, atributo1):\n",
        "    self.atributo1 = atributo1\n",
        "  def Base1_print(self):\n",
        "    print(\"Base1\")\n",
        "\n",
        "class Base2:\n",
        "  def __init__(self, atributo2):\n",
        "    self.atributo2 = atributo2\n",
        "  def Base2_print(self):\n",
        "    print(\"Base2\")\n",
        "\n",
        "class MinhaClasse(Base1, Base2):\n",
        "  def __init__(self):\n",
        "    Base1.__init__(self, 10)\n",
        "    Base2.__init__(self, 20)\n",
        "\n",
        "var = MinhaClasse()\n",
        "print(var.atributo1)\n",
        "print(var.atributo2)\n",
        "var.Base1_print()\n",
        "var.Base2_print()"
      ],
      "metadata": {
        "id": "jkhnVUTwHebp",
        "colab": {
          "base_uri": "https://localhost:8080/"
        },
        "outputId": "1352270d-ba28-4f03-935b-e5633c710992"
      },
      "execution_count": null,
      "outputs": [
        {
          "output_type": "stream",
          "name": "stdout",
          "text": [
            "10\n",
            "20\n",
            "Base1\n",
            "Base2\n"
          ]
        }
      ]
    },
    {
      "cell_type": "code",
      "source": [
        "class Segredo:\n",
        "  def __init__(self):\n",
        "    self.__segredo = 'Senha123'\n",
        "\n",
        "seg = Segredo()\n",
        "print(seg.__segredo)"
      ],
      "metadata": {
        "colab": {
          "base_uri": "https://localhost:8080/",
          "height": 176
        },
        "id": "aulfxCYt2fiy",
        "outputId": "8c071f6a-fae0-4ad2-f23d-165a1cfd955a"
      },
      "execution_count": null,
      "outputs": [
        {
          "output_type": "error",
          "ename": "AttributeError",
          "evalue": "'Segredo' object has no attribute '__segredo'",
          "traceback": [
            "\u001b[0;31m---------------------------------------------------------------------------\u001b[0m",
            "\u001b[0;31mAttributeError\u001b[0m                            Traceback (most recent call last)",
            "\u001b[0;32m<ipython-input-5-7e9a44ee70a1>\u001b[0m in \u001b[0;36m<cell line: 6>\u001b[0;34m()\u001b[0m\n\u001b[1;32m      4\u001b[0m \u001b[0;34m\u001b[0m\u001b[0m\n\u001b[1;32m      5\u001b[0m \u001b[0mseg\u001b[0m \u001b[0;34m=\u001b[0m \u001b[0mSegredo\u001b[0m\u001b[0;34m(\u001b[0m\u001b[0;34m)\u001b[0m\u001b[0;34m\u001b[0m\u001b[0;34m\u001b[0m\u001b[0m\n\u001b[0;32m----> 6\u001b[0;31m \u001b[0mprint\u001b[0m\u001b[0;34m(\u001b[0m\u001b[0mseg\u001b[0m\u001b[0;34m.\u001b[0m\u001b[0m__segredo\u001b[0m\u001b[0;34m)\u001b[0m\u001b[0;34m\u001b[0m\u001b[0;34m\u001b[0m\u001b[0m\n\u001b[0m",
            "\u001b[0;31mAttributeError\u001b[0m: 'Segredo' object has no attribute '__segredo'"
          ]
        }
      ]
    },
    {
      "cell_type": "code",
      "source": [
        "class Segredo:\n",
        "  def __init__(self):\n",
        "    self.__segredo = 'Senha123'\n",
        "\n",
        "  def __printa_segredo(self):\n",
        "    print(self.__segredo)\n",
        "\n",
        "  def printa_segredo(self):\n",
        "    self.__printa_segredo()\n",
        "\n",
        "seg = Segredo()\n",
        "seg.__printa_segredo()"
      ],
      "metadata": {
        "id": "Gid49dRy3vzR"
      },
      "execution_count": null,
      "outputs": []
    },
    {
      "cell_type": "code",
      "source": [
        "class Base:\n",
        "  def __base__privada(self):\n",
        "    print('Pertenco somente a base')\n",
        "  def _baseprotegida(self):\n",
        "    print('Pertenco a base e a quem me herdar')\n",
        "\n",
        "class Filha(Base):\n",
        "  def acessa_protegida(self):\n",
        "    self._baseprotegida()\n",
        "\n",
        "filha = Filha()\n",
        "filha.acessa_protegida()\n",
        "filha._baseprotegida()"
      ],
      "metadata": {
        "colab": {
          "base_uri": "https://localhost:8080/"
        },
        "id": "M-Jy9a5h4Vl_",
        "outputId": "08f118b4-22aa-4ed4-ed4a-5ea9b0065608"
      },
      "execution_count": null,
      "outputs": [
        {
          "output_type": "stream",
          "name": "stdout",
          "text": [
            "Pertenco a base e a quem me herdar\n",
            "Pertenco a base e a quem me herdar\n"
          ]
        }
      ]
    },
    {
      "cell_type": "code",
      "source": [
        "class Veiculo:\n",
        "  def __init__(self):\n",
        "    self.__marcha = 1\n",
        "  def aumenta_marcha(self):\n",
        "    self.__marcha += 1\n",
        "    self.__marcha = min(self.__marcha, 5)\n",
        "  def diminui_marcha(self):\n",
        "    self.__marcha -= 1\n",
        "    self.__marcha = max(self.__marcha, 1)\n",
        "  def marcha_atual(self):\n",
        "    return self.__marcha\n",
        "\n",
        "carro = Veiculo()\n",
        "carro.aumenta_marcha()\n",
        "carro.aumenta_marcha()\n",
        "carro.aumenta_marcha()\n",
        "carro.aumenta_marcha()\n",
        "carro.aumenta_marcha()\n",
        "print(carro.marcha_atual())\n",
        "carro.diminui_marcha()\n",
        "carro.diminui_marcha()\n",
        "print(carro.marcha_atual())\n",
        "carro.diminui_marcha()\n",
        "carro.diminui_marcha()\n",
        "print(carro.marcha_atual())\n",
        "carro.diminui_marcha()\n",
        "print(carro.marcha_atual())"
      ],
      "metadata": {
        "colab": {
          "base_uri": "https://localhost:8080/"
        },
        "id": "u7GIBuxz5T6Y",
        "outputId": "f4e53c64-08c8-42d8-b8fe-661b6106bcc4"
      },
      "execution_count": null,
      "outputs": [
        {
          "output_type": "stream",
          "name": "stdout",
          "text": [
            "5\n",
            "3\n",
            "1\n",
            "1\n"
          ]
        }
      ]
    },
    {
      "cell_type": "code",
      "source": [
        "class Pessoa:\n",
        "  def __init__(self, nome):\n",
        "    self.__nome = nome\n",
        "  def get_nome(self):\n",
        "    print('Pegando nome')\n",
        "    return self.__nome\n",
        "\n",
        "  nome = property(get_nome)\n",
        "\n",
        "instancia = Pessoa(\"Maria\")\n",
        "print(instancia.nome)"
      ],
      "metadata": {
        "id": "Oh2dHnub6n12",
        "colab": {
          "base_uri": "https://localhost:8080/"
        },
        "outputId": "3da58746-9977-4666-aa09-ba3cc272ae7a"
      },
      "execution_count": null,
      "outputs": [
        {
          "output_type": "stream",
          "name": "stdout",
          "text": [
            "Pegando nome\n",
            "Maria\n"
          ]
        }
      ]
    },
    {
      "cell_type": "code",
      "source": [
        "class Pessoa:\n",
        "  def __init__(self, nome):\n",
        "    self.__nome = nome\n",
        "  def get_nome(self):\n",
        "    print('Pegando nome')\n",
        "    return self.__nome\n",
        "  def set_nome(self, nome):\n",
        "    if len(nome) > 0:\n",
        "      print(\"Setando nome\")\n",
        "      self.__nome = nome\n",
        "\n",
        "  nome = property(get_nome, set_nome)\n",
        "\n",
        "instancia = Pessoa(\"Maria\")\n",
        "print(instancia.nome)\n",
        "instancia.nome = \"Marcos\"\n",
        "print(instancia.nome)"
      ],
      "metadata": {
        "colab": {
          "base_uri": "https://localhost:8080/"
        },
        "id": "IvcKExRLnL_z",
        "outputId": "25be27e3-7e78-4d23-9c2c-ee967f21cbb8"
      },
      "execution_count": null,
      "outputs": [
        {
          "output_type": "stream",
          "name": "stdout",
          "text": [
            "Pegando nome\n",
            "Maria\n",
            "Setando nome\n",
            "Pegando nome\n",
            "Marcos\n"
          ]
        }
      ]
    },
    {
      "cell_type": "code",
      "source": [
        "class Pessoa:\n",
        "  def __init__(self, nome):\n",
        "    self.__nome = nome\n",
        "  def set_nome(self, nome):\n",
        "    if len(nome) > 0:\n",
        "      print(\"Setando nome\")\n",
        "      self.__nome = nome\n",
        "\n",
        "  nome = property(fset = set_nome)\n",
        "\n",
        "instancia = Pessoa(\"Maria\")\n",
        "instancia.nome = \"Marcos\"\n",
        "#fser, fget, fdel"
      ],
      "metadata": {
        "colab": {
          "base_uri": "https://localhost:8080/"
        },
        "id": "N_iX3w1Ls-hw",
        "outputId": "ffa8f740-a905-4cc3-9d2d-1616f0c131ce"
      },
      "execution_count": null,
      "outputs": [
        {
          "output_type": "stream",
          "name": "stdout",
          "text": [
            "Setando nome\n"
          ]
        }
      ]
    },
    {
      "cell_type": "code",
      "source": [
        "class Natural:\n",
        "  def __init__(self, numero):\n",
        "    self.__numero = numero\n",
        "  @property\n",
        "  def numero(self):\n",
        "    print(\"Pegando numero\")\n",
        "    return self.__numero\n",
        "  @numero.setter\n",
        "  def numero(self, value):\n",
        "    if value >= 0:\n",
        "      self.__numero = value\n",
        "      print(\"Setando número para\", value)\n",
        "\n",
        "numero = Natural(10)\n",
        "numero.numero = -20\n",
        "print(numero.numero)"
      ],
      "metadata": {
        "id": "q81AcTyRnvs8",
        "colab": {
          "base_uri": "https://localhost:8080/"
        },
        "outputId": "519963f5-c64c-429f-b88a-45351063265e"
      },
      "execution_count": null,
      "outputs": [
        {
          "output_type": "stream",
          "name": "stdout",
          "text": [
            "Pegando numero\n",
            "10\n"
          ]
        }
      ]
    },
    {
      "cell_type": "code",
      "source": [
        "class Pessoa:\n",
        "  def __init__(self, nome):\n",
        "    self.__nome = nome\n",
        "  @property\n",
        "  def nome(self):\n",
        "    return self.__nome.capitalize()\n",
        "  @nome.setter\n",
        "  def nome(self, value):\n",
        "    if (len(value)) != 0:\n",
        "      self.__nome = value\n",
        "\n",
        "pessoa = Pessoa(\"rodrigo\")\n",
        "print(pessoa.nome)\n",
        "pessoa.nome = 'fernando'\n",
        "print(pessoa.nome)\n",
        "pessoa.nome = ''\n",
        "print(pessoa.nome)"
      ],
      "metadata": {
        "colab": {
          "base_uri": "https://localhost:8080/"
        },
        "id": "C8w4hqOMug3M",
        "outputId": "0ea96913-137d-4907-ca70-3f0eb4f2a181"
      },
      "execution_count": null,
      "outputs": [
        {
          "output_type": "stream",
          "name": "stdout",
          "text": [
            "Rodrigo\n",
            "Fernando\n",
            "Fernando\n"
          ]
        }
      ]
    },
    {
      "cell_type": "code",
      "source": [
        "class Teste:\n",
        "  def __init__(self, gasolina):\n",
        "    pass\n",
        "\n",
        "  @classmethod\n",
        "  def class_method(cls):\n",
        "    print(cls)\n",
        "\n",
        "  @staticmethod\n",
        "  def static_method():\n",
        "    print(\"static method\")\n",
        "\n",
        "Teste.class_method()\n",
        "Teste.static_method()\n",
        "\n",
        "testando = Teste(\"aditivada\")\n",
        "testando.class_method()\n",
        "testando.static_method()"
      ],
      "metadata": {
        "colab": {
          "base_uri": "https://localhost:8080/"
        },
        "id": "dH7o5DXju8IM",
        "outputId": "69c8d01c-396b-4a16-cab9-c237ab991798"
      },
      "execution_count": null,
      "outputs": [
        {
          "output_type": "stream",
          "name": "stdout",
          "text": [
            "<class '__main__.Teste'>\n",
            "static method\n",
            "<class '__main__.Teste'>\n",
            "static method\n"
          ]
        }
      ]
    },
    {
      "cell_type": "code",
      "source": [
        "class Veiculo:\n",
        "  def __init__(self,nome, gasolina, potencia):\n",
        "    self.nome = nome\n",
        "    self.gasolina = gasolina\n",
        "    self.potencia = potencia\n",
        "\n",
        "  @classmethod\n",
        "  def cria_carro(cls):\n",
        "    return cls('carro', 'comum', 200)\n",
        "  @classmethod\n",
        "  def cria_trator(cls):\n",
        "    return cls('trator', 'aditivada', 500)\n",
        "\n",
        "veiculo1 = Veiculo.cria_carro()\n",
        "veiculo2 = Veiculo.cria_trator()\n",
        "\n",
        "print(veiculo1.nome)\n",
        "print(veiculo1.gasolina)\n",
        "print(veiculo1.potencia)\n",
        "print(veiculo2.nome)\n",
        "print(veiculo2.gasolina)\n",
        "print(veiculo2.potencia)"
      ],
      "metadata": {
        "colab": {
          "base_uri": "https://localhost:8080/"
        },
        "id": "rfZkj_1Lw3WD",
        "outputId": "4149495b-12ce-483e-cae5-a22a350a137a"
      },
      "execution_count": null,
      "outputs": [
        {
          "output_type": "stream",
          "name": "stdout",
          "text": [
            "carro\n",
            "comum\n",
            "200\n",
            "trator\n",
            "aditivada\n",
            "500\n"
          ]
        }
      ]
    },
    {
      "cell_type": "code",
      "source": [
        "class Veiculo:\n",
        "  __numero_veiculos = 0\n",
        "  def __init__(self,nome, gasolina, potencia):\n",
        "    self.nome = nome\n",
        "    self.gasolina = gasolina\n",
        "    self.potencia = potencia\n",
        "    Veiculo.__numero_veiculos += 1\n",
        "\n",
        "  @staticmethod\n",
        "  def get_numero_carros():\n",
        "    return Veiculo.__numero_veiculos\n",
        "\n",
        "carro = Veiculo('carro', 'gasolina', 200)\n",
        "carro2 = Veiculo('caminhao', 'aditivada', 1000)\n",
        "print(Veiculo.get_numero_carros())\n",
        "print(carro.get_numero_carros())"
      ],
      "metadata": {
        "colab": {
          "base_uri": "https://localhost:8080/"
        },
        "id": "IrwmkBddzMOm",
        "outputId": "f67c7a73-3148-4792-fd70-3ea3aacc7210"
      },
      "execution_count": null,
      "outputs": [
        {
          "output_type": "stream",
          "name": "stdout",
          "text": [
            "2\n",
            "2\n"
          ]
        }
      ]
    },
    {
      "cell_type": "code",
      "source": [
        "lst1 = 10\n",
        "lst2 = lst1\n",
        "lst2= 20\n",
        "print(lst1)"
      ],
      "metadata": {
        "id": "g-xGx8IKIlEw",
        "colab": {
          "base_uri": "https://localhost:8080/"
        },
        "outputId": "bc447ceb-dbfe-43ae-e104-a8f5fbf62b4a"
      },
      "execution_count": null,
      "outputs": [
        {
          "output_type": "stream",
          "name": "stdout",
          "text": [
            "10\n"
          ]
        }
      ]
    },
    {
      "cell_type": "code",
      "source": [
        "lst1 = [1,2,3]\n",
        "lst2= lst1\n",
        "lst2.append(10)\n",
        "print(lst1)"
      ],
      "metadata": {
        "colab": {
          "base_uri": "https://localhost:8080/"
        },
        "id": "Hif_ccTlZsqS",
        "outputId": "90ad5596-0f34-4bcc-c321-faee338e14d5"
      },
      "execution_count": null,
      "outputs": [
        {
          "output_type": "stream",
          "name": "stdout",
          "text": [
            "[1, 2, 3, 10]\n"
          ]
        }
      ]
    },
    {
      "cell_type": "code",
      "source": [
        "class Classe:\n",
        "  def __init__(self):\n",
        "    self.num = 10\n",
        "\n",
        "classe1 = Classe()\n",
        "classe2 = classe1\n",
        "classe1.num = 20\n",
        "print(classe2.num)"
      ],
      "metadata": {
        "colab": {
          "base_uri": "https://localhost:8080/"
        },
        "id": "xqya6RaGbYSc",
        "outputId": "6a0fd0ed-42c9-4a11-b416-f1da615508bb"
      },
      "execution_count": null,
      "outputs": [
        {
          "output_type": "stream",
          "name": "stdout",
          "text": [
            "20\n"
          ]
        }
      ]
    },
    {
      "cell_type": "code",
      "source": [
        "from copy import copy\n",
        "lst1 = [1,2,3]\n",
        "lst2= copy(lst1)\n",
        "lst2.append(10)\n",
        "print(lst1)"
      ],
      "metadata": {
        "colab": {
          "base_uri": "https://localhost:8080/"
        },
        "id": "cPGVDA60cPsW",
        "outputId": "b598ebd7-9562-45fd-e272-7fca715b2080"
      },
      "execution_count": null,
      "outputs": [
        {
          "output_type": "stream",
          "name": "stdout",
          "text": [
            "[1, 2, 3]\n"
          ]
        }
      ]
    },
    {
      "cell_type": "code",
      "source": [
        "from copy import copy\n",
        "class Classe:\n",
        "  def __init__(self):\n",
        "    self.num = 10\n",
        "\n",
        "classe1 = Classe()\n",
        "classe2 = copy(classe1)\n",
        "classe1.num = 20\n",
        "print(classe2.num)"
      ],
      "metadata": {
        "colab": {
          "base_uri": "https://localhost:8080/"
        },
        "id": "1CFgaaKtch1R",
        "outputId": "a84b8a3f-01a0-47ba-e184-4cc5d20cc799"
      },
      "execution_count": null,
      "outputs": [
        {
          "output_type": "stream",
          "name": "stdout",
          "text": [
            "10\n"
          ]
        }
      ]
    },
    {
      "cell_type": "code",
      "source": [
        "class Classe:\n",
        "  def __init__(self):\n",
        "    self.num = 10\n",
        "\n",
        "classe1 = Classe()\n",
        "classe2 = classe1\n",
        "print(classe2 is classe1)"
      ],
      "metadata": {
        "colab": {
          "base_uri": "https://localhost:8080/"
        },
        "id": "DQfsmQSidCgB",
        "outputId": "43653d01-6fcf-4270-c822-a8f63a29858c"
      },
      "execution_count": null,
      "outputs": [
        {
          "output_type": "stream",
          "name": "stdout",
          "text": [
            "True\n"
          ]
        }
      ]
    },
    {
      "cell_type": "code",
      "source": [
        "from copy import copy\n",
        "class Classe:\n",
        "  def __init__(self):\n",
        "    self.num = 10\n",
        "\n",
        "classe1 = Classe()\n",
        "classe2 = copy(classe1)\n",
        "print(classe2 is classe1)"
      ],
      "metadata": {
        "colab": {
          "base_uri": "https://localhost:8080/"
        },
        "id": "VryQJ1M4dSoj",
        "outputId": "b5d78d49-7d71-474f-abc4-bd952c03c289"
      },
      "execution_count": null,
      "outputs": [
        {
          "output_type": "stream",
          "name": "stdout",
          "text": [
            "False\n"
          ]
        }
      ]
    },
    {
      "cell_type": "code",
      "source": [
        "numero = 10\n",
        "del numero\n",
        "print(numero)"
      ],
      "metadata": {
        "colab": {
          "base_uri": "https://localhost:8080/",
          "height": 176
        },
        "id": "iGPBPQv7d_ct",
        "outputId": "78aecaba-1614-4231-bd44-1d067bc2367d"
      },
      "execution_count": null,
      "outputs": [
        {
          "output_type": "error",
          "ename": "NameError",
          "evalue": "name 'numero' is not defined",
          "traceback": [
            "\u001b[0;31m---------------------------------------------------------------------------\u001b[0m",
            "\u001b[0;31mNameError\u001b[0m                                 Traceback (most recent call last)",
            "\u001b[0;32m/tmp/ipython-input-1541805350.py\u001b[0m in \u001b[0;36m<cell line: 0>\u001b[0;34m()\u001b[0m\n\u001b[1;32m      1\u001b[0m \u001b[0mnumero\u001b[0m \u001b[0;34m=\u001b[0m \u001b[0;36m10\u001b[0m\u001b[0;34m\u001b[0m\u001b[0;34m\u001b[0m\u001b[0m\n\u001b[1;32m      2\u001b[0m \u001b[0;32mdel\u001b[0m \u001b[0mnumero\u001b[0m\u001b[0;34m\u001b[0m\u001b[0;34m\u001b[0m\u001b[0m\n\u001b[0;32m----> 3\u001b[0;31m \u001b[0mprint\u001b[0m\u001b[0;34m(\u001b[0m\u001b[0mnumero\u001b[0m\u001b[0;34m)\u001b[0m\u001b[0;34m\u001b[0m\u001b[0;34m\u001b[0m\u001b[0m\n\u001b[0m",
            "\u001b[0;31mNameError\u001b[0m: name 'numero' is not defined"
          ]
        }
      ]
    },
    {
      "cell_type": "code",
      "source": [
        "arr = [1,2,3]\n",
        "del arr\n",
        "print(arr)"
      ],
      "metadata": {
        "colab": {
          "base_uri": "https://localhost:8080/",
          "height": 176
        },
        "id": "NGrltQsveJdB",
        "outputId": "73238a07-4b9d-420b-e5b5-07b02cdcd5e9"
      },
      "execution_count": null,
      "outputs": [
        {
          "output_type": "error",
          "ename": "NameError",
          "evalue": "name 'arr' is not defined",
          "traceback": [
            "\u001b[0;31m---------------------------------------------------------------------------\u001b[0m",
            "\u001b[0;31mNameError\u001b[0m                                 Traceback (most recent call last)",
            "\u001b[0;32m/tmp/ipython-input-2832560752.py\u001b[0m in \u001b[0;36m<cell line: 0>\u001b[0;34m()\u001b[0m\n\u001b[1;32m      1\u001b[0m \u001b[0marr\u001b[0m \u001b[0;34m=\u001b[0m \u001b[0;34m[\u001b[0m\u001b[0;36m1\u001b[0m\u001b[0;34m,\u001b[0m\u001b[0;36m2\u001b[0m\u001b[0;34m,\u001b[0m\u001b[0;36m3\u001b[0m\u001b[0;34m]\u001b[0m\u001b[0;34m\u001b[0m\u001b[0;34m\u001b[0m\u001b[0m\n\u001b[1;32m      2\u001b[0m \u001b[0;32mdel\u001b[0m \u001b[0marr\u001b[0m\u001b[0;34m\u001b[0m\u001b[0;34m\u001b[0m\u001b[0m\n\u001b[0;32m----> 3\u001b[0;31m \u001b[0mprint\u001b[0m\u001b[0;34m(\u001b[0m\u001b[0marr\u001b[0m\u001b[0;34m)\u001b[0m\u001b[0;34m\u001b[0m\u001b[0;34m\u001b[0m\u001b[0m\n\u001b[0m",
            "\u001b[0;31mNameError\u001b[0m: name 'arr' is not defined"
          ]
        }
      ]
    },
    {
      "cell_type": "code",
      "source": [
        "arr = [1,2,3]\n",
        "del arr[0]\n",
        "print(arr)"
      ],
      "metadata": {
        "colab": {
          "base_uri": "https://localhost:8080/"
        },
        "id": "RBVkFjmSeOqZ",
        "outputId": "939c8347-a17f-41c3-8dd3-df3f59818a77"
      },
      "execution_count": null,
      "outputs": [
        {
          "output_type": "stream",
          "name": "stdout",
          "text": [
            "[2, 3]\n"
          ]
        }
      ]
    },
    {
      "cell_type": "code",
      "source": [
        "class Teste:\n",
        "  def __init__(self):\n",
        "    pass\n",
        "\n",
        "variavel = Teste()\n",
        "del variavel"
      ],
      "metadata": {
        "id": "bCmneH65eXqx"
      },
      "execution_count": null,
      "outputs": []
    },
    {
      "cell_type": "code",
      "source": [
        "class Teste:\n",
        "  def __init__(self, num):\n",
        "    self.num = num\n",
        "\n",
        "variavel = Teste(10)\n",
        "print(variavel.num)\n",
        "del variavel\n",
        "print(variavel.num)"
      ],
      "metadata": {
        "colab": {
          "base_uri": "https://localhost:8080/",
          "height": 193
        },
        "id": "nKNLC1zee40C",
        "outputId": "5dbdac0f-f810-49af-9df2-092603c3b7fb"
      },
      "execution_count": null,
      "outputs": [
        {
          "output_type": "stream",
          "name": "stdout",
          "text": [
            "10\n"
          ]
        },
        {
          "output_type": "error",
          "ename": "NameError",
          "evalue": "name 'variavel' is not defined",
          "traceback": [
            "\u001b[0;31m---------------------------------------------------------------------------\u001b[0m",
            "\u001b[0;31mNameError\u001b[0m                                 Traceback (most recent call last)",
            "\u001b[0;32m/tmp/ipython-input-310983495.py\u001b[0m in \u001b[0;36m<cell line: 0>\u001b[0;34m()\u001b[0m\n\u001b[1;32m      6\u001b[0m \u001b[0mprint\u001b[0m\u001b[0;34m(\u001b[0m\u001b[0mvariavel\u001b[0m\u001b[0;34m.\u001b[0m\u001b[0mnum\u001b[0m\u001b[0;34m)\u001b[0m\u001b[0;34m\u001b[0m\u001b[0;34m\u001b[0m\u001b[0m\n\u001b[1;32m      7\u001b[0m \u001b[0;32mdel\u001b[0m \u001b[0mvariavel\u001b[0m\u001b[0;34m\u001b[0m\u001b[0;34m\u001b[0m\u001b[0m\n\u001b[0;32m----> 8\u001b[0;31m \u001b[0mprint\u001b[0m\u001b[0;34m(\u001b[0m\u001b[0mvariavel\u001b[0m\u001b[0;34m.\u001b[0m\u001b[0mnum\u001b[0m\u001b[0;34m)\u001b[0m\u001b[0;34m\u001b[0m\u001b[0;34m\u001b[0m\u001b[0m\n\u001b[0m",
            "\u001b[0;31mNameError\u001b[0m: name 'variavel' is not defined"
          ]
        }
      ]
    },
    {
      "cell_type": "code",
      "source": [
        "class Teste:\n",
        "  def __init__(self):\n",
        "    self.lista = [1,2,3]\n",
        "  def __del__(self):\n",
        "    print(\"Fui deletado\")\n",
        "\n",
        "variavel = Teste()\n",
        "del variavel"
      ],
      "metadata": {
        "colab": {
          "base_uri": "https://localhost:8080/"
        },
        "id": "6uehyclhfryA",
        "outputId": "8bcf988d-949a-445f-ebaa-d34c4f81f22d"
      },
      "execution_count": null,
      "outputs": [
        {
          "output_type": "stream",
          "name": "stdout",
          "text": [
            "Fui deletado\n"
          ]
        }
      ]
    },
    {
      "cell_type": "code",
      "source": [
        "class Pessoa:\n",
        "  def __init__(self, nome):\n",
        "    self.__nome = nome\n",
        "  def get_nome(self):\n",
        "    print(\"Pegando nome\")\n",
        "    return self.__nome\n",
        "  def set_nome(self, nome):\n",
        "    print(\"Setando nome\")\n",
        "    self.__nome = nome\n",
        "  def del_nome(self):\n",
        "    print(\"Deletando nome\")\n",
        "    del self.__nome\n",
        "  nome = property(get_nome, set_nome, del_nome)\n",
        "\n",
        "instancia = Pessoa(\"Jean\")\n",
        "del instancia.nome"
      ],
      "metadata": {
        "colab": {
          "base_uri": "https://localhost:8080/"
        },
        "id": "xn0Plz2_hOpw",
        "outputId": "ee51ee3c-cff8-4e6e-cbc8-c96c0d244277"
      },
      "execution_count": null,
      "outputs": [
        {
          "output_type": "stream",
          "name": "stdout",
          "text": [
            "Deletando nome\n"
          ]
        }
      ]
    },
    {
      "cell_type": "code",
      "source": [
        "class Pessoa:\n",
        "  def __init__(self, nome):\n",
        "    self.__nome = nome\n",
        "  @property\n",
        "  def nome(self):\n",
        "    return self\n",
        "  @nome.deleter\n",
        "  def nome(self):\n",
        "    print(\"Deletando nome\")\n",
        "    del self.__nome\n",
        "\n",
        "instancia = Pessoa(\"Larissa\")\n",
        "del instancia.nome"
      ],
      "metadata": {
        "colab": {
          "base_uri": "https://localhost:8080/"
        },
        "id": "DXMOy8DNiHbl",
        "outputId": "954bb7b0-1277-4fcc-d40c-3635f1894b5e"
      },
      "execution_count": null,
      "outputs": [
        {
          "output_type": "stream",
          "name": "stdout",
          "text": [
            "Deletando nome\n"
          ]
        }
      ]
    },
    {
      "cell_type": "code",
      "source": [
        "e_inteiro = isinstance(5, (int, float, str))\n",
        "print(e_inteiro)"
      ],
      "metadata": {
        "colab": {
          "base_uri": "https://localhost:8080/"
        },
        "id": "mgvI8rsXivwH",
        "outputId": "41f1f4f2-6742-49ca-93dc-fd71dcd3f72f"
      },
      "execution_count": null,
      "outputs": [
        {
          "output_type": "stream",
          "name": "stdout",
          "text": [
            "True\n"
          ]
        }
      ]
    },
    {
      "cell_type": "code",
      "source": [
        "class Base:\n",
        "  def __init__(self):\n",
        "    pass\n",
        "\n",
        "classe = Base()\n",
        "e_base = isinstance(classe, Base)\n",
        "print(e_base)"
      ],
      "metadata": {
        "colab": {
          "base_uri": "https://localhost:8080/"
        },
        "id": "LJtl4ojAjFU1",
        "outputId": "b2a59c9d-fb79-4cb3-9b13-4629dfff4b6a"
      },
      "execution_count": null,
      "outputs": [
        {
          "output_type": "stream",
          "name": "stdout",
          "text": [
            "True\n"
          ]
        }
      ]
    },
    {
      "cell_type": "code",
      "source": [
        "class Base:\n",
        "  def __init__(self):\n",
        "    pass\n",
        "\n",
        "class Herdeiro(Base):\n",
        "  def __init__(self):\n",
        "    pass\n",
        "\n",
        "classe = Herdeiro()\n",
        "e_base = isinstance(classe, Base)\n",
        "e_herdeiro = isinstance(classe, Herdeiro)\n",
        "\n",
        "print(e_base)\n",
        "print(e_herdeiro)"
      ],
      "metadata": {
        "colab": {
          "base_uri": "https://localhost:8080/"
        },
        "id": "fjoI7DGHjZ9x",
        "outputId": "6f9d0c10-5cf4-4214-8ff7-9e55d94b905f"
      },
      "execution_count": null,
      "outputs": [
        {
          "output_type": "stream",
          "name": "stdout",
          "text": [
            "True\n",
            "True\n"
          ]
        }
      ]
    },
    {
      "cell_type": "code",
      "source": [
        "class Base:\n",
        "  def __init__(self):\n",
        "    pass\n",
        "\n",
        "class Herdeiro(Base):\n",
        "  def __init__(self):\n",
        "    pass\n",
        "\n",
        "classe = Base()\n",
        "e_base = isinstance(classe, Base)\n",
        "e_herdeiro = isinstance(classe, Herdeiro)\n",
        "\n",
        "print(e_base)\n",
        "print(e_herdeiro)"
      ],
      "metadata": {
        "colab": {
          "base_uri": "https://localhost:8080/"
        },
        "id": "l5Kup3VakCrF",
        "outputId": "70cc40db-f68c-4bb3-9771-a47d2b9980e6"
      },
      "execution_count": null,
      "outputs": [
        {
          "output_type": "stream",
          "name": "stdout",
          "text": [
            "True\n",
            "False\n"
          ]
        }
      ]
    },
    {
      "cell_type": "code",
      "source": [
        "class Base:\n",
        "  def __init__(self):\n",
        "    pass\n",
        "\n",
        "class Herdeiro(Base):\n",
        "  def __init__(self):\n",
        "    pass\n",
        "\n",
        "e_base = issubclass(Base, Herdeiro)\n",
        "e_herdeiro = issubclass(Herdeiro, Base)\n",
        "\n",
        "print(e_base)\n",
        "print(e_herdeiro)"
      ],
      "metadata": {
        "colab": {
          "base_uri": "https://localhost:8080/"
        },
        "id": "1De2I23Slb_U",
        "outputId": "ee745c8b-4df1-4472-f503-435c4de96f71"
      },
      "execution_count": null,
      "outputs": [
        {
          "output_type": "stream",
          "name": "stdout",
          "text": [
            "False\n",
            "True\n"
          ]
        }
      ]
    },
    {
      "cell_type": "code",
      "source": [
        "def soma(num1, num2):\n",
        "  if isinstance(num1, (int, float)) and isinstance(num2, (int, float)):\n",
        "    return num1 + num2\n",
        "  else:\n",
        "    return None\n",
        "\n",
        "print(soma(1, 34.3))\n",
        "print(soma(True, 'texto'))"
      ],
      "metadata": {
        "colab": {
          "base_uri": "https://localhost:8080/"
        },
        "id": "i0hy6gRz4H4y",
        "outputId": "89591651-434b-4f69-a319-55f67e522f75"
      },
      "execution_count": 2,
      "outputs": [
        {
          "output_type": "stream",
          "name": "stdout",
          "text": [
            "35.3\n",
            "None\n"
          ]
        }
      ]
    },
    {
      "cell_type": "code",
      "source": [
        "class Veiculo:\n",
        "  def __init__(self):\n",
        "    pass\n",
        "  def acelera(self):\n",
        "    pass\n",
        "\n",
        "class Moto(Veiculo):\n",
        "  def __init__(self):\n",
        "    pass\n",
        "\n",
        "class Carro(Veiculo):\n",
        "  def __init__(self):\n",
        "    pass\n",
        "  def re(self):\n",
        "    print(\"Dando ré\")\n",
        "\n",
        "def faz_re(var):\n",
        "  if isinstance(var, Carro):\n",
        "    var.re()\n",
        "  else:\n",
        "    print(\"Não tem ré\")\n",
        "\n",
        "motinha = Moto()\n",
        "carrinho = Carro()\n",
        "\n",
        "faz_re(motinha)\n",
        "faz_re(carrinho)"
      ],
      "metadata": {
        "colab": {
          "base_uri": "https://localhost:8080/"
        },
        "id": "t1TC8_su56qg",
        "outputId": "345eb0d5-e57a-4600-d65d-d05d2ebd1687"
      },
      "execution_count": 6,
      "outputs": [
        {
          "output_type": "stream",
          "name": "stdout",
          "text": [
            "Não tem ré\n",
            "Dando ré\n"
          ]
        }
      ]
    }
  ]
}