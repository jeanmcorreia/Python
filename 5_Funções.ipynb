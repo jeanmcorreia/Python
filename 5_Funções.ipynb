{
  "nbformat": 4,
  "nbformat_minor": 0,
  "metadata": {
    "colab": {
      "provenance": [],
      "authorship_tag": "ABX9TyNP9662s2qibKTxCwAtHWL1",
      "include_colab_link": true
    },
    "kernelspec": {
      "name": "python3",
      "display_name": "Python 3"
    },
    "language_info": {
      "name": "python"
    }
  },
  "cells": [
    {
      "cell_type": "markdown",
      "metadata": {
        "id": "view-in-github",
        "colab_type": "text"
      },
      "source": [
        "<a href=\"https://colab.research.google.com/github/jeanmcorreia/Python/blob/main/5_Fun%C3%A7%C3%B5es.ipynb\" target=\"_parent\"><img src=\"https://colab.research.google.com/assets/colab-badge.svg\" alt=\"Open In Colab\"/></a>"
      ]
    },
    {
      "cell_type": "markdown",
      "source": [
        "# Funções"
      ],
      "metadata": {
        "id": "yT1VFYumkuSp"
      }
    },
    {
      "cell_type": "code",
      "execution_count": null,
      "metadata": {
        "colab": {
          "base_uri": "https://localhost:8080/"
        },
        "id": "goh_ojbBkpgL",
        "outputId": "eca63b8f-25bc-42d1-931c-b056c6eb431f"
      },
      "outputs": [
        {
          "output_type": "stream",
          "name": "stdout",
          "text": [
            "Uma função 10\n",
            "Uma função 10\n"
          ]
        }
      ],
      "source": [
        "def func():\n",
        "  num = 10\n",
        "  print(f\"Uma função {num}\")\n",
        "\n",
        "func()\n",
        "func()"
      ]
    },
    {
      "cell_type": "code",
      "source": [
        "def func():\n",
        "  pass\n",
        "func()"
      ],
      "metadata": {
        "id": "_2DVyFxolIBF"
      },
      "execution_count": null,
      "outputs": []
    },
    {
      "cell_type": "code",
      "source": [
        "def print_var(numero):\n",
        "  print(numero)\n",
        "\n",
        "print_var(2)\n",
        "print_var(\"Maçã\")"
      ],
      "metadata": {
        "colab": {
          "base_uri": "https://localhost:8080/"
        },
        "id": "7pKFbfCplTDM",
        "outputId": "abd3d6ab-5c43-42cb-cbdb-f5e2c106620d"
      },
      "execution_count": null,
      "outputs": [
        {
          "output_type": "stream",
          "name": "stdout",
          "text": [
            "2\n",
            "Maçã\n"
          ]
        }
      ]
    },
    {
      "cell_type": "code",
      "source": [
        "def print_soma(num1, num2):\n",
        "  print(num1 + num2)\n",
        "\n",
        "print_soma(1,2)\n",
        "print_soma(3.3,1.1)\n",
        "print_soma(\"Olá, \", \"mundo!\")"
      ],
      "metadata": {
        "colab": {
          "base_uri": "https://localhost:8080/"
        },
        "id": "3S8W8902ljSL",
        "outputId": "4fffb3dc-00e5-4658-996f-718d71739647"
      },
      "execution_count": null,
      "outputs": [
        {
          "output_type": "stream",
          "name": "stdout",
          "text": [
            "3\n",
            "4.4\n",
            "Olá, mundo!\n"
          ]
        }
      ]
    },
    {
      "cell_type": "code",
      "source": [
        "def func(*args):\n",
        "  print(type(args))\n",
        "  print(f\"Argumentos são: {args}\")\n",
        "\n",
        "func(10,12,13,14,15)\n",
        "func()\n",
        "func(\"Olá\", True, [1,2,3])\n"
      ],
      "metadata": {
        "colab": {
          "base_uri": "https://localhost:8080/"
        },
        "id": "aSYfa997l1XL",
        "outputId": "50913640-9796-4df1-eb8e-68b81c7fe579"
      },
      "execution_count": null,
      "outputs": [
        {
          "output_type": "stream",
          "name": "stdout",
          "text": [
            "<class 'tuple'>\n",
            "Argumentos são: (10, 12, 13, 14, 15)\n",
            "<class 'tuple'>\n",
            "Argumentos são: ()\n",
            "<class 'tuple'>\n",
            "Argumentos são: ('Olá', True, [1, 2, 3])\n"
          ]
        }
      ]
    },
    {
      "cell_type": "code",
      "source": [
        "def print_sub(num1, num2):\n",
        "  print(num1 - num2)\n",
        "print_sub(num2 = 2, num1 = 10)"
      ],
      "metadata": {
        "colab": {
          "base_uri": "https://localhost:8080/"
        },
        "id": "zQAPdsNUnlIl",
        "outputId": "5b20e451-a68a-4fea-8c05-48119a1478b9"
      },
      "execution_count": null,
      "outputs": [
        {
          "output_type": "stream",
          "name": "stdout",
          "text": [
            "8\n"
          ]
        }
      ]
    },
    {
      "cell_type": "code",
      "source": [
        "def func(*args, outro):\n",
        "  print(f\"Argumentos são: {args}\")\n",
        "  print(outro)\n",
        "\n",
        "func(1,2,3, outro = '1')\n",
        "func(outro = 2)\n",
        "func(\"Olá\", True, [1,2,3], outro = '3')"
      ],
      "metadata": {
        "colab": {
          "base_uri": "https://localhost:8080/"
        },
        "id": "LBbyjsjToO5L",
        "outputId": "fab58e4a-4a36-4d03-c894-c8a9bb18476f"
      },
      "execution_count": null,
      "outputs": [
        {
          "output_type": "stream",
          "name": "stdout",
          "text": [
            "Argumentos são: (1, 2, 3)\n",
            "1\n",
            "Argumentos são: ()\n",
            "2\n",
            "Argumentos são: ('Olá', True, [1, 2, 3])\n",
            "3\n"
          ]
        }
      ]
    },
    {
      "cell_type": "code",
      "source": [
        "def func(valor, nome = 'Teste'):\n",
        "  print(nome, valor)\n",
        "\n",
        "func(3)\n",
        "func(3, 'Outro')"
      ],
      "metadata": {
        "colab": {
          "base_uri": "https://localhost:8080/"
        },
        "id": "_0P9pirGoyGU",
        "outputId": "ba7c7e9a-7765-4767-b568-388c37c3d9cf"
      },
      "execution_count": null,
      "outputs": [
        {
          "output_type": "stream",
          "name": "stdout",
          "text": [
            "Teste 3\n",
            "Outro 3\n"
          ]
        }
      ]
    },
    {
      "cell_type": "code",
      "source": [
        "def func(**args):\n",
        "  print(type(args))\n",
        "  print(args)\n",
        "  print(args['Valor'])\n",
        "\n",
        "func(Valor = '10', operacao = 'Soma', resultado = 10)"
      ],
      "metadata": {
        "colab": {
          "base_uri": "https://localhost:8080/"
        },
        "id": "71IyP3sLpfts",
        "outputId": "98feb026-3a81-4a06-88f8-18e8ea6520f8"
      },
      "execution_count": null,
      "outputs": [
        {
          "output_type": "stream",
          "name": "stdout",
          "text": [
            "<class 'dict'>\n",
            "{'Valor': '10', 'operacao': 'Soma', 'resultado': 10}\n",
            "10\n"
          ]
        }
      ]
    },
    {
      "cell_type": "code",
      "source": [
        "def printa(x):\n",
        "  print(x)\n",
        "\n",
        "def executa_func(func, x):\n",
        "  func(x)\n",
        "\n",
        "minha_funcao = printa\n",
        "print(type(minha_funcao))\n",
        "\n",
        "executa_func(minha_funcao, 10)"
      ],
      "metadata": {
        "colab": {
          "base_uri": "https://localhost:8080/"
        },
        "id": "NXOm4TpKqUGs",
        "outputId": "8bb6416d-bdc2-4795-8c90-a611cecfda13"
      },
      "execution_count": null,
      "outputs": [
        {
          "output_type": "stream",
          "name": "stdout",
          "text": [
            "<class 'function'>\n",
            "10\n"
          ]
        }
      ]
    },
    {
      "cell_type": "code",
      "source": [
        "def subtrai(num1, num2):\n",
        "  valor = num1 - num2\n",
        "  return valor\n",
        "\n",
        "subtracao = subtrai(10, 3)\n",
        "print(subtracao)"
      ],
      "metadata": {
        "colab": {
          "base_uri": "https://localhost:8080/"
        },
        "id": "EMTq4L4Jq-0k",
        "outputId": "502cf0c7-4cff-469f-cac0-21a37737c4e9"
      },
      "execution_count": null,
      "outputs": [
        {
          "output_type": "stream",
          "name": "stdout",
          "text": [
            "7\n"
          ]
        }
      ]
    },
    {
      "cell_type": "code",
      "source": [
        "def len_int(numero):\n",
        "  numero_em_txt = str(numero)\n",
        "  return len(numero_em_txt)\n",
        "\n",
        "num1 = \"10\"\n",
        "num2 = 1230\n",
        "\n",
        "tamanho1 = len_int(num1)\n",
        "tamanho2 = len_int(num2)\n",
        "\n",
        "print(f\"O número {num1} tem {tamanho1} dígitos\")\n",
        "print(f\"O número {num2} tem {tamanho2} dígitos\")"
      ],
      "metadata": {
        "colab": {
          "base_uri": "https://localhost:8080/"
        },
        "id": "W96mD5wQrrBe",
        "outputId": "5500280d-6ca6-4bf1-9d0e-1b76d1c14ded"
      },
      "execution_count": null,
      "outputs": [
        {
          "output_type": "stream",
          "name": "stdout",
          "text": [
            "O número 10 tem 2 dígitos\n",
            "O número 1230 tem 4 dígitos\n"
          ]
        }
      ]
    },
    {
      "cell_type": "code",
      "source": [
        "def retorna_multiplo():\n",
        "  return 1,2\n",
        "\n",
        "valor = retorna_multiplo()\n",
        "print(valor)\n",
        "print(type(valor))"
      ],
      "metadata": {
        "colab": {
          "base_uri": "https://localhost:8080/"
        },
        "id": "2JPQ_y99sews",
        "outputId": "61631f1d-9dc6-4f60-80c5-c032e8644e62"
      },
      "execution_count": null,
      "outputs": [
        {
          "output_type": "stream",
          "name": "stdout",
          "text": [
            "(1, 2)\n",
            "<class 'tuple'>\n"
          ]
        }
      ]
    },
    {
      "cell_type": "code",
      "source": [
        "def retorna_multiplo(a,b,c):\n",
        "  a += a\n",
        "  b += b\n",
        "  c += c\n",
        "  return a,b,c\n",
        "\n",
        "x,y,z = retorna_multiplo(1,2,3)\n",
        "print(x,y,z)\n",
        "\n",
        "a = retorna_multiplo(1,2,3)\n",
        "print(a)"
      ],
      "metadata": {
        "colab": {
          "base_uri": "https://localhost:8080/"
        },
        "id": "hqFJm00ts1vi",
        "outputId": "48434168-c35b-4dbd-a65d-57199fbc708d"
      },
      "execution_count": null,
      "outputs": [
        {
          "output_type": "stream",
          "name": "stdout",
          "text": [
            "2 4 6\n",
            "(2, 4, 6)\n"
          ]
        }
      ]
    },
    {
      "cell_type": "code",
      "source": [
        "def func(x):\n",
        "  if x == \"Olá\":\n",
        "    print(\"Olá\")\n",
        "    return\n",
        "  print(1,2,3)\n",
        "  return x\n",
        "\n",
        "print(func(\"x\"))"
      ],
      "metadata": {
        "colab": {
          "base_uri": "https://localhost:8080/"
        },
        "id": "1J8sEqjetSaj",
        "outputId": "cacd528b-c37f-4a15-ba54-b976383cabf7"
      },
      "execution_count": null,
      "outputs": [
        {
          "output_type": "stream",
          "name": "stdout",
          "text": [
            "1 2 3\n",
            "x\n"
          ]
        }
      ]
    },
    {
      "cell_type": "code",
      "source": [
        "faz_soma = lambda x: x + 10\n",
        "valor = faz_soma(2)\n",
        "print(valor)"
      ],
      "metadata": {
        "colab": {
          "base_uri": "https://localhost:8080/"
        },
        "id": "E85Y5TYptnS6",
        "outputId": "c34c3868-8786-4396-e8f6-3f44c62b57c2"
      },
      "execution_count": null,
      "outputs": [
        {
          "output_type": "stream",
          "name": "stdout",
          "text": [
            "12\n"
          ]
        }
      ]
    },
    {
      "cell_type": "code",
      "source": [
        "multiplicacao = lambda x, y: x * y\n",
        "valor = multiplicacao(2,10)\n",
        "print(valor)"
      ],
      "metadata": {
        "id": "fornXFDHvnjb",
        "colab": {
          "base_uri": "https://localhost:8080/"
        },
        "outputId": "e92c54e5-048e-4d14-c210-ab733b9931bc"
      },
      "execution_count": null,
      "outputs": [
        {
          "output_type": "stream",
          "name": "stdout",
          "text": [
            "20\n"
          ]
        }
      ]
    },
    {
      "cell_type": "code",
      "source": [
        "def multiplica(y):\n",
        "  return lambda x: x * y\n",
        "\n",
        "valor = multiplica(2)\n",
        "resultado = valor(10)\n",
        "print(resultado)"
      ],
      "metadata": {
        "colab": {
          "base_uri": "https://localhost:8080/"
        },
        "id": "EBqGAclH5yH0",
        "outputId": "d5ed7cd3-9ae2-43b7-e2fb-0d1565ce1627"
      },
      "execution_count": null,
      "outputs": [
        {
          "output_type": "stream",
          "name": "stdout",
          "text": [
            "20\n"
          ]
        }
      ]
    },
    {
      "cell_type": "code",
      "source": [
        "def print_num(num):\n",
        "  print(num)\n",
        "  if num >= 10:\n",
        "    return\n",
        "  print_num(num + 1)\n",
        "\n",
        "print_num(0)"
      ],
      "metadata": {
        "colab": {
          "base_uri": "https://localhost:8080/"
        },
        "id": "lN4RfT4u6aH7",
        "outputId": "d9c7dbd1-d8ec-410d-9e3a-2b57ba7c4b79"
      },
      "execution_count": null,
      "outputs": [
        {
          "output_type": "stream",
          "name": "stdout",
          "text": [
            "0\n",
            "1\n",
            "2\n",
            "3\n",
            "4\n",
            "5\n",
            "6\n",
            "7\n",
            "8\n",
            "9\n",
            "10\n"
          ]
        }
      ]
    },
    {
      "cell_type": "code",
      "source": [
        "def print_str(texto, indice):\n",
        "  if indice == len(texto):\n",
        "    return\n",
        "  print(texto[indice])\n",
        "  print_str(texto, indice + 1)\n",
        "\n",
        "print_str('Python', 0)"
      ],
      "metadata": {
        "colab": {
          "base_uri": "https://localhost:8080/"
        },
        "id": "t44O8DIP6_LS",
        "outputId": "e01a0290-8ca9-47de-a9da-c06dc57dae8c"
      },
      "execution_count": null,
      "outputs": [
        {
          "output_type": "stream",
          "name": "stdout",
          "text": [
            "P\n",
            "y\n",
            "t\n",
            "h\n",
            "o\n",
            "n\n"
          ]
        }
      ]
    },
    {
      "cell_type": "code",
      "source": [
        "def fatorial (num):\n",
        "  if num == 1:\n",
        "    return 1\n",
        "  return num * fatorial(num - 1)\n",
        "\n",
        "print(fatorial(10))"
      ],
      "metadata": {
        "colab": {
          "base_uri": "https://localhost:8080/"
        },
        "id": "Pcd4qS5L7Z1r",
        "outputId": "00a8b670-565d-46af-b22a-204e1a86a984"
      },
      "execution_count": null,
      "outputs": [
        {
          "output_type": "stream",
          "name": "stdout",
          "text": [
            "3628800\n"
          ]
        }
      ]
    },
    {
      "cell_type": "code",
      "source": [
        "def pai():\n",
        "  def filho():\n",
        "    print(\"Sou filho\")\n",
        "  filho()\n",
        "pai()"
      ],
      "metadata": {
        "colab": {
          "base_uri": "https://localhost:8080/"
        },
        "id": "r8tP9DBr7wsh",
        "outputId": "21eb3928-bd05-4544-ea08-ee6d7e2312e5"
      },
      "execution_count": null,
      "outputs": [
        {
          "output_type": "stream",
          "name": "stdout",
          "text": [
            "Sou filho\n"
          ]
        }
      ]
    },
    {
      "cell_type": "code",
      "source": [
        "def calculadora(num1, num2, operador):\n",
        "  def soma(a, b):\n",
        "    return a + b\n",
        "  def subtrai(a, b):\n",
        "    return a - b\n",
        "  if operador == '+':\n",
        "    return soma(num1, num2)\n",
        "  elif operador == '-':\n",
        "    return subtrai(num1, num2)\n",
        "\n",
        "print(calculadora(2,1,'-'))\n",
        "print(calculadora(2,1,'+'))"
      ],
      "metadata": {
        "colab": {
          "base_uri": "https://localhost:8080/"
        },
        "id": "7jp1NCw28XYL",
        "outputId": "04313da7-55d5-45d7-ccbc-d83e67f4f5b2"
      },
      "execution_count": null,
      "outputs": [
        {
          "output_type": "stream",
          "name": "stdout",
          "text": [
            "1\n",
            "3\n"
          ]
        }
      ]
    },
    {
      "cell_type": "code",
      "source": [
        "def pega_func_print():\n",
        "  def print_var(var):\n",
        "    print(var)\n",
        "  return print_var\n",
        "\n",
        "print_me = pega_func_print()\n",
        "print_me(10)\n",
        "print(type(print_me))"
      ],
      "metadata": {
        "colab": {
          "base_uri": "https://localhost:8080/"
        },
        "id": "Lr62hV2i9SPr",
        "outputId": "48408bec-bd2a-4556-c217-d3beda02858a"
      },
      "execution_count": null,
      "outputs": [
        {
          "output_type": "stream",
          "name": "stdout",
          "text": [
            "10\n",
            "<class 'function'>\n"
          ]
        }
      ]
    },
    {
      "cell_type": "code",
      "source": [
        "def DeixaMaiuscula(func):\n",
        "  def inner_func():\n",
        "    return func().upper()\n",
        "  return inner_func\n",
        "\n",
        "@DeixaMaiuscula\n",
        "def retorna_string():\n",
        "  return \"String de teste\"\n",
        "\n",
        "valor = retorna_string()\n",
        "print(valor)"
      ],
      "metadata": {
        "colab": {
          "base_uri": "https://localhost:8080/"
        },
        "id": "s98fDvpA95d6",
        "outputId": "71a28931-664c-41a0-b1f7-7beef1ce7418"
      },
      "execution_count": null,
      "outputs": [
        {
          "output_type": "stream",
          "name": "stdout",
          "text": [
            "STRING DE TESTE\n"
          ]
        }
      ]
    },
    {
      "cell_type": "code",
      "source": [
        "def DeixaMaiusculo(func):\n",
        "  def inner_func(str1, str2):\n",
        "    return func(str1, str2).upper()\n",
        "  return inner_func\n",
        "\n",
        "@DeixaMaiusculo\n",
        "def concatena_strings(str1, str2):\n",
        "  return str1 + str2\n",
        "\n",
        "valor = concatena_strings(\"Olá\", \" mundo!\")\n",
        "print(valor)"
      ],
      "metadata": {
        "id": "VP1b8fwM_dhC",
        "colab": {
          "base_uri": "https://localhost:8080/"
        },
        "outputId": "997bb7f0-d629-489d-9490-db2070a2b3dd"
      },
      "execution_count": 2,
      "outputs": [
        {
          "output_type": "stream",
          "name": "stdout",
          "text": [
            "OLÁ MUNDO!\n"
          ]
        }
      ]
    },
    {
      "cell_type": "code",
      "source": [
        "def DeixaMaiusculo(func):\n",
        "  def inner_func(texto):\n",
        "    return func(texto).upper()\n",
        "  return inner_func\n",
        "\n",
        "def InsereParenteses(func):\n",
        "  def inner_func(texto):\n",
        "    return '('+func(texto)+')'\n",
        "  return inner_func\n",
        "\n",
        "@DeixaMaiusculo\n",
        "@InsereParenteses\n",
        "def formata_string(texto):\n",
        "  return texto\n",
        "\n",
        "valor = formata_string(\"Olá, este texto será formatado!\")\n",
        "print(valor)\n"
      ],
      "metadata": {
        "colab": {
          "base_uri": "https://localhost:8080/"
        },
        "id": "GvhsmEwuPZs7",
        "outputId": "a7d58e0b-6bf4-438b-ecfa-7025bbf936e6"
      },
      "execution_count": 3,
      "outputs": [
        {
          "output_type": "stream",
          "name": "stdout",
          "text": [
            "(OLÁ, ESTE TEXTO SERÁ FORMATADO!)\n"
          ]
        }
      ]
    },
    {
      "cell_type": "markdown",
      "source": [
        "## Atividades 1"
      ],
      "metadata": {
        "id": "ZgbSKaDuQxyM"
      }
    },
    {
      "cell_type": "code",
      "source": [
        "#1 - Crie uma função chamada “e_negativo” que receba um número,\n",
        "# retorna um booleano “True” se o número for negativo, caso contrário retorna “False”."
      ],
      "metadata": {
        "id": "0d6xh2TgQw4u"
      },
      "execution_count": null,
      "outputs": []
    },
    {
      "cell_type": "code",
      "source": [
        "def e_negativo(numero):\n",
        "  if numero < 0:\n",
        "    return True\n",
        "  else:\n",
        "    return False\n",
        "\n",
        "e_negativo(10)\n",
        "\n",
        "# Correção\n",
        "def e_negativo(num):\n",
        "  return num < 0"
      ],
      "metadata": {
        "colab": {
          "base_uri": "https://localhost:8080/"
        },
        "id": "ESESqb1jQSsD",
        "outputId": "87a847c2-6ff7-4396-a04b-3784608e0bdf"
      },
      "execution_count": 8,
      "outputs": [
        {
          "output_type": "execute_result",
          "data": {
            "text/plain": [
              "False"
            ]
          },
          "metadata": {},
          "execution_count": 8
        }
      ]
    },
    {
      "cell_type": "code",
      "source": [
        "#2 - Crie um função que receba um array de números (int ou float) e\n",
        "# retorne sua soma."
      ],
      "metadata": {
        "id": "0_GqZRroRLsz"
      },
      "execution_count": null,
      "outputs": []
    },
    {
      "cell_type": "code",
      "source": [
        "def func_soma(*numeros):\n",
        "  total_soma = 0\n",
        "  for i in numeros:\n",
        "    if int(i) or float(i):\n",
        "      total_soma += i\n",
        "    else:\n",
        "      continue\n",
        "  return total_soma\n",
        "\n",
        "func_soma(10, 5.5, 10)\n",
        "\n",
        "#Correção\n",
        "def soma(arr):\n",
        "  soma = 0\n",
        "  for i in arr:\n",
        "    soma += i\n",
        "  return soma"
      ],
      "metadata": {
        "colab": {
          "base_uri": "https://localhost:8080/"
        },
        "id": "1zo2oxebRe1D",
        "outputId": "e86a79e9-2226-4702-f15b-dc67d8d90131"
      },
      "execution_count": 12,
      "outputs": [
        {
          "output_type": "execute_result",
          "data": {
            "text/plain": [
              "25.5"
            ]
          },
          "metadata": {},
          "execution_count": 12
        }
      ]
    },
    {
      "cell_type": "code",
      "source": [
        "#3 - Crie um função que receba uma string e que conte e retorne o número\n",
        "# de vogais desta string."
      ],
      "metadata": {
        "id": "Nv25YPeoS-lD"
      },
      "execution_count": null,
      "outputs": []
    },
    {
      "cell_type": "code",
      "source": [
        "def vogais_string(str):\n",
        "  vogais = 0\n",
        "  for vogal in str:\n",
        "    if vogal == 'a' or vogal == 'e' or vogal == 'i' or vogal == 'o' or vogal == 'u':\n",
        "      vogais += 1\n",
        "  return vogais\n",
        "\n",
        "vogais_string(\"Jean é brabo\")\n",
        "\n",
        "# Correção\n",
        "def conta_vogais(texto):\n",
        "  vogais = 0\n",
        "  arr_vogais = ('a', 'e', 'i', 'o', 'u')\n",
        "  for i in texto:\n",
        "    for i in arr_vogais:\n",
        "      vogais += 1\n",
        "  return vogais"
      ],
      "metadata": {
        "colab": {
          "base_uri": "https://localhost:8080/"
        },
        "id": "USsWSp2rTPvS",
        "outputId": "d2a649d6-a6c1-4143-ef7a-72af035cef8c"
      },
      "execution_count": 13,
      "outputs": [
        {
          "output_type": "execute_result",
          "data": {
            "text/plain": [
              "4"
            ]
          },
          "metadata": {},
          "execution_count": 13
        }
      ]
    },
    {
      "cell_type": "code",
      "source": [
        "#4 - Crie um função que retorne o último caractere de um string recebida."
      ],
      "metadata": {
        "id": "YhHtSsUaTxc6"
      },
      "execution_count": null,
      "outputs": []
    },
    {
      "cell_type": "code",
      "source": [
        "def ultimo_caractere(str):\n",
        "  return str[-1]\n",
        "\n",
        "ultimo_caractere(\"Olá\")\n",
        "\n",
        "# Correção\n",
        "def pega_ultimo(texto):\n",
        "  return texto[len(texto)-1]"
      ],
      "metadata": {
        "colab": {
          "base_uri": "https://localhost:8080/",
          "height": 35
        },
        "id": "DaSrjmg6T4UQ",
        "outputId": "cfefc1b7-fa8a-4a89-b913-1040b14205e5"
      },
      "execution_count": 14,
      "outputs": [
        {
          "output_type": "execute_result",
          "data": {
            "text/plain": [
              "'á'"
            ],
            "application/vnd.google.colaboratory.intrinsic+json": {
              "type": "string"
            }
          },
          "metadata": {},
          "execution_count": 14
        }
      ]
    },
    {
      "cell_type": "code",
      "source": [
        "# 5 - Crie um função que receba dois números e uma string dizendo se deve\n",
        "#realizar a soma ou subtração do números."
      ],
      "metadata": {
        "id": "Jdu6wxZzUEtJ"
      },
      "execution_count": null,
      "outputs": []
    },
    {
      "cell_type": "code",
      "source": [
        "def calculadora(num1, num2, operador):\n",
        "  def soma(a, b):\n",
        "    return a + b\n",
        "  def subtrai(a, b):\n",
        "    return a - b\n",
        "  if operador == '+':\n",
        "    return soma(num1, num2)\n",
        "  elif operador == '-':\n",
        "    return subtrai(num1, num2)\n",
        "\n",
        "print(calculadora(2,1,'-'))\n",
        "print(calculadora(2,1,'+'))"
      ],
      "metadata": {
        "id": "U8N4VGOUUKjN"
      },
      "execution_count": null,
      "outputs": []
    }
  ]
}