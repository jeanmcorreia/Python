{
  "nbformat": 4,
  "nbformat_minor": 0,
  "metadata": {
    "colab": {
      "provenance": [],
      "authorship_tag": "ABX9TyN4m6TQKxoTYnGNaQg3xgfy",
      "include_colab_link": true
    },
    "kernelspec": {
      "name": "python3",
      "display_name": "Python 3"
    },
    "language_info": {
      "name": "python"
    }
  },
  "cells": [
    {
      "cell_type": "markdown",
      "metadata": {
        "id": "view-in-github",
        "colab_type": "text"
      },
      "source": [
        "<a href=\"https://colab.research.google.com/github/jeanmcorreia/Python/blob/main/5_Fun%C3%A7%C3%B5es.ipynb\" target=\"_parent\"><img src=\"https://colab.research.google.com/assets/colab-badge.svg\" alt=\"Open In Colab\"/></a>"
      ]
    },
    {
      "cell_type": "markdown",
      "source": [
        "# Funções"
      ],
      "metadata": {
        "id": "yT1VFYumkuSp"
      }
    },
    {
      "cell_type": "code",
      "execution_count": 1,
      "metadata": {
        "colab": {
          "base_uri": "https://localhost:8080/"
        },
        "id": "goh_ojbBkpgL",
        "outputId": "eca63b8f-25bc-42d1-931c-b056c6eb431f"
      },
      "outputs": [
        {
          "output_type": "stream",
          "name": "stdout",
          "text": [
            "Uma função 10\n",
            "Uma função 10\n"
          ]
        }
      ],
      "source": [
        "def func():\n",
        "  num = 10\n",
        "  print(f\"Uma função {num}\")\n",
        "\n",
        "func()\n",
        "func()"
      ]
    },
    {
      "cell_type": "code",
      "source": [
        "def func():\n",
        "  pass\n",
        "func()"
      ],
      "metadata": {
        "id": "_2DVyFxolIBF"
      },
      "execution_count": 2,
      "outputs": []
    },
    {
      "cell_type": "code",
      "source": [
        "def print_var(numero):\n",
        "  print(numero)\n",
        "\n",
        "print_var(2)\n",
        "print_var(\"Maçã\")"
      ],
      "metadata": {
        "colab": {
          "base_uri": "https://localhost:8080/"
        },
        "id": "7pKFbfCplTDM",
        "outputId": "abd3d6ab-5c43-42cb-cbdb-f5e2c106620d"
      },
      "execution_count": 4,
      "outputs": [
        {
          "output_type": "stream",
          "name": "stdout",
          "text": [
            "2\n",
            "Maçã\n"
          ]
        }
      ]
    },
    {
      "cell_type": "code",
      "source": [
        "def print_soma(num1, num2):\n",
        "  print(num1 + num2)\n",
        "\n",
        "print_soma(1,2)\n",
        "print_soma(3.3,1.1)\n",
        "print_soma(\"Olá, \", \"mundo!\")"
      ],
      "metadata": {
        "colab": {
          "base_uri": "https://localhost:8080/"
        },
        "id": "3S8W8902ljSL",
        "outputId": "4fffb3dc-00e5-4658-996f-718d71739647"
      },
      "execution_count": 6,
      "outputs": [
        {
          "output_type": "stream",
          "name": "stdout",
          "text": [
            "3\n",
            "4.4\n",
            "Olá, mundo!\n"
          ]
        }
      ]
    },
    {
      "cell_type": "code",
      "source": [
        "def func(*args):\n",
        "  print(type(args))\n",
        "  print(f\"Argumentos são: {args}\")\n",
        "\n",
        "func(10,12,13,14,15)\n",
        "func()\n",
        "func(\"Olá\", True, [1,2,3])\n"
      ],
      "metadata": {
        "colab": {
          "base_uri": "https://localhost:8080/"
        },
        "id": "aSYfa997l1XL",
        "outputId": "50913640-9796-4df1-eb8e-68b81c7fe579"
      },
      "execution_count": 9,
      "outputs": [
        {
          "output_type": "stream",
          "name": "stdout",
          "text": [
            "<class 'tuple'>\n",
            "Argumentos são: (10, 12, 13, 14, 15)\n",
            "<class 'tuple'>\n",
            "Argumentos são: ()\n",
            "<class 'tuple'>\n",
            "Argumentos são: ('Olá', True, [1, 2, 3])\n"
          ]
        }
      ]
    },
    {
      "cell_type": "code",
      "source": [
        "def print_sub(num1, num2):\n",
        "  print(num1 - num2)\n",
        "print_sub(num2 = 2, num1 = 10)"
      ],
      "metadata": {
        "colab": {
          "base_uri": "https://localhost:8080/"
        },
        "id": "zQAPdsNUnlIl",
        "outputId": "5b20e451-a68a-4fea-8c05-48119a1478b9"
      },
      "execution_count": 13,
      "outputs": [
        {
          "output_type": "stream",
          "name": "stdout",
          "text": [
            "8\n"
          ]
        }
      ]
    },
    {
      "cell_type": "code",
      "source": [
        "def func(*args, outro):\n",
        "  print(f\"Argumentos são: {args}\")\n",
        "  print(outro)\n",
        "\n",
        "func(1,2,3, outro = '1')\n",
        "func(outro = 2)\n",
        "func(\"Olá\", True, [1,2,3], outro = '3')"
      ],
      "metadata": {
        "colab": {
          "base_uri": "https://localhost:8080/"
        },
        "id": "LBbyjsjToO5L",
        "outputId": "fab58e4a-4a36-4d03-c894-c8a9bb18476f"
      },
      "execution_count": 16,
      "outputs": [
        {
          "output_type": "stream",
          "name": "stdout",
          "text": [
            "Argumentos são: (1, 2, 3)\n",
            "1\n",
            "Argumentos são: ()\n",
            "2\n",
            "Argumentos são: ('Olá', True, [1, 2, 3])\n",
            "3\n"
          ]
        }
      ]
    },
    {
      "cell_type": "code",
      "source": [],
      "metadata": {
        "id": "_0P9pirGoyGU"
      },
      "execution_count": null,
      "outputs": []
    }
  ]
}