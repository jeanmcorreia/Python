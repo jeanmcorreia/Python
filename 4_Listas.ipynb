{
  "nbformat": 4,
  "nbformat_minor": 0,
  "metadata": {
    "colab": {
      "provenance": [],
      "authorship_tag": "ABX9TyPfEoMw9aY2cDDDHxoYBjsT",
      "include_colab_link": true
    },
    "kernelspec": {
      "name": "python3",
      "display_name": "Python 3"
    },
    "language_info": {
      "name": "python"
    }
  },
  "cells": [
    {
      "cell_type": "markdown",
      "metadata": {
        "id": "view-in-github",
        "colab_type": "text"
      },
      "source": [
        "<a href=\"https://colab.research.google.com/github/jeanmcorreia/Python/blob/main/4_Listas.ipynb\" target=\"_parent\"><img src=\"https://colab.research.google.com/assets/colab-badge.svg\" alt=\"Open In Colab\"/></a>"
      ]
    },
    {
      "cell_type": "markdown",
      "source": [
        "# List"
      ],
      "metadata": {
        "id": "M7LWd3DXYPdR"
      }
    },
    {
      "cell_type": "code",
      "execution_count": null,
      "metadata": {
        "id": "uCNCtiXwzRyM",
        "colab": {
          "base_uri": "https://localhost:8080/"
        },
        "outputId": "9167ee27-c333-4707-e779-05de6ef49cb3"
      },
      "outputs": [
        {
          "output_type": "stream",
          "name": "stdout",
          "text": [
            "[]\n",
            "[1, 2, 3]\n",
            "[5.3, -2.2, 0.5]\n",
            "['a', 'b', 'c']\n",
            "[2, 2.3, 'abc']\n"
          ]
        }
      ],
      "source": [
        "array = []\n",
        "array = list()\n",
        "\n",
        "array_numeros = [1,2,3]\n",
        "array_floats = [5.3, -2.2, 0.5]\n",
        "array_str = [\"a\", \"b\", \"c\"]\n",
        "array_misto = [2,2.3,\"abc\"]\n",
        "print(array)\n",
        "print(array_numeros)\n",
        "print(array_floats)\n",
        "print(array_str)\n",
        "print(array_misto)"
      ]
    },
    {
      "cell_type": "code",
      "source": [
        "color = [1,2,\n",
        "         3,\n",
        "         4,5]\n",
        "print(color)"
      ],
      "metadata": {
        "colab": {
          "base_uri": "https://localhost:8080/"
        },
        "id": "PsjBVoXXZIH_",
        "outputId": "ecf8b2dd-2293-4d0d-c48f-dd76c0b5ce7b"
      },
      "execution_count": null,
      "outputs": [
        {
          "output_type": "stream",
          "name": "stdout",
          "text": [
            "[1, 2, 3, 4, 5]\n"
          ]
        }
      ]
    },
    {
      "cell_type": "code",
      "source": [
        "array = list([1,2,3])\n",
        "print(array)\n",
        "primeiro_elemento = array[0]\n",
        "print(primeiro_elemento)\n",
        "array[0] = 20\n",
        "primeiro_elemento = array[0]\n",
        "print(primeiro_elemento)\n",
        "print(array[-1])\n",
        "print(array)"
      ],
      "metadata": {
        "colab": {
          "base_uri": "https://localhost:8080/"
        },
        "id": "F1NKzOyIaBGF",
        "outputId": "54b98806-bdd7-4b46-b6f9-91fd7a4a77d9"
      },
      "execution_count": null,
      "outputs": [
        {
          "output_type": "stream",
          "name": "stdout",
          "text": [
            "[1, 2, 3]\n",
            "1\n",
            "20\n",
            "3\n",
            "[20, 2, 3]\n"
          ]
        }
      ]
    },
    {
      "cell_type": "code",
      "source": [
        "array = [1, \"texto\", 3]\n",
        "print(array[1:3])"
      ],
      "metadata": {
        "id": "EbHXpg9QaQk0",
        "colab": {
          "base_uri": "https://localhost:8080/"
        },
        "outputId": "18734e5a-ab79-460f-e267-0ad3184c5596"
      },
      "execution_count": null,
      "outputs": [
        {
          "output_type": "stream",
          "name": "stdout",
          "text": [
            "['texto', 3]\n"
          ]
        }
      ]
    },
    {
      "cell_type": "code",
      "source": [
        "array = [10, 2, 3]\n",
        "print(array)\n",
        "array.append(2)\n",
        "print(array)\n",
        "array.insert(2, \"4\")\n",
        "print(array)"
      ],
      "metadata": {
        "colab": {
          "base_uri": "https://localhost:8080/"
        },
        "id": "IciSFNO6U49a",
        "outputId": "97e640e4-b4ff-4a1b-c879-80d35e4e8cde"
      },
      "execution_count": null,
      "outputs": [
        {
          "output_type": "stream",
          "name": "stdout",
          "text": [
            "[10, 2, 3]\n",
            "[10, 2, 3, 2]\n",
            "[10, 2, '4', 3, 2]\n"
          ]
        }
      ]
    },
    {
      "cell_type": "code",
      "source": [
        "array = [10, 2, 3, 20, \"3\"]\n",
        "array.remove(10)\n",
        "print(array)\n",
        "array.pop(2)\n",
        "print(array)"
      ],
      "metadata": {
        "colab": {
          "base_uri": "https://localhost:8080/"
        },
        "id": "IhRqiEmiXp85",
        "outputId": "90ce165d-44c7-497a-b887-d27b3831c99f"
      },
      "execution_count": null,
      "outputs": [
        {
          "output_type": "stream",
          "name": "stdout",
          "text": [
            "[2, 3, 20, '3']\n",
            "[2, 3, '3']\n"
          ]
        }
      ]
    },
    {
      "cell_type": "code",
      "source": [
        "print(len(array))"
      ],
      "metadata": {
        "colab": {
          "base_uri": "https://localhost:8080/"
        },
        "id": "zFSZOHEtYcN4",
        "outputId": "6c62fe5e-40e0-429c-aad0-77708617de35"
      },
      "execution_count": null,
      "outputs": [
        {
          "output_type": "stream",
          "name": "stdout",
          "text": [
            "3\n"
          ]
        }
      ]
    },
    {
      "cell_type": "code",
      "source": [
        "array.clear()\n",
        "print(array)"
      ],
      "metadata": {
        "colab": {
          "base_uri": "https://localhost:8080/"
        },
        "id": "1eHZb-CRYtnH",
        "outputId": "8947526a-478f-41b3-9795-d90d61abfddd"
      },
      "execution_count": null,
      "outputs": [
        {
          "output_type": "stream",
          "name": "stdout",
          "text": [
            "[]\n"
          ]
        }
      ]
    },
    {
      "cell_type": "code",
      "source": [
        "array = [1, 'texto', 1.3, True]\n",
        "print(1 in array)\n",
        "print(False not in array)"
      ],
      "metadata": {
        "colab": {
          "base_uri": "https://localhost:8080/"
        },
        "id": "uUj8aqZmY2WX",
        "outputId": "069fe55c-0ba7-4d38-f66a-75bad7425b44"
      },
      "execution_count": null,
      "outputs": [
        {
          "output_type": "stream",
          "name": "stdout",
          "text": [
            "True\n",
            "True\n"
          ]
        }
      ]
    },
    {
      "cell_type": "code",
      "source": [
        "lista = [5, 6, 7, 2, 3, 4, 7]\n",
        "teste = lista.count(7)\n",
        "print(teste)"
      ],
      "metadata": {
        "colab": {
          "base_uri": "https://localhost:8080/"
        },
        "id": "WpoflCDzZH2n",
        "outputId": "30f96442-1f80-41d3-e679-2d69f8ee7197"
      },
      "execution_count": null,
      "outputs": [
        {
          "output_type": "stream",
          "name": "stdout",
          "text": [
            "2\n"
          ]
        }
      ]
    },
    {
      "cell_type": "code",
      "source": [
        "lista = [5, 6, 7, 2, 3, 4, 7]\n",
        "pos = lista.index(5)\n",
        "print(pos)"
      ],
      "metadata": {
        "colab": {
          "base_uri": "https://localhost:8080/"
        },
        "id": "qEBguH7CZiAP",
        "outputId": "df3291d6-203a-41ce-9093-8797ea22d4a9"
      },
      "execution_count": null,
      "outputs": [
        {
          "output_type": "stream",
          "name": "stdout",
          "text": [
            "0\n"
          ]
        }
      ]
    },
    {
      "cell_type": "code",
      "source": [
        "array1 = [1, 2, 3]\n",
        "array2 = [3, 4, 5]\n",
        "soma = array1 + array2\n",
        "print(soma)"
      ],
      "metadata": {
        "colab": {
          "base_uri": "https://localhost:8080/"
        },
        "id": "9lfvBP6PZwd_",
        "outputId": "a7d66d72-7059-41f9-bea4-e3c4b18e9f50"
      },
      "execution_count": null,
      "outputs": [
        {
          "output_type": "stream",
          "name": "stdout",
          "text": [
            "[1, 2, 3, 3, 4, 5]\n"
          ]
        }
      ]
    },
    {
      "cell_type": "code",
      "source": [
        "array1 = [1, 2, 3]\n",
        "mult = array1 * 3\n",
        "print(mult)"
      ],
      "metadata": {
        "colab": {
          "base_uri": "https://localhost:8080/"
        },
        "id": "LNkyKcyeaR_H",
        "outputId": "04d7dcd8-adfb-41c7-d2b1-79e641629cdd"
      },
      "execution_count": null,
      "outputs": [
        {
          "output_type": "stream",
          "name": "stdout",
          "text": [
            "[1, 2, 3, 1, 2, 3, 1, 2, 3]\n"
          ]
        }
      ]
    },
    {
      "cell_type": "code",
      "source": [
        "numeros = ['um', 'dois', 'tres']\n",
        "x,y,_ = numeros\n",
        "print(x)\n",
        "print(y)\n"
      ],
      "metadata": {
        "colab": {
          "base_uri": "https://localhost:8080/"
        },
        "id": "QujwqKi4akme",
        "outputId": "544c4264-5ebc-47bb-e7f0-b52204fc7191"
      },
      "execution_count": null,
      "outputs": [
        {
          "output_type": "stream",
          "name": "stdout",
          "text": [
            "um\n",
            "dois\n"
          ]
        }
      ]
    },
    {
      "cell_type": "code",
      "source": [
        "cores = ['azul', 'preto', 'amarelo']\n",
        "for cor in cores:\n",
        "  print(cor)"
      ],
      "metadata": {
        "colab": {
          "base_uri": "https://localhost:8080/"
        },
        "id": "OF2zvoXPa2zm",
        "outputId": "386553d7-e9cf-46c5-998c-39e5c33a82ee"
      },
      "execution_count": null,
      "outputs": [
        {
          "output_type": "stream",
          "name": "stdout",
          "text": [
            "azul\n",
            "preto\n",
            "amarelo\n"
          ]
        }
      ]
    },
    {
      "cell_type": "code",
      "source": [
        "cores = ['azul', 'preto', 'amarelo']\n",
        "for i in (range(0, len(cores))):\n",
        "  print(cores[i])"
      ],
      "metadata": {
        "colab": {
          "base_uri": "https://localhost:8080/"
        },
        "id": "hL2lEoEGbUW-",
        "outputId": "0f43e309-93e0-4da6-c118-59ed18d06705"
      },
      "execution_count": null,
      "outputs": [
        {
          "output_type": "stream",
          "name": "stdout",
          "text": [
            "azul\n",
            "preto\n",
            "amarelo\n"
          ]
        }
      ]
    },
    {
      "cell_type": "code",
      "source": [
        "cores = ['azul', 'preto', 'amarelo']\n",
        "indice = 0\n",
        "while indice < len(cores):\n",
        "  print(cores[indice])\n",
        "  indice += 1"
      ],
      "metadata": {
        "colab": {
          "base_uri": "https://localhost:8080/"
        },
        "id": "2T7DCSx3bnx2",
        "outputId": "3d3be829-9324-4a88-8363-5e9e13c23057"
      },
      "execution_count": null,
      "outputs": [
        {
          "output_type": "stream",
          "name": "stdout",
          "text": [
            "azul\n",
            "preto\n",
            "amarelo\n"
          ]
        }
      ]
    },
    {
      "cell_type": "code",
      "source": [
        "lista = [[1,2,3],[4,5,6]]\n",
        "primeira_lista = lista[0]\n",
        "segunda_lista = lista[1]\n",
        "print(primeira_lista)\n",
        "print(segunda_lista)\n",
        "primeiro_elemento_primeira_lista = lista[0][0]\n",
        "print(primeiro_elemento_primeira_lista)\n",
        "segundo_elemento_segunda_lista = lista[1][1]\n",
        "print(segundo_elemento_segunda_lista)"
      ],
      "metadata": {
        "colab": {
          "base_uri": "https://localhost:8080/"
        },
        "id": "wu41Ce3_cEDX",
        "outputId": "8f20aeb6-53df-4e2b-e379-ca9947e8765e"
      },
      "execution_count": null,
      "outputs": [
        {
          "output_type": "stream",
          "name": "stdout",
          "text": [
            "[1, 2, 3]\n",
            "[4, 5, 6]\n",
            "1\n",
            "5\n"
          ]
        }
      ]
    },
    {
      "cell_type": "markdown",
      "source": [
        "# Set"
      ],
      "metadata": {
        "id": "gcEvH-iIdUR6"
      }
    },
    {
      "cell_type": "code",
      "source": [
        "lista_set = {}\n",
        "lista2_set = {1,2,3}\n",
        "lista3_set = set({1,2,3})\n",
        "print(lista_set)\n",
        "print(lista2_set)\n",
        "print(lista3_set)"
      ],
      "metadata": {
        "id": "Txd1xn4ccxK3",
        "colab": {
          "base_uri": "https://localhost:8080/"
        },
        "outputId": "8352e29d-b9ae-4c44-9c95-3938d943eeef"
      },
      "execution_count": 1,
      "outputs": [
        {
          "output_type": "stream",
          "name": "stdout",
          "text": [
            "{}\n",
            "{1, 2, 3}\n",
            "{1, 2, 3}\n"
          ]
        }
      ]
    },
    {
      "cell_type": "code",
      "source": [
        "lista2_set = {1,2,3}\n",
        "lista2_set[0]"
      ],
      "metadata": {
        "id": "BaW76j3NrAOS"
      },
      "execution_count": null,
      "outputs": []
    },
    {
      "cell_type": "code",
      "source": [
        "lista2_set = {1,2,3}\n",
        "lista2_set[0] = 2"
      ],
      "metadata": {
        "id": "bE8Cnn7UrKdU"
      },
      "execution_count": null,
      "outputs": []
    },
    {
      "cell_type": "code",
      "source": [
        "lista_set = {1,2,3}\n",
        "lista_set.add(5)\n",
        "print(lista_set)\n",
        "lista_set.remove(1)\n",
        "print(lista_set)"
      ],
      "metadata": {
        "colab": {
          "base_uri": "https://localhost:8080/"
        },
        "id": "aovJz_OzrV6N",
        "outputId": "30b20099-86f2-4c95-ebb1-becce4de60e5"
      },
      "execution_count": 5,
      "outputs": [
        {
          "output_type": "stream",
          "name": "stdout",
          "text": [
            "{1, 2, 3, 5}\n",
            "{2, 3, 5}\n"
          ]
        }
      ]
    },
    {
      "cell_type": "code",
      "source": [
        "lista_set = {1,2,2,3}\n",
        "lista_set.add(1)\n",
        "print(lista_set)"
      ],
      "metadata": {
        "colab": {
          "base_uri": "https://localhost:8080/"
        },
        "id": "bgBT0CytrhLx",
        "outputId": "5dcd626a-c46e-4930-9032-de7333f14c82"
      },
      "execution_count": 8,
      "outputs": [
        {
          "output_type": "stream",
          "name": "stdout",
          "text": [
            "{1, 2, 3}\n"
          ]
        }
      ]
    },
    {
      "cell_type": "code",
      "source": [
        "lista_set = {1,2,3,4}\n",
        "lista_set.clear()\n",
        "print(lista_set)"
      ],
      "metadata": {
        "colab": {
          "base_uri": "https://localhost:8080/"
        },
        "id": "7IMi7tQjry-P",
        "outputId": "af12c758-c32b-4805-808f-c045584a0511"
      },
      "execution_count": 9,
      "outputs": [
        {
          "output_type": "stream",
          "name": "stdout",
          "text": [
            "set()\n"
          ]
        }
      ]
    },
    {
      "cell_type": "code",
      "source": [
        "lista_set = {1,2,3,4}\n",
        "print(len(lista_set))"
      ],
      "metadata": {
        "colab": {
          "base_uri": "https://localhost:8080/"
        },
        "id": "o4FihOa1sE2_",
        "outputId": "df30e27c-4f71-4257-a5f8-f9b933d47070"
      },
      "execution_count": 10,
      "outputs": [
        {
          "output_type": "stream",
          "name": "stdout",
          "text": [
            "4\n"
          ]
        }
      ]
    },
    {
      "cell_type": "code",
      "source": [
        "lista_set = {1,2,3,4}\n",
        "print(5 in lista_set)"
      ],
      "metadata": {
        "colab": {
          "base_uri": "https://localhost:8080/"
        },
        "id": "biv0Zb7xsNGF",
        "outputId": "6bc8fb2f-529b-4762-e7c7-623ad1d342bc"
      },
      "execution_count": 12,
      "outputs": [
        {
          "output_type": "stream",
          "name": "stdout",
          "text": [
            "False\n"
          ]
        }
      ]
    },
    {
      "cell_type": "code",
      "source": [
        "lista_set = {0,2,3,\"4\", False, 3.45}\n",
        "for item in lista_set:\n",
        "  print(item)\n"
      ],
      "metadata": {
        "colab": {
          "base_uri": "https://localhost:8080/"
        },
        "id": "wiPFF5husTJo",
        "outputId": "cc9f43c4-8570-4202-ce02-d9a6beacd63c"
      },
      "execution_count": 17,
      "outputs": [
        {
          "output_type": "stream",
          "name": "stdout",
          "text": [
            "0\n",
            "2\n",
            "3\n",
            "3.45\n",
            "4\n"
          ]
        }
      ]
    },
    {
      "cell_type": "code",
      "source": [
        "set1 = {1,2,3}\n",
        "set2 = {1,2,3,4}\n",
        "set_unido = set1.union(set2)\n",
        "print(set_unido)"
      ],
      "metadata": {
        "colab": {
          "base_uri": "https://localhost:8080/"
        },
        "id": "X7cwcCEJsvl3",
        "outputId": "7500595f-1358-4a57-eecb-841498eba32f"
      },
      "execution_count": 18,
      "outputs": [
        {
          "output_type": "stream",
          "name": "stdout",
          "text": [
            "{1, 2, 3, 4}\n"
          ]
        }
      ]
    },
    {
      "cell_type": "code",
      "source": [
        "set1 = {1,2,3}\n",
        "set2 = {3,4,5,6}\n",
        "set_unido = set1.union(set2)\n",
        "print(set_unido)"
      ],
      "metadata": {
        "colab": {
          "base_uri": "https://localhost:8080/"
        },
        "id": "73wJOxAUtbz2",
        "outputId": "b8c65297-4079-4c1b-ab88-7e64796961bb"
      },
      "execution_count": 20,
      "outputs": [
        {
          "output_type": "stream",
          "name": "stdout",
          "text": [
            "{1, 2, 3, 4, 5, 6}\n"
          ]
        }
      ]
    },
    {
      "cell_type": "code",
      "source": [
        "set1 = {1,2,3}\n",
        "set2 = {1,2,3,4}\n",
        "set_inser = set1.intersection(set2)\n",
        "print(set_inser)"
      ],
      "metadata": {
        "colab": {
          "base_uri": "https://localhost:8080/"
        },
        "id": "wg2WFqLntovw",
        "outputId": "e847ad7b-98de-4859-d514-e729c6fb00fb"
      },
      "execution_count": 21,
      "outputs": [
        {
          "output_type": "stream",
          "name": "stdout",
          "text": [
            "{1, 2, 3}\n"
          ]
        }
      ]
    },
    {
      "cell_type": "code",
      "source": [
        "set1 = {1,2,3}\n",
        "set2 = {1,2,3,4}\n",
        "set_dif = set2.difference(set1)\n",
        "print(set_dif)"
      ],
      "metadata": {
        "colab": {
          "base_uri": "https://localhost:8080/"
        },
        "id": "OxagC43Gt8D4",
        "outputId": "0887f597-9d0e-434c-e2f3-a8d3b3d800bf"
      },
      "execution_count": 23,
      "outputs": [
        {
          "output_type": "stream",
          "name": "stdout",
          "text": [
            "{4}\n"
          ]
        }
      ]
    },
    {
      "cell_type": "markdown",
      "source": [
        "# Tuple\n"
      ],
      "metadata": {
        "id": "Lhbotmfzu6C-"
      }
    },
    {
      "cell_type": "code",
      "source": [
        "#doces = tuple(('chocolate', 'bombom', 'paçoca'))\n",
        "doces = ('chocolate', 'bombom', 'paçoca')\n",
        "print(doces)"
      ],
      "metadata": {
        "colab": {
          "base_uri": "https://localhost:8080/"
        },
        "id": "MXPuPE1juPcl",
        "outputId": "ab2fb9da-265f-4c17-fc12-1481db4c892b"
      },
      "execution_count": 26,
      "outputs": [
        {
          "output_type": "stream",
          "name": "stdout",
          "text": [
            "('chocolate', 'bombom', 'paçoca')\n"
          ]
        }
      ]
    },
    {
      "cell_type": "code",
      "source": [
        "nums = ('1','2','3')\n",
        "print(len(nums))"
      ],
      "metadata": {
        "colab": {
          "base_uri": "https://localhost:8080/"
        },
        "id": "UIrl1tz9vUG6",
        "outputId": "b6d78ae2-15ee-4424-fe92-72bede1bd93c"
      },
      "execution_count": 27,
      "outputs": [
        {
          "output_type": "stream",
          "name": "stdout",
          "text": [
            "3\n"
          ]
        }
      ]
    },
    {
      "cell_type": "code",
      "source": [
        "nums = ('1','2','3')\n",
        "print(nums[2])"
      ],
      "metadata": {
        "colab": {
          "base_uri": "https://localhost:8080/"
        },
        "id": "2UZXnf1Zvral",
        "outputId": "597e4bd3-9dbc-462b-d810-e0af66c16af7"
      },
      "execution_count": 28,
      "outputs": [
        {
          "output_type": "stream",
          "name": "stdout",
          "text": [
            "3\n"
          ]
        }
      ]
    },
    {
      "cell_type": "code",
      "source": [
        "nums = (1,2,3,4,5,6,7,8)\n",
        "sub_tupla = nums[2:4]\n",
        "print(sub_tupla)\n"
      ],
      "metadata": {
        "colab": {
          "base_uri": "https://localhost:8080/"
        },
        "id": "9-nP2oabvxGf",
        "outputId": "e6ed5932-402c-4c36-ee91-e7e23188c6e3"
      },
      "execution_count": 29,
      "outputs": [
        {
          "output_type": "stream",
          "name": "stdout",
          "text": [
            "(3, 4)\n"
          ]
        }
      ]
    },
    {
      "cell_type": "code",
      "source": [
        "nums = (1,2,3,4,5,6,7,8)\n",
        "print(9 in nums)"
      ],
      "metadata": {
        "colab": {
          "base_uri": "https://localhost:8080/"
        },
        "id": "O54TyvDAv7_h",
        "outputId": "b0db5986-5d22-4209-e960-8cbfa4d01556"
      },
      "execution_count": 31,
      "outputs": [
        {
          "output_type": "stream",
          "name": "stdout",
          "text": [
            "False\n"
          ]
        }
      ]
    },
    {
      "cell_type": "code",
      "source": [
        "tupla = tuple((20,10,40))\n",
        "tupla[0] = 20"
      ],
      "metadata": {
        "id": "A1SeRxxowGkh"
      },
      "execution_count": null,
      "outputs": []
    },
    {
      "cell_type": "code",
      "source": [
        "tupla = (6,7,8,9,10,6,6)\n",
        "print(tupla.count(6))"
      ],
      "metadata": {
        "colab": {
          "base_uri": "https://localhost:8080/"
        },
        "id": "0Ml_wl8hwV9G",
        "outputId": "67279479-cfbe-4cb0-f7bf-caaad8ccf071"
      },
      "execution_count": 34,
      "outputs": [
        {
          "output_type": "stream",
          "name": "stdout",
          "text": [
            "3\n"
          ]
        }
      ]
    },
    {
      "cell_type": "code",
      "source": [
        "tupla = (5,'3', True, 7234)\n",
        "pos = tupla.index('3')\n",
        "print(pos)"
      ],
      "metadata": {
        "colab": {
          "base_uri": "https://localhost:8080/"
        },
        "id": "mwN_RZJnwoo3",
        "outputId": "e06f3774-9773-4a12-978c-276078360261"
      },
      "execution_count": 35,
      "outputs": [
        {
          "output_type": "stream",
          "name": "stdout",
          "text": [
            "1\n"
          ]
        }
      ]
    },
    {
      "cell_type": "code",
      "source": [
        "tupla = (5,'3', True, 7234)\n",
        "for x in tupla:\n",
        "  print(x)"
      ],
      "metadata": {
        "colab": {
          "base_uri": "https://localhost:8080/"
        },
        "id": "_uXC3Ax7w3A0",
        "outputId": "0d44eaae-66ef-4b55-f44e-8ad1de6e6bb7"
      },
      "execution_count": 36,
      "outputs": [
        {
          "output_type": "stream",
          "name": "stdout",
          "text": [
            "5\n",
            "3\n",
            "True\n",
            "7234\n"
          ]
        }
      ]
    },
    {
      "cell_type": "code",
      "source": [
        "tupla = (5,'3', True, 7234)\n",
        "for i in range(0, len(tupla)):\n",
        "  print(tupla[i])"
      ],
      "metadata": {
        "colab": {
          "base_uri": "https://localhost:8080/"
        },
        "id": "w_JBYs8ixAZG",
        "outputId": "a5928cae-a5c4-4b43-814b-8a85692c15be"
      },
      "execution_count": 37,
      "outputs": [
        {
          "output_type": "stream",
          "name": "stdout",
          "text": [
            "5\n",
            "3\n",
            "True\n",
            "7234\n"
          ]
        }
      ]
    },
    {
      "cell_type": "code",
      "source": [
        "tupla = (5,'3', True, 7234)\n",
        "indice = 0\n",
        "while (indice < len(tupla)):\n",
        "  print(tupla[indice])\n",
        "  indice +=1"
      ],
      "metadata": {
        "colab": {
          "base_uri": "https://localhost:8080/"
        },
        "id": "9GtC790GxK-J",
        "outputId": "8c752d01-a2eb-4c90-8c14-dc7be3a3545a"
      },
      "execution_count": 38,
      "outputs": [
        {
          "output_type": "stream",
          "name": "stdout",
          "text": [
            "5\n",
            "3\n",
            "True\n",
            "7234\n"
          ]
        }
      ]
    },
    {
      "cell_type": "code",
      "source": [
        "numeros_set = (1,2,3)\n",
        "numeros_lista = list(numeros_set)\n",
        "numeros_lista[0] = 12\n",
        "numeros_lista.append(\"Fim\")\n",
        "numeros_set = tuple(numeros_lista)\n",
        "print(numeros_set)"
      ],
      "metadata": {
        "colab": {
          "base_uri": "https://localhost:8080/"
        },
        "id": "slWigwNxxczg",
        "outputId": "f042723e-5d10-47d2-abe0-a419f4f36125"
      },
      "execution_count": 40,
      "outputs": [
        {
          "output_type": "stream",
          "name": "stdout",
          "text": [
            "(12, 2, 3, 'Fim')\n"
          ]
        }
      ]
    },
    {
      "cell_type": "code",
      "source": [],
      "metadata": {
        "id": "IBNaG8RhyHGJ"
      },
      "execution_count": null,
      "outputs": []
    }
  ]
}