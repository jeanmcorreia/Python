{
  "nbformat": 4,
  "nbformat_minor": 0,
  "metadata": {
    "colab": {
      "provenance": [],
      "authorship_tag": "ABX9TyN3QK5CWXnVpPQOlGTQ6913",
      "include_colab_link": true
    },
    "kernelspec": {
      "name": "python3",
      "display_name": "Python 3"
    },
    "language_info": {
      "name": "python"
    }
  },
  "cells": [
    {
      "cell_type": "markdown",
      "metadata": {
        "id": "view-in-github",
        "colab_type": "text"
      },
      "source": [
        "<a href=\"https://colab.research.google.com/github/jeanmcorreia/Python/blob/main/4_Listas.ipynb\" target=\"_parent\"><img src=\"https://colab.research.google.com/assets/colab-badge.svg\" alt=\"Open In Colab\"/></a>"
      ]
    },
    {
      "cell_type": "markdown",
      "source": [
        "# List"
      ],
      "metadata": {
        "id": "M7LWd3DXYPdR"
      }
    },
    {
      "cell_type": "code",
      "execution_count": null,
      "metadata": {
        "id": "uCNCtiXwzRyM",
        "colab": {
          "base_uri": "https://localhost:8080/"
        },
        "outputId": "9167ee27-c333-4707-e779-05de6ef49cb3"
      },
      "outputs": [
        {
          "output_type": "stream",
          "name": "stdout",
          "text": [
            "[]\n",
            "[1, 2, 3]\n",
            "[5.3, -2.2, 0.5]\n",
            "['a', 'b', 'c']\n",
            "[2, 2.3, 'abc']\n"
          ]
        }
      ],
      "source": [
        "array = []\n",
        "array = list()\n",
        "\n",
        "array_numeros = [1,2,3]\n",
        "array_floats = [5.3, -2.2, 0.5]\n",
        "array_str = [\"a\", \"b\", \"c\"]\n",
        "array_misto = [2,2.3,\"abc\"]\n",
        "print(array)\n",
        "print(array_numeros)\n",
        "print(array_floats)\n",
        "print(array_str)\n",
        "print(array_misto)"
      ]
    },
    {
      "cell_type": "code",
      "source": [
        "color = [1,2,\n",
        "         3,\n",
        "         4,5]\n",
        "print(color)"
      ],
      "metadata": {
        "colab": {
          "base_uri": "https://localhost:8080/"
        },
        "id": "PsjBVoXXZIH_",
        "outputId": "ecf8b2dd-2293-4d0d-c48f-dd76c0b5ce7b"
      },
      "execution_count": null,
      "outputs": [
        {
          "output_type": "stream",
          "name": "stdout",
          "text": [
            "[1, 2, 3, 4, 5]\n"
          ]
        }
      ]
    },
    {
      "cell_type": "code",
      "source": [
        "array = list([1,2,3])\n",
        "print(array)\n",
        "primeiro_elemento = array[0]\n",
        "print(primeiro_elemento)\n",
        "array[0] = 20\n",
        "primeiro_elemento = array[0]\n",
        "print(primeiro_elemento)\n",
        "print(array[-1])\n",
        "print(array)"
      ],
      "metadata": {
        "colab": {
          "base_uri": "https://localhost:8080/"
        },
        "id": "F1NKzOyIaBGF",
        "outputId": "54b98806-bdd7-4b46-b6f9-91fd7a4a77d9"
      },
      "execution_count": null,
      "outputs": [
        {
          "output_type": "stream",
          "name": "stdout",
          "text": [
            "[1, 2, 3]\n",
            "1\n",
            "20\n",
            "3\n",
            "[20, 2, 3]\n"
          ]
        }
      ]
    },
    {
      "cell_type": "code",
      "source": [
        "array = [1, \"texto\", 3]\n",
        "print(array[1:3])"
      ],
      "metadata": {
        "id": "EbHXpg9QaQk0",
        "colab": {
          "base_uri": "https://localhost:8080/"
        },
        "outputId": "18734e5a-ab79-460f-e267-0ad3184c5596"
      },
      "execution_count": null,
      "outputs": [
        {
          "output_type": "stream",
          "name": "stdout",
          "text": [
            "['texto', 3]\n"
          ]
        }
      ]
    },
    {
      "cell_type": "code",
      "source": [
        "array = [10, 2, 3]\n",
        "print(array)\n",
        "array.append(2)\n",
        "print(array)\n",
        "array.insert(2, \"4\")\n",
        "print(array)"
      ],
      "metadata": {
        "colab": {
          "base_uri": "https://localhost:8080/"
        },
        "id": "IciSFNO6U49a",
        "outputId": "97e640e4-b4ff-4a1b-c879-80d35e4e8cde"
      },
      "execution_count": null,
      "outputs": [
        {
          "output_type": "stream",
          "name": "stdout",
          "text": [
            "[10, 2, 3]\n",
            "[10, 2, 3, 2]\n",
            "[10, 2, '4', 3, 2]\n"
          ]
        }
      ]
    },
    {
      "cell_type": "code",
      "source": [
        "array = [10, 2, 3, 20, \"3\"]\n",
        "array.remove(10)\n",
        "print(array)\n",
        "array.pop(2)\n",
        "print(array)"
      ],
      "metadata": {
        "colab": {
          "base_uri": "https://localhost:8080/"
        },
        "id": "IhRqiEmiXp85",
        "outputId": "90ce165d-44c7-497a-b887-d27b3831c99f"
      },
      "execution_count": null,
      "outputs": [
        {
          "output_type": "stream",
          "name": "stdout",
          "text": [
            "[2, 3, 20, '3']\n",
            "[2, 3, '3']\n"
          ]
        }
      ]
    },
    {
      "cell_type": "code",
      "source": [
        "print(len(array))"
      ],
      "metadata": {
        "colab": {
          "base_uri": "https://localhost:8080/"
        },
        "id": "zFSZOHEtYcN4",
        "outputId": "6c62fe5e-40e0-429c-aad0-77708617de35"
      },
      "execution_count": null,
      "outputs": [
        {
          "output_type": "stream",
          "name": "stdout",
          "text": [
            "3\n"
          ]
        }
      ]
    },
    {
      "cell_type": "code",
      "source": [
        "array.clear()\n",
        "print(array)"
      ],
      "metadata": {
        "colab": {
          "base_uri": "https://localhost:8080/"
        },
        "id": "1eHZb-CRYtnH",
        "outputId": "8947526a-478f-41b3-9795-d90d61abfddd"
      },
      "execution_count": null,
      "outputs": [
        {
          "output_type": "stream",
          "name": "stdout",
          "text": [
            "[]\n"
          ]
        }
      ]
    },
    {
      "cell_type": "code",
      "source": [
        "array = [1, 'texto', 1.3, True]\n",
        "print(1 in array)\n",
        "print(False not in array)"
      ],
      "metadata": {
        "colab": {
          "base_uri": "https://localhost:8080/"
        },
        "id": "uUj8aqZmY2WX",
        "outputId": "069fe55c-0ba7-4d38-f66a-75bad7425b44"
      },
      "execution_count": null,
      "outputs": [
        {
          "output_type": "stream",
          "name": "stdout",
          "text": [
            "True\n",
            "True\n"
          ]
        }
      ]
    },
    {
      "cell_type": "code",
      "source": [
        "lista = [5, 6, 7, 2, 3, 4, 7]\n",
        "teste = lista.count(7)\n",
        "print(teste)"
      ],
      "metadata": {
        "colab": {
          "base_uri": "https://localhost:8080/"
        },
        "id": "WpoflCDzZH2n",
        "outputId": "30f96442-1f80-41d3-e679-2d69f8ee7197"
      },
      "execution_count": null,
      "outputs": [
        {
          "output_type": "stream",
          "name": "stdout",
          "text": [
            "2\n"
          ]
        }
      ]
    },
    {
      "cell_type": "code",
      "source": [
        "lista = [5, 6, 7, 2, 3, 4, 7]\n",
        "pos = lista.index(5)\n",
        "print(pos)"
      ],
      "metadata": {
        "colab": {
          "base_uri": "https://localhost:8080/"
        },
        "id": "qEBguH7CZiAP",
        "outputId": "df3291d6-203a-41ce-9093-8797ea22d4a9"
      },
      "execution_count": null,
      "outputs": [
        {
          "output_type": "stream",
          "name": "stdout",
          "text": [
            "0\n"
          ]
        }
      ]
    },
    {
      "cell_type": "code",
      "source": [
        "array1 = [1, 2, 3]\n",
        "array2 = [3, 4, 5]\n",
        "soma = array1 + array2\n",
        "print(soma)"
      ],
      "metadata": {
        "colab": {
          "base_uri": "https://localhost:8080/"
        },
        "id": "9lfvBP6PZwd_",
        "outputId": "a7d66d72-7059-41f9-bea4-e3c4b18e9f50"
      },
      "execution_count": null,
      "outputs": [
        {
          "output_type": "stream",
          "name": "stdout",
          "text": [
            "[1, 2, 3, 3, 4, 5]\n"
          ]
        }
      ]
    },
    {
      "cell_type": "code",
      "source": [
        "array1 = [1, 2, 3]\n",
        "mult = array1 * 3\n",
        "print(mult)"
      ],
      "metadata": {
        "colab": {
          "base_uri": "https://localhost:8080/"
        },
        "id": "LNkyKcyeaR_H",
        "outputId": "04d7dcd8-adfb-41c7-d2b1-79e641629cdd"
      },
      "execution_count": null,
      "outputs": [
        {
          "output_type": "stream",
          "name": "stdout",
          "text": [
            "[1, 2, 3, 1, 2, 3, 1, 2, 3]\n"
          ]
        }
      ]
    },
    {
      "cell_type": "code",
      "source": [
        "numeros = ['um', 'dois', 'tres']\n",
        "x,y,_ = numeros\n",
        "print(x)\n",
        "print(y)\n"
      ],
      "metadata": {
        "colab": {
          "base_uri": "https://localhost:8080/"
        },
        "id": "QujwqKi4akme",
        "outputId": "544c4264-5ebc-47bb-e7f0-b52204fc7191"
      },
      "execution_count": null,
      "outputs": [
        {
          "output_type": "stream",
          "name": "stdout",
          "text": [
            "um\n",
            "dois\n"
          ]
        }
      ]
    },
    {
      "cell_type": "code",
      "source": [
        "cores = ['azul', 'preto', 'amarelo']\n",
        "for cor in cores:\n",
        "  print(cor)"
      ],
      "metadata": {
        "colab": {
          "base_uri": "https://localhost:8080/"
        },
        "id": "OF2zvoXPa2zm",
        "outputId": "386553d7-e9cf-46c5-998c-39e5c33a82ee"
      },
      "execution_count": null,
      "outputs": [
        {
          "output_type": "stream",
          "name": "stdout",
          "text": [
            "azul\n",
            "preto\n",
            "amarelo\n"
          ]
        }
      ]
    },
    {
      "cell_type": "code",
      "source": [
        "cores = ['azul', 'preto', 'amarelo']\n",
        "for i in (range(0, len(cores))):\n",
        "  print(cores[i])"
      ],
      "metadata": {
        "colab": {
          "base_uri": "https://localhost:8080/"
        },
        "id": "hL2lEoEGbUW-",
        "outputId": "0f43e309-93e0-4da6-c118-59ed18d06705"
      },
      "execution_count": null,
      "outputs": [
        {
          "output_type": "stream",
          "name": "stdout",
          "text": [
            "azul\n",
            "preto\n",
            "amarelo\n"
          ]
        }
      ]
    },
    {
      "cell_type": "code",
      "source": [
        "cores = ['azul', 'preto', 'amarelo']\n",
        "indice = 0\n",
        "while indice < len(cores):\n",
        "  print(cores[indice])\n",
        "  indice += 1"
      ],
      "metadata": {
        "colab": {
          "base_uri": "https://localhost:8080/"
        },
        "id": "2T7DCSx3bnx2",
        "outputId": "3d3be829-9324-4a88-8363-5e9e13c23057"
      },
      "execution_count": null,
      "outputs": [
        {
          "output_type": "stream",
          "name": "stdout",
          "text": [
            "azul\n",
            "preto\n",
            "amarelo\n"
          ]
        }
      ]
    },
    {
      "cell_type": "code",
      "source": [
        "lista = [[1,2,3],[4,5,6]]\n",
        "primeira_lista = lista[0]\n",
        "segunda_lista = lista[1]\n",
        "print(primeira_lista)\n",
        "print(segunda_lista)\n",
        "primeiro_elemento_primeira_lista = lista[0][0]\n",
        "print(primeiro_elemento_primeira_lista)\n",
        "segundo_elemento_segunda_lista = lista[1][1]\n",
        "print(segundo_elemento_segunda_lista)"
      ],
      "metadata": {
        "colab": {
          "base_uri": "https://localhost:8080/"
        },
        "id": "wu41Ce3_cEDX",
        "outputId": "8f20aeb6-53df-4e2b-e379-ca9947e8765e"
      },
      "execution_count": null,
      "outputs": [
        {
          "output_type": "stream",
          "name": "stdout",
          "text": [
            "[1, 2, 3]\n",
            "[4, 5, 6]\n",
            "1\n",
            "5\n"
          ]
        }
      ]
    },
    {
      "cell_type": "markdown",
      "source": [
        "# Set"
      ],
      "metadata": {
        "id": "gcEvH-iIdUR6"
      }
    },
    {
      "cell_type": "code",
      "source": [
        "lista_set = {}\n",
        "lista2_set = {1,2,3}\n",
        "lista3_set = set({1,2,3})\n",
        "print(lista_set)\n",
        "print(lista2_set)\n",
        "print(lista3_set)"
      ],
      "metadata": {
        "id": "Txd1xn4ccxK3",
        "colab": {
          "base_uri": "https://localhost:8080/"
        },
        "outputId": "8352e29d-b9ae-4c44-9c95-3938d943eeef"
      },
      "execution_count": null,
      "outputs": [
        {
          "output_type": "stream",
          "name": "stdout",
          "text": [
            "{}\n",
            "{1, 2, 3}\n",
            "{1, 2, 3}\n"
          ]
        }
      ]
    },
    {
      "cell_type": "code",
      "source": [
        "lista2_set = {1,2,3}\n",
        "lista2_set[0]"
      ],
      "metadata": {
        "id": "BaW76j3NrAOS"
      },
      "execution_count": null,
      "outputs": []
    },
    {
      "cell_type": "code",
      "source": [
        "lista2_set = {1,2,3}\n",
        "lista2_set[0] = 2"
      ],
      "metadata": {
        "id": "bE8Cnn7UrKdU"
      },
      "execution_count": null,
      "outputs": []
    },
    {
      "cell_type": "code",
      "source": [
        "lista_set = {1,2,3}\n",
        "lista_set.add(5)\n",
        "print(lista_set)\n",
        "lista_set.remove(1)\n",
        "print(lista_set)"
      ],
      "metadata": {
        "colab": {
          "base_uri": "https://localhost:8080/"
        },
        "id": "aovJz_OzrV6N",
        "outputId": "30b20099-86f2-4c95-ebb1-becce4de60e5"
      },
      "execution_count": null,
      "outputs": [
        {
          "output_type": "stream",
          "name": "stdout",
          "text": [
            "{1, 2, 3, 5}\n",
            "{2, 3, 5}\n"
          ]
        }
      ]
    },
    {
      "cell_type": "code",
      "source": [
        "lista_set = {1,2,2,3}\n",
        "lista_set.add(1)\n",
        "print(lista_set)"
      ],
      "metadata": {
        "colab": {
          "base_uri": "https://localhost:8080/"
        },
        "id": "bgBT0CytrhLx",
        "outputId": "5dcd626a-c46e-4930-9032-de7333f14c82"
      },
      "execution_count": null,
      "outputs": [
        {
          "output_type": "stream",
          "name": "stdout",
          "text": [
            "{1, 2, 3}\n"
          ]
        }
      ]
    },
    {
      "cell_type": "code",
      "source": [
        "lista_set = {1,2,3,4}\n",
        "lista_set.clear()\n",
        "print(lista_set)"
      ],
      "metadata": {
        "colab": {
          "base_uri": "https://localhost:8080/"
        },
        "id": "7IMi7tQjry-P",
        "outputId": "af12c758-c32b-4805-808f-c045584a0511"
      },
      "execution_count": null,
      "outputs": [
        {
          "output_type": "stream",
          "name": "stdout",
          "text": [
            "set()\n"
          ]
        }
      ]
    },
    {
      "cell_type": "code",
      "source": [
        "lista_set = {1,2,3,4}\n",
        "print(len(lista_set))"
      ],
      "metadata": {
        "colab": {
          "base_uri": "https://localhost:8080/"
        },
        "id": "o4FihOa1sE2_",
        "outputId": "df30e27c-4f71-4257-a5f8-f9b933d47070"
      },
      "execution_count": null,
      "outputs": [
        {
          "output_type": "stream",
          "name": "stdout",
          "text": [
            "4\n"
          ]
        }
      ]
    },
    {
      "cell_type": "code",
      "source": [
        "lista_set = {1,2,3,4}\n",
        "print(5 in lista_set)"
      ],
      "metadata": {
        "colab": {
          "base_uri": "https://localhost:8080/"
        },
        "id": "biv0Zb7xsNGF",
        "outputId": "6bc8fb2f-529b-4762-e7c7-623ad1d342bc"
      },
      "execution_count": null,
      "outputs": [
        {
          "output_type": "stream",
          "name": "stdout",
          "text": [
            "False\n"
          ]
        }
      ]
    },
    {
      "cell_type": "code",
      "source": [
        "lista_set = {0,2,3,\"4\", False, 3.45}\n",
        "for item in lista_set:\n",
        "  print(item)\n"
      ],
      "metadata": {
        "colab": {
          "base_uri": "https://localhost:8080/"
        },
        "id": "wiPFF5husTJo",
        "outputId": "cc9f43c4-8570-4202-ce02-d9a6beacd63c"
      },
      "execution_count": null,
      "outputs": [
        {
          "output_type": "stream",
          "name": "stdout",
          "text": [
            "0\n",
            "2\n",
            "3\n",
            "3.45\n",
            "4\n"
          ]
        }
      ]
    },
    {
      "cell_type": "code",
      "source": [
        "set1 = {1,2,3}\n",
        "set2 = {1,2,3,4}\n",
        "set_unido = set1.union(set2)\n",
        "print(set_unido)"
      ],
      "metadata": {
        "colab": {
          "base_uri": "https://localhost:8080/"
        },
        "id": "X7cwcCEJsvl3",
        "outputId": "7500595f-1358-4a57-eecb-841498eba32f"
      },
      "execution_count": null,
      "outputs": [
        {
          "output_type": "stream",
          "name": "stdout",
          "text": [
            "{1, 2, 3, 4}\n"
          ]
        }
      ]
    },
    {
      "cell_type": "code",
      "source": [
        "set1 = {1,2,3}\n",
        "set2 = {3,4,5,6}\n",
        "set_unido = set1.union(set2)\n",
        "print(set_unido)"
      ],
      "metadata": {
        "colab": {
          "base_uri": "https://localhost:8080/"
        },
        "id": "73wJOxAUtbz2",
        "outputId": "b8c65297-4079-4c1b-ab88-7e64796961bb"
      },
      "execution_count": null,
      "outputs": [
        {
          "output_type": "stream",
          "name": "stdout",
          "text": [
            "{1, 2, 3, 4, 5, 6}\n"
          ]
        }
      ]
    },
    {
      "cell_type": "code",
      "source": [
        "set1 = {1,2,3}\n",
        "set2 = {1,2,3,4}\n",
        "set_inser = set1.intersection(set2)\n",
        "print(set_inser)"
      ],
      "metadata": {
        "colab": {
          "base_uri": "https://localhost:8080/"
        },
        "id": "wg2WFqLntovw",
        "outputId": "e847ad7b-98de-4859-d514-e729c6fb00fb"
      },
      "execution_count": null,
      "outputs": [
        {
          "output_type": "stream",
          "name": "stdout",
          "text": [
            "{1, 2, 3}\n"
          ]
        }
      ]
    },
    {
      "cell_type": "code",
      "source": [
        "set1 = {1,2,3}\n",
        "set2 = {1,2,3,4}\n",
        "set_dif = set2.difference(set1)\n",
        "print(set_dif)"
      ],
      "metadata": {
        "colab": {
          "base_uri": "https://localhost:8080/"
        },
        "id": "OxagC43Gt8D4",
        "outputId": "0887f597-9d0e-434c-e2f3-a8d3b3d800bf"
      },
      "execution_count": null,
      "outputs": [
        {
          "output_type": "stream",
          "name": "stdout",
          "text": [
            "{4}\n"
          ]
        }
      ]
    },
    {
      "cell_type": "markdown",
      "source": [
        "# Tuple\n"
      ],
      "metadata": {
        "id": "Lhbotmfzu6C-"
      }
    },
    {
      "cell_type": "code",
      "source": [
        "#doces = tuple(('chocolate', 'bombom', 'paçoca'))\n",
        "doces = ('chocolate', 'bombom', 'paçoca')\n",
        "print(doces)"
      ],
      "metadata": {
        "colab": {
          "base_uri": "https://localhost:8080/"
        },
        "id": "MXPuPE1juPcl",
        "outputId": "ab2fb9da-265f-4c17-fc12-1481db4c892b"
      },
      "execution_count": null,
      "outputs": [
        {
          "output_type": "stream",
          "name": "stdout",
          "text": [
            "('chocolate', 'bombom', 'paçoca')\n"
          ]
        }
      ]
    },
    {
      "cell_type": "code",
      "source": [
        "nums = ('1','2','3')\n",
        "print(len(nums))"
      ],
      "metadata": {
        "colab": {
          "base_uri": "https://localhost:8080/"
        },
        "id": "UIrl1tz9vUG6",
        "outputId": "b6d78ae2-15ee-4424-fe92-72bede1bd93c"
      },
      "execution_count": null,
      "outputs": [
        {
          "output_type": "stream",
          "name": "stdout",
          "text": [
            "3\n"
          ]
        }
      ]
    },
    {
      "cell_type": "code",
      "source": [
        "nums = ('1','2','3')\n",
        "print(nums[2])"
      ],
      "metadata": {
        "colab": {
          "base_uri": "https://localhost:8080/"
        },
        "id": "2UZXnf1Zvral",
        "outputId": "597e4bd3-9dbc-462b-d810-e0af66c16af7"
      },
      "execution_count": null,
      "outputs": [
        {
          "output_type": "stream",
          "name": "stdout",
          "text": [
            "3\n"
          ]
        }
      ]
    },
    {
      "cell_type": "code",
      "source": [
        "nums = (1,2,3,4,5,6,7,8)\n",
        "sub_tupla = nums[2:4]\n",
        "print(sub_tupla)\n"
      ],
      "metadata": {
        "colab": {
          "base_uri": "https://localhost:8080/"
        },
        "id": "9-nP2oabvxGf",
        "outputId": "e6ed5932-402c-4c36-ee91-e7e23188c6e3"
      },
      "execution_count": null,
      "outputs": [
        {
          "output_type": "stream",
          "name": "stdout",
          "text": [
            "(3, 4)\n"
          ]
        }
      ]
    },
    {
      "cell_type": "code",
      "source": [
        "nums = (1,2,3,4,5,6,7,8)\n",
        "print(9 in nums)"
      ],
      "metadata": {
        "colab": {
          "base_uri": "https://localhost:8080/"
        },
        "id": "O54TyvDAv7_h",
        "outputId": "b0db5986-5d22-4209-e960-8cbfa4d01556"
      },
      "execution_count": null,
      "outputs": [
        {
          "output_type": "stream",
          "name": "stdout",
          "text": [
            "False\n"
          ]
        }
      ]
    },
    {
      "cell_type": "code",
      "source": [
        "tupla = tuple((20,10,40))\n",
        "tupla[0] = 20"
      ],
      "metadata": {
        "id": "A1SeRxxowGkh"
      },
      "execution_count": null,
      "outputs": []
    },
    {
      "cell_type": "code",
      "source": [
        "tupla = (6,7,8,9,10,6,6)\n",
        "print(tupla.count(6))"
      ],
      "metadata": {
        "colab": {
          "base_uri": "https://localhost:8080/"
        },
        "id": "0Ml_wl8hwV9G",
        "outputId": "67279479-cfbe-4cb0-f7bf-caaad8ccf071"
      },
      "execution_count": null,
      "outputs": [
        {
          "output_type": "stream",
          "name": "stdout",
          "text": [
            "3\n"
          ]
        }
      ]
    },
    {
      "cell_type": "code",
      "source": [
        "tupla = (5,'3', True, 7234)\n",
        "pos = tupla.index('3')\n",
        "print(pos)"
      ],
      "metadata": {
        "colab": {
          "base_uri": "https://localhost:8080/"
        },
        "id": "mwN_RZJnwoo3",
        "outputId": "e06f3774-9773-4a12-978c-276078360261"
      },
      "execution_count": null,
      "outputs": [
        {
          "output_type": "stream",
          "name": "stdout",
          "text": [
            "1\n"
          ]
        }
      ]
    },
    {
      "cell_type": "code",
      "source": [
        "tupla = (5,'3', True, 7234)\n",
        "for x in tupla:\n",
        "  print(x)"
      ],
      "metadata": {
        "colab": {
          "base_uri": "https://localhost:8080/"
        },
        "id": "_uXC3Ax7w3A0",
        "outputId": "0d44eaae-66ef-4b55-f44e-8ad1de6e6bb7"
      },
      "execution_count": null,
      "outputs": [
        {
          "output_type": "stream",
          "name": "stdout",
          "text": [
            "5\n",
            "3\n",
            "True\n",
            "7234\n"
          ]
        }
      ]
    },
    {
      "cell_type": "code",
      "source": [
        "tupla = (5,'3', True, 7234)\n",
        "for i in range(0, len(tupla)):\n",
        "  print(tupla[i])"
      ],
      "metadata": {
        "colab": {
          "base_uri": "https://localhost:8080/"
        },
        "id": "w_JBYs8ixAZG",
        "outputId": "a5928cae-a5c4-4b43-814b-8a85692c15be"
      },
      "execution_count": null,
      "outputs": [
        {
          "output_type": "stream",
          "name": "stdout",
          "text": [
            "5\n",
            "3\n",
            "True\n",
            "7234\n"
          ]
        }
      ]
    },
    {
      "cell_type": "code",
      "source": [
        "tupla = (5,'3', True, 7234)\n",
        "indice = 0\n",
        "while (indice < len(tupla)):\n",
        "  print(tupla[indice])\n",
        "  indice +=1"
      ],
      "metadata": {
        "colab": {
          "base_uri": "https://localhost:8080/"
        },
        "id": "9GtC790GxK-J",
        "outputId": "8c752d01-a2eb-4c90-8c14-dc7be3a3545a"
      },
      "execution_count": null,
      "outputs": [
        {
          "output_type": "stream",
          "name": "stdout",
          "text": [
            "5\n",
            "3\n",
            "True\n",
            "7234\n"
          ]
        }
      ]
    },
    {
      "cell_type": "code",
      "source": [
        "numeros_set = (1,2,3)\n",
        "numeros_lista = list(numeros_set)\n",
        "numeros_lista[0] = 12\n",
        "numeros_lista.append(\"Fim\")\n",
        "numeros_set = tuple(numeros_lista)\n",
        "print(numeros_set)"
      ],
      "metadata": {
        "colab": {
          "base_uri": "https://localhost:8080/"
        },
        "id": "slWigwNxxczg",
        "outputId": "f042723e-5d10-47d2-abe0-a419f4f36125"
      },
      "execution_count": null,
      "outputs": [
        {
          "output_type": "stream",
          "name": "stdout",
          "text": [
            "(12, 2, 3, 'Fim')\n"
          ]
        }
      ]
    },
    {
      "cell_type": "markdown",
      "source": [
        "# Dictionaries"
      ],
      "metadata": {
        "id": "hURk_wY4ydFO"
      }
    },
    {
      "cell_type": "code",
      "source": [
        "idades = {'Ana':10 , 'maria':20, 'joao':34, 'fernando':\"indefenido\" }\n",
        "print(idades)"
      ],
      "metadata": {
        "colab": {
          "base_uri": "https://localhost:8080/"
        },
        "id": "IBNaG8RhyHGJ",
        "outputId": "64e302ac-a3b3-45a4-c9bc-e44e9873c7ea"
      },
      "execution_count": null,
      "outputs": [
        {
          "output_type": "stream",
          "name": "stdout",
          "text": [
            "{'Ana': 10, 'maria': 20, 'joao': 34, 'fernando': 'indefenido'}\n"
          ]
        }
      ]
    },
    {
      "cell_type": "code",
      "source": [
        "nome_numeros = { 7.1:'sete virgula um', 9.8:'nove virgula oito', 10.43:'dez virgula quarenta e tres'}\n",
        "print(nome_numeros)"
      ],
      "metadata": {
        "colab": {
          "base_uri": "https://localhost:8080/"
        },
        "id": "rylJuSLwziwQ",
        "outputId": "c20bc523-dcd4-48a3-db8e-efc5831c0e34"
      },
      "execution_count": null,
      "outputs": [
        {
          "output_type": "stream",
          "name": "stdout",
          "text": [
            "{7.1: 'sete virgula um', 9.8: 'nove virgula oito', 10.43: 'dez virgula quarenta e tres'}\n"
          ]
        }
      ]
    },
    {
      "cell_type": "code",
      "source": [
        "idades = {'Ana':10 , 'maria':20, 'joao':34, 'fernando':'indefenido' }\n",
        "print(idades['maria'])\n",
        "print(idades['fernando'])\n",
        "\n",
        "idades.get('fernando')"
      ],
      "metadata": {
        "colab": {
          "base_uri": "https://localhost:8080/",
          "height": 70
        },
        "id": "nVAAKYgUzx-N",
        "outputId": "3cfd9f58-6fe2-4abf-ca20-a0c33a2cb542"
      },
      "execution_count": null,
      "outputs": [
        {
          "output_type": "stream",
          "name": "stdout",
          "text": [
            "20\n",
            "indefenido\n"
          ]
        },
        {
          "output_type": "execute_result",
          "data": {
            "text/plain": [
              "'indefenido'"
            ],
            "application/vnd.google.colaboratory.intrinsic+json": {
              "type": "string"
            }
          },
          "metadata": {},
          "execution_count": 46
        }
      ]
    },
    {
      "cell_type": "code",
      "source": [
        "nome_numeros = {\n",
        "    7.1:'sete virgula um',\n",
        "    9.8:'nove virgula oito',\n",
        "    10.43:'dez virgula quarenta e tres'}\n",
        "\n",
        "print(nome_numeros[7.1])\n",
        "print(nome_numeros.get(10.43))\n"
      ],
      "metadata": {
        "colab": {
          "base_uri": "https://localhost:8080/"
        },
        "id": "shs0pvRI0TvU",
        "outputId": "c9008c1a-14ca-463b-fbba-dd4d0156eaa9"
      },
      "execution_count": null,
      "outputs": [
        {
          "output_type": "stream",
          "name": "stdout",
          "text": [
            "sete virgula um\n",
            "dez virgula quarenta e tres\n"
          ]
        }
      ]
    },
    {
      "cell_type": "code",
      "source": [
        "idades = {'Ana':10 , 'maria':20, 'joao':34, 'fernando':'indefenido' }\n",
        "print('Ana' in idades)\n",
        "print('roberto' not in idades)"
      ],
      "metadata": {
        "colab": {
          "base_uri": "https://localhost:8080/"
        },
        "id": "xv_ngrk90oMZ",
        "outputId": "ca208588-933b-41fc-cc36-99d05bc4dd23"
      },
      "execution_count": null,
      "outputs": [
        {
          "output_type": "stream",
          "name": "stdout",
          "text": [
            "True\n",
            "True\n"
          ]
        }
      ]
    },
    {
      "cell_type": "code",
      "source": [
        "idades = {'Ana':10 , 'maria':20, 'joao':34, 'fernando':'indefenido' }\n",
        "idades['maria'] = 30\n",
        "idades.update({'joao':40})\n",
        "print(idades)"
      ],
      "metadata": {
        "colab": {
          "base_uri": "https://localhost:8080/"
        },
        "id": "i3l_xBV804eY",
        "outputId": "e19495f8-8ede-4f3f-d7a4-41b03109f630"
      },
      "execution_count": null,
      "outputs": [
        {
          "output_type": "stream",
          "name": "stdout",
          "text": [
            "{'Ana': 10, 'maria': 30, 'joao': 40, 'fernando': 'indefenido'}\n"
          ]
        }
      ]
    },
    {
      "cell_type": "code",
      "source": [
        "idades = {'Ana':10 , 'maria':20, 'joao':34, 'fernando':'indefenido' }\n",
        "idades['marcos'] = 90\n",
        "idades.pop('Ana')\n",
        "print(idades)\n",
        "idades.popitem()\n",
        "print(idades)"
      ],
      "metadata": {
        "colab": {
          "base_uri": "https://localhost:8080/"
        },
        "id": "iWXeLdXP1OaR",
        "outputId": "e4f20ad6-3d21-4ec8-9469-3793a83394d9"
      },
      "execution_count": null,
      "outputs": [
        {
          "output_type": "stream",
          "name": "stdout",
          "text": [
            "{'maria': 20, 'joao': 34, 'fernando': 'indefenido', 'marcos': 90}\n",
            "{'maria': 20, 'joao': 34, 'fernando': 'indefenido'}\n"
          ]
        }
      ]
    },
    {
      "cell_type": "code",
      "source": [
        "idades = {'Ana':10 , 'maria':20, 'joao':34, 'fernando':'indefenido' }\n",
        "lista = idades.items()\n",
        "print(lista, end='\\n\\n')\n",
        "for item in lista:\n",
        "  print(item[0], item[1])"
      ],
      "metadata": {
        "colab": {
          "base_uri": "https://localhost:8080/"
        },
        "id": "Mk31rEQk1mOB",
        "outputId": "f0cee49b-80ec-4c70-8459-cf5adb5eab79"
      },
      "execution_count": null,
      "outputs": [
        {
          "output_type": "stream",
          "name": "stdout",
          "text": [
            "dict_items([('Ana', 10), ('maria', 20), ('joao', 34), ('fernando', 'indefenido')])\n",
            "\n",
            "Ana 10\n",
            "maria 20\n",
            "joao 34\n",
            "fernando indefenido\n"
          ]
        }
      ]
    },
    {
      "cell_type": "code",
      "source": [
        "idades = {'Ana':10 , 'maria':20, 'joao':34, 'fernando':'indefenido' }\n",
        "chaves = idades.keys()\n",
        "valores = idades.values()\n",
        "for item in chaves:\n",
        "  print(item)\n",
        "print(\"-------------------\")\n",
        "for item in valores:\n",
        "  print(item)"
      ],
      "metadata": {
        "colab": {
          "base_uri": "https://localhost:8080/"
        },
        "id": "FXRU1eUn2Imk",
        "outputId": "218496dd-aea0-4aac-cca2-0b63ab7738ab"
      },
      "execution_count": null,
      "outputs": [
        {
          "output_type": "stream",
          "name": "stdout",
          "text": [
            "Ana\n",
            "maria\n",
            "joao\n",
            "fernando\n",
            "-------------------\n",
            "10\n",
            "20\n",
            "34\n",
            "indefenido\n"
          ]
        }
      ]
    },
    {
      "cell_type": "code",
      "source": [
        "idades = {'Ana':10 , 'maria':20, 'joao':34, 'fernando':20 }\n",
        "lista_nome = list(idades.values())\n",
        "pessoa_com_20_anos = lista_nome.count(20)\n",
        "print(pessoa_com_20_anos)"
      ],
      "metadata": {
        "colab": {
          "base_uri": "https://localhost:8080/"
        },
        "id": "ykcuSDa93DdL",
        "outputId": "120626ba-5659-4f4f-d2fe-8120c1f94f39"
      },
      "execution_count": null,
      "outputs": [
        {
          "output_type": "stream",
          "name": "stdout",
          "text": [
            "2\n"
          ]
        }
      ]
    },
    {
      "cell_type": "code",
      "source": [
        "idades = {'Ana':10 , 'maria':20, 'joao':34, 'fernando':'indefenido' }\n",
        "idades.clear()\n",
        "print(idades)"
      ],
      "metadata": {
        "colab": {
          "base_uri": "https://localhost:8080/"
        },
        "id": "k1sh4MDB3Zpa",
        "outputId": "0ea64e75-247e-482d-892f-c791d5fc7bdd"
      },
      "execution_count": null,
      "outputs": [
        {
          "output_type": "stream",
          "name": "stdout",
          "text": [
            "{}\n"
          ]
        }
      ]
    },
    {
      "cell_type": "code",
      "source": [
        "dados_maria = {\n",
        "    'sexo': 'feminino',\n",
        "    'cpf': '12345678910',\n",
        "    'rg': '1948755'\n",
        "}\n",
        "\n",
        "dados_joao = {\n",
        "    'sexo': 'masculino',\n",
        "    'cpf': '12345678745',\n",
        "    'rg': '82626583'\n",
        "}\n",
        "\n",
        "dados_ana = {\n",
        "    'sexo': 'feminino',\n",
        "    'cpf': '15555526516',\n",
        "    'rg': '84153151'\n",
        "}\n",
        "\n",
        "dados_por_nome = {\n",
        "    'ana':dados_ana,\n",
        "    'maria':dados_maria,\n",
        "    'joao':dados_joao\n",
        "}\n",
        "\n",
        "print(dados_por_nome['joao']['sexo'])"
      ],
      "metadata": {
        "colab": {
          "base_uri": "https://localhost:8080/"
        },
        "id": "yxdX490D3f6Q",
        "outputId": "0fb02d1c-900f-48b4-e29d-5f6fb662e291"
      },
      "execution_count": null,
      "outputs": [
        {
          "output_type": "stream",
          "name": "stdout",
          "text": [
            "masculino\n"
          ]
        }
      ]
    },
    {
      "cell_type": "code",
      "source": [
        "dados_por_nome = {\n",
        "    'ana': {\n",
        "        'sexo': 'feminino',\n",
        "        'cpf': '15555526516',\n",
        "        'rg': '84153151'\n",
        "    },\n",
        "    'maria': {\n",
        "        'sexo': 'feminino',\n",
        "        'cpf': '12345678910',\n",
        "        'rg': '1948755'\n",
        "    },\n",
        "    'joao': {\n",
        "        'sexo': 'masculino',\n",
        "        'cpf': '12345678745',\n",
        "        'rg': '82626583'\n",
        "    }\n",
        "}\n",
        "\n",
        "print(dados_por_nome['ana']['rg'])"
      ],
      "metadata": {
        "colab": {
          "base_uri": "https://localhost:8080/"
        },
        "id": "Irf73YkC4r45",
        "outputId": "3816f2df-2a96-4d14-c054-8ffe0adafb82"
      },
      "execution_count": null,
      "outputs": [
        {
          "output_type": "stream",
          "name": "stdout",
          "text": [
            "84153151\n"
          ]
        }
      ]
    },
    {
      "cell_type": "code",
      "source": [
        "lista = [x for x in range(0,10)]\n",
        "print(lista)"
      ],
      "metadata": {
        "colab": {
          "base_uri": "https://localhost:8080/"
        },
        "id": "rgNTlOIi6I0j",
        "outputId": "0ddf726c-4c38-4313-e6c2-e15284310c30"
      },
      "execution_count": null,
      "outputs": [
        {
          "output_type": "stream",
          "name": "stdout",
          "text": [
            "[0, 1, 2, 3, 4, 5, 6, 7, 8, 9]\n"
          ]
        }
      ]
    },
    {
      "cell_type": "code",
      "source": [
        "lista = ['1', 'zero', 'Quatro']\n",
        "lista = [x for x in lista]\n",
        "print(lista)"
      ],
      "metadata": {
        "colab": {
          "base_uri": "https://localhost:8080/"
        },
        "id": "dgl1PtLy6gSR",
        "outputId": "aa01335e-0d37-4780-8302-d1c81153d829"
      },
      "execution_count": null,
      "outputs": [
        {
          "output_type": "stream",
          "name": "stdout",
          "text": [
            "['1', 'zero', 'Quatro']\n"
          ]
        }
      ]
    },
    {
      "cell_type": "code",
      "source": [
        "lista = [x for x in range(1,11) if x % 2 == 0]\n",
        "print(lista)"
      ],
      "metadata": {
        "colab": {
          "base_uri": "https://localhost:8080/"
        },
        "id": "dnTzRLyC6y5I",
        "outputId": "0c44e7d7-66fd-4903-b1c7-4d5ef3713551"
      },
      "execution_count": null,
      "outputs": [
        {
          "output_type": "stream",
          "name": "stdout",
          "text": [
            "[2, 4, 6, 8, 10]\n"
          ]
        }
      ]
    },
    {
      "cell_type": "code",
      "source": [
        "lista_aux = [1,5,9]\n",
        "lista = [x for x in range(1,11) if x not in lista_aux]\n",
        "print(lista)"
      ],
      "metadata": {
        "colab": {
          "base_uri": "https://localhost:8080/"
        },
        "id": "atAZifOl7MC2",
        "outputId": "08996a0a-4592-4b47-bf91-233175a6c1f1"
      },
      "execution_count": null,
      "outputs": [
        {
          "output_type": "stream",
          "name": "stdout",
          "text": [
            "[2, 3, 4, 6, 7, 8, 10]\n"
          ]
        }
      ]
    },
    {
      "cell_type": "code",
      "source": [
        "lista = [x for x in range(-10, 20) if x  <= 10 if x >= 0]\n",
        "print(lista)"
      ],
      "metadata": {
        "colab": {
          "base_uri": "https://localhost:8080/"
        },
        "id": "3p8XN2iR7lnw",
        "outputId": "a3cee556-cd1a-4109-de05-2d227e3ab45a"
      },
      "execution_count": null,
      "outputs": [
        {
          "output_type": "stream",
          "name": "stdout",
          "text": [
            "[0, 1, 2, 3, 4, 5, 6, 7, 8, 9, 10]\n"
          ]
        }
      ]
    },
    {
      "cell_type": "code",
      "source": [
        "lista = [x*2 for x in range(0,11)]\n",
        "print(lista)"
      ],
      "metadata": {
        "colab": {
          "base_uri": "https://localhost:8080/"
        },
        "id": "AHNdaupL73yA",
        "outputId": "dbffc586-cdde-4a32-87df-d6f857393119"
      },
      "execution_count": null,
      "outputs": [
        {
          "output_type": "stream",
          "name": "stdout",
          "text": [
            "[0, 2, 4, 6, 8, 10, 12, 14, 16, 18, 20]\n"
          ]
        }
      ]
    },
    {
      "cell_type": "code",
      "source": [
        "lista = [str(x)[0] for x in range(0,21)]\n",
        "print(lista)"
      ],
      "metadata": {
        "colab": {
          "base_uri": "https://localhost:8080/"
        },
        "id": "UpBPYzmF8MgW",
        "outputId": "48270fae-a3d8-410c-8616-93cbe97792ba"
      },
      "execution_count": null,
      "outputs": [
        {
          "output_type": "stream",
          "name": "stdout",
          "text": [
            "['0', '1', '2', '3', '4', '5', '6', '7', '8', '9', '1', '1', '1', '1', '1', '1', '1', '1', '1', '1', '2']\n"
          ]
        }
      ]
    },
    {
      "cell_type": "code",
      "source": [
        "lista = ['negativo' if x < 0 else 'positivo' for x in range(-3,4)]\n",
        "print(lista)"
      ],
      "metadata": {
        "colab": {
          "base_uri": "https://localhost:8080/"
        },
        "id": "vAdujG9o8YCS",
        "outputId": "ab44e233-0b70-4bb4-d1d0-ae6514f7034b"
      },
      "execution_count": null,
      "outputs": [
        {
          "output_type": "stream",
          "name": "stdout",
          "text": [
            "['negativo', 'negativo', 'negativo', 'positivo', 'positivo', 'positivo', 'positivo']\n"
          ]
        }
      ]
    },
    {
      "cell_type": "code",
      "source": [
        "lista = [str(x) + ' par' if x % 2 == 0 else str(x) + ' impar' for x in range(2,11)]\n",
        "print(lista)"
      ],
      "metadata": {
        "colab": {
          "base_uri": "https://localhost:8080/"
        },
        "id": "TY_4tUSs86eC",
        "outputId": "9fd7f4fa-0378-48e9-ce54-52bdde8c71b0"
      },
      "execution_count": null,
      "outputs": [
        {
          "output_type": "stream",
          "name": "stdout",
          "text": [
            "['2 par', '3 impar', '4 par', '5 impar', '6 par', '7 impar', '8 par', '9 impar', '10 par']\n"
          ]
        }
      ]
    },
    {
      "cell_type": "code",
      "source": [
        "lista = [1,2,3,4,5,6,7,8,9]\n",
        "lista = list(filter(lambda x: x % 2 == 0, lista))\n",
        "print(lista)"
      ],
      "metadata": {
        "colab": {
          "base_uri": "https://localhost:8080/"
        },
        "id": "sd8ACGci9REF",
        "outputId": "c8b14eff-bc92-4e16-b684-e09d9ee5f113"
      },
      "execution_count": null,
      "outputs": [
        {
          "output_type": "stream",
          "name": "stdout",
          "text": [
            "[2, 4, 6, 8]\n"
          ]
        }
      ]
    },
    {
      "cell_type": "code",
      "source": [
        "lista = [ [x for x in range(1,5)] for y in range(1,5)]\n",
        "print(lista)"
      ],
      "metadata": {
        "colab": {
          "base_uri": "https://localhost:8080/"
        },
        "id": "sibJhajh-AwB",
        "outputId": "f5602b23-8685-47d4-f8f4-87412cd43787"
      },
      "execution_count": null,
      "outputs": [
        {
          "output_type": "stream",
          "name": "stdout",
          "text": [
            "[[1, 2, 3, 4], [1, 2, 3, 4], [1, 2, 3, 4], [1, 2, 3, 4]]\n"
          ]
        }
      ]
    },
    {
      "cell_type": "code",
      "source": [
        "lista = [[str(x) + str(y) for x in range(1,5)] for y in range(1,5)]\n",
        "lista"
      ],
      "metadata": {
        "colab": {
          "base_uri": "https://localhost:8080/"
        },
        "id": "NpBuBrac-RfZ",
        "outputId": "8b158068-9960-4d3d-dcd3-76be95875258"
      },
      "execution_count": null,
      "outputs": [
        {
          "output_type": "execute_result",
          "data": {
            "text/plain": [
              "[['11', '21', '31', '41'],\n",
              " ['12', '22', '32', '42'],\n",
              " ['13', '23', '33', '43'],\n",
              " ['14', '24', '34', '44']]"
            ]
          },
          "metadata": {},
          "execution_count": 89
        }
      ]
    },
    {
      "cell_type": "code",
      "source": [
        "[[str(x) + ' * ' + str(y) + ' = ' + str(x*y) for x in range(1,6)] for y in range(1,11)]\n"
      ],
      "metadata": {
        "colab": {
          "base_uri": "https://localhost:8080/"
        },
        "id": "I6QkF7yW-4G8",
        "outputId": "3b63c10a-f8cb-4ffd-b15f-0e75eaed2736"
      },
      "execution_count": null,
      "outputs": [
        {
          "output_type": "execute_result",
          "data": {
            "text/plain": [
              "[['1 * 1 = 1', '2 * 1 = 2', '3 * 1 = 3', '4 * 1 = 4', '5 * 1 = 5'],\n",
              " ['1 * 2 = 2', '2 * 2 = 4', '3 * 2 = 6', '4 * 2 = 8', '5 * 2 = 10'],\n",
              " ['1 * 3 = 3', '2 * 3 = 6', '3 * 3 = 9', '4 * 3 = 12', '5 * 3 = 15'],\n",
              " ['1 * 4 = 4', '2 * 4 = 8', '3 * 4 = 12', '4 * 4 = 16', '5 * 4 = 20'],\n",
              " ['1 * 5 = 5', '2 * 5 = 10', '3 * 5 = 15', '4 * 5 = 20', '5 * 5 = 25'],\n",
              " ['1 * 6 = 6', '2 * 6 = 12', '3 * 6 = 18', '4 * 6 = 24', '5 * 6 = 30'],\n",
              " ['1 * 7 = 7', '2 * 7 = 14', '3 * 7 = 21', '4 * 7 = 28', '5 * 7 = 35'],\n",
              " ['1 * 8 = 8', '2 * 8 = 16', '3 * 8 = 24', '4 * 8 = 32', '5 * 8 = 40'],\n",
              " ['1 * 9 = 9', '2 * 9 = 18', '3 * 9 = 27', '4 * 9 = 36', '5 * 9 = 45'],\n",
              " ['1 * 10 = 10', '2 * 10 = 20', '3 * 10 = 30', '4 * 10 = 40', '5 * 10 = 50']]"
            ]
          },
          "metadata": {},
          "execution_count": 94
        }
      ]
    },
    {
      "cell_type": "markdown",
      "source": [
        "## Atividades - Parte 1"
      ],
      "metadata": {
        "id": "7NUU1NUINIg_"
      }
    },
    {
      "cell_type": "code",
      "source": [
        "#1 - Crie uma lista com os seguintes números 1,10,6,7,8,10. Em seguida printe a\n",
        "# soma destes números."
      ],
      "metadata": {
        "id": "Wlj3-X9p_d2I"
      },
      "execution_count": null,
      "outputs": []
    },
    {
      "cell_type": "code",
      "source": [
        "lista = [1,10,6,7,8,10]\n",
        "total = 0\n",
        "\n",
        "for i in range(0, len(lista)):\n",
        "  total += lista[i]\n",
        "  i+=1\n",
        "\n",
        "print(total)\n"
      ],
      "metadata": {
        "colab": {
          "base_uri": "https://localhost:8080/"
        },
        "id": "hFIAtgatNv00",
        "outputId": "4bf8e814-a504-41b0-ef25-a89521ac276b"
      },
      "execution_count": null,
      "outputs": [
        {
          "output_type": "stream",
          "name": "stdout",
          "text": [
            "42\n"
          ]
        }
      ]
    },
    {
      "cell_type": "code",
      "source": [
        "#2 - Cria uma lista e preencha ela com valores de 1 a 100. Em seguida printe esses\n",
        "# valores."
      ],
      "metadata": {
        "id": "A-fKrAd6OEik"
      },
      "execution_count": null,
      "outputs": []
    },
    {
      "cell_type": "code",
      "source": [
        "lista = []\n",
        "for i in range(1,101):\n",
        "  lista.append(i)\n",
        "  i+=1\n",
        "\n",
        "print(lista)"
      ],
      "metadata": {
        "colab": {
          "base_uri": "https://localhost:8080/"
        },
        "id": "gDZqXPs1PPVL",
        "outputId": "9bdfe084-c65f-43e4-96bd-48a448430234"
      },
      "execution_count": null,
      "outputs": [
        {
          "output_type": "stream",
          "name": "stdout",
          "text": [
            "[1, 2, 3, 4, 5, 6, 7, 8, 9, 10, 11, 12, 13, 14, 15, 16, 17, 18, 19, 20, 21, 22, 23, 24, 25, 26, 27, 28, 29, 30, 31, 32, 33, 34, 35, 36, 37, 38, 39, 40, 41, 42, 43, 44, 45, 46, 47, 48, 49, 50, 51, 52, 53, 54, 55, 56, 57, 58, 59, 60, 61, 62, 63, 64, 65, 66, 67, 68, 69, 70, 71, 72, 73, 74, 75, 76, 77, 78, 79, 80, 81, 82, 83, 84, 85, 86, 87, 88, 89, 90, 91, 92, 93, 94, 95, 96, 97, 98, 99, 100]\n"
          ]
        }
      ]
    },
    {
      "cell_type": "code",
      "source": [
        "#3 - Crie duas listas com os seguintes valores 30,4,43,52,65,-10 e\n",
        "# 43,2,4,76,32,65,3. Agora faça a junção dessas listas, mas se houverem valores\n",
        "# repetidos entre ambas eles não podem repetir na lista unida."
      ],
      "metadata": {
        "id": "doWjQFnvPoBk"
      },
      "execution_count": null,
      "outputs": []
    },
    {
      "cell_type": "code",
      "source": [
        "lista = {30,4,43,52,65,-10}\n",
        "lista2 = {43,2,4,76,32,65,3}\n",
        "lista_unida = lista.union(lista2)\n",
        "print(lista_unida)"
      ],
      "metadata": {
        "colab": {
          "base_uri": "https://localhost:8080/"
        },
        "id": "WMWF05uqPu1l",
        "outputId": "02848265-baed-456e-8930-5bc3e202d58a"
      },
      "execution_count": null,
      "outputs": [
        {
          "output_type": "stream",
          "name": "stdout",
          "text": [
            "{32, 65, 2, 3, 4, 43, 76, 52, -10, 30}\n"
          ]
        }
      ]
    },
    {
      "cell_type": "code",
      "source": [
        "#4 - Crie uma lista contendo o nome de todos os meses do ano. Em seguida receba\n",
        "# por input o mês (número) em que você nasceu e mostre qual o nome do mês que\n",
        "# você nasceu."
      ],
      "metadata": {
        "id": "IMSath0CQYxL"
      },
      "execution_count": null,
      "outputs": []
    },
    {
      "cell_type": "code",
      "source": [
        "mes_nome = {\n",
        "    1:'janeiro',\n",
        "    2:'fevereiro',\n",
        "    3:'março',\n",
        "    4:'abril',\n",
        "    5:'maio',\n",
        "    6:'junho',\n",
        "    7:'julho',\n",
        "    8:'agosto',\n",
        "    9:'setembro',\n",
        "    10:'outubro',\n",
        "    11:'novembro',\n",
        "    12:'dezembro'\n",
        "}\n",
        "\n",
        "mes_user_num = int(input(\"Digite o número de seu mês: \"))\n",
        "print(f\"Você nasceu em {mes_nome.get(mes_user_num)}\")\n"
      ],
      "metadata": {
        "colab": {
          "base_uri": "https://localhost:8080/"
        },
        "id": "h1FgffeSfIZZ",
        "outputId": "c0f81754-5c05-42f6-b385-2a44291c9787"
      },
      "execution_count": 3,
      "outputs": [
        {
          "output_type": "stream",
          "name": "stdout",
          "text": [
            "Digite o número de seu mês: 05\n",
            "Você nasceu em maio\n"
          ]
        }
      ]
    },
    {
      "cell_type": "code",
      "source": [
        "#5 - Crie uma lista contendo todos dias (número) do mês em que você nasceu. Em\n",
        "# seguida receba por input o dia (número) em que você nasceu e remova desta\n",
        "# lista. Ao final mostre o conteúdo da lista."
      ],
      "metadata": {
        "id": "mXcTPBYqgf9m"
      },
      "execution_count": 2,
      "outputs": []
    },
    {
      "cell_type": "code",
      "source": [
        "lista = []\n",
        "for i in range(1, 31):\n",
        "  lista.append(i)\n",
        "  i+=1\n",
        "\n",
        "dia = int(input(\"Digite o dia em que voce nasceu: \"))\n",
        "lista.remove(dia)\n",
        "print(lista)"
      ],
      "metadata": {
        "colab": {
          "base_uri": "https://localhost:8080/"
        },
        "id": "PLILRXHbi4yZ",
        "outputId": "5ec8cfc1-772d-40e7-dd2a-01521165f6ac"
      },
      "execution_count": 5,
      "outputs": [
        {
          "output_type": "stream",
          "name": "stdout",
          "text": [
            "Digite o dia em que voce nasceu: 5\n",
            "[1, 2, 3, 4, 6, 7, 8, 9, 10, 11, 12, 13, 14, 15, 16, 17, 18, 19, 20, 21, 22, 23, 24, 25, 26, 27, 28, 29, 30]\n"
          ]
        }
      ]
    },
    {
      "cell_type": "code",
      "source": [],
      "metadata": {
        "id": "6pOWD57KjcuU"
      },
      "execution_count": null,
      "outputs": []
    }
  ]
}