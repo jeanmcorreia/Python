{
  "nbformat": 4,
  "nbformat_minor": 0,
  "metadata": {
    "colab": {
      "provenance": [],
      "authorship_tag": "ABX9TyNYH78i+K1QOGAKhbNTZhJ+",
      "include_colab_link": true
    },
    "kernelspec": {
      "name": "python3",
      "display_name": "Python 3"
    },
    "language_info": {
      "name": "python"
    }
  },
  "cells": [
    {
      "cell_type": "markdown",
      "metadata": {
        "id": "view-in-github",
        "colab_type": "text"
      },
      "source": [
        "<a href=\"https://colab.research.google.com/github/jeanmcorreia/Python/blob/main/1_Fundamentos.ipynb\" target=\"_parent\"><img src=\"https://colab.research.google.com/assets/colab-badge.svg\" alt=\"Open In Colab\"/></a>"
      ]
    },
    {
      "cell_type": "markdown",
      "source": [
        "# Comentários e Metódo Print"
      ],
      "metadata": {
        "id": "j9qwdhzJwTM3"
      }
    },
    {
      "cell_type": "code",
      "execution_count": null,
      "metadata": {
        "colab": {
          "base_uri": "https://localhost:8080/"
        },
        "id": "hly6bpNZoDem",
        "outputId": "79d6b014-e24f-4d59-dd5d-8a2c5131e43a"
      },
      "outputs": [
        {
          "output_type": "stream",
          "name": "stdout",
          "text": [
            "Olá mundo!\n"
          ]
        }
      ],
      "source": [
        "# isto é um comentário\n",
        "# isto é outro comentário\n",
        "print('Olá mundo!') # isto é um comentário\n"
      ]
    },
    {
      "cell_type": "code",
      "source": [
        "''' Este é um comentário\n",
        "o comentário continua aqui\n",
        "aqui ainda continua\n",
        "e aqui termina '''"
      ],
      "metadata": {
        "colab": {
          "base_uri": "https://localhost:8080/",
          "height": 35
        },
        "id": "njFY7WCfod9b",
        "outputId": "b4586b58-f7c6-42aa-db23-ce568c4e54b7"
      },
      "execution_count": null,
      "outputs": [
        {
          "output_type": "execute_result",
          "data": {
            "text/plain": [
              "' Este é um comentário \\no comentário continua aqui\\naqui ainda continua\\ne aqui termina '"
            ],
            "application/vnd.google.colaboratory.intrinsic+json": {
              "type": "string"
            }
          },
          "metadata": {},
          "execution_count": 2
        }
      ]
    },
    {
      "cell_type": "code",
      "source": [
        "print('Olá mundo!')\n",
        "print(20)\n",
        "print(20.5)"
      ],
      "metadata": {
        "colab": {
          "base_uri": "https://localhost:8080/"
        },
        "id": "qUy8DeOyovU5",
        "outputId": "c242fb0c-858c-4643-eca0-6c585708e548"
      },
      "execution_count": null,
      "outputs": [
        {
          "output_type": "stream",
          "name": "stdout",
          "text": [
            "Olá mundo!\n",
            "20\n",
            "20.5\n"
          ]
        }
      ]
    },
    {
      "cell_type": "code",
      "source": [
        "print(\"Maçã\", 20, 30.45)"
      ],
      "metadata": {
        "colab": {
          "base_uri": "https://localhost:8080/"
        },
        "id": "TImAb1Gdo-Rp",
        "outputId": "adb01b91-267a-455c-f510-dc75fa25dace"
      },
      "execution_count": null,
      "outputs": [
        {
          "output_type": "stream",
          "name": "stdout",
          "text": [
            "Maçã 20 30.45\n"
          ]
        }
      ]
    },
    {
      "cell_type": "code",
      "source": [
        "print(\"Maçã\", \"Pera\", \"Uva\", sep=' - ')"
      ],
      "metadata": {
        "colab": {
          "base_uri": "https://localhost:8080/"
        },
        "id": "F_Ng2KJUpP4x",
        "outputId": "e73fcb17-306d-4be3-d2eb-7003af285892"
      },
      "execution_count": null,
      "outputs": [
        {
          "output_type": "stream",
          "name": "stdout",
          "text": [
            "Maçã - Pera - Uva\n"
          ]
        }
      ]
    },
    {
      "cell_type": "code",
      "source": [
        "print(\"Maçã\",\"Pera\", end = ' Fim', sep=' ')"
      ],
      "metadata": {
        "colab": {
          "base_uri": "https://localhost:8080/"
        },
        "id": "xy7mjMn4paia",
        "outputId": "d6a3fbc1-a8df-4afd-d626-b9c7b2b60944"
      },
      "execution_count": null,
      "outputs": [
        {
          "output_type": "stream",
          "name": "stdout",
          "text": [
            "Maçã Pera Fim"
          ]
        }
      ]
    },
    {
      "cell_type": "code",
      "source": [
        "print(\"Este é um texto longo, \\n eu quero quebrar a linha\")"
      ],
      "metadata": {
        "colab": {
          "base_uri": "https://localhost:8080/"
        },
        "id": "0owiPwU4pjCh",
        "outputId": "dae1df67-c47e-4ead-c98c-57babd657ae6"
      },
      "execution_count": null,
      "outputs": [
        {
          "output_type": "stream",
          "name": "stdout",
          "text": [
            "Este é um texto longo, \n",
            " eu quero quebrar a linha\n"
          ]
        }
      ]
    },
    {
      "cell_type": "code",
      "source": [
        "print(\"Maçã\", \"Pera\", sep='\\n')"
      ],
      "metadata": {
        "colab": {
          "base_uri": "https://localhost:8080/"
        },
        "id": "9KFlW1dbp7aq",
        "outputId": "b7aa7244-3d37-4721-86a4-61176e42bbfb"
      },
      "execution_count": null,
      "outputs": [
        {
          "output_type": "stream",
          "name": "stdout",
          "text": [
            "Maçã\n",
            "Pera\n"
          ]
        }
      ]
    },
    {
      "cell_type": "code",
      "source": [
        "print(\"A pontuacao total de %s foi %s pontos\" % (\"Fernando\", \"10\") )"
      ],
      "metadata": {
        "colab": {
          "base_uri": "https://localhost:8080/"
        },
        "id": "76lDDsHBqFOq",
        "outputId": "fee0f04c-ddd8-4224-90c1-ea0e6f7e44c1"
      },
      "execution_count": null,
      "outputs": [
        {
          "output_type": "stream",
          "name": "stdout",
          "text": [
            "A pontuacao total de Fernando foi 10 pontos\n"
          ]
        }
      ]
    },
    {
      "cell_type": "code",
      "source": [
        "print(\"A pontuacao total de {} foi {} pontos\".format(\"Fernando\", \"10\"))"
      ],
      "metadata": {
        "colab": {
          "base_uri": "https://localhost:8080/"
        },
        "id": "ZiFnwUxMqcTJ",
        "outputId": "4bbb6441-769e-4fcd-d8c4-a627c6cd5897"
      },
      "execution_count": null,
      "outputs": [
        {
          "output_type": "stream",
          "name": "stdout",
          "text": [
            "A pontuacao total de Fernando foi 10 pontos\n"
          ]
        }
      ]
    },
    {
      "cell_type": "code",
      "source": [
        "print(\"A pontuacao total de\" + \" Fernando\" + \" foi\" + \" 10 \" + \"pontos\")"
      ],
      "metadata": {
        "colab": {
          "base_uri": "https://localhost:8080/"
        },
        "id": "nUp629Pmqpva",
        "outputId": "be29749b-84a4-47fd-c84d-794d59387193"
      },
      "execution_count": null,
      "outputs": [
        {
          "output_type": "stream",
          "name": "stdout",
          "text": [
            "A pontuacao total de Fernando foi 10 pontos\n"
          ]
        }
      ]
    },
    {
      "cell_type": "markdown",
      "source": [
        "## Atividades de Metódo Print"
      ],
      "metadata": {
        "id": "xGSSlXn7wc60"
      }
    },
    {
      "cell_type": "code",
      "source": [
        "#1 - Realize o print do seu nome completo, sua idade e sua\n",
        "# altura utilizando um print para cada valor."
      ],
      "metadata": {
        "id": "3_IUwqbermSK"
      },
      "execution_count": null,
      "outputs": []
    },
    {
      "cell_type": "code",
      "source": [
        "print(\"Jean Marcos Correia\")\n",
        "print(20)\n",
        "print(1.70)"
      ],
      "metadata": {
        "colab": {
          "base_uri": "https://localhost:8080/"
        },
        "id": "_MErpYERwpTk",
        "outputId": "5ffe88a2-96f3-49fe-c6e8-e3de3e42d333"
      },
      "execution_count": null,
      "outputs": [
        {
          "output_type": "stream",
          "name": "stdout",
          "text": [
            "Jean Marcos Correia\n",
            "20\n",
            "1.7\n"
          ]
        }
      ]
    },
    {
      "cell_type": "code",
      "source": [
        "#2 - Realize o print do seu nome completo, sua idade e sua altura\n",
        "# utilizando apenas um print para todos valores."
      ],
      "metadata": {
        "id": "YpQOxg14wu_a"
      },
      "execution_count": null,
      "outputs": []
    },
    {
      "cell_type": "code",
      "source": [
        "print(\"Nome: {}, idade: {}, altura: {}\".format(\"Fernando\", 20, 1.70))"
      ],
      "metadata": {
        "colab": {
          "base_uri": "https://localhost:8080/"
        },
        "id": "RabYao7fw0Kj",
        "outputId": "452b931f-f186-4c3b-e1a3-9ca0cf3a511e"
      },
      "execution_count": null,
      "outputs": [
        {
          "output_type": "stream",
          "name": "stdout",
          "text": [
            "Nome: Fernando, idade: 20, altura: 1.7\n"
          ]
        }
      ]
    },
    {
      "cell_type": "code",
      "source": [
        "#3 - Realize o print de 3 números de sua escolha\n",
        "# em um mesmo print, mas separados pelo caractere '-'."
      ],
      "metadata": {
        "id": "7eEmQtlqw2kz"
      },
      "execution_count": null,
      "outputs": []
    },
    {
      "cell_type": "code",
      "source": [
        "print(1,2,3, sep=\"-\")"
      ],
      "metadata": {
        "colab": {
          "base_uri": "https://localhost:8080/"
        },
        "id": "u6pTfa-mw4ML",
        "outputId": "9fed7b6e-dc7d-4812-aaeb-24354a427743"
      },
      "execution_count": null,
      "outputs": [
        {
          "output_type": "stream",
          "name": "stdout",
          "text": [
            "1-2-3\n"
          ]
        }
      ]
    },
    {
      "cell_type": "markdown",
      "source": [
        "# Variáveis"
      ],
      "metadata": {
        "id": "GXM9DWTnxTLZ"
      }
    },
    {
      "cell_type": "code",
      "source": [
        "_numero = 1\n",
        "Numero = 2\n",
        "numero = 3\n",
        "numero123 = 4\n",
        "print(_numero, Numero, numero, numero123)"
      ],
      "metadata": {
        "colab": {
          "base_uri": "https://localhost:8080/"
        },
        "id": "RMlunQdIxWAK",
        "outputId": "8d95aff3-09a5-42e7-83b3-2177488b0120"
      },
      "execution_count": null,
      "outputs": [
        {
          "output_type": "stream",
          "name": "stdout",
          "text": [
            "1 2 3 4\n"
          ]
        }
      ]
    },
    {
      "cell_type": "code",
      "source": [
        "numero = 10\n",
        "print(numero)\n",
        "numero = 20\n",
        "print(numero)"
      ],
      "metadata": {
        "colab": {
          "base_uri": "https://localhost:8080/"
        },
        "id": "klLNOWGDxeUD",
        "outputId": "a1b71541-f338-4df2-e218-289cff2f1b7f"
      },
      "execution_count": null,
      "outputs": [
        {
          "output_type": "stream",
          "name": "stdout",
          "text": [
            "10\n",
            "30\n"
          ]
        }
      ]
    },
    {
      "cell_type": "code",
      "source": [
        "texto = 'Olá mundo!'\n",
        "print(texto)"
      ],
      "metadata": {
        "colab": {
          "base_uri": "https://localhost:8080/"
        },
        "id": "bw_4l7ANxsT7",
        "outputId": "158e2e8e-1e47-4ebd-881e-bbbf7244cbe5"
      },
      "execution_count": null,
      "outputs": [
        {
          "output_type": "stream",
          "name": "stdout",
          "text": [
            "Olá mundo!\n"
          ]
        }
      ]
    },
    {
      "cell_type": "markdown",
      "source": [
        "# Tipos Primitivos\n"
      ],
      "metadata": {
        "id": "gmLIPP8QyOma"
      }
    },
    {
      "cell_type": "code",
      "source": [
        "variavel = None\n",
        "print(variavel)"
      ],
      "metadata": {
        "colab": {
          "base_uri": "https://localhost:8080/"
        },
        "id": "sx-Qot1WyEfT",
        "outputId": "5c0d7b78-85cf-438e-a6f3-8d3915191fa0"
      },
      "execution_count": null,
      "outputs": [
        {
          "output_type": "stream",
          "name": "stdout",
          "text": [
            "None\n"
          ]
        }
      ]
    },
    {
      "cell_type": "code",
      "source": [
        "inteiro = 10\n",
        "print(inteiro)"
      ],
      "metadata": {
        "colab": {
          "base_uri": "https://localhost:8080/"
        },
        "id": "YNvdGEiayb2s",
        "outputId": "cb61cb4f-2a5f-491c-beab-86b4bdac2ca1"
      },
      "execution_count": null,
      "outputs": [
        {
          "output_type": "stream",
          "name": "stdout",
          "text": [
            "10\n"
          ]
        }
      ]
    },
    {
      "cell_type": "code",
      "source": [
        "decimal = 1.53\n",
        "print(decimal)"
      ],
      "metadata": {
        "colab": {
          "base_uri": "https://localhost:8080/"
        },
        "id": "V_O8nfYVymXk",
        "outputId": "2b382f70-fecf-498d-b7bd-c65a503873d9"
      },
      "execution_count": null,
      "outputs": [
        {
          "output_type": "stream",
          "name": "stdout",
          "text": [
            "1.53\n"
          ]
        }
      ]
    },
    {
      "cell_type": "code",
      "source": [
        "texto = \"Olá, isto é um texto\"\n",
        "print(texto)"
      ],
      "metadata": {
        "colab": {
          "base_uri": "https://localhost:8080/"
        },
        "id": "BPfKxZQeyqEj",
        "outputId": "747e5058-3ba0-448e-fe74-c582316b3f1b"
      },
      "execution_count": null,
      "outputs": [
        {
          "output_type": "stream",
          "name": "stdout",
          "text": [
            "Olá, isto é um texto\n"
          ]
        }
      ]
    },
    {
      "cell_type": "code",
      "source": [
        "var = True\n",
        "print(var)\n",
        "var = False\n",
        "print(var)"
      ],
      "metadata": {
        "colab": {
          "base_uri": "https://localhost:8080/"
        },
        "id": "txDa9_Tuyvbb",
        "outputId": "d4c477e8-9863-4971-febc-b4fe268ee3f8"
      },
      "execution_count": null,
      "outputs": [
        {
          "output_type": "stream",
          "name": "stdout",
          "text": [
            "True\n",
            "False\n"
          ]
        }
      ]
    },
    {
      "cell_type": "code",
      "source": [
        "var1 = 10\n",
        "var2 = var1\n",
        "print(var2)"
      ],
      "metadata": {
        "colab": {
          "base_uri": "https://localhost:8080/"
        },
        "id": "q1Jmqp1cy7Iq",
        "outputId": "4fe0131a-c3d3-4eca-d5c6-e12c89a53f3f"
      },
      "execution_count": null,
      "outputs": [
        {
          "output_type": "stream",
          "name": "stdout",
          "text": [
            "10\n"
          ]
        }
      ]
    },
    {
      "cell_type": "code",
      "source": [
        "var = None\n",
        "print(var)\n",
        "var = 1\n",
        "print(var)\n",
        "var = \"Texto\"\n",
        "print(var)"
      ],
      "metadata": {
        "colab": {
          "base_uri": "https://localhost:8080/"
        },
        "id": "DkGf8q4_zE7b",
        "outputId": "a0e315ca-beca-456a-eafe-616504d028ea"
      },
      "execution_count": null,
      "outputs": [
        {
          "output_type": "stream",
          "name": "stdout",
          "text": [
            "None\n",
            "1\n",
            "Texto\n"
          ]
        }
      ]
    },
    {
      "cell_type": "code",
      "source": [
        "saldoBancario = 100\n",
        "SaldoBancario = 100\n",
        "saldo_bancario = 100"
      ],
      "metadata": {
        "id": "cgM3GFIUzPp7"
      },
      "execution_count": null,
      "outputs": []
    },
    {
      "cell_type": "markdown",
      "source": [
        "## Atividade de Variáveis"
      ],
      "metadata": {
        "id": "rOYQGrH-Nc3g"
      }
    },
    {
      "cell_type": "code",
      "source": [
        "#1 - Crie uma variável de cada tipo e ponha alguma valor\n",
        "# escolhido. Em seguida, printe todos esses valores."
      ],
      "metadata": {
        "id": "_JD7e34zNtgT"
      },
      "execution_count": null,
      "outputs": []
    },
    {
      "cell_type": "code",
      "source": [
        "inteiro = 1\n",
        "print(inteiro)\n",
        "decimal = 1.5\n",
        "print(decimal)\n",
        "string = \"Olá mundo\"\n",
        "print(string)\n",
        "booleana = True\n",
        "print(booleana)"
      ],
      "metadata": {
        "colab": {
          "base_uri": "https://localhost:8080/"
        },
        "id": "zmPNMVChNznf",
        "outputId": "02c8203f-bdad-44b5-f582-8b221f59ec63"
      },
      "execution_count": 1,
      "outputs": [
        {
          "output_type": "stream",
          "name": "stdout",
          "text": [
            "1\n",
            "1.5\n",
            "Olá mundo\n",
            "True\n"
          ]
        }
      ]
    },
    {
      "cell_type": "code",
      "source": [
        "#2 - Cria variáveis para guardar seu nome, CPF e uma que indique se você esta\n",
        "# casado, em seguida printe esses valores separadamente, mas\n",
        "# não esqueça de printar junto o que eles significam."
      ],
      "metadata": {
        "id": "vGVL4fs4ON-O"
      },
      "execution_count": null,
      "outputs": []
    },
    {
      "cell_type": "code",
      "source": [
        "nome = \"Jean\"\n",
        "cpf = \"000.000.000-12\"\n",
        "casado = False\n",
        "\n",
        "print(\"Nome: \",(nome))\n",
        "print(\"CPF: \",(cpf))\n",
        "print(\"Casado? \",(casado))"
      ],
      "metadata": {
        "colab": {
          "base_uri": "https://localhost:8080/"
        },
        "id": "UtnqEmY0OYUE",
        "outputId": "6effd34b-588d-4255-9fca-abea6173e77f"
      },
      "execution_count": 3,
      "outputs": [
        {
          "output_type": "stream",
          "name": "stdout",
          "text": [
            "Nome:  Jean\n",
            "CPF:  000.000.000-12\n",
            "Casado?  False\n"
          ]
        }
      ]
    },
    {
      "cell_type": "markdown",
      "source": [
        "# Formatação"
      ],
      "metadata": {
        "id": "fIbGjbyGQkXq"
      }
    },
    {
      "cell_type": "code",
      "source": [
        "# %s - texto\n",
        "# %d - inteiro\n",
        "# %f - real"
      ],
      "metadata": {
        "id": "0awp5inoQo-k"
      },
      "execution_count": null,
      "outputs": []
    },
    {
      "cell_type": "code",
      "source": [
        "nome = \"Ana\"\n",
        "texto_formatado = \"O nome dela é %s \" % (nome)\n",
        "print(texto_formatado)"
      ],
      "metadata": {
        "colab": {
          "base_uri": "https://localhost:8080/"
        },
        "id": "bjGgpCdpQ94K",
        "outputId": "d0e398fb-9c9f-49eb-855d-52ec681ac039"
      },
      "execution_count": 5,
      "outputs": [
        {
          "output_type": "stream",
          "name": "stdout",
          "text": [
            "O nome dela é Ana \n"
          ]
        }
      ]
    },
    {
      "cell_type": "code",
      "source": [
        "nome = \"Rodrigo\"\n",
        "idade = 23\n",
        "altura = 1.73\n",
        "texto = \"Meu nome é %s. Tenho %d anos e tenho %f metros de altura\" % (nome, idade, altura)\n",
        "print(texto)"
      ],
      "metadata": {
        "colab": {
          "base_uri": "https://localhost:8080/"
        },
        "id": "vGUKf_PoRKRf",
        "outputId": "b59d9af1-ddd2-4f72-85cc-380894b54476"
      },
      "execution_count": 6,
      "outputs": [
        {
          "output_type": "stream",
          "name": "stdout",
          "text": [
            "Meu nome é Rodrigo. Tenho 23 anos e tenho 1.730000 metros de altura\n"
          ]
        }
      ]
    },
    {
      "cell_type": "code",
      "source": [
        "numero_gigante = 1.123456789\n",
        "print(\"Numero gigante formatado: %.2f\" % (numero_gigante))"
      ],
      "metadata": {
        "colab": {
          "base_uri": "https://localhost:8080/"
        },
        "id": "c35XghkoRyfm",
        "outputId": "7a1d9b21-66d8-4b0c-d4d5-9769b3316ac5"
      },
      "execution_count": 14,
      "outputs": [
        {
          "output_type": "stream",
          "name": "stdout",
          "text": [
            "Numero gigante formatado: 1.12\n"
          ]
        }
      ]
    },
    {
      "cell_type": "code",
      "source": [
        "valor = False\n",
        "print(\"O valor é %s\" % (valor))\n",
        "print(\"O valor é %d\" % (valor))"
      ],
      "metadata": {
        "colab": {
          "base_uri": "https://localhost:8080/"
        },
        "id": "4RzHghBZSOlH",
        "outputId": "7a07d1e7-9bf5-4b08-e654-3360c9f8904b"
      },
      "execution_count": 12,
      "outputs": [
        {
          "output_type": "stream",
          "name": "stdout",
          "text": [
            "O valor é False\n",
            "O valor é 0\n"
          ]
        }
      ]
    },
    {
      "cell_type": "code",
      "source": [
        "decimal = 23.4566\n",
        "print(\"A parte inteira é %d\" % (decimal))"
      ],
      "metadata": {
        "colab": {
          "base_uri": "https://localhost:8080/"
        },
        "id": "ky6WMMlUS0eW",
        "outputId": "b4e0aff4-4a25-4a6a-b20a-0d837d449147"
      },
      "execution_count": 16,
      "outputs": [
        {
          "output_type": "stream",
          "name": "stdout",
          "text": [
            "A parte inteira é 23\n"
          ]
        }
      ]
    },
    {
      "cell_type": "code",
      "source": [
        "texto = \"Olá, assim se quebra uma linha,\\n\\tentendeu como quebra a linha?\\n\\t\\tFim\"\n",
        "print(texto)"
      ],
      "metadata": {
        "colab": {
          "base_uri": "https://localhost:8080/"
        },
        "id": "g3ueXgr0TMn1",
        "outputId": "5fdd4c05-636a-4188-fce7-e3ce0b4870a7"
      },
      "execution_count": 20,
      "outputs": [
        {
          "output_type": "stream",
          "name": "stdout",
          "text": [
            "Olá, assim se quebra uma linha,\n",
            "\tentendeu como quebra a linha?\n",
            "\t\tFim\n"
          ]
        }
      ]
    },
    {
      "cell_type": "code",
      "source": [
        "texto = 'Deixa a \\'Palavra\\' entre aspas'\n",
        "print(texto)"
      ],
      "metadata": {
        "colab": {
          "base_uri": "https://localhost:8080/"
        },
        "id": "dD37TPlxTqcm",
        "outputId": "5a246539-f3a1-4800-ae9f-2114ee974fce"
      },
      "execution_count": 23,
      "outputs": [
        {
          "output_type": "stream",
          "name": "stdout",
          "text": [
            "Deixa a 'Palavra' entre aspas\n"
          ]
        }
      ]
    },
    {
      "cell_type": "markdown",
      "source": [
        "## Atividades de Formatação"
      ],
      "metadata": {
        "id": "hyu-H8iKUf61"
      }
    },
    {
      "cell_type": "code",
      "source": [
        "#1 - Escreva e formate a data em que você nasceu no formato\n",
        "# dia/mês/ano. Não esqueça de criar 3 variáveis para guardar o dia,\n",
        "# mês e ano.\n",
        "# Exemplo de saída:\n",
        "# Eu nasci em 30/9/1998"
      ],
      "metadata": {
        "id": "D_oddtY9Un6f"
      },
      "execution_count": null,
      "outputs": []
    },
    {
      "cell_type": "code",
      "source": [
        "dia, mes, ano = 4, 12, 1980\n",
        "texto = \"Eu nasci em %d/%d/%d\" % (dia, mes, ano)\n",
        "print(texto)"
      ],
      "metadata": {
        "colab": {
          "base_uri": "https://localhost:8080/"
        },
        "id": "7GSLnLjrUv0-",
        "outputId": "4f0166e2-b1a5-4410-94b8-7e08820a0e6e"
      },
      "execution_count": 31,
      "outputs": [
        {
          "output_type": "stream",
          "name": "stdout",
          "text": [
            "Eu nasci em 4/12/1980\n"
          ]
        }
      ]
    },
    {
      "cell_type": "code",
      "source": [
        "#2 - Escreva e formate a hora e minuto atual. Não esqueça de criar\n",
        "# duas variáveis para guardar a hora e minuto.\n",
        "# Exemplo de saída:\n",
        "# Agora são 22 horas e 37 minutos"
      ],
      "metadata": {
        "id": "pjcORDt2VIH3"
      },
      "execution_count": null,
      "outputs": []
    },
    {
      "cell_type": "code",
      "source": [
        "horas = 22\n",
        "minutos = 37\n",
        "print(\"Agora são %d horas e %d minutos\" % (horas, minutos))"
      ],
      "metadata": {
        "colab": {
          "base_uri": "https://localhost:8080/"
        },
        "id": "uPGl4IgUVPX6",
        "outputId": "87681ae2-0b3d-43a6-af19-91bd06b4e24d"
      },
      "execution_count": 34,
      "outputs": [
        {
          "output_type": "stream",
          "name": "stdout",
          "text": [
            "Agora são 22 horas e 37 minutos\n"
          ]
        }
      ]
    },
    {
      "cell_type": "code",
      "source": [
        "#3 - Escreva um programa que contêm o número PI, que deve ter o\n",
        "# valor exato de 3.14159265359. Agora formate esse número para ter\n",
        "# apenas cinco casas decimais.\n",
        "# Exemplo de saída:\n",
        "# O PI é 3.14159"
      ],
      "metadata": {
        "id": "y79c-bUtVaYN"
      },
      "execution_count": null,
      "outputs": []
    },
    {
      "cell_type": "code",
      "source": [
        "numero_pi = 3.14159265359\n",
        "texto = \"O PI é %.5f\" % (numero_pi)\n",
        "print(texto)"
      ],
      "metadata": {
        "colab": {
          "base_uri": "https://localhost:8080/"
        },
        "id": "aX9bAO-OVkLu",
        "outputId": "cfdc161b-c988-48eb-82a7-37ad2fb47cd1"
      },
      "execution_count": 28,
      "outputs": [
        {
          "output_type": "stream",
          "name": "stdout",
          "text": [
            "O PI é 3.14159\n"
          ]
        }
      ]
    },
    {
      "cell_type": "markdown",
      "source": [
        "# Operadores Aritméticos"
      ],
      "metadata": {
        "id": "O3aAcQ2GYXpL"
      }
    },
    {
      "cell_type": "code",
      "source": [
        "print(10 + 20)"
      ],
      "metadata": {
        "colab": {
          "base_uri": "https://localhost:8080/"
        },
        "id": "43AEy66KYcuk",
        "outputId": "298015f8-3932-46bc-d832-8be5f4159ea6"
      },
      "execution_count": 35,
      "outputs": [
        {
          "output_type": "stream",
          "name": "stdout",
          "text": [
            "30\n"
          ]
        }
      ]
    },
    {
      "cell_type": "code",
      "source": [
        "numero = 10 + 10.5\n",
        "print(numero)"
      ],
      "metadata": {
        "colab": {
          "base_uri": "https://localhost:8080/"
        },
        "id": "h45b3P95YiBP",
        "outputId": "d54ecd5b-327a-4be0-dd80-1923548163fe"
      },
      "execution_count": 36,
      "outputs": [
        {
          "output_type": "stream",
          "name": "stdout",
          "text": [
            "20.5\n"
          ]
        }
      ]
    },
    {
      "cell_type": "code",
      "source": [
        "outro_numero = 30 + numero\n",
        "print(outro_numero)"
      ],
      "metadata": {
        "colab": {
          "base_uri": "https://localhost:8080/"
        },
        "id": "NYGFzuKxYnVG",
        "outputId": "fa9af0b4-fb92-42e2-855f-3080a68f02f8"
      },
      "execution_count": 37,
      "outputs": [
        {
          "output_type": "stream",
          "name": "stdout",
          "text": [
            "50.5\n"
          ]
        }
      ]
    },
    {
      "cell_type": "code",
      "source": [
        "numero = 20 - 10\n",
        "print(numero)"
      ],
      "metadata": {
        "colab": {
          "base_uri": "https://localhost:8080/"
        },
        "id": "s7rrRIQFYu-W",
        "outputId": "3806a3fe-9d59-41a8-e384-42bcfa782fa2"
      },
      "execution_count": 38,
      "outputs": [
        {
          "output_type": "stream",
          "name": "stdout",
          "text": [
            "10\n"
          ]
        }
      ]
    },
    {
      "cell_type": "code",
      "source": [
        "numero = 10 * 2\n",
        "print(numero)"
      ],
      "metadata": {
        "colab": {
          "base_uri": "https://localhost:8080/"
        },
        "id": "g_2LAQUVYz2O",
        "outputId": "334d9a93-a87e-46c8-cdd6-af6970bdf61c"
      },
      "execution_count": 39,
      "outputs": [
        {
          "output_type": "stream",
          "name": "stdout",
          "text": [
            "20\n"
          ]
        }
      ]
    },
    {
      "cell_type": "code",
      "source": [
        "numero = 10 / 3\n",
        "print(numero)"
      ],
      "metadata": {
        "colab": {
          "base_uri": "https://localhost:8080/"
        },
        "id": "-knuXS8CY3i-",
        "outputId": "1e998b52-e67d-46d6-dc63-b5d0b5a7424c"
      },
      "execution_count": 40,
      "outputs": [
        {
          "output_type": "stream",
          "name": "stdout",
          "text": [
            "3.3333333333333335\n"
          ]
        }
      ]
    },
    {
      "cell_type": "code",
      "source": [
        "numero = 10 // 3\n",
        "print(numero)"
      ],
      "metadata": {
        "colab": {
          "base_uri": "https://localhost:8080/"
        },
        "id": "W-JbzFGvY6Wu",
        "outputId": "a2e3d514-0456-477f-f4f9-8eaec30d39a5"
      },
      "execution_count": 41,
      "outputs": [
        {
          "output_type": "stream",
          "name": "stdout",
          "text": [
            "3\n"
          ]
        }
      ]
    },
    {
      "cell_type": "code",
      "source": [
        "numero = 2 ** 4\n",
        "print(numero)"
      ],
      "metadata": {
        "colab": {
          "base_uri": "https://localhost:8080/"
        },
        "id": "9PN41tisZIk-",
        "outputId": "cc23212b-97a9-4988-af55-c8f0a63b9212"
      },
      "execution_count": 43,
      "outputs": [
        {
          "output_type": "stream",
          "name": "stdout",
          "text": [
            "16\n"
          ]
        }
      ]
    },
    {
      "cell_type": "code",
      "source": [
        "numero = 4 % 3\n",
        "print(numero)"
      ],
      "metadata": {
        "colab": {
          "base_uri": "https://localhost:8080/"
        },
        "id": "EBmbjSNEZQkW",
        "outputId": "3b00b8dd-355c-407f-9a22-8a96263aef0f"
      },
      "execution_count": 46,
      "outputs": [
        {
          "output_type": "stream",
          "name": "stdout",
          "text": [
            "1\n"
          ]
        }
      ]
    },
    {
      "cell_type": "code",
      "source": [
        "nume1 = 10 * 2 + 1\n",
        "print(nume1)"
      ],
      "metadata": {
        "colab": {
          "base_uri": "https://localhost:8080/"
        },
        "id": "_Kxk1pFTZdKe",
        "outputId": "0e6316fd-7ba6-4169-e906-52879fbb9dbb"
      },
      "execution_count": 47,
      "outputs": [
        {
          "output_type": "stream",
          "name": "stdout",
          "text": [
            "21\n"
          ]
        }
      ]
    },
    {
      "cell_type": "code",
      "source": [
        "nume1 = 10 * (2+1)\n",
        "print(nume1)"
      ],
      "metadata": {
        "colab": {
          "base_uri": "https://localhost:8080/"
        },
        "id": "ncPELJthbEhe",
        "outputId": "c120b596-d646-4734-a202-ee0b1922a99d"
      },
      "execution_count": 48,
      "outputs": [
        {
          "output_type": "stream",
          "name": "stdout",
          "text": [
            "30\n"
          ]
        }
      ]
    },
    {
      "cell_type": "code",
      "source": [
        "nume1 = 3 * 3 - 9\n",
        "print(nume1)"
      ],
      "metadata": {
        "colab": {
          "base_uri": "https://localhost:8080/"
        },
        "id": "V3U5xEK5bRPe",
        "outputId": "9288ba52-a757-4346-ccc7-23b99538baf7"
      },
      "execution_count": 49,
      "outputs": [
        {
          "output_type": "stream",
          "name": "stdout",
          "text": [
            "0\n"
          ]
        }
      ]
    },
    {
      "cell_type": "code",
      "source": [
        "nume1 = 3 * (3 - 9)\n",
        "print(nume1)"
      ],
      "metadata": {
        "colab": {
          "base_uri": "https://localhost:8080/"
        },
        "id": "KLlAmK9MbZ-m",
        "outputId": "d6e9d69d-042c-4714-9f9f-40b8a420a43e"
      },
      "execution_count": 50,
      "outputs": [
        {
          "output_type": "stream",
          "name": "stdout",
          "text": [
            "-18\n"
          ]
        }
      ]
    },
    {
      "cell_type": "code",
      "source": [
        "nume1 = 20\n",
        "nume2 = 40\n",
        "nume3 = 60\n",
        "resultado = nume1 + nume2 + nume3\n",
        "print(resultado)"
      ],
      "metadata": {
        "colab": {
          "base_uri": "https://localhost:8080/"
        },
        "id": "VYD7ECXLbeu2",
        "outputId": "665604d7-b70a-4a9f-a28d-e5385576d5eb"
      },
      "execution_count": 52,
      "outputs": [
        {
          "output_type": "stream",
          "name": "stdout",
          "text": [
            "120\n"
          ]
        }
      ]
    },
    {
      "cell_type": "code",
      "source": [
        "resultado = resultado * 2\n",
        "print(resultado)"
      ],
      "metadata": {
        "colab": {
          "base_uri": "https://localhost:8080/"
        },
        "id": "vIHnmqX0bs3W",
        "outputId": "e1a73790-0b0e-4dba-e557-1cecc5e56c41"
      },
      "execution_count": 53,
      "outputs": [
        {
          "output_type": "stream",
          "name": "stdout",
          "text": [
            "240\n"
          ]
        }
      ]
    },
    {
      "cell_type": "code",
      "source": [
        "a = 1\n",
        "a+=1\n",
        "print(a)"
      ],
      "metadata": {
        "colab": {
          "base_uri": "https://localhost:8080/"
        },
        "id": "ulrm0Ofwb483",
        "outputId": "3541396b-527f-4080-ca7a-6dc743f7516e"
      },
      "execution_count": 55,
      "outputs": [
        {
          "output_type": "stream",
          "name": "stdout",
          "text": [
            "2\n"
          ]
        }
      ]
    }
  ]
}