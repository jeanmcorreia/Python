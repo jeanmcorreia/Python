{
  "nbformat": 4,
  "nbformat_minor": 0,
  "metadata": {
    "colab": {
      "provenance": [],
      "authorship_tag": "ABX9TyOZWV05yjQBDmosaucb4HsX",
      "include_colab_link": true
    },
    "kernelspec": {
      "name": "python3",
      "display_name": "Python 3"
    },
    "language_info": {
      "name": "python"
    }
  },
  "cells": [
    {
      "cell_type": "markdown",
      "metadata": {
        "id": "view-in-github",
        "colab_type": "text"
      },
      "source": [
        "<a href=\"https://colab.research.google.com/github/jeanmcorreia/Python/blob/main/1_Fundamentos.ipynb\" target=\"_parent\"><img src=\"https://colab.research.google.com/assets/colab-badge.svg\" alt=\"Open In Colab\"/></a>"
      ]
    },
    {
      "cell_type": "markdown",
      "source": [
        "# Comentários e Metódo Print"
      ],
      "metadata": {
        "id": "j9qwdhzJwTM3"
      }
    },
    {
      "cell_type": "code",
      "execution_count": null,
      "metadata": {
        "colab": {
          "base_uri": "https://localhost:8080/"
        },
        "id": "hly6bpNZoDem",
        "outputId": "79d6b014-e24f-4d59-dd5d-8a2c5131e43a"
      },
      "outputs": [
        {
          "output_type": "stream",
          "name": "stdout",
          "text": [
            "Olá mundo!\n"
          ]
        }
      ],
      "source": [
        "# isto é um comentário\n",
        "# isto é outro comentário\n",
        "print('Olá mundo!') # isto é um comentário\n"
      ]
    },
    {
      "cell_type": "code",
      "source": [
        "''' Este é um comentário\n",
        "o comentário continua aqui\n",
        "aqui ainda continua\n",
        "e aqui termina '''"
      ],
      "metadata": {
        "colab": {
          "base_uri": "https://localhost:8080/",
          "height": 35
        },
        "id": "njFY7WCfod9b",
        "outputId": "b4586b58-f7c6-42aa-db23-ce568c4e54b7"
      },
      "execution_count": null,
      "outputs": [
        {
          "output_type": "execute_result",
          "data": {
            "text/plain": [
              "' Este é um comentário \\no comentário continua aqui\\naqui ainda continua\\ne aqui termina '"
            ],
            "application/vnd.google.colaboratory.intrinsic+json": {
              "type": "string"
            }
          },
          "metadata": {},
          "execution_count": 2
        }
      ]
    },
    {
      "cell_type": "code",
      "source": [
        "print('Olá mundo!')\n",
        "print(20)\n",
        "print(20.5)"
      ],
      "metadata": {
        "colab": {
          "base_uri": "https://localhost:8080/"
        },
        "id": "qUy8DeOyovU5",
        "outputId": "c242fb0c-858c-4643-eca0-6c585708e548"
      },
      "execution_count": null,
      "outputs": [
        {
          "output_type": "stream",
          "name": "stdout",
          "text": [
            "Olá mundo!\n",
            "20\n",
            "20.5\n"
          ]
        }
      ]
    },
    {
      "cell_type": "code",
      "source": [
        "print(\"Maçã\", 20, 30.45)"
      ],
      "metadata": {
        "colab": {
          "base_uri": "https://localhost:8080/"
        },
        "id": "TImAb1Gdo-Rp",
        "outputId": "adb01b91-267a-455c-f510-dc75fa25dace"
      },
      "execution_count": null,
      "outputs": [
        {
          "output_type": "stream",
          "name": "stdout",
          "text": [
            "Maçã 20 30.45\n"
          ]
        }
      ]
    },
    {
      "cell_type": "code",
      "source": [
        "print(\"Maçã\", \"Pera\", \"Uva\", sep=' - ')"
      ],
      "metadata": {
        "colab": {
          "base_uri": "https://localhost:8080/"
        },
        "id": "F_Ng2KJUpP4x",
        "outputId": "e73fcb17-306d-4be3-d2eb-7003af285892"
      },
      "execution_count": null,
      "outputs": [
        {
          "output_type": "stream",
          "name": "stdout",
          "text": [
            "Maçã - Pera - Uva\n"
          ]
        }
      ]
    },
    {
      "cell_type": "code",
      "source": [
        "print(\"Maçã\",\"Pera\", end = ' Fim', sep=' ')"
      ],
      "metadata": {
        "colab": {
          "base_uri": "https://localhost:8080/"
        },
        "id": "xy7mjMn4paia",
        "outputId": "d6a3fbc1-a8df-4afd-d626-b9c7b2b60944"
      },
      "execution_count": null,
      "outputs": [
        {
          "output_type": "stream",
          "name": "stdout",
          "text": [
            "Maçã Pera Fim"
          ]
        }
      ]
    },
    {
      "cell_type": "code",
      "source": [
        "print(\"Este é um texto longo, \\n eu quero quebrar a linha\")"
      ],
      "metadata": {
        "colab": {
          "base_uri": "https://localhost:8080/"
        },
        "id": "0owiPwU4pjCh",
        "outputId": "dae1df67-c47e-4ead-c98c-57babd657ae6"
      },
      "execution_count": null,
      "outputs": [
        {
          "output_type": "stream",
          "name": "stdout",
          "text": [
            "Este é um texto longo, \n",
            " eu quero quebrar a linha\n"
          ]
        }
      ]
    },
    {
      "cell_type": "code",
      "source": [
        "print(\"Maçã\", \"Pera\", sep='\\n')"
      ],
      "metadata": {
        "colab": {
          "base_uri": "https://localhost:8080/"
        },
        "id": "9KFlW1dbp7aq",
        "outputId": "b7aa7244-3d37-4721-86a4-61176e42bbfb"
      },
      "execution_count": null,
      "outputs": [
        {
          "output_type": "stream",
          "name": "stdout",
          "text": [
            "Maçã\n",
            "Pera\n"
          ]
        }
      ]
    },
    {
      "cell_type": "code",
      "source": [
        "print(\"A pontuacao total de %s foi %s pontos\" % (\"Fernando\", \"10\") )"
      ],
      "metadata": {
        "colab": {
          "base_uri": "https://localhost:8080/"
        },
        "id": "76lDDsHBqFOq",
        "outputId": "fee0f04c-ddd8-4224-90c1-ea0e6f7e44c1"
      },
      "execution_count": null,
      "outputs": [
        {
          "output_type": "stream",
          "name": "stdout",
          "text": [
            "A pontuacao total de Fernando foi 10 pontos\n"
          ]
        }
      ]
    },
    {
      "cell_type": "code",
      "source": [
        "print(\"A pontuacao total de {} foi {} pontos\".format(\"Fernando\", \"10\"))"
      ],
      "metadata": {
        "colab": {
          "base_uri": "https://localhost:8080/"
        },
        "id": "ZiFnwUxMqcTJ",
        "outputId": "4bbb6441-769e-4fcd-d8c4-a627c6cd5897"
      },
      "execution_count": null,
      "outputs": [
        {
          "output_type": "stream",
          "name": "stdout",
          "text": [
            "A pontuacao total de Fernando foi 10 pontos\n"
          ]
        }
      ]
    },
    {
      "cell_type": "code",
      "source": [
        "print(\"A pontuacao total de\" + \" Fernando\" + \" foi\" + \" 10 \" + \"pontos\")"
      ],
      "metadata": {
        "colab": {
          "base_uri": "https://localhost:8080/"
        },
        "id": "nUp629Pmqpva",
        "outputId": "be29749b-84a4-47fd-c84d-794d59387193"
      },
      "execution_count": null,
      "outputs": [
        {
          "output_type": "stream",
          "name": "stdout",
          "text": [
            "A pontuacao total de Fernando foi 10 pontos\n"
          ]
        }
      ]
    },
    {
      "cell_type": "markdown",
      "source": [
        "## Atividades de Metódo Print"
      ],
      "metadata": {
        "id": "xGSSlXn7wc60"
      }
    },
    {
      "cell_type": "code",
      "source": [
        "#1 - Realize o print do seu nome completo, sua idade e sua\n",
        "# altura utilizando um print para cada valor."
      ],
      "metadata": {
        "id": "3_IUwqbermSK"
      },
      "execution_count": null,
      "outputs": []
    },
    {
      "cell_type": "code",
      "source": [
        "print(\"Jean Marcos Correia\")\n",
        "print(20)\n",
        "print(1.70)"
      ],
      "metadata": {
        "colab": {
          "base_uri": "https://localhost:8080/"
        },
        "id": "_MErpYERwpTk",
        "outputId": "5ffe88a2-96f3-49fe-c6e8-e3de3e42d333"
      },
      "execution_count": null,
      "outputs": [
        {
          "output_type": "stream",
          "name": "stdout",
          "text": [
            "Jean Marcos Correia\n",
            "20\n",
            "1.7\n"
          ]
        }
      ]
    },
    {
      "cell_type": "code",
      "source": [
        "#2 - Realize o print do seu nome completo, sua idade e sua altura\n",
        "# utilizando apenas um print para todos valores."
      ],
      "metadata": {
        "id": "YpQOxg14wu_a"
      },
      "execution_count": null,
      "outputs": []
    },
    {
      "cell_type": "code",
      "source": [
        "print(\"Nome: {}, idade: {}, altura: {}\".format(\"Fernando\", 20, 1.70))"
      ],
      "metadata": {
        "colab": {
          "base_uri": "https://localhost:8080/"
        },
        "id": "RabYao7fw0Kj",
        "outputId": "452b931f-f186-4c3b-e1a3-9ca0cf3a511e"
      },
      "execution_count": null,
      "outputs": [
        {
          "output_type": "stream",
          "name": "stdout",
          "text": [
            "Nome: Fernando, idade: 20, altura: 1.7\n"
          ]
        }
      ]
    },
    {
      "cell_type": "code",
      "source": [
        "#3 - Realize o print de 3 números de sua escolha\n",
        "# em um mesmo print, mas separados pelo caractere '-'."
      ],
      "metadata": {
        "id": "7eEmQtlqw2kz"
      },
      "execution_count": null,
      "outputs": []
    },
    {
      "cell_type": "code",
      "source": [
        "print(1,2,3, sep=\"-\")"
      ],
      "metadata": {
        "colab": {
          "base_uri": "https://localhost:8080/"
        },
        "id": "u6pTfa-mw4ML",
        "outputId": "9fed7b6e-dc7d-4812-aaeb-24354a427743"
      },
      "execution_count": null,
      "outputs": [
        {
          "output_type": "stream",
          "name": "stdout",
          "text": [
            "1-2-3\n"
          ]
        }
      ]
    },
    {
      "cell_type": "markdown",
      "source": [
        "# Variáveis"
      ],
      "metadata": {
        "id": "GXM9DWTnxTLZ"
      }
    },
    {
      "cell_type": "code",
      "source": [
        "_numero = 1\n",
        "Numero = 2\n",
        "numero = 3\n",
        "numero123 = 4\n",
        "print(_numero, Numero, numero, numero123)"
      ],
      "metadata": {
        "colab": {
          "base_uri": "https://localhost:8080/"
        },
        "id": "RMlunQdIxWAK",
        "outputId": "8d95aff3-09a5-42e7-83b3-2177488b0120"
      },
      "execution_count": null,
      "outputs": [
        {
          "output_type": "stream",
          "name": "stdout",
          "text": [
            "1 2 3 4\n"
          ]
        }
      ]
    },
    {
      "cell_type": "code",
      "source": [
        "numero = 10\n",
        "print(numero)\n",
        "numero = 20\n",
        "print(numero)"
      ],
      "metadata": {
        "colab": {
          "base_uri": "https://localhost:8080/"
        },
        "id": "klLNOWGDxeUD",
        "outputId": "a1b71541-f338-4df2-e218-289cff2f1b7f"
      },
      "execution_count": null,
      "outputs": [
        {
          "output_type": "stream",
          "name": "stdout",
          "text": [
            "10\n",
            "30\n"
          ]
        }
      ]
    },
    {
      "cell_type": "code",
      "source": [
        "texto = 'Olá mundo!'\n",
        "print(texto)"
      ],
      "metadata": {
        "colab": {
          "base_uri": "https://localhost:8080/"
        },
        "id": "bw_4l7ANxsT7",
        "outputId": "158e2e8e-1e47-4ebd-881e-bbbf7244cbe5"
      },
      "execution_count": null,
      "outputs": [
        {
          "output_type": "stream",
          "name": "stdout",
          "text": [
            "Olá mundo!\n"
          ]
        }
      ]
    },
    {
      "cell_type": "markdown",
      "source": [
        "# Tipos Primitivos\n"
      ],
      "metadata": {
        "id": "gmLIPP8QyOma"
      }
    },
    {
      "cell_type": "code",
      "source": [
        "variavel = None\n",
        "print(variavel)"
      ],
      "metadata": {
        "colab": {
          "base_uri": "https://localhost:8080/"
        },
        "id": "sx-Qot1WyEfT",
        "outputId": "5c0d7b78-85cf-438e-a6f3-8d3915191fa0"
      },
      "execution_count": null,
      "outputs": [
        {
          "output_type": "stream",
          "name": "stdout",
          "text": [
            "None\n"
          ]
        }
      ]
    },
    {
      "cell_type": "code",
      "source": [
        "inteiro = 10\n",
        "print(inteiro)"
      ],
      "metadata": {
        "colab": {
          "base_uri": "https://localhost:8080/"
        },
        "id": "YNvdGEiayb2s",
        "outputId": "cb61cb4f-2a5f-491c-beab-86b4bdac2ca1"
      },
      "execution_count": null,
      "outputs": [
        {
          "output_type": "stream",
          "name": "stdout",
          "text": [
            "10\n"
          ]
        }
      ]
    },
    {
      "cell_type": "code",
      "source": [
        "decimal = 1.53\n",
        "print(decimal)"
      ],
      "metadata": {
        "colab": {
          "base_uri": "https://localhost:8080/"
        },
        "id": "V_O8nfYVymXk",
        "outputId": "2b382f70-fecf-498d-b7bd-c65a503873d9"
      },
      "execution_count": null,
      "outputs": [
        {
          "output_type": "stream",
          "name": "stdout",
          "text": [
            "1.53\n"
          ]
        }
      ]
    },
    {
      "cell_type": "code",
      "source": [
        "texto = \"Olá, isto é um texto\"\n",
        "print(texto)"
      ],
      "metadata": {
        "colab": {
          "base_uri": "https://localhost:8080/"
        },
        "id": "BPfKxZQeyqEj",
        "outputId": "747e5058-3ba0-448e-fe74-c582316b3f1b"
      },
      "execution_count": null,
      "outputs": [
        {
          "output_type": "stream",
          "name": "stdout",
          "text": [
            "Olá, isto é um texto\n"
          ]
        }
      ]
    },
    {
      "cell_type": "code",
      "source": [
        "var = True\n",
        "print(var)\n",
        "var = False\n",
        "print(var)"
      ],
      "metadata": {
        "colab": {
          "base_uri": "https://localhost:8080/"
        },
        "id": "txDa9_Tuyvbb",
        "outputId": "d4c477e8-9863-4971-febc-b4fe268ee3f8"
      },
      "execution_count": null,
      "outputs": [
        {
          "output_type": "stream",
          "name": "stdout",
          "text": [
            "True\n",
            "False\n"
          ]
        }
      ]
    },
    {
      "cell_type": "code",
      "source": [
        "var1 = 10\n",
        "var2 = var1\n",
        "print(var2)"
      ],
      "metadata": {
        "colab": {
          "base_uri": "https://localhost:8080/"
        },
        "id": "q1Jmqp1cy7Iq",
        "outputId": "4fe0131a-c3d3-4eca-d5c6-e12c89a53f3f"
      },
      "execution_count": null,
      "outputs": [
        {
          "output_type": "stream",
          "name": "stdout",
          "text": [
            "10\n"
          ]
        }
      ]
    },
    {
      "cell_type": "code",
      "source": [
        "var = None\n",
        "print(var)\n",
        "var = 1\n",
        "print(var)\n",
        "var = \"Texto\"\n",
        "print(var)"
      ],
      "metadata": {
        "colab": {
          "base_uri": "https://localhost:8080/"
        },
        "id": "DkGf8q4_zE7b",
        "outputId": "a0e315ca-beca-456a-eafe-616504d028ea"
      },
      "execution_count": null,
      "outputs": [
        {
          "output_type": "stream",
          "name": "stdout",
          "text": [
            "None\n",
            "1\n",
            "Texto\n"
          ]
        }
      ]
    },
    {
      "cell_type": "code",
      "source": [
        "saldoBancario = 100\n",
        "SaldoBancario = 100\n",
        "saldo_bancario = 100"
      ],
      "metadata": {
        "id": "cgM3GFIUzPp7"
      },
      "execution_count": null,
      "outputs": []
    },
    {
      "cell_type": "markdown",
      "source": [
        "## Atividade de Variáveis"
      ],
      "metadata": {
        "id": "rOYQGrH-Nc3g"
      }
    },
    {
      "cell_type": "code",
      "source": [
        "#1 - Crie uma variável de cada tipo e ponha alguma valor\n",
        "# escolhido. Em seguida, printe todos esses valores."
      ],
      "metadata": {
        "id": "_JD7e34zNtgT"
      },
      "execution_count": null,
      "outputs": []
    },
    {
      "cell_type": "code",
      "source": [
        "inteiro = 1\n",
        "print(inteiro)\n",
        "decimal = 1.5\n",
        "print(decimal)\n",
        "string = \"Olá mundo\"\n",
        "print(string)\n",
        "booleana = True\n",
        "print(booleana)"
      ],
      "metadata": {
        "colab": {
          "base_uri": "https://localhost:8080/"
        },
        "id": "zmPNMVChNznf",
        "outputId": "02c8203f-bdad-44b5-f582-8b221f59ec63"
      },
      "execution_count": null,
      "outputs": [
        {
          "output_type": "stream",
          "name": "stdout",
          "text": [
            "1\n",
            "1.5\n",
            "Olá mundo\n",
            "True\n"
          ]
        }
      ]
    },
    {
      "cell_type": "code",
      "source": [
        "#2 - Cria variáveis para guardar seu nome, CPF e uma que indique se você esta\n",
        "# casado, em seguida printe esses valores separadamente, mas\n",
        "# não esqueça de printar junto o que eles significam."
      ],
      "metadata": {
        "id": "vGVL4fs4ON-O"
      },
      "execution_count": null,
      "outputs": []
    },
    {
      "cell_type": "code",
      "source": [
        "nome = \"Jean\"\n",
        "cpf = \"000.000.000-12\"\n",
        "casado = False\n",
        "\n",
        "print(\"Nome: \",(nome))\n",
        "print(\"CPF: \",(cpf))\n",
        "print(\"Casado? \",(casado))"
      ],
      "metadata": {
        "colab": {
          "base_uri": "https://localhost:8080/"
        },
        "id": "UtnqEmY0OYUE",
        "outputId": "6effd34b-588d-4255-9fca-abea6173e77f"
      },
      "execution_count": null,
      "outputs": [
        {
          "output_type": "stream",
          "name": "stdout",
          "text": [
            "Nome:  Jean\n",
            "CPF:  000.000.000-12\n",
            "Casado?  False\n"
          ]
        }
      ]
    },
    {
      "cell_type": "markdown",
      "source": [
        "# Formatação"
      ],
      "metadata": {
        "id": "fIbGjbyGQkXq"
      }
    },
    {
      "cell_type": "code",
      "source": [
        "# %s - texto\n",
        "# %d - inteiro\n",
        "# %f - real"
      ],
      "metadata": {
        "id": "0awp5inoQo-k"
      },
      "execution_count": null,
      "outputs": []
    },
    {
      "cell_type": "code",
      "source": [
        "nome = \"Ana\"\n",
        "texto_formatado = \"O nome dela é %s \" % (nome)\n",
        "print(texto_formatado)"
      ],
      "metadata": {
        "colab": {
          "base_uri": "https://localhost:8080/"
        },
        "id": "bjGgpCdpQ94K",
        "outputId": "d0e398fb-9c9f-49eb-855d-52ec681ac039"
      },
      "execution_count": null,
      "outputs": [
        {
          "output_type": "stream",
          "name": "stdout",
          "text": [
            "O nome dela é Ana \n"
          ]
        }
      ]
    },
    {
      "cell_type": "code",
      "source": [
        "nome = \"Rodrigo\"\n",
        "idade = 23\n",
        "altura = 1.73\n",
        "texto = \"Meu nome é %s. Tenho %d anos e tenho %f metros de altura\" % (nome, idade, altura)\n",
        "print(texto)"
      ],
      "metadata": {
        "colab": {
          "base_uri": "https://localhost:8080/"
        },
        "id": "vGUKf_PoRKRf",
        "outputId": "b59d9af1-ddd2-4f72-85cc-380894b54476"
      },
      "execution_count": null,
      "outputs": [
        {
          "output_type": "stream",
          "name": "stdout",
          "text": [
            "Meu nome é Rodrigo. Tenho 23 anos e tenho 1.730000 metros de altura\n"
          ]
        }
      ]
    },
    {
      "cell_type": "code",
      "source": [
        "numero_gigante = 1.123456789\n",
        "print(\"Numero gigante formatado: %.2f\" % (numero_gigante))"
      ],
      "metadata": {
        "colab": {
          "base_uri": "https://localhost:8080/"
        },
        "id": "c35XghkoRyfm",
        "outputId": "7a1d9b21-66d8-4b0c-d4d5-9769b3316ac5"
      },
      "execution_count": null,
      "outputs": [
        {
          "output_type": "stream",
          "name": "stdout",
          "text": [
            "Numero gigante formatado: 1.12\n"
          ]
        }
      ]
    },
    {
      "cell_type": "code",
      "source": [
        "valor = False\n",
        "print(\"O valor é %s\" % (valor))\n",
        "print(\"O valor é %d\" % (valor))"
      ],
      "metadata": {
        "colab": {
          "base_uri": "https://localhost:8080/"
        },
        "id": "4RzHghBZSOlH",
        "outputId": "7a07d1e7-9bf5-4b08-e654-3360c9f8904b"
      },
      "execution_count": null,
      "outputs": [
        {
          "output_type": "stream",
          "name": "stdout",
          "text": [
            "O valor é False\n",
            "O valor é 0\n"
          ]
        }
      ]
    },
    {
      "cell_type": "code",
      "source": [
        "decimal = 23.4566\n",
        "print(\"A parte inteira é %d\" % (decimal))"
      ],
      "metadata": {
        "colab": {
          "base_uri": "https://localhost:8080/"
        },
        "id": "ky6WMMlUS0eW",
        "outputId": "b4e0aff4-4a25-4a6a-b20a-0d837d449147"
      },
      "execution_count": null,
      "outputs": [
        {
          "output_type": "stream",
          "name": "stdout",
          "text": [
            "A parte inteira é 23\n"
          ]
        }
      ]
    },
    {
      "cell_type": "code",
      "source": [
        "texto = \"Olá, assim se quebra uma linha,\\n\\tentendeu como quebra a linha?\\n\\t\\tFim\"\n",
        "print(texto)"
      ],
      "metadata": {
        "colab": {
          "base_uri": "https://localhost:8080/"
        },
        "id": "g3ueXgr0TMn1",
        "outputId": "5fdd4c05-636a-4188-fce7-e3ce0b4870a7"
      },
      "execution_count": null,
      "outputs": [
        {
          "output_type": "stream",
          "name": "stdout",
          "text": [
            "Olá, assim se quebra uma linha,\n",
            "\tentendeu como quebra a linha?\n",
            "\t\tFim\n"
          ]
        }
      ]
    },
    {
      "cell_type": "code",
      "source": [
        "texto = 'Deixa a \\'Palavra\\' entre aspas'\n",
        "print(texto)"
      ],
      "metadata": {
        "colab": {
          "base_uri": "https://localhost:8080/"
        },
        "id": "dD37TPlxTqcm",
        "outputId": "5a246539-f3a1-4800-ae9f-2114ee974fce"
      },
      "execution_count": null,
      "outputs": [
        {
          "output_type": "stream",
          "name": "stdout",
          "text": [
            "Deixa a 'Palavra' entre aspas\n"
          ]
        }
      ]
    },
    {
      "cell_type": "markdown",
      "source": [
        "## Atividades de Formatação"
      ],
      "metadata": {
        "id": "hyu-H8iKUf61"
      }
    },
    {
      "cell_type": "code",
      "source": [
        "#1 - Escreva e formate a data em que você nasceu no formato\n",
        "# dia/mês/ano. Não esqueça de criar 3 variáveis para guardar o dia,\n",
        "# mês e ano.\n",
        "# Exemplo de saída:\n",
        "# Eu nasci em 30/9/1998"
      ],
      "metadata": {
        "id": "D_oddtY9Un6f"
      },
      "execution_count": null,
      "outputs": []
    },
    {
      "cell_type": "code",
      "source": [
        "dia, mes, ano = 4, 12, 1980\n",
        "texto = \"Eu nasci em %d/%d/%d\" % (dia, mes, ano)\n",
        "print(texto)"
      ],
      "metadata": {
        "colab": {
          "base_uri": "https://localhost:8080/"
        },
        "id": "7GSLnLjrUv0-",
        "outputId": "4f0166e2-b1a5-4410-94b8-7e08820a0e6e"
      },
      "execution_count": null,
      "outputs": [
        {
          "output_type": "stream",
          "name": "stdout",
          "text": [
            "Eu nasci em 4/12/1980\n"
          ]
        }
      ]
    },
    {
      "cell_type": "code",
      "source": [
        "#2 - Escreva e formate a hora e minuto atual. Não esqueça de criar\n",
        "# duas variáveis para guardar a hora e minuto.\n",
        "# Exemplo de saída:\n",
        "# Agora são 22 horas e 37 minutos"
      ],
      "metadata": {
        "id": "pjcORDt2VIH3"
      },
      "execution_count": null,
      "outputs": []
    },
    {
      "cell_type": "code",
      "source": [
        "horas = 22\n",
        "minutos = 37\n",
        "print(\"Agora são %d horas e %d minutos\" % (horas, minutos))"
      ],
      "metadata": {
        "colab": {
          "base_uri": "https://localhost:8080/"
        },
        "id": "uPGl4IgUVPX6",
        "outputId": "87681ae2-0b3d-43a6-af19-91bd06b4e24d"
      },
      "execution_count": null,
      "outputs": [
        {
          "output_type": "stream",
          "name": "stdout",
          "text": [
            "Agora são 22 horas e 37 minutos\n"
          ]
        }
      ]
    },
    {
      "cell_type": "code",
      "source": [
        "#3 - Escreva um programa que contêm o número PI, que deve ter o\n",
        "# valor exato de 3.14159265359. Agora formate esse número para ter\n",
        "# apenas cinco casas decimais.\n",
        "# Exemplo de saída:\n",
        "# O PI é 3.14159"
      ],
      "metadata": {
        "id": "y79c-bUtVaYN"
      },
      "execution_count": null,
      "outputs": []
    },
    {
      "cell_type": "code",
      "source": [
        "numero_pi = 3.14159265359\n",
        "texto = \"O PI é %.5f\" % (numero_pi)\n",
        "print(texto)"
      ],
      "metadata": {
        "colab": {
          "base_uri": "https://localhost:8080/"
        },
        "id": "aX9bAO-OVkLu",
        "outputId": "cfdc161b-c988-48eb-82a7-37ad2fb47cd1"
      },
      "execution_count": null,
      "outputs": [
        {
          "output_type": "stream",
          "name": "stdout",
          "text": [
            "O PI é 3.14159\n"
          ]
        }
      ]
    },
    {
      "cell_type": "markdown",
      "source": [
        "# Operadores Aritméticos"
      ],
      "metadata": {
        "id": "O3aAcQ2GYXpL"
      }
    },
    {
      "cell_type": "code",
      "source": [
        "print(10 + 20)"
      ],
      "metadata": {
        "colab": {
          "base_uri": "https://localhost:8080/"
        },
        "id": "43AEy66KYcuk",
        "outputId": "298015f8-3932-46bc-d832-8be5f4159ea6"
      },
      "execution_count": null,
      "outputs": [
        {
          "output_type": "stream",
          "name": "stdout",
          "text": [
            "30\n"
          ]
        }
      ]
    },
    {
      "cell_type": "code",
      "source": [
        "numero = 10 + 10.5\n",
        "print(numero)"
      ],
      "metadata": {
        "colab": {
          "base_uri": "https://localhost:8080/"
        },
        "id": "h45b3P95YiBP",
        "outputId": "d54ecd5b-327a-4be0-dd80-1923548163fe"
      },
      "execution_count": null,
      "outputs": [
        {
          "output_type": "stream",
          "name": "stdout",
          "text": [
            "20.5\n"
          ]
        }
      ]
    },
    {
      "cell_type": "code",
      "source": [
        "outro_numero = 30 + numero\n",
        "print(outro_numero)"
      ],
      "metadata": {
        "colab": {
          "base_uri": "https://localhost:8080/"
        },
        "id": "NYGFzuKxYnVG",
        "outputId": "fa9af0b4-fb92-42e2-855f-3080a68f02f8"
      },
      "execution_count": null,
      "outputs": [
        {
          "output_type": "stream",
          "name": "stdout",
          "text": [
            "50.5\n"
          ]
        }
      ]
    },
    {
      "cell_type": "code",
      "source": [
        "numero = 20 - 10\n",
        "print(numero)"
      ],
      "metadata": {
        "colab": {
          "base_uri": "https://localhost:8080/"
        },
        "id": "s7rrRIQFYu-W",
        "outputId": "3806a3fe-9d59-41a8-e384-42bcfa782fa2"
      },
      "execution_count": null,
      "outputs": [
        {
          "output_type": "stream",
          "name": "stdout",
          "text": [
            "10\n"
          ]
        }
      ]
    },
    {
      "cell_type": "code",
      "source": [
        "numero = 10 * 2\n",
        "print(numero)"
      ],
      "metadata": {
        "colab": {
          "base_uri": "https://localhost:8080/"
        },
        "id": "g_2LAQUVYz2O",
        "outputId": "334d9a93-a87e-46c8-cdd6-af6970bdf61c"
      },
      "execution_count": null,
      "outputs": [
        {
          "output_type": "stream",
          "name": "stdout",
          "text": [
            "20\n"
          ]
        }
      ]
    },
    {
      "cell_type": "code",
      "source": [
        "numero = 10 / 3\n",
        "print(numero)"
      ],
      "metadata": {
        "colab": {
          "base_uri": "https://localhost:8080/"
        },
        "id": "-knuXS8CY3i-",
        "outputId": "1e998b52-e67d-46d6-dc63-b5d0b5a7424c"
      },
      "execution_count": null,
      "outputs": [
        {
          "output_type": "stream",
          "name": "stdout",
          "text": [
            "3.3333333333333335\n"
          ]
        }
      ]
    },
    {
      "cell_type": "code",
      "source": [
        "numero = 10 // 3\n",
        "print(numero)"
      ],
      "metadata": {
        "colab": {
          "base_uri": "https://localhost:8080/"
        },
        "id": "W-JbzFGvY6Wu",
        "outputId": "a2e3d514-0456-477f-f4f9-8eaec30d39a5"
      },
      "execution_count": null,
      "outputs": [
        {
          "output_type": "stream",
          "name": "stdout",
          "text": [
            "3\n"
          ]
        }
      ]
    },
    {
      "cell_type": "code",
      "source": [
        "numero = 2 ** 4\n",
        "print(numero)"
      ],
      "metadata": {
        "colab": {
          "base_uri": "https://localhost:8080/"
        },
        "id": "9PN41tisZIk-",
        "outputId": "cc23212b-97a9-4988-af55-c8f0a63b9212"
      },
      "execution_count": null,
      "outputs": [
        {
          "output_type": "stream",
          "name": "stdout",
          "text": [
            "16\n"
          ]
        }
      ]
    },
    {
      "cell_type": "code",
      "source": [
        "numero = 4 % 3\n",
        "print(numero)"
      ],
      "metadata": {
        "colab": {
          "base_uri": "https://localhost:8080/"
        },
        "id": "EBmbjSNEZQkW",
        "outputId": "3b00b8dd-355c-407f-9a22-8a96263aef0f"
      },
      "execution_count": null,
      "outputs": [
        {
          "output_type": "stream",
          "name": "stdout",
          "text": [
            "1\n"
          ]
        }
      ]
    },
    {
      "cell_type": "code",
      "source": [
        "nume1 = 10 * 2 + 1\n",
        "print(nume1)"
      ],
      "metadata": {
        "colab": {
          "base_uri": "https://localhost:8080/"
        },
        "id": "_Kxk1pFTZdKe",
        "outputId": "0e6316fd-7ba6-4169-e906-52879fbb9dbb"
      },
      "execution_count": null,
      "outputs": [
        {
          "output_type": "stream",
          "name": "stdout",
          "text": [
            "21\n"
          ]
        }
      ]
    },
    {
      "cell_type": "code",
      "source": [
        "nume1 = 10 * (2+1)\n",
        "print(nume1)"
      ],
      "metadata": {
        "colab": {
          "base_uri": "https://localhost:8080/"
        },
        "id": "ncPELJthbEhe",
        "outputId": "c120b596-d646-4734-a202-ee0b1922a99d"
      },
      "execution_count": null,
      "outputs": [
        {
          "output_type": "stream",
          "name": "stdout",
          "text": [
            "30\n"
          ]
        }
      ]
    },
    {
      "cell_type": "code",
      "source": [
        "nume1 = 3 * 3 - 9\n",
        "print(nume1)"
      ],
      "metadata": {
        "colab": {
          "base_uri": "https://localhost:8080/"
        },
        "id": "V3U5xEK5bRPe",
        "outputId": "9288ba52-a757-4346-ccc7-23b99538baf7"
      },
      "execution_count": null,
      "outputs": [
        {
          "output_type": "stream",
          "name": "stdout",
          "text": [
            "0\n"
          ]
        }
      ]
    },
    {
      "cell_type": "code",
      "source": [
        "nume1 = 3 * (3 - 9)\n",
        "print(nume1)"
      ],
      "metadata": {
        "colab": {
          "base_uri": "https://localhost:8080/"
        },
        "id": "KLlAmK9MbZ-m",
        "outputId": "d6e9d69d-042c-4714-9f9f-40b8a420a43e"
      },
      "execution_count": null,
      "outputs": [
        {
          "output_type": "stream",
          "name": "stdout",
          "text": [
            "-18\n"
          ]
        }
      ]
    },
    {
      "cell_type": "code",
      "source": [
        "nume1 = 20\n",
        "nume2 = 40\n",
        "nume3 = 60\n",
        "resultado = nume1 + nume2 + nume3\n",
        "print(resultado)"
      ],
      "metadata": {
        "colab": {
          "base_uri": "https://localhost:8080/"
        },
        "id": "VYD7ECXLbeu2",
        "outputId": "665604d7-b70a-4a9f-a28d-e5385576d5eb"
      },
      "execution_count": null,
      "outputs": [
        {
          "output_type": "stream",
          "name": "stdout",
          "text": [
            "120\n"
          ]
        }
      ]
    },
    {
      "cell_type": "code",
      "source": [
        "resultado = resultado * 2\n",
        "print(resultado)"
      ],
      "metadata": {
        "colab": {
          "base_uri": "https://localhost:8080/"
        },
        "id": "vIHnmqX0bs3W",
        "outputId": "e1a73790-0b0e-4dba-e557-1cecc5e56c41"
      },
      "execution_count": null,
      "outputs": [
        {
          "output_type": "stream",
          "name": "stdout",
          "text": [
            "240\n"
          ]
        }
      ]
    },
    {
      "cell_type": "code",
      "source": [
        "a = 1\n",
        "a+=1\n",
        "print(a)"
      ],
      "metadata": {
        "colab": {
          "base_uri": "https://localhost:8080/"
        },
        "id": "ulrm0Ofwb483",
        "outputId": "3541396b-527f-4080-ca7a-6dc743f7516e"
      },
      "execution_count": null,
      "outputs": [
        {
          "output_type": "stream",
          "name": "stdout",
          "text": [
            "2\n"
          ]
        }
      ]
    },
    {
      "cell_type": "markdown",
      "source": [
        "### Atividades de Operações Aritméticas"
      ],
      "metadata": {
        "id": "f5enucYPcj7n"
      }
    },
    {
      "cell_type": "code",
      "source": [
        "#1 - Crie um programa que possui duas variáveis, uma recebe o ano\n",
        "# em que estamos e a outra o ano em que você nasceu. Em seguida\n",
        "# subtraia ambas para receber uma estimativa de quantos anos você\n",
        "# tem. Mostre esse valor na saída do programa."
      ],
      "metadata": {
        "id": "S2TmS98mcqL9"
      },
      "execution_count": null,
      "outputs": []
    },
    {
      "cell_type": "code",
      "source": [
        "ano_atual = 2024\n",
        "ano_nascimento = 2000\n",
        "resultado = ano_atual - ano_nascimento\n",
        "print(resultado)"
      ],
      "metadata": {
        "colab": {
          "base_uri": "https://localhost:8080/"
        },
        "id": "D-KIe7XnctA1",
        "outputId": "864b97e5-2549-45d9-b34d-6f80c66d2a9d"
      },
      "execution_count": null,
      "outputs": [
        {
          "output_type": "stream",
          "name": "stdout",
          "text": [
            "24\n"
          ]
        }
      ]
    },
    {
      "cell_type": "code",
      "source": [
        "#2 - Crie um programa que faz a média aritmética entre três\n",
        "# números. Estes números devem ser salvos em uma variável. Mostre\n",
        "# esse valor na saída do programa."
      ],
      "metadata": {
        "id": "7OxZD9PEc5bm"
      },
      "execution_count": null,
      "outputs": []
    },
    {
      "cell_type": "code",
      "source": [
        "numero1 = 2\n",
        "numero2 = 3\n",
        "numero3 = 4\n",
        "media = (numero1 + numero2 + numero3)/3\n",
        "print(media)"
      ],
      "metadata": {
        "colab": {
          "base_uri": "https://localhost:8080/"
        },
        "id": "7wG1P1X0dEem",
        "outputId": "e54a5d63-eb61-419b-c276-77bfabf9db77"
      },
      "execution_count": null,
      "outputs": [
        {
          "output_type": "stream",
          "name": "stdout",
          "text": [
            "3.0\n"
          ]
        }
      ]
    },
    {
      "cell_type": "code",
      "source": [
        "#3 - Crie um programa que calcule o IMC (índice de massa corporal).\n",
        "# O IMC é dado pelo peso em KG divido pela altura em metros elevado\n",
        "# ao quadrado. Salvar esses valores em uma variável. Mostre esse\n",
        "# valor na saída do programa."
      ],
      "metadata": {
        "id": "qc8DJIMddcDm"
      },
      "execution_count": null,
      "outputs": []
    },
    {
      "cell_type": "code",
      "source": [
        "peso = 60\n",
        "altura = 1.80\n",
        "imc = peso /(altura ** 2)\n",
        "print(\"%.2f\" % (imc))"
      ],
      "metadata": {
        "colab": {
          "base_uri": "https://localhost:8080/"
        },
        "id": "d5xRw3PoeXPv",
        "outputId": "a9f8123c-4cca-4c8a-f71a-c4015cedaf44"
      },
      "execution_count": null,
      "outputs": [
        {
          "output_type": "stream",
          "name": "stdout",
          "text": [
            "18.52\n"
          ]
        }
      ]
    },
    {
      "cell_type": "code",
      "source": [
        "#4 (Desafio) - Você tem um determinado números de ovos de páscoa\n",
        "# para dividir entre um determinado número de pessoas (duas\n",
        "# variáveis iniciais). Determine quantos ovos ficarão por pessoa e\n",
        "# quantos ovos sobrarão pois não puderam ser divido igualmente.\n",
        "# Lembre o número de ovos por pessoa é um número inteiro"
      ],
      "metadata": {
        "id": "_3MOUmZkeosX"
      },
      "execution_count": null,
      "outputs": []
    },
    {
      "cell_type": "code",
      "source": [
        "ovos = 20\n",
        "pessoas = 3\n",
        "divisao = ovos // pessoas\n",
        "sobra = ovos % pessoas\n",
        "print(\"São %d ovos por pessoas e sobrarão %d ovos\" % (divisao, sobra))"
      ],
      "metadata": {
        "colab": {
          "base_uri": "https://localhost:8080/"
        },
        "id": "lRsLNUzofnDa",
        "outputId": "406a6407-c643-4653-eada-5394a704fd97"
      },
      "execution_count": null,
      "outputs": [
        {
          "output_type": "stream",
          "name": "stdout",
          "text": [
            "São 6 ovos por pessoas e sobrarão 2 ovos\n"
          ]
        }
      ]
    },
    {
      "cell_type": "markdown",
      "source": [
        "# Operadores Lógicos"
      ],
      "metadata": {
        "id": "HMKBUSCBk12U"
      }
    },
    {
      "cell_type": "code",
      "source": [
        "resultado1 = True and False\n",
        "print(resultado1)"
      ],
      "metadata": {
        "colab": {
          "base_uri": "https://localhost:8080/"
        },
        "id": "MJWH9wD7k7AB",
        "outputId": "c79705c3-db1e-4275-b855-0d0ebee54e9c"
      },
      "execution_count": null,
      "outputs": [
        {
          "output_type": "stream",
          "name": "stdout",
          "text": [
            "False\n"
          ]
        }
      ]
    },
    {
      "cell_type": "code",
      "source": [
        "resultado2 = True and True\n",
        "print(resultado2)"
      ],
      "metadata": {
        "colab": {
          "base_uri": "https://localhost:8080/"
        },
        "id": "pk0Wolh2lCbQ",
        "outputId": "9ced0060-e214-4879-e2ff-cb3b52d8a537"
      },
      "execution_count": null,
      "outputs": [
        {
          "output_type": "stream",
          "name": "stdout",
          "text": [
            "True\n"
          ]
        }
      ]
    },
    {
      "cell_type": "code",
      "source": [
        "var1 = True\n",
        "var2 = True\n",
        "var3 = False\n",
        "print(var1 and var2 and var3)"
      ],
      "metadata": {
        "colab": {
          "base_uri": "https://localhost:8080/"
        },
        "id": "OmMOKdpxlG7g",
        "outputId": "eff45588-cbc1-4220-83e5-6945691334e4"
      },
      "execution_count": null,
      "outputs": [
        {
          "output_type": "stream",
          "name": "stdout",
          "text": [
            "False\n"
          ]
        }
      ]
    },
    {
      "cell_type": "code",
      "source": [
        "clima_bom = True\n",
        "estou_disposto = True\n",
        "vou_ao_mercado = clima_bom and estou_disposto\n",
        "print(\"Vou ao mercado? \", vou_ao_mercado)"
      ],
      "metadata": {
        "colab": {
          "base_uri": "https://localhost:8080/"
        },
        "id": "be6lC6aflRlo",
        "outputId": "5f6f9945-0c05-4ebd-b0ed-e2b9c8400a55"
      },
      "execution_count": null,
      "outputs": [
        {
          "output_type": "stream",
          "name": "stdout",
          "text": [
            "Vou ao mercado?  True\n"
          ]
        }
      ]
    },
    {
      "cell_type": "code",
      "source": [
        "resultado = True or False\n",
        "print(resultado)"
      ],
      "metadata": {
        "colab": {
          "base_uri": "https://localhost:8080/"
        },
        "id": "VqUPPl0ClrFg",
        "outputId": "2ff35be9-7541-4885-b14b-50b76d77b340"
      },
      "execution_count": null,
      "outputs": [
        {
          "output_type": "stream",
          "name": "stdout",
          "text": [
            "True\n"
          ]
        }
      ]
    },
    {
      "cell_type": "code",
      "source": [
        "resultado = True or True\n",
        "print(resultado)"
      ],
      "metadata": {
        "colab": {
          "base_uri": "https://localhost:8080/"
        },
        "id": "zjcKruNhmIUo",
        "outputId": "12c8f941-a7b6-48ad-e87b-8d25dd362f89"
      },
      "execution_count": null,
      "outputs": [
        {
          "output_type": "stream",
          "name": "stdout",
          "text": [
            "True\n"
          ]
        }
      ]
    },
    {
      "cell_type": "code",
      "source": [
        "resultado = False or False\n",
        "print(resultado)"
      ],
      "metadata": {
        "colab": {
          "base_uri": "https://localhost:8080/"
        },
        "id": "sV46hoqHmN2A",
        "outputId": "f7b4f859-cebb-40aa-bab0-5b2beae5c717"
      },
      "execution_count": null,
      "outputs": [
        {
          "output_type": "stream",
          "name": "stdout",
          "text": [
            "False\n"
          ]
        }
      ]
    },
    {
      "cell_type": "code",
      "source": [
        "sei_programar = False\n",
        "sei_investir = True\n",
        "ganho_bom_salario = sei_programar or sei_investir\n",
        "print(\"Ganho bom salário? \", ganho_bom_salario)"
      ],
      "metadata": {
        "colab": {
          "base_uri": "https://localhost:8080/"
        },
        "id": "n3tyBCsHmP3w",
        "outputId": "78c09947-c04e-420a-cbff-8505c6fc8072"
      },
      "execution_count": null,
      "outputs": [
        {
          "output_type": "stream",
          "name": "stdout",
          "text": [
            "Ganho bom salário?  False\n"
          ]
        }
      ]
    },
    {
      "cell_type": "code",
      "source": [
        "resultado = True\n",
        "print(not resultado)"
      ],
      "metadata": {
        "colab": {
          "base_uri": "https://localhost:8080/"
        },
        "id": "jPkg2ILdmkmA",
        "outputId": "b5bed88e-963c-4576-e9d1-2592bd2a9031"
      },
      "execution_count": null,
      "outputs": [
        {
          "output_type": "stream",
          "name": "stdout",
          "text": [
            "False\n"
          ]
        }
      ]
    },
    {
      "cell_type": "code",
      "source": [
        "porta_aberta = False\n",
        "tem_chave = False\n",
        "print(\"Estou trancado? \", not porta_aberta and not tem_chave)"
      ],
      "metadata": {
        "colab": {
          "base_uri": "https://localhost:8080/"
        },
        "id": "M8CblDcwm1Ao",
        "outputId": "96927baf-22de-449a-9cf6-3fe84b34f2a8"
      },
      "execution_count": null,
      "outputs": [
        {
          "output_type": "stream",
          "name": "stdout",
          "text": [
            "Estou trancado?  True\n"
          ]
        }
      ]
    },
    {
      "cell_type": "code",
      "source": [
        "# Prioridade\n",
        "# NOT, AND, OR"
      ],
      "metadata": {
        "id": "lOAjxRulnRpg"
      },
      "execution_count": null,
      "outputs": []
    },
    {
      "cell_type": "code",
      "source": [
        "booll = True or False and True\n",
        "print(booll)"
      ],
      "metadata": {
        "colab": {
          "base_uri": "https://localhost:8080/"
        },
        "id": "to0_WrdunpeZ",
        "outputId": "31c3d108-f4d4-4ddc-dbf7-f882c698f6db"
      },
      "execution_count": null,
      "outputs": [
        {
          "output_type": "stream",
          "name": "stdout",
          "text": [
            "True\n"
          ]
        }
      ]
    },
    {
      "cell_type": "code",
      "source": [
        "bool2 = True or not False\n",
        "print(bool2)"
      ],
      "metadata": {
        "colab": {
          "base_uri": "https://localhost:8080/"
        },
        "id": "jtY9WZ-6nuvY",
        "outputId": "ac690db9-1258-4fad-d37c-9aa58b145ec3"
      },
      "execution_count": null,
      "outputs": [
        {
          "output_type": "stream",
          "name": "stdout",
          "text": [
            "True\n"
          ]
        }
      ]
    },
    {
      "cell_type": "code",
      "source": [
        "boll3 = True and not (True or False)\n",
        "print(boll3)"
      ],
      "metadata": {
        "colab": {
          "base_uri": "https://localhost:8080/"
        },
        "id": "OWomXINHn8uY",
        "outputId": "6b393c63-e3a9-4ebb-9a4e-97f1a34f4a91"
      },
      "execution_count": null,
      "outputs": [
        {
          "output_type": "stream",
          "name": "stdout",
          "text": [
            "False\n"
          ]
        }
      ]
    },
    {
      "cell_type": "markdown",
      "source": [
        "## Atividades de Operadores Lógicos"
      ],
      "metadata": {
        "id": "2gfdXWu3ogbJ"
      }
    },
    {
      "cell_type": "code",
      "source": [
        "#1 - Crie um programa que diga “se você precisar ir ao\n",
        "# mercado”. Você precisa ir ao mercado se “faltar comida” ou\n",
        "# “se for sábado”. Mostre na saída do programa o valor\n",
        "# lógico, indicando sim ou não."
      ],
      "metadata": {
        "id": "uTXCso8ooDig"
      },
      "execution_count": null,
      "outputs": []
    },
    {
      "cell_type": "code",
      "source": [
        "falta_comida = True\n",
        "eh_sabado = False\n",
        "precisa_ir_mercado = falta_comida or eh_sabado\n",
        "print(\"Preciso ir ao mercado? \", precisa_ir_mercado)"
      ],
      "metadata": {
        "colab": {
          "base_uri": "https://localhost:8080/"
        },
        "id": "FLaknm0kopFc",
        "outputId": "597a814b-94a1-462a-b0c2-054a057e5240"
      },
      "execution_count": null,
      "outputs": [
        {
          "output_type": "stream",
          "name": "stdout",
          "text": [
            "Preciso ir ao mercado?  True\n"
          ]
        }
      ]
    },
    {
      "cell_type": "code",
      "source": [
        "#2 - Crie um programa que responda “se você pode atravessar\n",
        "# a rua” na faixa de pedestres. Você pode atravessar a rua\n",
        "# se o “sinal estiver vermelho” e “se não houver nenhum\n",
        "# carro vindo da direita” E “nem da esquerda”. Altere as\n",
        "# variáveis para verificar se o programa esta correto.\n",
        "# Mostre na saída do programa o valor lógico."
      ],
      "metadata": {
        "id": "iAfhDp5xo7eI"
      },
      "execution_count": null,
      "outputs": []
    },
    {
      "cell_type": "code",
      "source": [
        "sinal_vermelho = True\n",
        "carro_direita = False\n",
        "carro_esquerda = False\n",
        "atravessar_a_rua = sinal_vermelho and not carro_direita and not carro_esquerda\n",
        "print(\"Posso atravessar a rua? \", atravessar_a_rua)"
      ],
      "metadata": {
        "colab": {
          "base_uri": "https://localhost:8080/"
        },
        "id": "Q-BT_m39pAYY",
        "outputId": "079744e4-1f15-4ce1-d934-424442a9e9c6"
      },
      "execution_count": null,
      "outputs": [
        {
          "output_type": "stream",
          "name": "stdout",
          "text": [
            "Posso atravessar a rua?  True\n"
          ]
        }
      ]
    },
    {
      "cell_type": "code",
      "source": [
        "#3 - Agora faça a mesma coisa que o exercício anterior, mas\n",
        "# desta vez você esta com pressa e para atravessar a rua\n",
        "# basta que o sinal esteja vermelho “OU” que não venha carro\n",
        "# da esquerda e direita. Altere as variáveis para verificar\n",
        "# a resposta em comparação com ao exercício anterior. Mostre\n",
        "# na saída do programa o valor lógico."
      ],
      "metadata": {
        "id": "VJ4RtTG5pnhi"
      },
      "execution_count": null,
      "outputs": []
    },
    {
      "cell_type": "code",
      "source": [
        "sinal_vermelho = False\n",
        "carro_direita = False\n",
        "carro_esquerda = False\n",
        "atravessar_a_rua = sinal_vermelho or not carro_direita and not carro_esquerda\n",
        "print(\"Posso atravessar a rua? \", atravessar_a_rua)"
      ],
      "metadata": {
        "colab": {
          "base_uri": "https://localhost:8080/"
        },
        "id": "AX9sOo3Op1nn",
        "outputId": "171ce905-0a51-41e5-bf8f-435586bf78af"
      },
      "execution_count": null,
      "outputs": [
        {
          "output_type": "stream",
          "name": "stdout",
          "text": [
            "Posso atravessar a rua?  True\n"
          ]
        }
      ]
    },
    {
      "cell_type": "markdown",
      "source": [
        "# Casting"
      ],
      "metadata": {
        "id": "TCnRBAAWsOKS"
      }
    },
    {
      "cell_type": "code",
      "source": [
        "texto = \"Olá\"\n",
        "numero = 2\n",
        "decimal = 1.5\n",
        "booleano = True\n",
        "print(type(texto))\n",
        "print(type(numero))\n",
        "print(type(decimal))\n",
        "print(type(booleano))"
      ],
      "metadata": {
        "colab": {
          "base_uri": "https://localhost:8080/"
        },
        "id": "bP29Brxgp9T5",
        "outputId": "26b16361-1b7c-48ac-f78c-bdebfa2cbc5d"
      },
      "execution_count": null,
      "outputs": [
        {
          "output_type": "stream",
          "name": "stdout",
          "text": [
            "<class 'str'>\n",
            "<class 'int'>\n",
            "<class 'float'>\n",
            "<class 'bool'>\n"
          ]
        }
      ]
    },
    {
      "cell_type": "code",
      "source": [
        "texto1 = \"2\"\n",
        "texto2 = \"1.5\"\n",
        "numero1 = int(texto1)\n",
        "numero2 = float(texto2)\n",
        "print(type(texto1))\n",
        "print(type(numero1))\n",
        "print(type(texto2))\n",
        "print(type(numero2))\n",
        "print(numero1 + numero2)"
      ],
      "metadata": {
        "id": "UlgMgOfMtc2Z",
        "colab": {
          "base_uri": "https://localhost:8080/"
        },
        "outputId": "9bc2aa37-8051-428e-97e0-66dbdf96ec01"
      },
      "execution_count": null,
      "outputs": [
        {
          "output_type": "stream",
          "name": "stdout",
          "text": [
            "<class 'str'>\n",
            "<class 'int'>\n",
            "<class 'str'>\n",
            "<class 'float'>\n",
            "3.5\n"
          ]
        }
      ]
    },
    {
      "cell_type": "code",
      "source": [
        "num = 21.45646\n",
        "inteira = int(num)\n",
        "print(\"A parte inteira de %f é %d\" % (num, inteira))"
      ],
      "metadata": {
        "id": "dDLmfsTm1Kx6",
        "colab": {
          "base_uri": "https://localhost:8080/"
        },
        "outputId": "c2c72c5a-2110-40fd-977a-ff681ebc2183"
      },
      "execution_count": null,
      "outputs": [
        {
          "output_type": "stream",
          "name": "stdout",
          "text": [
            "A parte inteira de 21.456460 é 21\n"
          ]
        }
      ]
    },
    {
      "cell_type": "code",
      "source": [
        "texto = \"O numero é \"\n",
        "numero = 10.3\n",
        "numero_em_str = str(numero)\n",
        "print(type(numero))\n",
        "print(type(numero_em_str))\n",
        "print(texto, numero_em_str)"
      ],
      "metadata": {
        "colab": {
          "base_uri": "https://localhost:8080/"
        },
        "id": "6KAeX5wGj8Qq",
        "outputId": "87cfad31-178a-4bb1-fbe2-30c4fd4d62c3"
      },
      "execution_count": null,
      "outputs": [
        {
          "output_type": "stream",
          "name": "stdout",
          "text": [
            "<class 'float'>\n",
            "<class 'str'>\n",
            "O numero é  10.3\n"
          ]
        }
      ]
    },
    {
      "cell_type": "code",
      "source": [
        "numero = 123\n",
        "texto = str(numero)\n",
        "numero_de_digitos = len(texto)\n",
        "print(\"O número %s tem %d digitos \" % (texto, numero_de_digitos))"
      ],
      "metadata": {
        "colab": {
          "base_uri": "https://localhost:8080/"
        },
        "id": "BHJYF7wOkRn8",
        "outputId": "7a575a9e-a608-4f56-cd57-5a9f2092dd93"
      },
      "execution_count": null,
      "outputs": [
        {
          "output_type": "stream",
          "name": "stdout",
          "text": [
            "O número 123 tem 3 digitos \n"
          ]
        }
      ]
    },
    {
      "cell_type": "code",
      "source": [
        "vazio = None\n",
        "numero_um = 15\n",
        "numero_zero = 0\n",
        "texto = \"Texto\"\n",
        "texto_vazio = \"\"\n",
        "decimal_zero = 0.0\n",
        "decimal = 3.5\n",
        "\n",
        "print(\"Variável tem valor: \", bool(vazio))\n",
        "\n",
        "print(\"Número tem valor: \", bool(numero_um))\n",
        "print(\"Número tem valor: \", bool(numero_zero))\n",
        "\n",
        "print(\"String tem conteúdo: \", bool(texto))\n",
        "print(\"String tem conteúdo: \", bool(texto_vazio))\n",
        "\n",
        "print(\"Decimal tem valor: \", bool(decimal_zero))\n",
        "print(\"Decimal tem valor: \", bool(decimal))"
      ],
      "metadata": {
        "colab": {
          "base_uri": "https://localhost:8080/"
        },
        "id": "9V6NemLllepi",
        "outputId": "69818a02-5f51-48bf-aa25-f28f15d0bcc0"
      },
      "execution_count": null,
      "outputs": [
        {
          "output_type": "stream",
          "name": "stdout",
          "text": [
            "Variável tem valor:  False\n",
            "Número tem valor:  True\n",
            "Número tem valor:  False\n",
            "String tem conteúdo:  True\n",
            "String tem conteúdo:  False\n",
            "Decimal tem valor:  False\n",
            "Decimal tem valor:  True\n"
          ]
        }
      ]
    },
    {
      "cell_type": "markdown",
      "source": [
        "## Atividades de Type e Casting\n",
        "\n",
        "```\n",
        "# Isto está formatado como código\n",
        "```\n",
        "\n"
      ],
      "metadata": {
        "id": "w1yxmuB5mjpk"
      }
    },
    {
      "cell_type": "code",
      "source": [
        "#1 - Crie um programa que possui uma variável\n",
        "# do “tipo string” contendo um número que\n",
        "# indique quanto você tem no banco. Em seguida\n",
        "# desconte mil deste valor e mostre na saída do programa."
      ],
      "metadata": {
        "id": "ohgo7zlPl7_K"
      },
      "execution_count": null,
      "outputs": []
    },
    {
      "cell_type": "code",
      "source": [
        "saldo_em_texto = \"5000.35\"\n",
        "saldo = float(saldo_em_texto)\n",
        "total = saldo - 1000\n",
        "print(\"Seu saldo atual é R$ %.2f\" % total)"
      ],
      "metadata": {
        "colab": {
          "base_uri": "https://localhost:8080/"
        },
        "id": "2j4GHsAum326",
        "outputId": "a9608709-5f34-4b13-a116-477fd7018790"
      },
      "execution_count": null,
      "outputs": [
        {
          "output_type": "stream",
          "name": "stdout",
          "text": [
            "Seu saldo atual é R$ 4000.35\n"
          ]
        }
      ]
    },
    {
      "cell_type": "code",
      "source": [
        "#2 - Crie um programa que indique se seu saldo\n",
        "# bancário esta zerado (valor lógico). Declare\n",
        "# uma variável para guardar seu saldo bancário."
      ],
      "metadata": {
        "id": "41_dNATFnjrH"
      },
      "execution_count": null,
      "outputs": []
    },
    {
      "cell_type": "code",
      "source": [
        "saldo_bancario = 10\n",
        "esta_zerado = not bool(saldo_bancario)\n",
        "print(\"Saldo zerado: \", esta_zerado)"
      ],
      "metadata": {
        "colab": {
          "base_uri": "https://localhost:8080/"
        },
        "id": "YnLU6Pam1caO",
        "outputId": "f292d479-d0e0-4b3c-d901-171a3c1e948d"
      },
      "execution_count": null,
      "outputs": [
        {
          "output_type": "stream",
          "name": "stdout",
          "text": [
            "Saldo zerado:  False\n"
          ]
        }
      ]
    },
    {
      "cell_type": "code",
      "source": [
        "#3 - Crie um programa que contenha sua altura,\n",
        "# mas deve somente mostrar a parte inteira de\n",
        "# sua altura na saída do programa, pois queremos\n",
        "# uma estimativa."
      ],
      "metadata": {
        "id": "u2dNkVfy1zS1"
      },
      "execution_count": null,
      "outputs": []
    },
    {
      "cell_type": "code",
      "source": [
        "altura = 1.77\n",
        "altura_em_inteiro = int(altura)\n",
        "print(\"Estimativa: %i metros de altura\" % altura_em_inteiro)"
      ],
      "metadata": {
        "colab": {
          "base_uri": "https://localhost:8080/"
        },
        "id": "ACxw2PMy2JZn",
        "outputId": "ba012282-3285-46dd-b98b-3b0fffe54e30"
      },
      "execution_count": null,
      "outputs": [
        {
          "output_type": "stream",
          "name": "stdout",
          "text": [
            "Estimativa: 1 metros de altura\n"
          ]
        }
      ]
    },
    {
      "cell_type": "markdown",
      "source": [
        "# Input"
      ],
      "metadata": {
        "id": "SGn0NC7z4kK5"
      }
    },
    {
      "cell_type": "code",
      "source": [
        "valor_escrito = input()\n",
        "print(type(valor_escrito))\n",
        "print(valor_escrito)"
      ],
      "metadata": {
        "colab": {
          "base_uri": "https://localhost:8080/"
        },
        "id": "edgOY1jA2Xbm",
        "outputId": "540eec15-5cc0-4e79-e75a-2eb4bd42415b"
      },
      "execution_count": null,
      "outputs": [
        {
          "output_type": "stream",
          "name": "stdout",
          "text": [
            "20\n",
            "<class 'str'>\n",
            "20\n"
          ]
        }
      ]
    },
    {
      "cell_type": "code",
      "source": [
        "meu_nome = input()\n",
        "print(\"Eu me chamo %s\" % (meu_nome))"
      ],
      "metadata": {
        "colab": {
          "base_uri": "https://localhost:8080/"
        },
        "id": "SWFxX4pH497d",
        "outputId": "7794649b-9b4f-4323-d72a-8a19ca70506c"
      },
      "execution_count": null,
      "outputs": [
        {
          "output_type": "stream",
          "name": "stdout",
          "text": [
            "Jean\n",
            "Eu me chamo Jean\n"
          ]
        }
      ]
    },
    {
      "cell_type": "code",
      "source": [
        "dia = input(\"Insira o dia: \")\n",
        "mes = input(\"Insira o mês: \")\n",
        "ano = input(\"Insira o ano: \")\n",
        "print(\"A data inserida foi %s/%s/%s\" % (dia, mes, ano))"
      ],
      "metadata": {
        "colab": {
          "base_uri": "https://localhost:8080/"
        },
        "id": "nNcYu4tt5SLl",
        "outputId": "90286c95-6d02-45c1-e1f2-8b3c6f837fee"
      },
      "execution_count": null,
      "outputs": [
        {
          "output_type": "stream",
          "name": "stdout",
          "text": [
            "Insira o dia: 20\n",
            "Insira o mês: 12\n",
            "Insira o ano: 2024\n",
            "A data inserida foi 20/12/2024\n"
          ]
        }
      ]
    },
    {
      "cell_type": "code",
      "source": [
        "entrada_usuario = input(\"Digite 1 para verdadeiro e 0 para falso: \")\n",
        "valor_inteiro = int(entrada_usuario)\n",
        "valor_logico = bool(valor_inteiro)\n",
        "print(\"Você escolheu: %s\" % valor_logico)\n",
        "print(\"ou ainda, você escolheu: %i \" % valor_inteiro)"
      ],
      "metadata": {
        "colab": {
          "base_uri": "https://localhost:8080/"
        },
        "id": "rS5nQ11w5l3-",
        "outputId": "46df1a39-b766-4d50-ddb8-fb24f2005726"
      },
      "execution_count": null,
      "outputs": [
        {
          "output_type": "stream",
          "name": "stdout",
          "text": [
            "Digite 1 para verdadeiro e 0 para falso: 0\n",
            "Você escolheu: False\n",
            "ou ainda, você escolheu: 0 \n"
          ]
        }
      ]
    },
    {
      "cell_type": "markdown",
      "source": [
        "## Atividades de Entradas do Usuário"
      ],
      "metadata": {
        "id": "f_HEI-n87Fmt"
      }
    },
    {
      "cell_type": "code",
      "source": [
        "#1 - Crie um programa que leia por\n",
        "# input dois números e realize a divisão\n",
        "# entre ambos. Formate o print para\n",
        "# mostrar o cálculo completo."
      ],
      "metadata": {
        "id": "iruWfhNr6wmY"
      },
      "execution_count": null,
      "outputs": []
    },
    {
      "cell_type": "code",
      "source": [
        "numero1 = input(\"Digite um número: \")\n",
        "numero2 = input(\"Digite outro número: \")\n",
        "divisao = float(numero1)/float(numero2)\n",
        "print(\"%s divido por %s é %.2f\" % (numero1, numero2, divisao))"
      ],
      "metadata": {
        "colab": {
          "base_uri": "https://localhost:8080/"
        },
        "id": "Xq7Z_jOP7TAW",
        "outputId": "901adf77-e422-49c0-8e99-64ef2b63490a"
      },
      "execution_count": null,
      "outputs": [
        {
          "output_type": "stream",
          "name": "stdout",
          "text": [
            "Digite um número: 10\n",
            "Digite outro número: 2\n",
            "10 / 2 = 5.00\n"
          ]
        }
      ]
    },
    {
      "cell_type": "code",
      "source": [
        "#2 - Crie um programa que mostre o dia,\n",
        "# mês, ano, hora, minuto e segundos\n",
        "# inseridos pelo usuário. Formate o valor."
      ],
      "metadata": {
        "id": "qg1TJJKW79Rm"
      },
      "execution_count": null,
      "outputs": []
    },
    {
      "cell_type": "code",
      "source": [
        "dia = input(\"Insira o dia: \")\n",
        "mes = input(\"Insira o mes: \")\n",
        "ano = input(\"Insira o ano: \")\n",
        "hora = input(\"Insira a hora: \")\n",
        "minuto = input(\"Insira o minuto: \")\n",
        "segundo = input(\"Insira o segundo: \")\n",
        "data_hora = \"Data: %s/%s/%s - Hora: %s:%s:%s\" % (dia, mes, ano, hora, minuto, segundo)\n",
        "print(data_hora)"
      ],
      "metadata": {
        "colab": {
          "base_uri": "https://localhost:8080/"
        },
        "id": "ySCr_tK48O16",
        "outputId": "100cec94-04de-47d1-9278-f5537da31528"
      },
      "execution_count": null,
      "outputs": [
        {
          "output_type": "stream",
          "name": "stdout",
          "text": [
            "Insira o dia: 10\n",
            "Insira o mes: 12\n",
            "Insira o ano: 2024\n",
            "Insira a hora: 16\n",
            "Insira o minuto: 25\n",
            "Insira o segundo: 30\n",
            "Data: 10/12/2024 - Hora: 16:25:30\n"
          ]
        }
      ]
    },
    {
      "cell_type": "markdown",
      "source": [
        "# Operadores de Atribuição e Combinação de Operadores Lógicos"
      ],
      "metadata": {
        "id": "H-JZuF72ZTHC"
      }
    },
    {
      "cell_type": "code",
      "source": [
        "numero = 1 # ATRIBUINDO O VALOR 1 PARA A VÁRIAVEL numero\n",
        "numero = numero + 1 # OCUPANDO O MESMO ESPAÇO DE MEMÓRIA COM OUTRO VALOR\n",
        "print(numero) # PRINT DO NUMERO"
      ],
      "metadata": {
        "id": "u8ePvCjPCJs3"
      },
      "execution_count": null,
      "outputs": []
    },
    {
      "cell_type": "code",
      "source": [
        "numero = 10\n",
        "numero /= 2\n",
        "print(numero)"
      ],
      "metadata": {
        "id": "QCdViktCZ4wF",
        "colab": {
          "base_uri": "https://localhost:8080/"
        },
        "outputId": "b4aa4338-9f47-4a29-df74-dd0a3cd764b1"
      },
      "execution_count": null,
      "outputs": [
        {
          "output_type": "stream",
          "name": "stdout",
          "text": [
            "5.0\n"
          ]
        }
      ]
    },
    {
      "cell_type": "code",
      "source": [
        "num = 10\n",
        "booleana = (num == 10) # == é comparação lógica = é atribuição\n",
        "print(booleana)"
      ],
      "metadata": {
        "id": "gHwOAU9Lit0M",
        "colab": {
          "base_uri": "https://localhost:8080/"
        },
        "outputId": "47d0d2e9-1e06-4124-e3a8-103cff8f5a9b"
      },
      "execution_count": 2,
      "outputs": [
        {
          "output_type": "stream",
          "name": "stdout",
          "text": [
            "True\n"
          ]
        }
      ]
    },
    {
      "cell_type": "code",
      "source": [
        "num = 10\n",
        "booleana = (num != 10) # == é comparação lógica = é atribuição\n",
        "print(booleana)"
      ],
      "metadata": {
        "colab": {
          "base_uri": "https://localhost:8080/"
        },
        "id": "laa6sR2urMxm",
        "outputId": "76366482-1a29-4a6f-aa2b-3ca4635afe26"
      },
      "execution_count": 4,
      "outputs": [
        {
          "output_type": "stream",
          "name": "stdout",
          "text": [
            "False\n"
          ]
        }
      ]
    },
    {
      "cell_type": "code",
      "source": [
        "num1 = 10\n",
        "num2 = 20\n",
        "eh_maior = num1 < num2\n",
        "print(eh_maior)"
      ],
      "metadata": {
        "colab": {
          "base_uri": "https://localhost:8080/"
        },
        "id": "HYURq47kshn0",
        "outputId": "8700e58b-771e-4b1b-8cef-c8c701e0381a"
      },
      "execution_count": 9,
      "outputs": [
        {
          "output_type": "stream",
          "name": "stdout",
          "text": [
            "True\n"
          ]
        }
      ]
    },
    {
      "cell_type": "code",
      "source": [
        "num1 = 10\n",
        "num2 = 20\n",
        "eh_maior = num1 <= num2\n",
        "print(eh_maior)"
      ],
      "metadata": {
        "colab": {
          "base_uri": "https://localhost:8080/"
        },
        "id": "8_dkCx2Ys2MN",
        "outputId": "3bfd6b8e-ba3e-46ea-a07b-957927c2d990"
      },
      "execution_count": 11,
      "outputs": [
        {
          "output_type": "stream",
          "name": "stdout",
          "text": [
            "True\n"
          ]
        }
      ]
    },
    {
      "cell_type": "code",
      "source": [
        "num = 5\n",
        "boolean = num > 0 and num < 10\n",
        "print(boolean)"
      ],
      "metadata": {
        "colab": {
          "base_uri": "https://localhost:8080/"
        },
        "id": "Iwt6g-9xtKkE",
        "outputId": "32e2eb99-dcd8-4bcc-cf04-afb32dd900eb"
      },
      "execution_count": 15,
      "outputs": [
        {
          "output_type": "stream",
          "name": "stdout",
          "text": [
            "True\n"
          ]
        }
      ]
    },
    {
      "cell_type": "code",
      "source": [
        "# Verificar se é tipo float e igual a 10.1 ou 20.2\n",
        "num = 20.1\n",
        "boolean = type(num) == float and (num == 10.1 or num == 20.2)\n",
        "print(boolean)"
      ],
      "metadata": {
        "colab": {
          "base_uri": "https://localhost:8080/"
        },
        "id": "tYyYfkm7tf78",
        "outputId": "6be92861-f012-40ea-9bd0-aa64ae41a386"
      },
      "execution_count": 20,
      "outputs": [
        {
          "output_type": "stream",
          "name": "stdout",
          "text": [
            "False\n"
          ]
        }
      ]
    },
    {
      "cell_type": "markdown",
      "source": [
        "## Atividades de Atribuição e Combinação com Operadores Lógicos"
      ],
      "metadata": {
        "id": "iYA0vwVLvCa4"
      }
    },
    {
      "cell_type": "code",
      "source": [
        "#1 - Crie um programa que responda se\n",
        "# você foi aprovado numa prova. Você\n",
        "# somente foi aprovado numa prova se sua\n",
        "# média for maior ou igual que 7 ou se\n",
        "# sua nota no exame for maior ou igual a\n",
        "# 5. Leia esses valores por input."
      ],
      "metadata": {
        "id": "3Q0_rEgxuYqb"
      },
      "execution_count": null,
      "outputs": []
    },
    {
      "cell_type": "code",
      "source": [
        "media_prova = input(\"Média na prova: \")\n",
        "nota_exame = input(\"Nota do exame: \")\n",
        "situacao = float(media_prova) >= 7 or float(nota_exame) >= 5\n",
        "print(\"Fui aprovado? \", situacao)"
      ],
      "metadata": {
        "colab": {
          "base_uri": "https://localhost:8080/"
        },
        "id": "lhktS2fhvk-1",
        "outputId": "ca9f2962-f9b0-4e68-baf1-47c0e19ad143"
      },
      "execution_count": 22,
      "outputs": [
        {
          "output_type": "stream",
          "name": "stdout",
          "text": [
            "Média na prova: 7\n",
            "Nota do exame: 2\n",
            "Fui aprovado?  True\n"
          ]
        }
      ]
    },
    {
      "cell_type": "code",
      "source": [
        "#2 - Crie um programa que diga se a\n",
        "# senha esta correta e portanto você tem\n",
        "# acesso ao sistema. A senha devera ser\n",
        "# salva no código, e a tentativa deve\n",
        "# ser lida por input."
      ],
      "metadata": {
        "id": "pW6pdG1EwOTr"
      },
      "execution_count": null,
      "outputs": []
    },
    {
      "cell_type": "code",
      "source": [
        "senha = \"admin\"\n",
        "senha_input = input(\"Digite a senha: \")\n",
        "verificacao = senha_input == senha\n",
        "print(\"Senha\", verificacao)"
      ],
      "metadata": {
        "colab": {
          "base_uri": "https://localhost:8080/"
        },
        "id": "Ymnjn6xhwfO2",
        "outputId": "497e9ff4-b041-478b-fb2c-6e2f876c07fc"
      },
      "execution_count": 24,
      "outputs": [
        {
          "output_type": "stream",
          "name": "stdout",
          "text": [
            "Digite a senha: jean\n",
            "Senha  False\n"
          ]
        }
      ]
    },
    {
      "cell_type": "code",
      "source": [],
      "metadata": {
        "id": "kMmysIsSxCSb"
      },
      "execution_count": null,
      "outputs": []
    }
  ]
}