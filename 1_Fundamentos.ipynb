{
  "nbformat": 4,
  "nbformat_minor": 0,
  "metadata": {
    "colab": {
      "provenance": [],
      "authorship_tag": "ABX9TyN7jIi9+Bm2hGtcqTe9yfs/",
      "include_colab_link": true
    },
    "kernelspec": {
      "name": "python3",
      "display_name": "Python 3"
    },
    "language_info": {
      "name": "python"
    }
  },
  "cells": [
    {
      "cell_type": "markdown",
      "metadata": {
        "id": "view-in-github",
        "colab_type": "text"
      },
      "source": [
        "<a href=\"https://colab.research.google.com/github/jeanmcorreia/Python/blob/main/1_Fundamentos.ipynb\" target=\"_parent\"><img src=\"https://colab.research.google.com/assets/colab-badge.svg\" alt=\"Open In Colab\"/></a>"
      ]
    },
    {
      "cell_type": "markdown",
      "source": [
        "# Comentários e Metódo Print"
      ],
      "metadata": {
        "id": "j9qwdhzJwTM3"
      }
    },
    {
      "cell_type": "code",
      "execution_count": null,
      "metadata": {
        "colab": {
          "base_uri": "https://localhost:8080/"
        },
        "id": "hly6bpNZoDem",
        "outputId": "79d6b014-e24f-4d59-dd5d-8a2c5131e43a"
      },
      "outputs": [
        {
          "output_type": "stream",
          "name": "stdout",
          "text": [
            "Olá mundo!\n"
          ]
        }
      ],
      "source": [
        "# isto é um comentário\n",
        "# isto é outro comentário\n",
        "print('Olá mundo!') # isto é um comentário\n"
      ]
    },
    {
      "cell_type": "code",
      "source": [
        "''' Este é um comentário\n",
        "o comentário continua aqui\n",
        "aqui ainda continua\n",
        "e aqui termina '''"
      ],
      "metadata": {
        "colab": {
          "base_uri": "https://localhost:8080/",
          "height": 35
        },
        "id": "njFY7WCfod9b",
        "outputId": "b4586b58-f7c6-42aa-db23-ce568c4e54b7"
      },
      "execution_count": null,
      "outputs": [
        {
          "output_type": "execute_result",
          "data": {
            "text/plain": [
              "' Este é um comentário \\no comentário continua aqui\\naqui ainda continua\\ne aqui termina '"
            ],
            "application/vnd.google.colaboratory.intrinsic+json": {
              "type": "string"
            }
          },
          "metadata": {},
          "execution_count": 2
        }
      ]
    },
    {
      "cell_type": "code",
      "source": [
        "print('Olá mundo!')\n",
        "print(20)\n",
        "print(20.5)"
      ],
      "metadata": {
        "colab": {
          "base_uri": "https://localhost:8080/"
        },
        "id": "qUy8DeOyovU5",
        "outputId": "c242fb0c-858c-4643-eca0-6c585708e548"
      },
      "execution_count": null,
      "outputs": [
        {
          "output_type": "stream",
          "name": "stdout",
          "text": [
            "Olá mundo!\n",
            "20\n",
            "20.5\n"
          ]
        }
      ]
    },
    {
      "cell_type": "code",
      "source": [
        "print(\"Maçã\", 20, 30.45)"
      ],
      "metadata": {
        "colab": {
          "base_uri": "https://localhost:8080/"
        },
        "id": "TImAb1Gdo-Rp",
        "outputId": "adb01b91-267a-455c-f510-dc75fa25dace"
      },
      "execution_count": null,
      "outputs": [
        {
          "output_type": "stream",
          "name": "stdout",
          "text": [
            "Maçã 20 30.45\n"
          ]
        }
      ]
    },
    {
      "cell_type": "code",
      "source": [
        "print(\"Maçã\", \"Pera\", \"Uva\", sep=' - ')"
      ],
      "metadata": {
        "colab": {
          "base_uri": "https://localhost:8080/"
        },
        "id": "F_Ng2KJUpP4x",
        "outputId": "e73fcb17-306d-4be3-d2eb-7003af285892"
      },
      "execution_count": null,
      "outputs": [
        {
          "output_type": "stream",
          "name": "stdout",
          "text": [
            "Maçã - Pera - Uva\n"
          ]
        }
      ]
    },
    {
      "cell_type": "code",
      "source": [
        "print(\"Maçã\",\"Pera\", end = ' Fim', sep=' ')"
      ],
      "metadata": {
        "colab": {
          "base_uri": "https://localhost:8080/"
        },
        "id": "xy7mjMn4paia",
        "outputId": "d6a3fbc1-a8df-4afd-d626-b9c7b2b60944"
      },
      "execution_count": null,
      "outputs": [
        {
          "output_type": "stream",
          "name": "stdout",
          "text": [
            "Maçã Pera Fim"
          ]
        }
      ]
    },
    {
      "cell_type": "code",
      "source": [
        "print(\"Este é um texto longo, \\n eu quero quebrar a linha\")"
      ],
      "metadata": {
        "colab": {
          "base_uri": "https://localhost:8080/"
        },
        "id": "0owiPwU4pjCh",
        "outputId": "dae1df67-c47e-4ead-c98c-57babd657ae6"
      },
      "execution_count": null,
      "outputs": [
        {
          "output_type": "stream",
          "name": "stdout",
          "text": [
            "Este é um texto longo, \n",
            " eu quero quebrar a linha\n"
          ]
        }
      ]
    },
    {
      "cell_type": "code",
      "source": [
        "print(\"Maçã\", \"Pera\", sep='\\n')"
      ],
      "metadata": {
        "colab": {
          "base_uri": "https://localhost:8080/"
        },
        "id": "9KFlW1dbp7aq",
        "outputId": "b7aa7244-3d37-4721-86a4-61176e42bbfb"
      },
      "execution_count": null,
      "outputs": [
        {
          "output_type": "stream",
          "name": "stdout",
          "text": [
            "Maçã\n",
            "Pera\n"
          ]
        }
      ]
    },
    {
      "cell_type": "code",
      "source": [
        "print(\"A pontuacao total de %s foi %s pontos\" % (\"Fernando\", \"10\") )"
      ],
      "metadata": {
        "colab": {
          "base_uri": "https://localhost:8080/"
        },
        "id": "76lDDsHBqFOq",
        "outputId": "fee0f04c-ddd8-4224-90c1-ea0e6f7e44c1"
      },
      "execution_count": null,
      "outputs": [
        {
          "output_type": "stream",
          "name": "stdout",
          "text": [
            "A pontuacao total de Fernando foi 10 pontos\n"
          ]
        }
      ]
    },
    {
      "cell_type": "code",
      "source": [
        "print(\"A pontuacao total de {} foi {} pontos\".format(\"Fernando\", \"10\"))"
      ],
      "metadata": {
        "colab": {
          "base_uri": "https://localhost:8080/"
        },
        "id": "ZiFnwUxMqcTJ",
        "outputId": "4bbb6441-769e-4fcd-d8c4-a627c6cd5897"
      },
      "execution_count": null,
      "outputs": [
        {
          "output_type": "stream",
          "name": "stdout",
          "text": [
            "A pontuacao total de Fernando foi 10 pontos\n"
          ]
        }
      ]
    },
    {
      "cell_type": "code",
      "source": [
        "print(\"A pontuacao total de\" + \" Fernando\" + \" foi\" + \" 10 \" + \"pontos\")"
      ],
      "metadata": {
        "colab": {
          "base_uri": "https://localhost:8080/"
        },
        "id": "nUp629Pmqpva",
        "outputId": "be29749b-84a4-47fd-c84d-794d59387193"
      },
      "execution_count": null,
      "outputs": [
        {
          "output_type": "stream",
          "name": "stdout",
          "text": [
            "A pontuacao total de Fernando foi 10 pontos\n"
          ]
        }
      ]
    },
    {
      "cell_type": "markdown",
      "source": [
        "## Atividades de Metódo Print"
      ],
      "metadata": {
        "id": "xGSSlXn7wc60"
      }
    },
    {
      "cell_type": "code",
      "source": [
        "#1 - Realize o print do seu nome completo, sua idade e sua\n",
        "# altura utilizando um print para cada valor."
      ],
      "metadata": {
        "id": "3_IUwqbermSK"
      },
      "execution_count": null,
      "outputs": []
    },
    {
      "cell_type": "code",
      "source": [
        "print(\"Jean Marcos Correia\")\n",
        "print(20)\n",
        "print(1.70)"
      ],
      "metadata": {
        "colab": {
          "base_uri": "https://localhost:8080/"
        },
        "id": "_MErpYERwpTk",
        "outputId": "5ffe88a2-96f3-49fe-c6e8-e3de3e42d333"
      },
      "execution_count": null,
      "outputs": [
        {
          "output_type": "stream",
          "name": "stdout",
          "text": [
            "Jean Marcos Correia\n",
            "20\n",
            "1.7\n"
          ]
        }
      ]
    },
    {
      "cell_type": "code",
      "source": [
        "#2 - Realize o print do seu nome completo, sua idade e sua altura\n",
        "# utilizando apenas um print para todos valores."
      ],
      "metadata": {
        "id": "YpQOxg14wu_a"
      },
      "execution_count": null,
      "outputs": []
    },
    {
      "cell_type": "code",
      "source": [
        "print(\"Nome: {}, idade: {}, altura: {}\".format(\"Fernando\", 20, 1.70))"
      ],
      "metadata": {
        "colab": {
          "base_uri": "https://localhost:8080/"
        },
        "id": "RabYao7fw0Kj",
        "outputId": "452b931f-f186-4c3b-e1a3-9ca0cf3a511e"
      },
      "execution_count": null,
      "outputs": [
        {
          "output_type": "stream",
          "name": "stdout",
          "text": [
            "Nome: Fernando, idade: 20, altura: 1.7\n"
          ]
        }
      ]
    },
    {
      "cell_type": "code",
      "source": [
        "#3 - Realize o print de 3 números de sua escolha\n",
        "# em um mesmo print, mas separados pelo caractere '-'."
      ],
      "metadata": {
        "id": "7eEmQtlqw2kz"
      },
      "execution_count": null,
      "outputs": []
    },
    {
      "cell_type": "code",
      "source": [
        "print(1,2,3, sep=\"-\")"
      ],
      "metadata": {
        "colab": {
          "base_uri": "https://localhost:8080/"
        },
        "id": "u6pTfa-mw4ML",
        "outputId": "9fed7b6e-dc7d-4812-aaeb-24354a427743"
      },
      "execution_count": null,
      "outputs": [
        {
          "output_type": "stream",
          "name": "stdout",
          "text": [
            "1-2-3\n"
          ]
        }
      ]
    },
    {
      "cell_type": "markdown",
      "source": [
        "# Variáveis"
      ],
      "metadata": {
        "id": "GXM9DWTnxTLZ"
      }
    },
    {
      "cell_type": "code",
      "source": [
        "_numero = 1\n",
        "Numero = 2\n",
        "numero = 3\n",
        "numero123 = 4\n",
        "print(_numero, Numero, numero, numero123)"
      ],
      "metadata": {
        "colab": {
          "base_uri": "https://localhost:8080/"
        },
        "id": "RMlunQdIxWAK",
        "outputId": "8d95aff3-09a5-42e7-83b3-2177488b0120"
      },
      "execution_count": null,
      "outputs": [
        {
          "output_type": "stream",
          "name": "stdout",
          "text": [
            "1 2 3 4\n"
          ]
        }
      ]
    },
    {
      "cell_type": "code",
      "source": [
        "numero = 10\n",
        "print(numero)\n",
        "numero = 20\n",
        "print(numero)"
      ],
      "metadata": {
        "colab": {
          "base_uri": "https://localhost:8080/"
        },
        "id": "klLNOWGDxeUD",
        "outputId": "a1b71541-f338-4df2-e218-289cff2f1b7f"
      },
      "execution_count": null,
      "outputs": [
        {
          "output_type": "stream",
          "name": "stdout",
          "text": [
            "10\n",
            "30\n"
          ]
        }
      ]
    },
    {
      "cell_type": "code",
      "source": [
        "texto = 'Olá mundo!'\n",
        "print(texto)"
      ],
      "metadata": {
        "colab": {
          "base_uri": "https://localhost:8080/"
        },
        "id": "bw_4l7ANxsT7",
        "outputId": "158e2e8e-1e47-4ebd-881e-bbbf7244cbe5"
      },
      "execution_count": null,
      "outputs": [
        {
          "output_type": "stream",
          "name": "stdout",
          "text": [
            "Olá mundo!\n"
          ]
        }
      ]
    },
    {
      "cell_type": "markdown",
      "source": [
        "# Tipos Primitivos\n"
      ],
      "metadata": {
        "id": "gmLIPP8QyOma"
      }
    },
    {
      "cell_type": "code",
      "source": [
        "variavel = None\n",
        "print(variavel)"
      ],
      "metadata": {
        "colab": {
          "base_uri": "https://localhost:8080/"
        },
        "id": "sx-Qot1WyEfT",
        "outputId": "5c0d7b78-85cf-438e-a6f3-8d3915191fa0"
      },
      "execution_count": null,
      "outputs": [
        {
          "output_type": "stream",
          "name": "stdout",
          "text": [
            "None\n"
          ]
        }
      ]
    },
    {
      "cell_type": "code",
      "source": [
        "inteiro = 10\n",
        "print(inteiro)"
      ],
      "metadata": {
        "colab": {
          "base_uri": "https://localhost:8080/"
        },
        "id": "YNvdGEiayb2s",
        "outputId": "cb61cb4f-2a5f-491c-beab-86b4bdac2ca1"
      },
      "execution_count": null,
      "outputs": [
        {
          "output_type": "stream",
          "name": "stdout",
          "text": [
            "10\n"
          ]
        }
      ]
    },
    {
      "cell_type": "code",
      "source": [
        "decimal = 1.53\n",
        "print(decimal)"
      ],
      "metadata": {
        "colab": {
          "base_uri": "https://localhost:8080/"
        },
        "id": "V_O8nfYVymXk",
        "outputId": "2b382f70-fecf-498d-b7bd-c65a503873d9"
      },
      "execution_count": null,
      "outputs": [
        {
          "output_type": "stream",
          "name": "stdout",
          "text": [
            "1.53\n"
          ]
        }
      ]
    },
    {
      "cell_type": "code",
      "source": [
        "texto = \"Olá, isto é um texto\"\n",
        "print(texto)"
      ],
      "metadata": {
        "colab": {
          "base_uri": "https://localhost:8080/"
        },
        "id": "BPfKxZQeyqEj",
        "outputId": "747e5058-3ba0-448e-fe74-c582316b3f1b"
      },
      "execution_count": null,
      "outputs": [
        {
          "output_type": "stream",
          "name": "stdout",
          "text": [
            "Olá, isto é um texto\n"
          ]
        }
      ]
    },
    {
      "cell_type": "code",
      "source": [
        "var = True\n",
        "print(var)\n",
        "var = False\n",
        "print(var)"
      ],
      "metadata": {
        "colab": {
          "base_uri": "https://localhost:8080/"
        },
        "id": "txDa9_Tuyvbb",
        "outputId": "d4c477e8-9863-4971-febc-b4fe268ee3f8"
      },
      "execution_count": null,
      "outputs": [
        {
          "output_type": "stream",
          "name": "stdout",
          "text": [
            "True\n",
            "False\n"
          ]
        }
      ]
    },
    {
      "cell_type": "code",
      "source": [
        "var1 = 10\n",
        "var2 = var1\n",
        "print(var2)"
      ],
      "metadata": {
        "colab": {
          "base_uri": "https://localhost:8080/"
        },
        "id": "q1Jmqp1cy7Iq",
        "outputId": "4fe0131a-c3d3-4eca-d5c6-e12c89a53f3f"
      },
      "execution_count": null,
      "outputs": [
        {
          "output_type": "stream",
          "name": "stdout",
          "text": [
            "10\n"
          ]
        }
      ]
    },
    {
      "cell_type": "code",
      "source": [
        "var = None\n",
        "print(var)\n",
        "var = 1\n",
        "print(var)\n",
        "var = \"Texto\"\n",
        "print(var)"
      ],
      "metadata": {
        "colab": {
          "base_uri": "https://localhost:8080/"
        },
        "id": "DkGf8q4_zE7b",
        "outputId": "a0e315ca-beca-456a-eafe-616504d028ea"
      },
      "execution_count": null,
      "outputs": [
        {
          "output_type": "stream",
          "name": "stdout",
          "text": [
            "None\n",
            "1\n",
            "Texto\n"
          ]
        }
      ]
    },
    {
      "cell_type": "code",
      "source": [
        "saldoBancario = 100\n",
        "SaldoBancario = 100\n",
        "saldo_bancario = 100"
      ],
      "metadata": {
        "id": "cgM3GFIUzPp7"
      },
      "execution_count": null,
      "outputs": []
    },
    {
      "cell_type": "markdown",
      "source": [
        "## Atividade de Variáveis"
      ],
      "metadata": {
        "id": "rOYQGrH-Nc3g"
      }
    },
    {
      "cell_type": "code",
      "source": [
        "#1 - Crie uma variável de cada tipo e ponha alguma valor\n",
        "# escolhido. Em seguida, printe todos esses valores."
      ],
      "metadata": {
        "id": "_JD7e34zNtgT"
      },
      "execution_count": null,
      "outputs": []
    },
    {
      "cell_type": "code",
      "source": [
        "inteiro = 1\n",
        "print(inteiro)\n",
        "decimal = 1.5\n",
        "print(decimal)\n",
        "string = \"Olá mundo\"\n",
        "print(string)\n",
        "booleana = True\n",
        "print(booleana)"
      ],
      "metadata": {
        "colab": {
          "base_uri": "https://localhost:8080/"
        },
        "id": "zmPNMVChNznf",
        "outputId": "02c8203f-bdad-44b5-f582-8b221f59ec63"
      },
      "execution_count": 1,
      "outputs": [
        {
          "output_type": "stream",
          "name": "stdout",
          "text": [
            "1\n",
            "1.5\n",
            "Olá mundo\n",
            "True\n"
          ]
        }
      ]
    },
    {
      "cell_type": "code",
      "source": [
        "#2 - Cria variáveis para guardar seu nome, CPF e uma que indique se você esta\n",
        "# casado, em seguida printe esses valores separadamente, mas\n",
        "# não esqueça de printar junto o que eles significam."
      ],
      "metadata": {
        "id": "vGVL4fs4ON-O"
      },
      "execution_count": null,
      "outputs": []
    },
    {
      "cell_type": "code",
      "source": [
        "nome = \"Jean\"\n",
        "cpf = \"000.000.000-12\"\n",
        "casado = False\n",
        "\n",
        "print(\"Nome: \",(nome))\n",
        "print(\"CPF: \",(cpf))\n",
        "print(\"Casado? \",(casado))"
      ],
      "metadata": {
        "colab": {
          "base_uri": "https://localhost:8080/"
        },
        "id": "UtnqEmY0OYUE",
        "outputId": "6effd34b-588d-4255-9fca-abea6173e77f"
      },
      "execution_count": 3,
      "outputs": [
        {
          "output_type": "stream",
          "name": "stdout",
          "text": [
            "Nome:  Jean\n",
            "CPF:  000.000.000-12\n",
            "Casado?  False\n"
          ]
        }
      ]
    },
    {
      "cell_type": "code",
      "source": [],
      "metadata": {
        "id": "rhYERQhrPLC3"
      },
      "execution_count": null,
      "outputs": []
    }
  ]
}