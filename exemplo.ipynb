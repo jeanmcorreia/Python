{
  "nbformat": 4,
  "nbformat_minor": 0,
  "metadata": {
    "colab": {
      "provenance": [],
      "authorship_tag": "ABX9TyPsFDdOwqqAIdUAo6o0Ytcs",
      "include_colab_link": true
    },
    "kernelspec": {
      "name": "python3",
      "display_name": "Python 3"
    },
    "language_info": {
      "name": "python"
    }
  },
  "cells": [
    {
      "cell_type": "markdown",
      "metadata": {
        "id": "view-in-github",
        "colab_type": "text"
      },
      "source": [
        "<a href=\"https://colab.research.google.com/github/jeanmcorreia/Python/blob/main/exemplo.ipynb\" target=\"_parent\"><img src=\"https://colab.research.google.com/assets/colab-badge.svg\" alt=\"Open In Colab\"/></a>"
      ]
    },
    {
      "cell_type": "markdown",
      "source": [
        "# Importação de Varíaveis"
      ],
      "metadata": {
        "id": "abZh94jWliUw"
      }
    },
    {
      "cell_type": "code",
      "execution_count": null,
      "metadata": {
        "id": "CcmBUJ6sjNXj"
      },
      "outputs": [],
      "source": [
        "print(\"Hello World!\")\n",
        "print(\"Estou no Colab!\")"
      ]
    },
    {
      "cell_type": "code",
      "source": [
        "a = 1"
      ],
      "metadata": {
        "id": "VRwJnp0hjfA6"
      },
      "execution_count": null,
      "outputs": []
    },
    {
      "cell_type": "markdown",
      "source": [
        "## Leitura de Aruquivos"
      ],
      "metadata": {
        "id": "F4BDdN4wlxMJ"
      }
    },
    {
      "cell_type": "markdown",
      "source": [
        "### Lendo Planilha"
      ],
      "metadata": {
        "id": "xiKv45yIl3nR"
      }
    },
    {
      "cell_type": "code",
      "source": [],
      "metadata": {
        "id": "7OZtdvtujt6R"
      },
      "execution_count": null,
      "outputs": []
    }
  ]
}