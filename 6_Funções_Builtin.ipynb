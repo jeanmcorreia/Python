{
  "nbformat": 4,
  "nbformat_minor": 0,
  "metadata": {
    "colab": {
      "provenance": [],
      "authorship_tag": "ABX9TyMkvxh79Ynm/vDSCFBupUEB",
      "include_colab_link": true
    },
    "kernelspec": {
      "name": "python3",
      "display_name": "Python 3"
    },
    "language_info": {
      "name": "python"
    }
  },
  "cells": [
    {
      "cell_type": "markdown",
      "metadata": {
        "id": "view-in-github",
        "colab_type": "text"
      },
      "source": [
        "<a href=\"https://colab.research.google.com/github/jeanmcorreia/Python/blob/main/6_Fun%C3%A7%C3%B5es_Builtin.ipynb\" target=\"_parent\"><img src=\"https://colab.research.google.com/assets/colab-badge.svg\" alt=\"Open In Colab\"/></a>"
      ]
    },
    {
      "cell_type": "markdown",
      "source": [
        "# Funções Matemáticas"
      ],
      "metadata": {
        "id": "6ThnnkN6wV8R"
      }
    },
    {
      "cell_type": "code",
      "execution_count": 1,
      "metadata": {
        "colab": {
          "base_uri": "https://localhost:8080/"
        },
        "id": "hqjV3pwptiKV",
        "outputId": "ba10f7f3-4735-4beb-dbb6-d35cf4ed63b1"
      },
      "outputs": [
        {
          "output_type": "stream",
          "name": "stdout",
          "text": [
            "10\n",
            "10\n",
            "20\n"
          ]
        }
      ],
      "source": [
        "num1 = -10\n",
        "num2 = 10\n",
        "print(abs(num1))\n",
        "print(abs(num2))\n",
        "print(abs(num1) + abs(num2))"
      ]
    },
    {
      "cell_type": "code",
      "source": [
        "maior_valor = max(10,20,30)\n",
        "print(maior_valor)"
      ],
      "metadata": {
        "colab": {
          "base_uri": "https://localhost:8080/"
        },
        "id": "ot-mMXYvuKCq",
        "outputId": "281253ea-6a4d-4d00-c6ae-9a6773fdfa0f"
      },
      "execution_count": 2,
      "outputs": [
        {
          "output_type": "stream",
          "name": "stdout",
          "text": [
            "30\n"
          ]
        }
      ]
    },
    {
      "cell_type": "code",
      "source": [
        "lista = [-20,1,2,3,3]\n",
        "print(max(lista))"
      ],
      "metadata": {
        "colab": {
          "base_uri": "https://localhost:8080/"
        },
        "id": "CbDnokgMuqL5",
        "outputId": "34670fef-8d79-4249-f301-63138f69a32e"
      },
      "execution_count": 3,
      "outputs": [
        {
          "output_type": "stream",
          "name": "stdout",
          "text": [
            "3\n"
          ]
        }
      ]
    },
    {
      "cell_type": "code",
      "source": [
        "lista = [-20,1,2,3,3]\n",
        "print(min(lista))"
      ],
      "metadata": {
        "colab": {
          "base_uri": "https://localhost:8080/"
        },
        "id": "fCUuyl0yu8P4",
        "outputId": "e36d282c-3b03-430f-d320-5465fb9fd8d3"
      },
      "execution_count": 4,
      "outputs": [
        {
          "output_type": "stream",
          "name": "stdout",
          "text": [
            "-20\n"
          ]
        }
      ]
    },
    {
      "cell_type": "code",
      "source": [
        "x = 2\n",
        "y = 3\n",
        "print(pow(x,y))"
      ],
      "metadata": {
        "colab": {
          "base_uri": "https://localhost:8080/"
        },
        "id": "G6aEP2xFvCbp",
        "outputId": "80a54147-666f-4551-9804-29fff05f3c62"
      },
      "execution_count": 5,
      "outputs": [
        {
          "output_type": "stream",
          "name": "stdout",
          "text": [
            "8\n"
          ]
        }
      ]
    },
    {
      "cell_type": "code",
      "source": [
        "import math\n",
        "print(math.sqrt(25))"
      ],
      "metadata": {
        "colab": {
          "base_uri": "https://localhost:8080/"
        },
        "id": "Dc-K4xUyvOn4",
        "outputId": "5874df76-3676-4963-edde-4245a62e886f"
      },
      "execution_count": 6,
      "outputs": [
        {
          "output_type": "stream",
          "name": "stdout",
          "text": [
            "5.0\n"
          ]
        }
      ]
    },
    {
      "cell_type": "code",
      "source": [
        "print(round(2.4566, 1))"
      ],
      "metadata": {
        "colab": {
          "base_uri": "https://localhost:8080/"
        },
        "id": "djENMwelveOR",
        "outputId": "7a71c6e8-3413-43ce-a463-f1deca81083d"
      },
      "execution_count": 13,
      "outputs": [
        {
          "output_type": "stream",
          "name": "stdout",
          "text": [
            "2.5\n"
          ]
        }
      ]
    },
    {
      "cell_type": "code",
      "source": [
        "from math import floor, ceil\n",
        "print(floor(2.4566))\n",
        "print(ceil(2.4566))"
      ],
      "metadata": {
        "colab": {
          "base_uri": "https://localhost:8080/"
        },
        "id": "l0ibsS2_vkip",
        "outputId": "2ca1dd47-25d4-43d0-deec-5f0a6c509c93"
      },
      "execution_count": 15,
      "outputs": [
        {
          "output_type": "stream",
          "name": "stdout",
          "text": [
            "2\n",
            "3\n"
          ]
        }
      ]
    },
    {
      "cell_type": "code",
      "source": [
        "print(divmod(10,4))"
      ],
      "metadata": {
        "colab": {
          "base_uri": "https://localhost:8080/"
        },
        "id": "lPgoI0vfv6mJ",
        "outputId": "15430d8e-bc6a-4fcd-cdae-dc80cd951a99"
      },
      "execution_count": 16,
      "outputs": [
        {
          "output_type": "stream",
          "name": "stdout",
          "text": [
            "(2, 2)\n"
          ]
        }
      ]
    },
    {
      "cell_type": "markdown",
      "source": [
        "# Caracteres p/ Números e Números p/ Caracteres"
      ],
      "metadata": {
        "id": "1UjBka8Owadf"
      }
    },
    {
      "cell_type": "code",
      "source": [
        "numero = 70\n",
        "caractere = chr(numero) # -> A função chr retorna o caractere pelo parametro/numero fornecido\n",
        "print(f\"O número {numero} é mapeado para o caractere: {caractere}\")"
      ],
      "metadata": {
        "colab": {
          "base_uri": "https://localhost:8080/"
        },
        "id": "nhPip9bNwEqR",
        "outputId": "f1259fef-f6fd-435a-87d6-251bacd6a715"
      },
      "execution_count": 18,
      "outputs": [
        {
          "output_type": "stream",
          "name": "stdout",
          "text": [
            "O número 70 é mapeado para o caractere: F\n"
          ]
        }
      ]
    },
    {
      "cell_type": "code",
      "source": [
        "for i in range(70, 100):\n",
        "  caractere = chr(i)\n",
        "  print(f\"{i} - {caractere}\", end = \"\\n\")"
      ],
      "metadata": {
        "colab": {
          "base_uri": "https://localhost:8080/"
        },
        "id": "gcDi6xyvwwvA",
        "outputId": "606764a0-6b39-4a3d-980b-05f6573dcdc2"
      },
      "execution_count": 24,
      "outputs": [
        {
          "output_type": "stream",
          "name": "stdout",
          "text": [
            "70 - F\n",
            "71 - G\n",
            "72 - H\n",
            "73 - I\n",
            "74 - J\n",
            "75 - K\n",
            "76 - L\n",
            "77 - M\n",
            "78 - N\n",
            "79 - O\n",
            "80 - P\n",
            "81 - Q\n",
            "82 - R\n",
            "83 - S\n",
            "84 - T\n",
            "85 - U\n",
            "86 - V\n",
            "87 - W\n",
            "88 - X\n",
            "89 - Y\n",
            "90 - Z\n",
            "91 - [\n",
            "92 - \\\n",
            "93 - ]\n",
            "94 - ^\n",
            "95 - _\n",
            "96 - `\n",
            "97 - a\n",
            "98 - b\n",
            "99 - c\n"
          ]
        }
      ]
    },
    {
      "cell_type": "code",
      "source": [
        "caractere = 'F'\n",
        "numero = ord(caractere) # -> A função retorna o número do caractere pelo parametro/caractere fornecido\n",
        "print(f\"O caractere {caractere} é mapeado pelo número: {numero}\")"
      ],
      "metadata": {
        "colab": {
          "base_uri": "https://localhost:8080/"
        },
        "id": "z3cVNBNExctB",
        "outputId": "b43a77ab-df06-4e78-eea1-8c58015de48a"
      },
      "execution_count": 25,
      "outputs": [
        {
          "output_type": "stream",
          "name": "stdout",
          "text": [
            "O caractere F é mapeado pelo número: 70\n"
          ]
        }
      ]
    },
    {
      "cell_type": "markdown",
      "source": [
        "# Funções de Texto"
      ],
      "metadata": {
        "id": "sTUtnNwoygVQ"
      }
    },
    {
      "cell_type": "code",
      "source": [
        "texto = \"olá, tuDo bem?\"\n",
        "print(texto.capitalize()) # -> O metódo capitalize() coloca a primeira letra do texto em maiuscula e o resto em minuscula"
      ],
      "metadata": {
        "colab": {
          "base_uri": "https://localhost:8080/"
        },
        "id": "wWZGnaz-yMFh",
        "outputId": "d09bd28e-9ee8-46e3-c178-fc3131222b7f"
      },
      "execution_count": 28,
      "outputs": [
        {
          "output_type": "stream",
          "name": "stdout",
          "text": [
            "Olá, tudo bem?\n"
          ]
        }
      ]
    },
    {
      "cell_type": "code",
      "source": [
        "texto = \"IsTo é EstraNHO\"\n",
        "print(texto.lower()) # -> metódo lower() deixa todas letras minusculas do texto\n",
        "print(texto.upper()) # -> metódo upper() coloca o texto todo em maiuscula\n",
        "print(texto.swapcase()) # -> metodo swapcase() inverte os casos"
      ],
      "metadata": {
        "colab": {
          "base_uri": "https://localhost:8080/"
        },
        "id": "4Ohn3r47ypeR",
        "outputId": "5ee8b5fe-d1c8-434f-eee1-1912917c52c1"
      },
      "execution_count": 29,
      "outputs": [
        {
          "output_type": "stream",
          "name": "stdout",
          "text": [
            "isto é estranho\n",
            "ISTO É ESTRANHO\n",
            "iStO É eSTRAnho\n"
          ]
        }
      ]
    },
    {
      "cell_type": "code",
      "source": [
        "texto = \"eu sou um ótimo programador python\"\n",
        "print(texto.title()) # -> metodo title() deixa todas as palavras com a primeira letra maiuscula"
      ],
      "metadata": {
        "colab": {
          "base_uri": "https://localhost:8080/"
        },
        "id": "hwAxjcaJzbGx",
        "outputId": "31e33f7f-a771-4373-f4cb-ac60d7f7f816"
      },
      "execution_count": 30,
      "outputs": [
        {
          "output_type": "stream",
          "name": "stdout",
          "text": [
            "Eu Sou Um Ótimo Programador Python\n"
          ]
        }
      ]
    },
    {
      "cell_type": "code",
      "source": [
        "texto = \"1234567\"\n",
        "print(texto.center(9)) # -> coloca espaços para centralizar o texto\n",
        "print(texto.center(14))\n",
        "print(texto.center(14, '-'))"
      ],
      "metadata": {
        "colab": {
          "base_uri": "https://localhost:8080/"
        },
        "id": "RYtpa9JXzm8Q",
        "outputId": "b9fcaa20-19de-46d1-e867-d2e8047862a7"
      },
      "execution_count": 33,
      "outputs": [
        {
          "output_type": "stream",
          "name": "stdout",
          "text": [
            " 1234567 \n",
            "   1234567    \n",
            "---1234567----\n"
          ]
        }
      ]
    },
    {
      "cell_type": "code",
      "source": [
        "texto = \"1234567\"\n",
        "print(texto.rjust(9)) # metodo rjust justifica a direita\n",
        "print(texto.ljust(9)) # metodo ljust justifica o texto a esquerda"
      ],
      "metadata": {
        "colab": {
          "base_uri": "https://localhost:8080/"
        },
        "id": "9YC58JVZz0TI",
        "outputId": "9181b825-823f-4b63-e221-86dac8eae4f4"
      },
      "execution_count": 34,
      "outputs": [
        {
          "output_type": "stream",
          "name": "stdout",
          "text": [
            "  1234567\n",
            "1234567  \n"
          ]
        }
      ]
    },
    {
      "cell_type": "code",
      "source": [
        "texto = \"1212121212\"\n",
        "print(texto.count(\"12\")) # -> conta as ocorrencias que contém no parametro no texto"
      ],
      "metadata": {
        "colab": {
          "base_uri": "https://localhost:8080/"
        },
        "id": "xNPhYzmT0T3I",
        "outputId": "cd3e501c-ef0d-4f33-b43d-f47e60ada793"
      },
      "execution_count": 38,
      "outputs": [
        {
          "output_type": "stream",
          "name": "stdout",
          "text": [
            "5\n"
          ]
        }
      ]
    },
    {
      "cell_type": "code",
      "source": [
        "texto = \"1212121212\"\n",
        "print(texto.startswith(\"12\")) # Verifica se começa com 12\n",
        "print(texto.endswith(\"12\")) # Verifica se termina com 12"
      ],
      "metadata": {
        "colab": {
          "base_uri": "https://localhost:8080/"
        },
        "id": "y5O_NhMa2GrQ",
        "outputId": "c6ef0660-baa8-4648-a72f-994b481c1449"
      },
      "execution_count": 39,
      "outputs": [
        {
          "output_type": "stream",
          "name": "stdout",
          "text": [
            "True\n",
            "True\n"
          ]
        }
      ]
    },
    {
      "cell_type": "code",
      "source": [
        "texto = \"Me encontra 20 10 5\"\n",
        "pos = texto.find(\"10\") # indice da posicao do parametro no texto\n",
        "print(pos)\n",
        "pos = texto.find(\"4\")\n",
        "print(pos)"
      ],
      "metadata": {
        "colab": {
          "base_uri": "https://localhost:8080/"
        },
        "id": "vFwPbgG12Ygo",
        "outputId": "079cc722-cf1e-4c86-b45a-0ff1099a13af"
      },
      "execution_count": 40,
      "outputs": [
        {
          "output_type": "stream",
          "name": "stdout",
          "text": [
            "15\n",
            "-1\n"
          ]
        }
      ]
    },
    {
      "cell_type": "code",
      "source": [
        "texto = \"Me encontra 20 10 5\"\n",
        "pos = texto.index(\"10\") # indice da posicao do parametro no texto\n",
        "print(pos)\n",
        "pos = texto.find(\"4\") # Index não funciona quando não contém o parametro no texto (Gera erro)\n",
        "print(pos)"
      ],
      "metadata": {
        "colab": {
          "base_uri": "https://localhost:8080/"
        },
        "id": "HMPYaGjD6Nw4",
        "outputId": "cfc8d198-27c4-4da0-a58c-4d4423876f93"
      },
      "execution_count": 41,
      "outputs": [
        {
          "output_type": "stream",
          "name": "stdout",
          "text": [
            "15\n"
          ]
        }
      ]
    },
    {
      "cell_type": "code",
      "source": [
        "texto = \"Ol@ eu sou @ ful@n@\"\n",
        "novo_texto = texto.replace(\"@\", \"a\") # Remove as ocorrencia e substitui pelo parametro fornecido\n",
        "print(novo_texto)"
      ],
      "metadata": {
        "colab": {
          "base_uri": "https://localhost:8080/"
        },
        "id": "2je5G0HS6XLv",
        "outputId": "4712768d-a791-4fec-ac1a-99dfd1b63e0e"
      },
      "execution_count": 43,
      "outputs": [
        {
          "output_type": "stream",
          "name": "stdout",
          "text": [
            "Ola eu sou a fulana\n"
          ]
        }
      ]
    },
    {
      "cell_type": "code",
      "source": [
        "texto = '10,20,30'\n",
        "print(texto.split(\",\")) # retorna uma lista de substring da string, usando o separador identificado"
      ],
      "metadata": {
        "colab": {
          "base_uri": "https://localhost:8080/"
        },
        "id": "LGDs8iwp6vkI",
        "outputId": "a65763e5-ac84-4c72-82e9-55ee809951dc"
      },
      "execution_count": 44,
      "outputs": [
        {
          "output_type": "stream",
          "name": "stdout",
          "text": [
            "['10', '20', '30']\n"
          ]
        }
      ]
    },
    {
      "cell_type": "code",
      "source": [
        "texto = \"Olá, bom dia\\n este é um curso de Python\\n Seja bem vindo\"\n",
        "print(texto.splitlines()) # Retorna uma lista de substrings da string, usando a quebra de linha"
      ],
      "metadata": {
        "colab": {
          "base_uri": "https://localhost:8080/"
        },
        "id": "YRtGq71G68tw",
        "outputId": "01072ed2-7b17-4d55-dabc-362e628cd926"
      },
      "execution_count": 45,
      "outputs": [
        {
          "output_type": "stream",
          "name": "stdout",
          "text": [
            "['Olá, bom dia', ' este é um curso de Python', ' Seja bem vindo']\n"
          ]
        }
      ]
    },
    {
      "cell_type": "code",
      "source": [
        "print(\"abcdE3 \".isalpha()) # Verifica se o texto é alfa"
      ],
      "metadata": {
        "colab": {
          "base_uri": "https://localhost:8080/"
        },
        "id": "WFyHjSDJ7Y8w",
        "outputId": "e164d622-0ec3-42db-b92c-c802746b136e"
      },
      "execution_count": 46,
      "outputs": [
        {
          "output_type": "stream",
          "name": "stdout",
          "text": [
            "False\n"
          ]
        }
      ]
    },
    {
      "cell_type": "code",
      "source": [
        "print(\"abcdE3\".isalnum()) # Verifica se o texto é alfanumerico\n",
        "print(\"abcdE3,\".isalnum())"
      ],
      "metadata": {
        "colab": {
          "base_uri": "https://localhost:8080/"
        },
        "id": "5f67rdJT7xFH",
        "outputId": "4d43f5ba-49a8-4054-e2b0-29d46dc34b9b"
      },
      "execution_count": 49,
      "outputs": [
        {
          "output_type": "stream",
          "name": "stdout",
          "text": [
            "True\n",
            "False\n"
          ]
        }
      ]
    },
    {
      "cell_type": "code",
      "source": [
        "print(\"123.4\".isdecimal()) # Verifica se é um número\n",
        "print(\"123\".isdecimal())"
      ],
      "metadata": {
        "colab": {
          "base_uri": "https://localhost:8080/"
        },
        "id": "JXGvbv-_8KDn",
        "outputId": "e9d6213b-ffd8-4cbd-802d-c8a80a828703"
      },
      "execution_count": 51,
      "outputs": [
        {
          "output_type": "stream",
          "name": "stdout",
          "text": [
            "False\n",
            "True\n"
          ]
        }
      ]
    },
    {
      "cell_type": "code",
      "source": [
        "print(\"123\".isspace()) # Verifica se pe um espaço em branco\n",
        "print(\" \".isspace())"
      ],
      "metadata": {
        "colab": {
          "base_uri": "https://localhost:8080/"
        },
        "id": "oZxAm81q9wb_",
        "outputId": "3125c70c-3f32-40fd-b0af-d73cade074c5"
      },
      "execution_count": 53,
      "outputs": [
        {
          "output_type": "stream",
          "name": "stdout",
          "text": [
            "False\n",
            "True\n"
          ]
        }
      ]
    },
    {
      "cell_type": "code",
      "source": [
        "print(\"no\".islower()) # Verifica se é string minuscula\n",
        "print(\"no\".isupper()) # Verifica se é string maiuscula"
      ],
      "metadata": {
        "colab": {
          "base_uri": "https://localhost:8080/"
        },
        "id": "otNMhf-l93qS",
        "outputId": "8026598c-eeb3-4a3f-9c97-aaf551f8aaa5"
      },
      "execution_count": 54,
      "outputs": [
        {
          "output_type": "stream",
          "name": "stdout",
          "text": [
            "True\n",
            "False\n"
          ]
        }
      ]
    },
    {
      "cell_type": "code",
      "source": [],
      "metadata": {
        "id": "EIz3Qgx4-K-_"
      },
      "execution_count": null,
      "outputs": []
    }
  ]
}