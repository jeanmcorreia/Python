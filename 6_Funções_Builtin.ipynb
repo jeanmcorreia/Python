{
  "nbformat": 4,
  "nbformat_minor": 0,
  "metadata": {
    "colab": {
      "provenance": [],
      "authorship_tag": "ABX9TyOGTw01SJ/vZDogchcnIeks",
      "include_colab_link": true
    },
    "kernelspec": {
      "name": "python3",
      "display_name": "Python 3"
    },
    "language_info": {
      "name": "python"
    }
  },
  "cells": [
    {
      "cell_type": "markdown",
      "metadata": {
        "id": "view-in-github",
        "colab_type": "text"
      },
      "source": [
        "<a href=\"https://colab.research.google.com/github/jeanmcorreia/Python/blob/main/6_Fun%C3%A7%C3%B5es_Builtin.ipynb\" target=\"_parent\"><img src=\"https://colab.research.google.com/assets/colab-badge.svg\" alt=\"Open In Colab\"/></a>"
      ]
    },
    {
      "cell_type": "markdown",
      "source": [
        "# Funções Matemáticas"
      ],
      "metadata": {
        "id": "6ThnnkN6wV8R"
      }
    },
    {
      "cell_type": "code",
      "execution_count": 1,
      "metadata": {
        "colab": {
          "base_uri": "https://localhost:8080/"
        },
        "id": "hqjV3pwptiKV",
        "outputId": "ba10f7f3-4735-4beb-dbb6-d35cf4ed63b1"
      },
      "outputs": [
        {
          "output_type": "stream",
          "name": "stdout",
          "text": [
            "10\n",
            "10\n",
            "20\n"
          ]
        }
      ],
      "source": [
        "num1 = -10\n",
        "num2 = 10\n",
        "print(abs(num1))\n",
        "print(abs(num2))\n",
        "print(abs(num1) + abs(num2))"
      ]
    },
    {
      "cell_type": "code",
      "source": [
        "maior_valor = max(10,20,30)\n",
        "print(maior_valor)"
      ],
      "metadata": {
        "colab": {
          "base_uri": "https://localhost:8080/"
        },
        "id": "ot-mMXYvuKCq",
        "outputId": "281253ea-6a4d-4d00-c6ae-9a6773fdfa0f"
      },
      "execution_count": 2,
      "outputs": [
        {
          "output_type": "stream",
          "name": "stdout",
          "text": [
            "30\n"
          ]
        }
      ]
    },
    {
      "cell_type": "code",
      "source": [
        "lista = [-20,1,2,3,3]\n",
        "print(max(lista))"
      ],
      "metadata": {
        "colab": {
          "base_uri": "https://localhost:8080/"
        },
        "id": "CbDnokgMuqL5",
        "outputId": "34670fef-8d79-4249-f301-63138f69a32e"
      },
      "execution_count": 3,
      "outputs": [
        {
          "output_type": "stream",
          "name": "stdout",
          "text": [
            "3\n"
          ]
        }
      ]
    },
    {
      "cell_type": "code",
      "source": [
        "lista = [-20,1,2,3,3]\n",
        "print(min(lista))"
      ],
      "metadata": {
        "colab": {
          "base_uri": "https://localhost:8080/"
        },
        "id": "fCUuyl0yu8P4",
        "outputId": "e36d282c-3b03-430f-d320-5465fb9fd8d3"
      },
      "execution_count": 4,
      "outputs": [
        {
          "output_type": "stream",
          "name": "stdout",
          "text": [
            "-20\n"
          ]
        }
      ]
    },
    {
      "cell_type": "code",
      "source": [
        "x = 2\n",
        "y = 3\n",
        "print(pow(x,y))"
      ],
      "metadata": {
        "colab": {
          "base_uri": "https://localhost:8080/"
        },
        "id": "G6aEP2xFvCbp",
        "outputId": "80a54147-666f-4551-9804-29fff05f3c62"
      },
      "execution_count": 5,
      "outputs": [
        {
          "output_type": "stream",
          "name": "stdout",
          "text": [
            "8\n"
          ]
        }
      ]
    },
    {
      "cell_type": "code",
      "source": [
        "import math\n",
        "print(math.sqrt(25))"
      ],
      "metadata": {
        "colab": {
          "base_uri": "https://localhost:8080/"
        },
        "id": "Dc-K4xUyvOn4",
        "outputId": "5874df76-3676-4963-edde-4245a62e886f"
      },
      "execution_count": 6,
      "outputs": [
        {
          "output_type": "stream",
          "name": "stdout",
          "text": [
            "5.0\n"
          ]
        }
      ]
    },
    {
      "cell_type": "code",
      "source": [
        "print(round(2.4566, 1))"
      ],
      "metadata": {
        "colab": {
          "base_uri": "https://localhost:8080/"
        },
        "id": "djENMwelveOR",
        "outputId": "7a71c6e8-3413-43ce-a463-f1deca81083d"
      },
      "execution_count": 13,
      "outputs": [
        {
          "output_type": "stream",
          "name": "stdout",
          "text": [
            "2.5\n"
          ]
        }
      ]
    },
    {
      "cell_type": "code",
      "source": [
        "from math import floor, ceil\n",
        "print(floor(2.4566))\n",
        "print(ceil(2.4566))"
      ],
      "metadata": {
        "colab": {
          "base_uri": "https://localhost:8080/"
        },
        "id": "l0ibsS2_vkip",
        "outputId": "2ca1dd47-25d4-43d0-deec-5f0a6c509c93"
      },
      "execution_count": 15,
      "outputs": [
        {
          "output_type": "stream",
          "name": "stdout",
          "text": [
            "2\n",
            "3\n"
          ]
        }
      ]
    },
    {
      "cell_type": "code",
      "source": [
        "print(divmod(10,4))"
      ],
      "metadata": {
        "colab": {
          "base_uri": "https://localhost:8080/"
        },
        "id": "lPgoI0vfv6mJ",
        "outputId": "15430d8e-bc6a-4fcd-cdae-dc80cd951a99"
      },
      "execution_count": 16,
      "outputs": [
        {
          "output_type": "stream",
          "name": "stdout",
          "text": [
            "(2, 2)\n"
          ]
        }
      ]
    },
    {
      "cell_type": "markdown",
      "source": [
        "# Caracteres p/ Números e Números p/ Caracteres"
      ],
      "metadata": {
        "id": "1UjBka8Owadf"
      }
    },
    {
      "cell_type": "code",
      "source": [
        "numero = 70\n",
        "caractere = chr(numero) # -> A função chr retorna o caractere pelo parametro/numero fornecido\n",
        "print(f\"O número {numero} é mapeado para o caractere: {caractere}\")"
      ],
      "metadata": {
        "colab": {
          "base_uri": "https://localhost:8080/"
        },
        "id": "nhPip9bNwEqR",
        "outputId": "f1259fef-f6fd-435a-87d6-251bacd6a715"
      },
      "execution_count": 18,
      "outputs": [
        {
          "output_type": "stream",
          "name": "stdout",
          "text": [
            "O número 70 é mapeado para o caractere: F\n"
          ]
        }
      ]
    },
    {
      "cell_type": "code",
      "source": [
        "for i in range(70, 100):\n",
        "  caractere = chr(i)\n",
        "  print(f\"{i} - {caractere}\", end = \"\\n\")"
      ],
      "metadata": {
        "colab": {
          "base_uri": "https://localhost:8080/"
        },
        "id": "gcDi6xyvwwvA",
        "outputId": "606764a0-6b39-4a3d-980b-05f6573dcdc2"
      },
      "execution_count": 24,
      "outputs": [
        {
          "output_type": "stream",
          "name": "stdout",
          "text": [
            "70 - F\n",
            "71 - G\n",
            "72 - H\n",
            "73 - I\n",
            "74 - J\n",
            "75 - K\n",
            "76 - L\n",
            "77 - M\n",
            "78 - N\n",
            "79 - O\n",
            "80 - P\n",
            "81 - Q\n",
            "82 - R\n",
            "83 - S\n",
            "84 - T\n",
            "85 - U\n",
            "86 - V\n",
            "87 - W\n",
            "88 - X\n",
            "89 - Y\n",
            "90 - Z\n",
            "91 - [\n",
            "92 - \\\n",
            "93 - ]\n",
            "94 - ^\n",
            "95 - _\n",
            "96 - `\n",
            "97 - a\n",
            "98 - b\n",
            "99 - c\n"
          ]
        }
      ]
    },
    {
      "cell_type": "code",
      "source": [
        "caractere = 'F'\n",
        "numero = ord(caractere) # -> A função retorna o número do caractere pelo parametro/caractere fornecido\n",
        "print(f\"O caractere {caractere} é mapeado pelo número: {numero}\")"
      ],
      "metadata": {
        "colab": {
          "base_uri": "https://localhost:8080/"
        },
        "id": "z3cVNBNExctB",
        "outputId": "b43a77ab-df06-4e78-eea1-8c58015de48a"
      },
      "execution_count": 25,
      "outputs": [
        {
          "output_type": "stream",
          "name": "stdout",
          "text": [
            "O caractere F é mapeado pelo número: 70\n"
          ]
        }
      ]
    },
    {
      "cell_type": "code",
      "source": [],
      "metadata": {
        "id": "wWZGnaz-yMFh"
      },
      "execution_count": null,
      "outputs": []
    }
  ]
}