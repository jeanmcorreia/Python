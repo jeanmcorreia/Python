{
  "nbformat": 4,
  "nbformat_minor": 0,
  "metadata": {
    "colab": {
      "provenance": [],
      "authorship_tag": "ABX9TyM0aCjtFZw5BW1QippU98Tn",
      "include_colab_link": true
    },
    "kernelspec": {
      "name": "python3",
      "display_name": "Python 3"
    },
    "language_info": {
      "name": "python"
    }
  },
  "cells": [
    {
      "cell_type": "markdown",
      "metadata": {
        "id": "view-in-github",
        "colab_type": "text"
      },
      "source": [
        "<a href=\"https://colab.research.google.com/github/jeanmcorreia/Python/blob/main/6_Fun%C3%A7%C3%B5es_Builtin.ipynb\" target=\"_parent\"><img src=\"https://colab.research.google.com/assets/colab-badge.svg\" alt=\"Open In Colab\"/></a>"
      ]
    },
    {
      "cell_type": "markdown",
      "source": [
        "# Funções Matemáticas"
      ],
      "metadata": {
        "id": "6ThnnkN6wV8R"
      }
    },
    {
      "cell_type": "code",
      "execution_count": null,
      "metadata": {
        "colab": {
          "base_uri": "https://localhost:8080/"
        },
        "id": "hqjV3pwptiKV",
        "outputId": "ba10f7f3-4735-4beb-dbb6-d35cf4ed63b1"
      },
      "outputs": [
        {
          "output_type": "stream",
          "name": "stdout",
          "text": [
            "10\n",
            "10\n",
            "20\n"
          ]
        }
      ],
      "source": [
        "num1 = -10\n",
        "num2 = 10\n",
        "print(abs(num1))\n",
        "print(abs(num2))\n",
        "print(abs(num1) + abs(num2))"
      ]
    },
    {
      "cell_type": "code",
      "source": [
        "maior_valor = max(10,20,30)\n",
        "print(maior_valor)"
      ],
      "metadata": {
        "colab": {
          "base_uri": "https://localhost:8080/"
        },
        "id": "ot-mMXYvuKCq",
        "outputId": "281253ea-6a4d-4d00-c6ae-9a6773fdfa0f"
      },
      "execution_count": null,
      "outputs": [
        {
          "output_type": "stream",
          "name": "stdout",
          "text": [
            "30\n"
          ]
        }
      ]
    },
    {
      "cell_type": "code",
      "source": [
        "lista = [-20,1,2,3,3]\n",
        "print(max(lista))"
      ],
      "metadata": {
        "colab": {
          "base_uri": "https://localhost:8080/"
        },
        "id": "CbDnokgMuqL5",
        "outputId": "34670fef-8d79-4249-f301-63138f69a32e"
      },
      "execution_count": null,
      "outputs": [
        {
          "output_type": "stream",
          "name": "stdout",
          "text": [
            "3\n"
          ]
        }
      ]
    },
    {
      "cell_type": "code",
      "source": [
        "lista = [-20,1,2,3,3]\n",
        "print(min(lista))"
      ],
      "metadata": {
        "colab": {
          "base_uri": "https://localhost:8080/"
        },
        "id": "fCUuyl0yu8P4",
        "outputId": "e36d282c-3b03-430f-d320-5465fb9fd8d3"
      },
      "execution_count": null,
      "outputs": [
        {
          "output_type": "stream",
          "name": "stdout",
          "text": [
            "-20\n"
          ]
        }
      ]
    },
    {
      "cell_type": "code",
      "source": [
        "x = 2\n",
        "y = 3\n",
        "print(pow(x,y))"
      ],
      "metadata": {
        "colab": {
          "base_uri": "https://localhost:8080/"
        },
        "id": "G6aEP2xFvCbp",
        "outputId": "80a54147-666f-4551-9804-29fff05f3c62"
      },
      "execution_count": null,
      "outputs": [
        {
          "output_type": "stream",
          "name": "stdout",
          "text": [
            "8\n"
          ]
        }
      ]
    },
    {
      "cell_type": "code",
      "source": [
        "import math\n",
        "print(math.sqrt(25))"
      ],
      "metadata": {
        "colab": {
          "base_uri": "https://localhost:8080/"
        },
        "id": "Dc-K4xUyvOn4",
        "outputId": "5874df76-3676-4963-edde-4245a62e886f"
      },
      "execution_count": null,
      "outputs": [
        {
          "output_type": "stream",
          "name": "stdout",
          "text": [
            "5.0\n"
          ]
        }
      ]
    },
    {
      "cell_type": "code",
      "source": [
        "print(round(2.4566, 1))"
      ],
      "metadata": {
        "colab": {
          "base_uri": "https://localhost:8080/"
        },
        "id": "djENMwelveOR",
        "outputId": "7a71c6e8-3413-43ce-a463-f1deca81083d"
      },
      "execution_count": null,
      "outputs": [
        {
          "output_type": "stream",
          "name": "stdout",
          "text": [
            "2.5\n"
          ]
        }
      ]
    },
    {
      "cell_type": "code",
      "source": [
        "from math import floor, ceil\n",
        "print(floor(2.4566))\n",
        "print(ceil(2.4566))"
      ],
      "metadata": {
        "colab": {
          "base_uri": "https://localhost:8080/"
        },
        "id": "l0ibsS2_vkip",
        "outputId": "2ca1dd47-25d4-43d0-deec-5f0a6c509c93"
      },
      "execution_count": null,
      "outputs": [
        {
          "output_type": "stream",
          "name": "stdout",
          "text": [
            "2\n",
            "3\n"
          ]
        }
      ]
    },
    {
      "cell_type": "code",
      "source": [
        "print(divmod(10,4))"
      ],
      "metadata": {
        "colab": {
          "base_uri": "https://localhost:8080/"
        },
        "id": "lPgoI0vfv6mJ",
        "outputId": "15430d8e-bc6a-4fcd-cdae-dc80cd951a99"
      },
      "execution_count": null,
      "outputs": [
        {
          "output_type": "stream",
          "name": "stdout",
          "text": [
            "(2, 2)\n"
          ]
        }
      ]
    },
    {
      "cell_type": "markdown",
      "source": [
        "# Caracteres p/ Números e Números p/ Caracteres"
      ],
      "metadata": {
        "id": "1UjBka8Owadf"
      }
    },
    {
      "cell_type": "code",
      "source": [
        "numero = 70\n",
        "caractere = chr(numero) # -> A função chr retorna o caractere pelo parametro/numero fornecido\n",
        "print(f\"O número {numero} é mapeado para o caractere: {caractere}\")"
      ],
      "metadata": {
        "colab": {
          "base_uri": "https://localhost:8080/"
        },
        "id": "nhPip9bNwEqR",
        "outputId": "f1259fef-f6fd-435a-87d6-251bacd6a715"
      },
      "execution_count": null,
      "outputs": [
        {
          "output_type": "stream",
          "name": "stdout",
          "text": [
            "O número 70 é mapeado para o caractere: F\n"
          ]
        }
      ]
    },
    {
      "cell_type": "code",
      "source": [
        "for i in range(70, 100):\n",
        "  caractere = chr(i)\n",
        "  print(f\"{i} - {caractere}\", end = \"\\n\")"
      ],
      "metadata": {
        "colab": {
          "base_uri": "https://localhost:8080/"
        },
        "id": "gcDi6xyvwwvA",
        "outputId": "606764a0-6b39-4a3d-980b-05f6573dcdc2"
      },
      "execution_count": null,
      "outputs": [
        {
          "output_type": "stream",
          "name": "stdout",
          "text": [
            "70 - F\n",
            "71 - G\n",
            "72 - H\n",
            "73 - I\n",
            "74 - J\n",
            "75 - K\n",
            "76 - L\n",
            "77 - M\n",
            "78 - N\n",
            "79 - O\n",
            "80 - P\n",
            "81 - Q\n",
            "82 - R\n",
            "83 - S\n",
            "84 - T\n",
            "85 - U\n",
            "86 - V\n",
            "87 - W\n",
            "88 - X\n",
            "89 - Y\n",
            "90 - Z\n",
            "91 - [\n",
            "92 - \\\n",
            "93 - ]\n",
            "94 - ^\n",
            "95 - _\n",
            "96 - `\n",
            "97 - a\n",
            "98 - b\n",
            "99 - c\n"
          ]
        }
      ]
    },
    {
      "cell_type": "code",
      "source": [
        "caractere = 'F'\n",
        "numero = ord(caractere) # -> A função retorna o número do caractere pelo parametro/caractere fornecido\n",
        "print(f\"O caractere {caractere} é mapeado pelo número: {numero}\")"
      ],
      "metadata": {
        "colab": {
          "base_uri": "https://localhost:8080/"
        },
        "id": "z3cVNBNExctB",
        "outputId": "b43a77ab-df06-4e78-eea1-8c58015de48a"
      },
      "execution_count": null,
      "outputs": [
        {
          "output_type": "stream",
          "name": "stdout",
          "text": [
            "O caractere F é mapeado pelo número: 70\n"
          ]
        }
      ]
    },
    {
      "cell_type": "markdown",
      "source": [
        "# Funções de Texto"
      ],
      "metadata": {
        "id": "sTUtnNwoygVQ"
      }
    },
    {
      "cell_type": "code",
      "source": [
        "texto = \"olá, tuDo bem?\"\n",
        "print(texto.capitalize()) # -> O metódo capitalize() coloca a primeira letra do texto em maiuscula e o resto em minuscula"
      ],
      "metadata": {
        "colab": {
          "base_uri": "https://localhost:8080/"
        },
        "id": "wWZGnaz-yMFh",
        "outputId": "d09bd28e-9ee8-46e3-c178-fc3131222b7f"
      },
      "execution_count": null,
      "outputs": [
        {
          "output_type": "stream",
          "name": "stdout",
          "text": [
            "Olá, tudo bem?\n"
          ]
        }
      ]
    },
    {
      "cell_type": "code",
      "source": [
        "texto = \"IsTo é EstraNHO\"\n",
        "print(texto.lower()) # -> metódo lower() deixa todas letras minusculas do texto\n",
        "print(texto.upper()) # -> metódo upper() coloca o texto todo em maiuscula\n",
        "print(texto.swapcase()) # -> metodo swapcase() inverte os casos"
      ],
      "metadata": {
        "colab": {
          "base_uri": "https://localhost:8080/"
        },
        "id": "4Ohn3r47ypeR",
        "outputId": "5ee8b5fe-d1c8-434f-eee1-1912917c52c1"
      },
      "execution_count": null,
      "outputs": [
        {
          "output_type": "stream",
          "name": "stdout",
          "text": [
            "isto é estranho\n",
            "ISTO É ESTRANHO\n",
            "iStO É eSTRAnho\n"
          ]
        }
      ]
    },
    {
      "cell_type": "code",
      "source": [
        "texto = \"eu sou um ótimo programador python\"\n",
        "print(texto.title()) # -> metodo title() deixa todas as palavras com a primeira letra maiuscula"
      ],
      "metadata": {
        "colab": {
          "base_uri": "https://localhost:8080/"
        },
        "id": "hwAxjcaJzbGx",
        "outputId": "31e33f7f-a771-4373-f4cb-ac60d7f7f816"
      },
      "execution_count": null,
      "outputs": [
        {
          "output_type": "stream",
          "name": "stdout",
          "text": [
            "Eu Sou Um Ótimo Programador Python\n"
          ]
        }
      ]
    },
    {
      "cell_type": "code",
      "source": [
        "texto = \"1234567\"\n",
        "print(texto.center(9)) # -> coloca espaços para centralizar o texto\n",
        "print(texto.center(14))\n",
        "print(texto.center(14, '-'))"
      ],
      "metadata": {
        "colab": {
          "base_uri": "https://localhost:8080/"
        },
        "id": "RYtpa9JXzm8Q",
        "outputId": "b9fcaa20-19de-46d1-e867-d2e8047862a7"
      },
      "execution_count": null,
      "outputs": [
        {
          "output_type": "stream",
          "name": "stdout",
          "text": [
            " 1234567 \n",
            "   1234567    \n",
            "---1234567----\n"
          ]
        }
      ]
    },
    {
      "cell_type": "code",
      "source": [
        "texto = \"1234567\"\n",
        "print(texto.rjust(9)) # metodo rjust justifica a direita\n",
        "print(texto.ljust(9)) # metodo ljust justifica o texto a esquerda"
      ],
      "metadata": {
        "colab": {
          "base_uri": "https://localhost:8080/"
        },
        "id": "9YC58JVZz0TI",
        "outputId": "9181b825-823f-4b63-e221-86dac8eae4f4"
      },
      "execution_count": null,
      "outputs": [
        {
          "output_type": "stream",
          "name": "stdout",
          "text": [
            "  1234567\n",
            "1234567  \n"
          ]
        }
      ]
    },
    {
      "cell_type": "code",
      "source": [
        "texto = \"1212121212\"\n",
        "print(texto.count(\"12\")) # -> conta as ocorrencias que contém no parametro no texto"
      ],
      "metadata": {
        "colab": {
          "base_uri": "https://localhost:8080/"
        },
        "id": "xNPhYzmT0T3I",
        "outputId": "cd3e501c-ef0d-4f33-b43d-f47e60ada793"
      },
      "execution_count": null,
      "outputs": [
        {
          "output_type": "stream",
          "name": "stdout",
          "text": [
            "5\n"
          ]
        }
      ]
    },
    {
      "cell_type": "code",
      "source": [
        "texto = \"1212121212\"\n",
        "print(texto.startswith(\"12\")) # Verifica se começa com 12\n",
        "print(texto.endswith(\"12\")) # Verifica se termina com 12"
      ],
      "metadata": {
        "colab": {
          "base_uri": "https://localhost:8080/"
        },
        "id": "y5O_NhMa2GrQ",
        "outputId": "c6ef0660-baa8-4648-a72f-994b481c1449"
      },
      "execution_count": null,
      "outputs": [
        {
          "output_type": "stream",
          "name": "stdout",
          "text": [
            "True\n",
            "True\n"
          ]
        }
      ]
    },
    {
      "cell_type": "code",
      "source": [
        "texto = \"Me encontra 20 10 5\"\n",
        "pos = texto.find(\"10\") # indice da posicao do parametro no texto\n",
        "print(pos)\n",
        "pos = texto.find(\"4\")\n",
        "print(pos)"
      ],
      "metadata": {
        "colab": {
          "base_uri": "https://localhost:8080/"
        },
        "id": "vFwPbgG12Ygo",
        "outputId": "079cc722-cf1e-4c86-b45a-0ff1099a13af"
      },
      "execution_count": null,
      "outputs": [
        {
          "output_type": "stream",
          "name": "stdout",
          "text": [
            "15\n",
            "-1\n"
          ]
        }
      ]
    },
    {
      "cell_type": "code",
      "source": [
        "texto = \"Me encontra 20 10 5\"\n",
        "pos = texto.index(\"10\") # indice da posicao do parametro no texto\n",
        "print(pos)\n",
        "pos = texto.find(\"4\") # Index não funciona quando não contém o parametro no texto (Gera erro)\n",
        "print(pos)"
      ],
      "metadata": {
        "colab": {
          "base_uri": "https://localhost:8080/"
        },
        "id": "HMPYaGjD6Nw4",
        "outputId": "cfc8d198-27c4-4da0-a58c-4d4423876f93"
      },
      "execution_count": null,
      "outputs": [
        {
          "output_type": "stream",
          "name": "stdout",
          "text": [
            "15\n"
          ]
        }
      ]
    },
    {
      "cell_type": "code",
      "source": [
        "texto = \"Ol@ eu sou @ ful@n@\"\n",
        "novo_texto = texto.replace(\"@\", \"a\") # Remove as ocorrencia e substitui pelo parametro fornecido\n",
        "print(novo_texto)"
      ],
      "metadata": {
        "colab": {
          "base_uri": "https://localhost:8080/"
        },
        "id": "2je5G0HS6XLv",
        "outputId": "4712768d-a791-4fec-ac1a-99dfd1b63e0e"
      },
      "execution_count": null,
      "outputs": [
        {
          "output_type": "stream",
          "name": "stdout",
          "text": [
            "Ola eu sou a fulana\n"
          ]
        }
      ]
    },
    {
      "cell_type": "code",
      "source": [
        "texto = '10,20,30'\n",
        "print(texto.split(\",\")) # retorna uma lista de substring da string, usando o separador identificado"
      ],
      "metadata": {
        "colab": {
          "base_uri": "https://localhost:8080/"
        },
        "id": "LGDs8iwp6vkI",
        "outputId": "a65763e5-ac84-4c72-82e9-55ee809951dc"
      },
      "execution_count": null,
      "outputs": [
        {
          "output_type": "stream",
          "name": "stdout",
          "text": [
            "['10', '20', '30']\n"
          ]
        }
      ]
    },
    {
      "cell_type": "code",
      "source": [
        "texto = \"Olá, bom dia\\n este é um curso de Python\\n Seja bem vindo\"\n",
        "print(texto.splitlines()) # Retorna uma lista de substrings da string, usando a quebra de linha"
      ],
      "metadata": {
        "colab": {
          "base_uri": "https://localhost:8080/"
        },
        "id": "YRtGq71G68tw",
        "outputId": "01072ed2-7b17-4d55-dabc-362e628cd926"
      },
      "execution_count": null,
      "outputs": [
        {
          "output_type": "stream",
          "name": "stdout",
          "text": [
            "['Olá, bom dia', ' este é um curso de Python', ' Seja bem vindo']\n"
          ]
        }
      ]
    },
    {
      "cell_type": "code",
      "source": [
        "print(\"abcdE3 \".isalpha()) # Verifica se o texto é alfa"
      ],
      "metadata": {
        "colab": {
          "base_uri": "https://localhost:8080/"
        },
        "id": "WFyHjSDJ7Y8w",
        "outputId": "e164d622-0ec3-42db-b92c-c802746b136e"
      },
      "execution_count": null,
      "outputs": [
        {
          "output_type": "stream",
          "name": "stdout",
          "text": [
            "False\n"
          ]
        }
      ]
    },
    {
      "cell_type": "code",
      "source": [
        "print(\"abcdE3\".isalnum()) # Verifica se o texto é alfanumerico\n",
        "print(\"abcdE3,\".isalnum())"
      ],
      "metadata": {
        "colab": {
          "base_uri": "https://localhost:8080/"
        },
        "id": "5f67rdJT7xFH",
        "outputId": "4d43f5ba-49a8-4054-e2b0-29d46dc34b9b"
      },
      "execution_count": null,
      "outputs": [
        {
          "output_type": "stream",
          "name": "stdout",
          "text": [
            "True\n",
            "False\n"
          ]
        }
      ]
    },
    {
      "cell_type": "code",
      "source": [
        "print(\"123.4\".isdecimal()) # Verifica se é um número\n",
        "print(\"123\".isdecimal())"
      ],
      "metadata": {
        "colab": {
          "base_uri": "https://localhost:8080/"
        },
        "id": "JXGvbv-_8KDn",
        "outputId": "e9d6213b-ffd8-4cbd-802d-c8a80a828703"
      },
      "execution_count": null,
      "outputs": [
        {
          "output_type": "stream",
          "name": "stdout",
          "text": [
            "False\n",
            "True\n"
          ]
        }
      ]
    },
    {
      "cell_type": "code",
      "source": [
        "print(\"123\".isspace()) # Verifica se pe um espaço em branco\n",
        "print(\" \".isspace())"
      ],
      "metadata": {
        "colab": {
          "base_uri": "https://localhost:8080/"
        },
        "id": "oZxAm81q9wb_",
        "outputId": "3125c70c-3f32-40fd-b0af-d73cade074c5"
      },
      "execution_count": null,
      "outputs": [
        {
          "output_type": "stream",
          "name": "stdout",
          "text": [
            "False\n",
            "True\n"
          ]
        }
      ]
    },
    {
      "cell_type": "code",
      "source": [
        "print(\"no\".islower()) # Verifica se é string minuscula\n",
        "print(\"no\".isupper()) # Verifica se é string maiuscula"
      ],
      "metadata": {
        "colab": {
          "base_uri": "https://localhost:8080/"
        },
        "id": "otNMhf-l93qS",
        "outputId": "8026598c-eeb3-4a3f-9c97-aaf551f8aaa5"
      },
      "execution_count": null,
      "outputs": [
        {
          "output_type": "stream",
          "name": "stdout",
          "text": [
            "True\n",
            "False\n"
          ]
        }
      ]
    },
    {
      "cell_type": "markdown",
      "source": [
        "# Funções de Listas"
      ],
      "metadata": {
        "id": "aqsg7vuo-TKV"
      }
    },
    {
      "cell_type": "code",
      "source": [
        "lista = [5,10,2,1,5,10]\n",
        "lista.sort() # Retorna a lista ordenada\n",
        "print(lista)"
      ],
      "metadata": {
        "colab": {
          "base_uri": "https://localhost:8080/"
        },
        "id": "EIz3Qgx4-K-_",
        "outputId": "bcddda9f-b99c-484a-8796-6a5c71761116"
      },
      "execution_count": null,
      "outputs": [
        {
          "output_type": "stream",
          "name": "stdout",
          "text": [
            "[1, 2, 5, 5, 10, 10]\n"
          ]
        }
      ]
    },
    {
      "cell_type": "code",
      "source": [
        "lista = ['a', 'b', 'x', 'ab', 'c', 'd', 'c']\n",
        "lista.sort()\n",
        "print(lista)"
      ],
      "metadata": {
        "colab": {
          "base_uri": "https://localhost:8080/"
        },
        "id": "9FCMRYvl-f6i",
        "outputId": "25104307-ee7d-4a35-aed9-340fa9c06dc0"
      },
      "execution_count": null,
      "outputs": [
        {
          "output_type": "stream",
          "name": "stdout",
          "text": [
            "['a', 'ab', 'b', 'c', 'c', 'd', 'x']\n"
          ]
        }
      ]
    },
    {
      "cell_type": "code",
      "source": [
        "lista = [5,10,2,1,5,10]\n",
        "lista.sort(reverse=True) # Retorna a lista ordenada descrescente\n",
        "print(lista)"
      ],
      "metadata": {
        "colab": {
          "base_uri": "https://localhost:8080/"
        },
        "id": "dE0ANAXa-sqX",
        "outputId": "f331b3b7-3550-4f51-a66b-b41a03ee04b7"
      },
      "execution_count": null,
      "outputs": [
        {
          "output_type": "stream",
          "name": "stdout",
          "text": [
            "[10, 10, 5, 5, 2, 1]\n"
          ]
        }
      ]
    },
    {
      "cell_type": "code",
      "source": [
        "def sort_por_tamanho(item):\n",
        "  return len(item)\n",
        "\n",
        "lista = ['a', 'abcd', 'b', 'abc', 'ab', 'de']\n",
        "lista.sort(key=sort_por_tamanho)\n",
        "print(lista)"
      ],
      "metadata": {
        "colab": {
          "base_uri": "https://localhost:8080/"
        },
        "id": "IokXlnbF-8Yn",
        "outputId": "583106d2-59da-4d8e-e906-e9a0479075f3"
      },
      "execution_count": null,
      "outputs": [
        {
          "output_type": "stream",
          "name": "stdout",
          "text": [
            "['a', 'b', 'ab', 'de', 'abc', 'abcd']\n"
          ]
        }
      ]
    },
    {
      "cell_type": "code",
      "source": [
        "lista = [5,10,2,1,5,10]\n",
        "lista.reverse() # Retorna a lista revertida\n",
        "print(lista)"
      ],
      "metadata": {
        "colab": {
          "base_uri": "https://localhost:8080/"
        },
        "id": "AXz3BYVu_WV3",
        "outputId": "25cf8d16-0b93-452d-8e0e-59eabb0ac2a4"
      },
      "execution_count": null,
      "outputs": [
        {
          "output_type": "stream",
          "name": "stdout",
          "text": [
            "[10, 5, 1, 2, 10, 5]\n"
          ]
        }
      ]
    },
    {
      "cell_type": "code",
      "source": [
        "produtos = [['carro', 'R$ 100000'],\n",
        "            ['cadeira', 'R$ 1000'],\n",
        "            ['moto', 'R$ 40000'],\n",
        "            ['geladeira', 'R$ 20000'],\n",
        "            ['armario', 'R$ 1500']]\n",
        "\n",
        "for produto, valor in produtos:\n",
        "  print(produto, valor)\n"
      ],
      "metadata": {
        "id": "ZOciKDV-_moP",
        "colab": {
          "base_uri": "https://localhost:8080/"
        },
        "outputId": "529198b1-d419-4028-8974-79a52fa1d56b"
      },
      "execution_count": 1,
      "outputs": [
        {
          "output_type": "stream",
          "name": "stdout",
          "text": [
            "carro R$ 100000\n",
            "cadeira R$ 1000\n",
            "moto R$ 40000\n",
            "geladeira R$ 20000\n",
            "armario 1500\n"
          ]
        }
      ]
    },
    {
      "cell_type": "code",
      "source": [
        "nomes = ('Jose', 'Carlos', 'João')\n",
        "dicionario = dict.fromkeys(nomes, 10)\n",
        "print(dicionario)"
      ],
      "metadata": {
        "colab": {
          "base_uri": "https://localhost:8080/"
        },
        "id": "s062VsncwhEp",
        "outputId": "1e04bbcd-5dab-47c3-ace8-223e0600530e"
      },
      "execution_count": 2,
      "outputs": [
        {
          "output_type": "stream",
          "name": "stdout",
          "text": [
            "{'Jose': 10, 'Carlos': 10, 'João': 10}\n"
          ]
        }
      ]
    },
    {
      "cell_type": "markdown",
      "source": [
        "# Funções de Data e Hora"
      ],
      "metadata": {
        "id": "HXoEZo9GxKhq"
      }
    },
    {
      "cell_type": "code",
      "source": [
        "import datetime\n",
        "\n",
        "data_completa = datetime.datetime.now()\n",
        "data = data_completa.date()\n",
        "hora = data_completa.time()\n",
        "\n",
        "print(data_completa)\n",
        "print(data)\n",
        "print(hora)"
      ],
      "metadata": {
        "colab": {
          "base_uri": "https://localhost:8080/"
        },
        "id": "9_oIg2XZw-uI",
        "outputId": "0168e4dc-fd3b-471d-a7c3-e4e2a00153c3"
      },
      "execution_count": 3,
      "outputs": [
        {
          "output_type": "stream",
          "name": "stdout",
          "text": [
            "2024-12-19 11:57:10.253554\n",
            "2024-12-19\n",
            "11:57:10.253554\n"
          ]
        }
      ]
    },
    {
      "cell_type": "code",
      "source": [
        "import datetime\n",
        "data_completa = datetime.datetime.now()\n",
        "print(f\"Dia: {data_completa.day}\")\n",
        "print(f\"Mês: {data_completa.month}\")\n",
        "print(f\"Ano: {data_completa.year}\")\n",
        "print(f\"Hora: {data_completa.hour}\")\n",
        "print(f\"Minuto: {data_completa.minute}\")\n",
        "print(f\"Segundo: {data_completa.second}\")\n"
      ],
      "metadata": {
        "colab": {
          "base_uri": "https://localhost:8080/"
        },
        "id": "grAZTrs0x1_I",
        "outputId": "68403274-98e2-4b86-8154-e66ab8529c9a"
      },
      "execution_count": 5,
      "outputs": [
        {
          "output_type": "stream",
          "name": "stdout",
          "text": [
            "Dia: 19\n",
            "Mês: 12\n",
            "Ano: 2024\n",
            "Hora: 12\n",
            "Minuto: 11\n",
            "Segundo: 56\n"
          ]
        }
      ]
    },
    {
      "cell_type": "code",
      "source": [
        "import datetime\n",
        "\n",
        "data = datetime.date(2000, 9, 30)\n",
        "data = datetime.date(day=30, month=9, year=2000)\n",
        "print(data)\n",
        "print(type(data))"
      ],
      "metadata": {
        "colab": {
          "base_uri": "https://localhost:8080/"
        },
        "id": "I5-VyJc-1M5x",
        "outputId": "51e15548-97f2-4756-c19c-6249347f8d29"
      },
      "execution_count": 9,
      "outputs": [
        {
          "output_type": "stream",
          "name": "stdout",
          "text": [
            "2000-09-30\n",
            "<class 'datetime.date'>\n"
          ]
        }
      ]
    },
    {
      "cell_type": "code",
      "source": [
        "import datetime\n",
        "\n",
        "hora = datetime.time(10, 20, 54)\n",
        "print(hora)"
      ],
      "metadata": {
        "colab": {
          "base_uri": "https://localhost:8080/"
        },
        "id": "JstwRzht2Q2g",
        "outputId": "f50476c9-bf0b-4cc6-eb61-5eb2d30526e2"
      },
      "execution_count": 10,
      "outputs": [
        {
          "output_type": "stream",
          "name": "stdout",
          "text": [
            "10:20:54\n"
          ]
        }
      ]
    },
    {
      "cell_type": "code",
      "source": [
        "import datetime\n",
        "\n",
        "data = datetime.datetime(2000, 9, 30, 10, 30, 20)\n",
        "print(data)"
      ],
      "metadata": {
        "colab": {
          "base_uri": "https://localhost:8080/"
        },
        "id": "LZkfvY-a2n43",
        "outputId": "edfde09c-03ac-4ea4-e87b-2f9a5fd7e9e9"
      },
      "execution_count": 11,
      "outputs": [
        {
          "output_type": "stream",
          "name": "stdout",
          "text": [
            "2000-09-30 10:30:20\n"
          ]
        }
      ]
    },
    {
      "cell_type": "code",
      "source": [
        "import datetime\n",
        "# y ano\n",
        "# m mes\n",
        "# d dia\n",
        "# H hora\n",
        "# M minuto\n",
        "# S segundo\n",
        "\n",
        "atual = datetime.datetime.now()\n",
        "current_time = atual.strftime(\"%y/%m/%d %H:%M:%S\")\n",
        "print(current_time)\n",
        "print(type(current_time))"
      ],
      "metadata": {
        "colab": {
          "base_uri": "https://localhost:8080/"
        },
        "id": "Wv-UlFhF5OsP",
        "outputId": "c5fa14ed-fa7c-417e-ae0e-5940415321e3"
      },
      "execution_count": 13,
      "outputs": [
        {
          "output_type": "stream",
          "name": "stdout",
          "text": [
            "24/12/19 12:33:03\n",
            "<class 'str'>\n"
          ]
        }
      ]
    },
    {
      "cell_type": "code",
      "source": [
        "import datetime\n",
        "# y ano\n",
        "# m mes\n",
        "# d dia\n",
        "# H hora formato 00-23\n",
        "# M minuto\n",
        "# S segundo\n",
        "\n",
        "# A dia da semana\n",
        "# a dia da semana abrev\n",
        "# B nome do mes\n",
        "# b nome do mes abrev\n",
        "# I hora formato 12 horas\n",
        "# p AM PM\n",
        "\n",
        "data = datetime.datetime(2000, 9, 30, 18, 30, 20)\n",
        "print(data.strftime(\"%A - %a\"))\n",
        "print(data.strftime(\"%B - %b\"))\n",
        "print(data.strftime(\"%H - %I\"))\n",
        "print(data.strftime(\"%I - %p\"))"
      ],
      "metadata": {
        "colab": {
          "base_uri": "https://localhost:8080/"
        },
        "id": "YxZbahON6Aa_",
        "outputId": "0accd471-e7da-4d38-de72-8027722d4d36"
      },
      "execution_count": 15,
      "outputs": [
        {
          "output_type": "stream",
          "name": "stdout",
          "text": [
            "Saturday - Sat\n",
            "September - Sep\n",
            "18 - 06\n",
            "06 - PM\n"
          ]
        }
      ]
    },
    {
      "cell_type": "code",
      "source": [],
      "metadata": {
        "id": "rwyz8Mli7Lbf"
      },
      "execution_count": null,
      "outputs": []
    }
  ]
}