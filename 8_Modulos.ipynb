{
  "nbformat": 4,
  "nbformat_minor": 0,
  "metadata": {
    "colab": {
      "provenance": [],
      "authorship_tag": "ABX9TyNvGQPZADWS3MsoOtTxTT3A",
      "include_colab_link": true
    },
    "kernelspec": {
      "name": "python3",
      "display_name": "Python 3"
    },
    "language_info": {
      "name": "python"
    }
  },
  "cells": [
    {
      "cell_type": "markdown",
      "metadata": {
        "id": "view-in-github",
        "colab_type": "text"
      },
      "source": [
        "<a href=\"https://colab.research.google.com/github/jeanmcorreia/Python/blob/main/8_Modulos.ipynb\" target=\"_parent\"><img src=\"https://colab.research.google.com/assets/colab-badge.svg\" alt=\"Open In Colab\"/></a>"
      ]
    },
    {
      "cell_type": "markdown",
      "source": [
        "# Módulos\n",
        "\n"
      ],
      "metadata": {
        "id": "hqs3W0mw_jC5"
      }
    },
    {
      "cell_type": "code",
      "execution_count": 6,
      "metadata": {
        "colab": {
          "base_uri": "https://localhost:8080/"
        },
        "id": "liUXIC6_-QO2",
        "outputId": "17b79746-b0cb-4cba-f565-71e220cf9a2c"
      },
      "outputs": [
        {
          "output_type": "stream",
          "name": "stdout",
          "text": [
            "<class 'module'>\n",
            "2022-10-15 01:02:04\n"
          ]
        }
      ],
      "source": [
        "import datetime\n",
        "print(type(datetime))\n",
        "data = datetime.datetime(2022, 10, 15, 1, 2, 4)\n",
        "print(data)"
      ]
    },
    {
      "cell_type": "code",
      "source": [
        "import datetime as tempo\n",
        "data = tempo.datetime(2022, 10, 15, 10, 4, 5)\n",
        "print(data)"
      ],
      "metadata": {
        "colab": {
          "base_uri": "https://localhost:8080/"
        },
        "id": "K3DLgsrKAGi3",
        "outputId": "2e857efb-0164-47cf-fa61-5584b76f1d51"
      },
      "execution_count": 9,
      "outputs": [
        {
          "output_type": "stream",
          "name": "stdout",
          "text": [
            "2022-10-15 10:04:05\n"
          ]
        }
      ]
    },
    {
      "cell_type": "code",
      "source": [
        "import random\n",
        "print(random.randrange(10, 100))"
      ],
      "metadata": {
        "colab": {
          "base_uri": "https://localhost:8080/"
        },
        "id": "XYBlC_WZAPn4",
        "outputId": "db119545-ebb3-4e4f-ab3f-dde8bc4061b9"
      },
      "execution_count": 34,
      "outputs": [
        {
          "output_type": "stream",
          "name": "stdout",
          "text": [
            "72\n"
          ]
        }
      ]
    },
    {
      "cell_type": "code",
      "source": [
        "from random import randrange\n",
        "print(randrange(10, 100))"
      ],
      "metadata": {
        "colab": {
          "base_uri": "https://localhost:8080/"
        },
        "id": "UnuhLUemAdzO",
        "outputId": "7e6a93e1-98e7-433e-b47b-fdd7497e9eea"
      },
      "execution_count": 35,
      "outputs": [
        {
          "output_type": "stream",
          "name": "stdout",
          "text": [
            "50\n"
          ]
        }
      ]
    },
    {
      "cell_type": "code",
      "source": [
        "from random import randrange as num_aleatorio\n",
        "print(num_aleatorio(10, 100))"
      ],
      "metadata": {
        "colab": {
          "base_uri": "https://localhost:8080/"
        },
        "id": "-cOmkO28A-CW",
        "outputId": "b70874cc-dd6e-4bcc-bcea-2de82b6ac073"
      },
      "execution_count": 37,
      "outputs": [
        {
          "output_type": "stream",
          "name": "stdout",
          "text": [
            "19\n"
          ]
        }
      ]
    },
    {
      "cell_type": "code",
      "source": [
        "from random import randrange, randint\n",
        "print(randrange(10, 100))"
      ],
      "metadata": {
        "colab": {
          "base_uri": "https://localhost:8080/"
        },
        "id": "Wo4lBbd8BGwi",
        "outputId": "c9c68252-f118-4aef-d04d-9abf13470a73"
      },
      "execution_count": 39,
      "outputs": [
        {
          "output_type": "stream",
          "name": "stdout",
          "text": [
            "61\n"
          ]
        }
      ]
    },
    {
      "cell_type": "code",
      "source": [
        "from random import *\n",
        "print(randrange(10, 100))"
      ],
      "metadata": {
        "colab": {
          "base_uri": "https://localhost:8080/"
        },
        "id": "2ReIQCCpCAYr",
        "outputId": "5891791f-dedd-4dbd-a5c8-f314c7447f05"
      },
      "execution_count": 38,
      "outputs": [
        {
          "output_type": "stream",
          "name": "stdout",
          "text": [
            "60\n"
          ]
        }
      ]
    },
    {
      "cell_type": "code",
      "source": [
        "import random\n",
        "dir(random)"
      ],
      "metadata": {
        "colab": {
          "base_uri": "https://localhost:8080/"
        },
        "id": "0Z8nvfzoCYP1",
        "outputId": "0f5dc3d1-6d16-4f80-8374-6485a6c18f1b"
      },
      "execution_count": 40,
      "outputs": [
        {
          "output_type": "execute_result",
          "data": {
            "text/plain": [
              "['BPF',\n",
              " 'LOG4',\n",
              " 'NV_MAGICCONST',\n",
              " 'RECIP_BPF',\n",
              " 'Random',\n",
              " 'SG_MAGICCONST',\n",
              " 'SystemRandom',\n",
              " 'TWOPI',\n",
              " '_ONE',\n",
              " '_Sequence',\n",
              " '__all__',\n",
              " '__builtins__',\n",
              " '__cached__',\n",
              " '__doc__',\n",
              " '__file__',\n",
              " '__loader__',\n",
              " '__name__',\n",
              " '__package__',\n",
              " '__spec__',\n",
              " '_accumulate',\n",
              " '_acos',\n",
              " '_bisect',\n",
              " '_ceil',\n",
              " '_cos',\n",
              " '_e',\n",
              " '_exp',\n",
              " '_fabs',\n",
              " '_floor',\n",
              " '_index',\n",
              " '_inst',\n",
              " '_isfinite',\n",
              " '_lgamma',\n",
              " '_log',\n",
              " '_log2',\n",
              " '_os',\n",
              " '_pi',\n",
              " '_random',\n",
              " '_repeat',\n",
              " '_sha512',\n",
              " '_sin',\n",
              " '_sqrt',\n",
              " '_test',\n",
              " '_test_generator',\n",
              " '_urandom',\n",
              " '_warn',\n",
              " 'betavariate',\n",
              " 'binomialvariate',\n",
              " 'choice',\n",
              " 'choices',\n",
              " 'expovariate',\n",
              " 'gammavariate',\n",
              " 'gauss',\n",
              " 'getrandbits',\n",
              " 'getstate',\n",
              " 'lognormvariate',\n",
              " 'normalvariate',\n",
              " 'paretovariate',\n",
              " 'randbytes',\n",
              " 'randint',\n",
              " 'random',\n",
              " 'randrange',\n",
              " 'sample',\n",
              " 'seed',\n",
              " 'setstate',\n",
              " 'shuffle',\n",
              " 'triangular',\n",
              " 'uniform',\n",
              " 'vonmisesvariate',\n",
              " 'weibullvariate']"
            ]
          },
          "metadata": {},
          "execution_count": 40
        }
      ]
    },
    {
      "cell_type": "code",
      "source": [
        "import random\n",
        "dir(random.randrange)"
      ],
      "metadata": {
        "colab": {
          "base_uri": "https://localhost:8080/"
        },
        "id": "sZ9HjIhuCl9X",
        "outputId": "8958a7ed-5764-4c52-a286-c094a87438bb"
      },
      "execution_count": 41,
      "outputs": [
        {
          "output_type": "execute_result",
          "data": {
            "text/plain": [
              "['__call__',\n",
              " '__class__',\n",
              " '__delattr__',\n",
              " '__dir__',\n",
              " '__doc__',\n",
              " '__eq__',\n",
              " '__format__',\n",
              " '__func__',\n",
              " '__ge__',\n",
              " '__getattribute__',\n",
              " '__getstate__',\n",
              " '__gt__',\n",
              " '__hash__',\n",
              " '__init__',\n",
              " '__init_subclass__',\n",
              " '__le__',\n",
              " '__lt__',\n",
              " '__ne__',\n",
              " '__new__',\n",
              " '__reduce__',\n",
              " '__reduce_ex__',\n",
              " '__repr__',\n",
              " '__self__',\n",
              " '__setattr__',\n",
              " '__sizeof__',\n",
              " '__str__',\n",
              " '__subclasshook__']"
            ]
          },
          "metadata": {},
          "execution_count": 41
        }
      ]
    },
    {
      "cell_type": "code",
      "source": [
        "import random\n",
        "print(random.__name__)\n",
        "print(random.__file__)\n",
        "print(random.__doc__)"
      ],
      "metadata": {
        "colab": {
          "base_uri": "https://localhost:8080/"
        },
        "id": "JSP_6gNuCtHD",
        "outputId": "e4113cad-551b-4dc8-b743-b4c1e4ce1718"
      },
      "execution_count": 43,
      "outputs": [
        {
          "output_type": "stream",
          "name": "stdout",
          "text": [
            "random\n",
            "/usr/lib/python3.12/random.py\n",
            "Random variable generators.\n",
            "\n",
            "    bytes\n",
            "    -----\n",
            "           uniform bytes (values between 0 and 255)\n",
            "\n",
            "    integers\n",
            "    --------\n",
            "           uniform within range\n",
            "\n",
            "    sequences\n",
            "    ---------\n",
            "           pick random element\n",
            "           pick random sample\n",
            "           pick weighted random sample\n",
            "           generate random permutation\n",
            "\n",
            "    distributions on the real line:\n",
            "    ------------------------------\n",
            "           uniform\n",
            "           triangular\n",
            "           normal (Gaussian)\n",
            "           lognormal\n",
            "           negative exponential\n",
            "           gamma\n",
            "           beta\n",
            "           pareto\n",
            "           Weibull\n",
            "\n",
            "    distributions on the circle (angles 0 to 2pi)\n",
            "    ---------------------------------------------\n",
            "           circular uniform\n",
            "           von Mises\n",
            "\n",
            "    discrete distributions\n",
            "    ----------------------\n",
            "           binomial\n",
            "\n",
            "\n",
            "General notes on the underlying Mersenne Twister core generator:\n",
            "\n",
            "* The period is 2**19937-1.\n",
            "* It is one of the most extensively tested generators in existence.\n",
            "* The random() method is implemented in C, executes in a single Python step,\n",
            "  and is, therefore, threadsafe.\n",
            "\n",
            "\n"
          ]
        }
      ]
    },
    {
      "cell_type": "code",
      "source": [
        "from random import randrange\n",
        "print(randrange.__name__)\n",
        "print(randrange.__doc__)"
      ],
      "metadata": {
        "colab": {
          "base_uri": "https://localhost:8080/"
        },
        "id": "K4FwLFV5DHbK",
        "outputId": "885f8125-dd08-4441-b04f-2b5c016fde6d"
      },
      "execution_count": 45,
      "outputs": [
        {
          "output_type": "stream",
          "name": "stdout",
          "text": [
            "randrange\n",
            "Choose a random item from range(stop) or range(start, stop[, step]).\n",
            "\n",
            "        Roughly equivalent to ``choice(range(start, stop, step))`` but\n",
            "        supports arbitrarily large ranges and is optimized for common cases.\n",
            "\n",
            "        \n"
          ]
        }
      ]
    },
    {
      "cell_type": "code",
      "source": [
        "print(__name__)\n",
        "print(__doc__)"
      ],
      "metadata": {
        "colab": {
          "base_uri": "https://localhost:8080/"
        },
        "id": "EaMlti8hEcsR",
        "outputId": "e6a4ee60-c9be-419c-ffec-c7af838ead12"
      },
      "execution_count": 46,
      "outputs": [
        {
          "output_type": "stream",
          "name": "stdout",
          "text": [
            "__main__\n",
            "Automatically created module for IPython interactive environment\n"
          ]
        }
      ]
    }
  ]
}