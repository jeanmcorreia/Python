{
  "nbformat": 4,
  "nbformat_minor": 0,
  "metadata": {
    "colab": {
      "provenance": [],
      "authorship_tag": "ABX9TyMzUTzcRpoDJ7sBodKrXnI7",
      "include_colab_link": true
    },
    "kernelspec": {
      "name": "python3",
      "display_name": "Python 3"
    },
    "language_info": {
      "name": "python"
    }
  },
  "cells": [
    {
      "cell_type": "markdown",
      "metadata": {
        "id": "view-in-github",
        "colab_type": "text"
      },
      "source": [
        "<a href=\"https://colab.research.google.com/github/jeanmcorreia/Python/blob/main/Atividade1.ipynb\" target=\"_parent\"><img src=\"https://colab.research.google.com/assets/colab-badge.svg\" alt=\"Open In Colab\"/></a>"
      ]
    },
    {
      "cell_type": "code",
      "execution_count": 4,
      "metadata": {
        "id": "si4QdH96r597"
      },
      "outputs": [],
      "source": [
        "#1 - Realize o print do seu nome completo, sua idade e sua\n",
        "# altura utilizando um print para cada valor."
      ]
    },
    {
      "cell_type": "code",
      "source": [
        "print(\"Jean Marcos Correia\")\n",
        "print(20)\n",
        "print(1.70)"
      ],
      "metadata": {
        "id": "4SgiA9zqtM1U"
      },
      "execution_count": null,
      "outputs": []
    },
    {
      "cell_type": "code",
      "source": [
        "#2 - Realize o print do seu nome completo, sua idade e sua altura\n",
        "# utilizando apenas um print para todos valores."
      ],
      "metadata": {
        "id": "AUb9dnD_sDJ7"
      },
      "execution_count": 5,
      "outputs": []
    },
    {
      "cell_type": "code",
      "source": [
        "print(\"Jean Marcos Correia\", 20, 1.70)"
      ],
      "metadata": {
        "id": "DnG1Y5emtO20"
      },
      "execution_count": null,
      "outputs": []
    },
    {
      "cell_type": "code",
      "source": [
        "#3 - Realize o print de 3 números de sua escolha\n",
        "# em um mesmo print, mas separados pelo caractere '-'."
      ],
      "metadata": {
        "id": "qNnQJOrZsUVK"
      },
      "execution_count": 6,
      "outputs": []
    },
    {
      "cell_type": "code",
      "source": [
        "print(\"Jean Marcos Correia\", 20, 1.70, sep=\"-\")"
      ],
      "metadata": {
        "colab": {
          "base_uri": "https://localhost:8080/"
        },
        "id": "TzrVzWfvsXZq",
        "outputId": "274cd458-6738-47a5-f431-f61bfa8a136d"
      },
      "execution_count": 7,
      "outputs": [
        {
          "output_type": "stream",
          "name": "stdout",
          "text": [
            "Jean Marcos Correia-20-1.7\n"
          ]
        }
      ]
    }
  ]
}