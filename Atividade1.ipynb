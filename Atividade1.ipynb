{
  "nbformat": 4,
  "nbformat_minor": 0,
  "metadata": {
    "colab": {
      "provenance": [],
      "authorship_tag": "ABX9TyNk8K8LO+OYe8FwE90rQI3y",
      "include_colab_link": true
    },
    "kernelspec": {
      "name": "python3",
      "display_name": "Python 3"
    },
    "language_info": {
      "name": "python"
    }
  },
  "cells": [
    {
      "cell_type": "markdown",
      "metadata": {
        "id": "view-in-github",
        "colab_type": "text"
      },
      "source": [
        "<a href=\"https://colab.research.google.com/github/jeanmcorreia/Python/blob/main/Atividade1.ipynb\" target=\"_parent\"><img src=\"https://colab.research.google.com/assets/colab-badge.svg\" alt=\"Open In Colab\"/></a>"
      ]
    },
    {
      "cell_type": "code",
      "execution_count": 4,
      "metadata": {
        "id": "si4QdH96r597"
      },
      "outputs": [],
      "source": [
        "#1 - Realize o print do seu nome completo, sua idade e sua\n",
        "# altura utilizando um print para cada valor."
      ]
    },
    {
      "cell_type": "code",
      "source": [
        "print(\"Jean Marcos Correia\")\n",
        "print(20)\n",
        "print(1.70)"
      ],
      "metadata": {
        "id": "4SgiA9zqtM1U"
      },
      "execution_count": null,
      "outputs": []
    },
    {
      "cell_type": "code",
      "source": [
        "#2 - Realize o print do seu nome completo, sua idade e sua altura\n",
        "# utilizando apenas um print para todos valores."
      ],
      "metadata": {
        "id": "AUb9dnD_sDJ7"
      },
      "execution_count": 5,
      "outputs": []
    },
    {
      "cell_type": "code",
      "source": [
        "print(\"Nome: {}, idade: {}, altura: {}\".format(\"Fernando\", 20, 1.70))"
      ],
      "metadata": {
        "colab": {
          "base_uri": "https://localhost:8080/"
        },
        "id": "DnG1Y5emtO20",
        "outputId": "5d0a0572-28e6-4434-c29e-cf59960ce90e"
      },
      "execution_count": 9,
      "outputs": [
        {
          "output_type": "stream",
          "name": "stdout",
          "text": [
            "Nome: Fernando, idade: 20, altura: 1.7\n"
          ]
        }
      ]
    },
    {
      "cell_type": "code",
      "source": [
        "#3 - Realize o print de 3 números de sua escolha\n",
        "# em um mesmo print, mas separados pelo caractere '-'."
      ],
      "metadata": {
        "id": "qNnQJOrZsUVK"
      },
      "execution_count": 6,
      "outputs": []
    },
    {
      "cell_type": "code",
      "source": [
        "print(1,2,3, sep=\"-\")"
      ],
      "metadata": {
        "colab": {
          "base_uri": "https://localhost:8080/"
        },
        "id": "TzrVzWfvsXZq",
        "outputId": "44d54a17-01b3-4644-897b-e70a2b51d7b9"
      },
      "execution_count": 10,
      "outputs": [
        {
          "output_type": "stream",
          "name": "stdout",
          "text": [
            "1-2-3\n"
          ]
        }
      ]
    }
  ]
}