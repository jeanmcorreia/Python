{
  "nbformat": 4,
  "nbformat_minor": 0,
  "metadata": {
    "colab": {
      "provenance": [],
      "authorship_tag": "ABX9TyOokNw2khfk3VYLqvjfXanh",
      "include_colab_link": true
    },
    "kernelspec": {
      "name": "python3",
      "display_name": "Python 3"
    },
    "language_info": {
      "name": "python"
    }
  },
  "cells": [
    {
      "cell_type": "markdown",
      "metadata": {
        "id": "view-in-github",
        "colab_type": "text"
      },
      "source": [
        "<a href=\"https://colab.research.google.com/github/jeanmcorreia/Python/blob/main/3_EstruturasdeProgramacao.ipynb\" target=\"_parent\"><img src=\"https://colab.research.google.com/assets/colab-badge.svg\" alt=\"Open In Colab\"/></a>"
      ]
    },
    {
      "cell_type": "markdown",
      "source": [
        "# IF"
      ],
      "metadata": {
        "id": "kXV66G2QP6x4"
      }
    },
    {
      "cell_type": "code",
      "execution_count": null,
      "metadata": {
        "colab": {
          "base_uri": "https://localhost:8080/"
        },
        "id": "3ffGEgxNP1hF",
        "outputId": "cd0682ed-84f0-4cb4-b12b-6f23b5218038"
      },
      "outputs": [
        {
          "output_type": "stream",
          "name": "stdout",
          "text": [
            "Isto está fora dos ifs\n",
            "Este código vai ser executado\n",
            "Isto está fora dos ifs\n",
            "Isto está fora dos ifs\n"
          ]
        }
      ],
      "source": [
        "print(\"Isto está fora dos ifs\")\n",
        "if (True):\n",
        "  print(\"Este código vai ser executado\")\n",
        "\n",
        "print(\"Isto está fora dos ifs\")\n",
        "\n",
        "if (False):\n",
        "  print(\"Este código não vai ser executado\")\n",
        "\n",
        "print(\"Isto está fora dos ifs\")"
      ]
    },
    {
      "cell_type": "code",
      "source": [
        "if (True):\n",
        "  pass"
      ],
      "metadata": {
        "id": "KDwrmf1gRTAP"
      },
      "execution_count": null,
      "outputs": []
    },
    {
      "cell_type": "code",
      "source": [
        "valor1 = 10\n",
        "valor2 = 10\n",
        "sao_iguais = (valor1 == valor2)\n",
        "\n",
        "if (sao_iguais):\n",
        "  print(\"São iguais\")"
      ],
      "metadata": {
        "colab": {
          "base_uri": "https://localhost:8080/"
        },
        "id": "cygmTJ-4RiQ2",
        "outputId": "ce93f425-303a-43ae-fcc8-fe6beb6102d6"
      },
      "execution_count": null,
      "outputs": [
        {
          "output_type": "stream",
          "name": "stdout",
          "text": [
            "São iguais\n"
          ]
        }
      ]
    },
    {
      "cell_type": "code",
      "source": [
        "valor1 = 10\n",
        "valor2 = 10\n",
        "if (valor1 == valor2): print(\"São iguais\")"
      ],
      "metadata": {
        "colab": {
          "base_uri": "https://localhost:8080/"
        },
        "id": "Cp8d8QYxR0RF",
        "outputId": "9d24e1ac-2bf7-4a0d-ae92-10e6aaed2533"
      },
      "execution_count": null,
      "outputs": [
        {
          "output_type": "stream",
          "name": "stdout",
          "text": [
            "São iguais\n"
          ]
        }
      ]
    },
    {
      "cell_type": "code",
      "source": [
        "if (10 != 20):\n",
        "  print(\"São diferentes 1\")\n",
        "\n",
        "if (20 != 20):\n",
        "  print(\"São diferentes 2\")\n",
        "\n",
        "if (\"olá\" != \"alo\"):\n",
        "  print(\"São diferentes 3\")"
      ],
      "metadata": {
        "colab": {
          "base_uri": "https://localhost:8080/"
        },
        "id": "B1cMgCPuSBI9",
        "outputId": "cc950652-ac27-4b22-9764-486e54e0cbca"
      },
      "execution_count": null,
      "outputs": [
        {
          "output_type": "stream",
          "name": "stdout",
          "text": [
            "São diferentes 1\n",
            "São diferentes 3\n"
          ]
        }
      ]
    },
    {
      "cell_type": "code",
      "source": [
        "numero = 11\n",
        "if (numero > 10):\n",
        "  print(\"É maior que 10\")"
      ],
      "metadata": {
        "colab": {
          "base_uri": "https://localhost:8080/"
        },
        "id": "TYf9aPOmSW5l",
        "outputId": "e4f0fcad-34a8-4b17-9254-6167a6f89c38"
      },
      "execution_count": null,
      "outputs": [
        {
          "output_type": "stream",
          "name": "stdout",
          "text": [
            "É maior que 10\n"
          ]
        }
      ]
    },
    {
      "cell_type": "code",
      "source": [
        "nome = input(\"Digite o nome: \")\n",
        "if (\"a\" in nome):\n",
        "  print(\"Possui a letra \\'A\\'\")"
      ],
      "metadata": {
        "colab": {
          "base_uri": "https://localhost:8080/"
        },
        "id": "5vzRPvENSu0W",
        "outputId": "82d5d5df-db1d-4a5e-86d8-256d134404ad"
      },
      "execution_count": null,
      "outputs": [
        {
          "name": "stdout",
          "output_type": "stream",
          "text": [
            "Digite o nome: Irene\n"
          ]
        }
      ]
    },
    {
      "cell_type": "code",
      "source": [
        "nome = input(\"Digite seu nome: \")\n",
        "possui_vogal = (\"a\" in nome or \"e\" in nome or \"i\" in nome or \"o\" in nome or \"u\" in nome)\n",
        "if (possui_vogal):\n",
        "  print(\"Possui alguma vogal\")"
      ],
      "metadata": {
        "colab": {
          "base_uri": "https://localhost:8080/"
        },
        "id": "ufQDfPl0S4s9",
        "outputId": "8bd23206-2ca0-4297-c3d0-8502631abb08"
      },
      "execution_count": null,
      "outputs": [
        {
          "name": "stdout",
          "output_type": "stream",
          "text": [
            "Digite seu nome: djdj\n"
          ]
        }
      ]
    },
    {
      "cell_type": "code",
      "source": [
        "numero = 10\n",
        "if (numero >= 10):\n",
        "  print(\"Maior ou igual a 10\")\n",
        "  print(\"--------------\")\n",
        "else:\n",
        "  print(\"Menor que 10\")\n",
        "  print(\"**********\")\n",
        "print(\"Fim\")"
      ],
      "metadata": {
        "id": "nGjCVifiTZat",
        "colab": {
          "base_uri": "https://localhost:8080/"
        },
        "outputId": "8a62a1a7-cd64-432b-8555-fb5c5d876c7c"
      },
      "execution_count": 6,
      "outputs": [
        {
          "output_type": "stream",
          "name": "stdout",
          "text": [
            "Maior ou igual a 10\n",
            "--------------\n",
            "Fim\n"
          ]
        }
      ]
    },
    {
      "cell_type": "code",
      "source": [
        "numero = 11\n",
        "if (numero % 2 == 0):\n",
        "  print(\"Par\")\n",
        "else:\n",
        "  print(\"Ímpar\")\n",
        "print(\"Programa encerrado.\")"
      ],
      "metadata": {
        "id": "MTxxfAhqd9HT",
        "colab": {
          "base_uri": "https://localhost:8080/"
        },
        "outputId": "82322614-1c81-46bf-ae4e-dd3377ff956a"
      },
      "execution_count": 8,
      "outputs": [
        {
          "output_type": "stream",
          "name": "stdout",
          "text": [
            "Ímpar\n",
            "Programa encerrado.\n"
          ]
        }
      ]
    },
    {
      "cell_type": "code",
      "source": [
        "valor = -1\n",
        "if valor >= 0 and valor < 10:\n",
        "  print(valor)\n",
        "else:\n",
        "  print(\"Valor não aceito\")"
      ],
      "metadata": {
        "colab": {
          "base_uri": "https://localhost:8080/"
        },
        "id": "63jmZlNhnHbY",
        "outputId": "edf0e036-fd67-4bc6-962d-edb41c64b571"
      },
      "execution_count": 11,
      "outputs": [
        {
          "output_type": "stream",
          "name": "stdout",
          "text": [
            "Valor não aceito\n"
          ]
        }
      ]
    },
    {
      "cell_type": "code",
      "source": [
        "texto = \"ab\"\n",
        "if len(texto) == 1:\n",
        "  print(\"Tem um caractere\")\n",
        "else:\n",
        "  print(\"Não tem um caractere\")"
      ],
      "metadata": {
        "colab": {
          "base_uri": "https://localhost:8080/"
        },
        "id": "9WrsxWyenk9w",
        "outputId": "b18d39c3-e07d-4300-d334-e0bf0df3f336"
      },
      "execution_count": 14,
      "outputs": [
        {
          "output_type": "stream",
          "name": "stdout",
          "text": [
            "Não tem um caractere\n"
          ]
        }
      ]
    },
    {
      "cell_type": "code",
      "source": [],
      "metadata": {
        "id": "cSCKYZX1n7U4"
      },
      "execution_count": 14,
      "outputs": []
    }
  ]
}