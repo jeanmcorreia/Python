{
  "nbformat": 4,
  "nbformat_minor": 0,
  "metadata": {
    "colab": {
      "provenance": [],
      "authorship_tag": "ABX9TyNzx6R7SI8NPLo0rhwBh9MB",
      "include_colab_link": true
    },
    "kernelspec": {
      "name": "python3",
      "display_name": "Python 3"
    },
    "language_info": {
      "name": "python"
    }
  },
  "cells": [
    {
      "cell_type": "markdown",
      "metadata": {
        "id": "view-in-github",
        "colab_type": "text"
      },
      "source": [
        "<a href=\"https://colab.research.google.com/github/jeanmcorreia/Python/blob/main/3_EstruturasdeProgramacao.ipynb\" target=\"_parent\"><img src=\"https://colab.research.google.com/assets/colab-badge.svg\" alt=\"Open In Colab\"/></a>"
      ]
    },
    {
      "cell_type": "markdown",
      "source": [
        "# IF"
      ],
      "metadata": {
        "id": "kXV66G2QP6x4"
      }
    },
    {
      "cell_type": "code",
      "execution_count": null,
      "metadata": {
        "colab": {
          "base_uri": "https://localhost:8080/"
        },
        "id": "3ffGEgxNP1hF",
        "outputId": "cd0682ed-84f0-4cb4-b12b-6f23b5218038"
      },
      "outputs": [
        {
          "output_type": "stream",
          "name": "stdout",
          "text": [
            "Isto está fora dos ifs\n",
            "Este código vai ser executado\n",
            "Isto está fora dos ifs\n",
            "Isto está fora dos ifs\n"
          ]
        }
      ],
      "source": [
        "print(\"Isto está fora dos ifs\")\n",
        "if (True):\n",
        "  print(\"Este código vai ser executado\")\n",
        "\n",
        "print(\"Isto está fora dos ifs\")\n",
        "\n",
        "if (False):\n",
        "  print(\"Este código não vai ser executado\")\n",
        "\n",
        "print(\"Isto está fora dos ifs\")"
      ]
    },
    {
      "cell_type": "code",
      "source": [
        "if (True):\n",
        "  pass"
      ],
      "metadata": {
        "id": "KDwrmf1gRTAP"
      },
      "execution_count": null,
      "outputs": []
    },
    {
      "cell_type": "code",
      "source": [
        "valor1 = 10\n",
        "valor2 = 10\n",
        "sao_iguais = (valor1 == valor2)\n",
        "\n",
        "if (sao_iguais):\n",
        "  print(\"São iguais\")"
      ],
      "metadata": {
        "colab": {
          "base_uri": "https://localhost:8080/"
        },
        "id": "cygmTJ-4RiQ2",
        "outputId": "ce93f425-303a-43ae-fcc8-fe6beb6102d6"
      },
      "execution_count": null,
      "outputs": [
        {
          "output_type": "stream",
          "name": "stdout",
          "text": [
            "São iguais\n"
          ]
        }
      ]
    },
    {
      "cell_type": "code",
      "source": [
        "valor1 = 10\n",
        "valor2 = 10\n",
        "if (valor1 == valor2): print(\"São iguais\")"
      ],
      "metadata": {
        "colab": {
          "base_uri": "https://localhost:8080/"
        },
        "id": "Cp8d8QYxR0RF",
        "outputId": "9d24e1ac-2bf7-4a0d-ae92-10e6aaed2533"
      },
      "execution_count": null,
      "outputs": [
        {
          "output_type": "stream",
          "name": "stdout",
          "text": [
            "São iguais\n"
          ]
        }
      ]
    },
    {
      "cell_type": "code",
      "source": [
        "if (10 != 20):\n",
        "  print(\"São diferentes 1\")\n",
        "\n",
        "if (20 != 20):\n",
        "  print(\"São diferentes 2\")\n",
        "\n",
        "if (\"olá\" != \"alo\"):\n",
        "  print(\"São diferentes 3\")"
      ],
      "metadata": {
        "colab": {
          "base_uri": "https://localhost:8080/"
        },
        "id": "B1cMgCPuSBI9",
        "outputId": "cc950652-ac27-4b22-9764-486e54e0cbca"
      },
      "execution_count": null,
      "outputs": [
        {
          "output_type": "stream",
          "name": "stdout",
          "text": [
            "São diferentes 1\n",
            "São diferentes 3\n"
          ]
        }
      ]
    },
    {
      "cell_type": "code",
      "source": [
        "numero = 11\n",
        "if (numero > 10):\n",
        "  print(\"É maior que 10\")"
      ],
      "metadata": {
        "colab": {
          "base_uri": "https://localhost:8080/"
        },
        "id": "TYf9aPOmSW5l",
        "outputId": "e4f0fcad-34a8-4b17-9254-6167a6f89c38"
      },
      "execution_count": null,
      "outputs": [
        {
          "output_type": "stream",
          "name": "stdout",
          "text": [
            "É maior que 10\n"
          ]
        }
      ]
    },
    {
      "cell_type": "code",
      "source": [
        "nome = input(\"Digite o nome: \")\n",
        "if (\"a\" in nome):\n",
        "  print(\"Possui a letra \\'A\\'\")"
      ],
      "metadata": {
        "colab": {
          "base_uri": "https://localhost:8080/"
        },
        "id": "5vzRPvENSu0W",
        "outputId": "82d5d5df-db1d-4a5e-86d8-256d134404ad"
      },
      "execution_count": null,
      "outputs": [
        {
          "name": "stdout",
          "output_type": "stream",
          "text": [
            "Digite o nome: Irene\n"
          ]
        }
      ]
    },
    {
      "cell_type": "code",
      "source": [
        "nome = input(\"Digite seu nome: \")\n",
        "possui_vogal = (\"a\" in nome or \"e\" in nome or \"i\" in nome or \"o\" in nome or \"u\" in nome)\n",
        "if (possui_vogal):\n",
        "  print(\"Possui alguma vogal\")"
      ],
      "metadata": {
        "colab": {
          "base_uri": "https://localhost:8080/"
        },
        "id": "ufQDfPl0S4s9",
        "outputId": "8bd23206-2ca0-4297-c3d0-8502631abb08"
      },
      "execution_count": null,
      "outputs": [
        {
          "name": "stdout",
          "output_type": "stream",
          "text": [
            "Digite seu nome: djdj\n"
          ]
        }
      ]
    },
    {
      "cell_type": "code",
      "source": [
        "numero = 10\n",
        "if (numero >= 10):\n",
        "  print(\"Maior ou igual a 10\")\n",
        "  print(\"--------------\")\n",
        "else:\n",
        "  print(\"Menor que 10\")\n",
        "  print(\"**********\")\n",
        "print(\"Fim\")"
      ],
      "metadata": {
        "id": "nGjCVifiTZat",
        "colab": {
          "base_uri": "https://localhost:8080/"
        },
        "outputId": "8a62a1a7-cd64-432b-8555-fb5c5d876c7c"
      },
      "execution_count": 6,
      "outputs": [
        {
          "output_type": "stream",
          "name": "stdout",
          "text": [
            "Maior ou igual a 10\n",
            "--------------\n",
            "Fim\n"
          ]
        }
      ]
    },
    {
      "cell_type": "code",
      "source": [
        "numero = 11\n",
        "if (numero % 2 == 0):\n",
        "  print(\"Par\")\n",
        "else:\n",
        "  print(\"Ímpar\")\n",
        "print(\"Programa encerrado.\")"
      ],
      "metadata": {
        "id": "MTxxfAhqd9HT",
        "colab": {
          "base_uri": "https://localhost:8080/"
        },
        "outputId": "82322614-1c81-46bf-ae4e-dd3377ff956a"
      },
      "execution_count": 8,
      "outputs": [
        {
          "output_type": "stream",
          "name": "stdout",
          "text": [
            "Ímpar\n",
            "Programa encerrado.\n"
          ]
        }
      ]
    },
    {
      "cell_type": "code",
      "source": [
        "valor = -1\n",
        "if valor >= 0 and valor < 10:\n",
        "  print(valor)\n",
        "else:\n",
        "  print(\"Valor não aceito\")"
      ],
      "metadata": {
        "colab": {
          "base_uri": "https://localhost:8080/"
        },
        "id": "63jmZlNhnHbY",
        "outputId": "edf0e036-fd67-4bc6-962d-edb41c64b571"
      },
      "execution_count": 11,
      "outputs": [
        {
          "output_type": "stream",
          "name": "stdout",
          "text": [
            "Valor não aceito\n"
          ]
        }
      ]
    },
    {
      "cell_type": "code",
      "source": [
        "texto = \"ab\"\n",
        "if len(texto) == 1:\n",
        "  print(\"Tem um caractere\")\n",
        "else:\n",
        "  print(\"Não tem um caractere\")"
      ],
      "metadata": {
        "colab": {
          "base_uri": "https://localhost:8080/"
        },
        "id": "9WrsxWyenk9w",
        "outputId": "b18d39c3-e07d-4300-d334-e0bf0df3f336"
      },
      "execution_count": 14,
      "outputs": [
        {
          "output_type": "stream",
          "name": "stdout",
          "text": [
            "Não tem um caractere\n"
          ]
        }
      ]
    },
    {
      "cell_type": "code",
      "source": [
        "numero = 1\n",
        "if numero == 1 or numero == 0:\n",
        "  print(\"É 1 ou 0\")"
      ],
      "metadata": {
        "colab": {
          "base_uri": "https://localhost:8080/"
        },
        "id": "cSCKYZX1n7U4",
        "outputId": "b974fe99-b28d-4b5f-ab09-943480a61e2d"
      },
      "execution_count": 15,
      "outputs": [
        {
          "output_type": "stream",
          "name": "stdout",
          "text": [
            "É 1 ou 0\n"
          ]
        }
      ]
    },
    {
      "cell_type": "code",
      "source": [
        "numero = -11\n",
        "condicao = numero > 10 or numero < -10\n",
        "if condicao:\n",
        "  print(\"Absolutamente maior que 10\")"
      ],
      "metadata": {
        "colab": {
          "base_uri": "https://localhost:8080/"
        },
        "id": "lg5qVX4GoZ6w",
        "outputId": "767b34fb-728e-4189-e103-3b207c91b151"
      },
      "execution_count": 17,
      "outputs": [
        {
          "output_type": "stream",
          "name": "stdout",
          "text": [
            "Absolutamente maior que 10\n"
          ]
        }
      ]
    },
    {
      "cell_type": "code",
      "source": [
        "numero = 11\n",
        "if numero > 0:\n",
        "  print(\"Número maior que 0\")\n",
        "  if numero > 10:\n",
        "    print(\"Número é maior que 10\")"
      ],
      "metadata": {
        "colab": {
          "base_uri": "https://localhost:8080/"
        },
        "id": "JoPmL1popap3",
        "outputId": "84767239-7327-4d15-a3ed-8036eff00cce"
      },
      "execution_count": 20,
      "outputs": [
        {
          "output_type": "stream",
          "name": "stdout",
          "text": [
            "Número maior que 0\n",
            "Número é maior que 10\n"
          ]
        }
      ]
    },
    {
      "cell_type": "code",
      "source": [
        "numero = 1001\n",
        "if numero < 10:\n",
        "  print(\"Menor que dez\")\n",
        "elif numero < 100:\n",
        "  print(\"Menor que cem\")\n",
        "elif numero <= 1000:\n",
        "  print(\"Menor ou igual a mil\")\n",
        "else:\n",
        "  print(\"Nenhuma anterior\")"
      ],
      "metadata": {
        "colab": {
          "base_uri": "https://localhost:8080/"
        },
        "id": "yOkbeqqXp0xX",
        "outputId": "d5989b09-05c4-4d05-b5c0-252ebdc0d5f3"
      },
      "execution_count": 24,
      "outputs": [
        {
          "output_type": "stream",
          "name": "stdout",
          "text": [
            "Nenhuma anterior\n"
          ]
        }
      ]
    },
    {
      "cell_type": "code",
      "source": [
        "texto = \"c\"\n",
        "if texto == \"a\":\n",
        "  print(\"é vogal a\")\n",
        "elif texto == \"e\":\n",
        "  print(\"é vogal e\")\n",
        "elif texto == \"i\":\n",
        "  print(\"é vogal i\")\n",
        "elif texto == \"o\":\n",
        "  print(\"é vogal o\")\n",
        "elif texto == \"u\":\n",
        "  print(\"é vogal u\")\n",
        "else:\n",
        "  print(\"Consoante\")"
      ],
      "metadata": {
        "colab": {
          "base_uri": "https://localhost:8080/"
        },
        "id": "WvjVJmDDrLyP",
        "outputId": "3ec32c90-e398-423e-96b0-eb4026830c75"
      },
      "execution_count": 28,
      "outputs": [
        {
          "output_type": "stream",
          "name": "stdout",
          "text": [
            "Consoante\n"
          ]
        }
      ]
    },
    {
      "cell_type": "code",
      "source": [
        "numero = 11\n",
        "resultado = \"PAR\" if numero % 2 == 0 else \"IMPAR\"\n",
        "print(resultado)"
      ],
      "metadata": {
        "colab": {
          "base_uri": "https://localhost:8080/"
        },
        "id": "5DiT9Jfer_DW",
        "outputId": "9dc0d224-5eb5-411d-e87e-9d106cc73595"
      },
      "execution_count": 31,
      "outputs": [
        {
          "output_type": "stream",
          "name": "stdout",
          "text": [
            "IMPAR\n"
          ]
        }
      ]
    },
    {
      "cell_type": "code",
      "source": [
        "numero = 3\n",
        "resultado = \"UM\" if numero == 1 else \"DOIS\" if numero == 2 else \"TRÊS\"\n",
        "print(resultado)"
      ],
      "metadata": {
        "colab": {
          "base_uri": "https://localhost:8080/"
        },
        "id": "sfmORTUXtJKm",
        "outputId": "64bf9e8e-bee6-4037-d474-58b750941ff7"
      },
      "execution_count": 37,
      "outputs": [
        {
          "output_type": "stream",
          "name": "stdout",
          "text": [
            "TRÊS\n"
          ]
        }
      ]
    },
    {
      "cell_type": "markdown",
      "source": [
        "## Atividades de Ifs"
      ],
      "metadata": {
        "id": "er2qAxw_vGCM"
      }
    },
    {
      "cell_type": "code",
      "source": [
        "#1 - Crie um programa que receba o seu saldo bancário e o quanto você deve.\n",
        "# Em seguida o programa deve dizer se você tem saldo positivo ou negativo."
      ],
      "metadata": {
        "id": "VC5VdrovtpKu"
      },
      "execution_count": null,
      "outputs": []
    },
    {
      "cell_type": "code",
      "source": [
        "saldo_bancario = input(\"Digite o saldo: \")\n",
        "dividas = input(\"Digite quanto deve: \")\n",
        "saldo_atual = float(saldo_bancario) - float(dividas)\n",
        "if saldo_atual >= 0:\n",
        "  print(\"Você possui saldo positivo, R$\", saldo_atual)\n",
        "else:\n",
        "  print(\"Você possui saldo negativos, R$\", saldo_atual)"
      ],
      "metadata": {
        "colab": {
          "base_uri": "https://localhost:8080/"
        },
        "id": "Y1FuyBVWvNyE",
        "outputId": "e5295d21-5c2a-4a71-a4a6-c7e25103e44d"
      },
      "execution_count": 39,
      "outputs": [
        {
          "output_type": "stream",
          "name": "stdout",
          "text": [
            "Digite o saldo: 200\n",
            "Digite quanto deve: 300\n",
            "Você possui saldo negativos, R$ -100.0\n"
          ]
        }
      ]
    },
    {
      "cell_type": "code",
      "source": [
        "#2 - Crie um programa que possui uma variável que guarde seu CPF e que guarde uma senha de sua escolha.\n",
        "# Em seguida receba por input uma senha do usuário.\n",
        "# Caso a senha recebida seja a correta mostre o CPF, caso não diga que a senha esta incorreta."
      ],
      "metadata": {
        "id": "w6MacWZWwJLm"
      },
      "execution_count": null,
      "outputs": []
    },
    {
      "cell_type": "code",
      "source": [
        "cpf = \"123.456.789-10\"\n",
        "senha = \"admin\"\n",
        "senha_usuario = input(\"Digite a senha: \")\n",
        "if senha == senha_usuario:\n",
        "  print(\"Senha correta!\\nSeu cpf:\", cpf)\n",
        "else:\n",
        "  print(\"Senha incorreta\")"
      ],
      "metadata": {
        "colab": {
          "base_uri": "https://localhost:8080/"
        },
        "id": "50rFOJmWwbXC",
        "outputId": "29b3aa2e-03af-4253-d477-cf201147eb75"
      },
      "execution_count": 41,
      "outputs": [
        {
          "output_type": "stream",
          "name": "stdout",
          "text": [
            "Digite a senha: fulado\n",
            "Senha incorreta\n"
          ]
        }
      ]
    },
    {
      "cell_type": "code",
      "source": [
        "#3 - Crie um programa que fale sobre sua idade. As regras são a seguinte, você deve receber por input sua idade, se você tiver ate\n",
        "# três anos printe que é um bebe, ate 13 anos uma criança, ate 18 anos adolescente,\n",
        "# até 65 adulto. Em nenhum deste casos é um idoso"
      ],
      "metadata": {
        "id": "lQ_Jjc_pw3Q2"
      },
      "execution_count": null,
      "outputs": []
    },
    {
      "cell_type": "code",
      "source": [
        "idade = int(input(\"Digite sua idade: \"))\n",
        "if idade <= 3:\n",
        "  print(\"Você é um bebê\")\n",
        "elif idade <= 13:\n",
        "  print(\"Você é uma criança\")\n",
        "elif idade <= 18:\n",
        "  print(\"Você é um adolescente\")\n",
        "elif idade <= 65:\n",
        "  print(\"Você é um adulto\")\n",
        "else:\n",
        "  print(\"Você é um idoso\")"
      ],
      "metadata": {
        "colab": {
          "base_uri": "https://localhost:8080/"
        },
        "id": "RfilUAV3xAMj",
        "outputId": "fcf28bd8-9412-4143-85b9-2a3ef2a9e6ae"
      },
      "execution_count": 51,
      "outputs": [
        {
          "output_type": "stream",
          "name": "stdout",
          "text": [
            "Digite sua idade: 70\n",
            "Você é um idoso\n"
          ]
        }
      ]
    },
    {
      "cell_type": "code",
      "source": [
        "#4 - Crie um programa que receba dois números, e também receba do usuário a operação que deve ser feita,\n",
        "# as possibilidades são soma(+), subtração (-), divisão(/) e multiplicação(*).\n",
        "# Realize a operação escolhida sobre os dois números."
      ],
      "metadata": {
        "id": "1eKF7gyCxvhl"
      },
      "execution_count": null,
      "outputs": []
    },
    {
      "cell_type": "code",
      "source": [
        "numero1 = float(input(\"Digite um número: \"))\n",
        "numero2 = float(input(\"Digite outro número: \"))\n",
        "operacao = input(\"Digite uma operação \\'+\\' ou \\'-\\' ou \\'/\\' ou \\'*\\'\")\n",
        "if operacao == \"+\":\n",
        "  print(numero1 + numero2)\n",
        "elif operacao == \"-\":\n",
        "  print(numero1 - numero2)\n",
        "elif operacao == \"/\":\n",
        "  print(numero1 / numero2)\n",
        "elif operacao == \"*\":\n",
        "  print(numero1 * numero2)\n",
        "else:\n",
        "  print(\"Operação invalida\")"
      ],
      "metadata": {
        "colab": {
          "base_uri": "https://localhost:8080/"
        },
        "id": "RpKMi_vEyCVv",
        "outputId": "18823c2b-3b14-4c0b-9218-63aadd8b7257"
      },
      "execution_count": 53,
      "outputs": [
        {
          "output_type": "stream",
          "name": "stdout",
          "text": [
            "Digite um número: 1\n",
            "Digite outro número: 2\n",
            "Digite uma operação '+' ou '-' ou '/' ou '*'+\n",
            "3.0\n"
          ]
        }
      ]
    },
    {
      "cell_type": "markdown",
      "source": [
        "# Laços / Loops"
      ],
      "metadata": {
        "id": "x0IQ7rzK3-TS"
      }
    },
    {
      "cell_type": "code",
      "source": [
        "while (True):\n",
        "  print(\"Isso não vai parar!\")"
      ],
      "metadata": {
        "id": "rZmisHrKyh4u"
      },
      "execution_count": null,
      "outputs": []
    },
    {
      "cell_type": "code",
      "source": [
        "interacao = 10\n",
        "while (interacao > 0):\n",
        "  print(interacao)\n",
        "  interacao -= 1\n",
        "\n",
        "print(\"Encerrado\")"
      ],
      "metadata": {
        "colab": {
          "base_uri": "https://localhost:8080/"
        },
        "id": "y5wgXqQy4Uxc",
        "outputId": "912311bf-d421-4b66-c99b-0f1a9112d47b"
      },
      "execution_count": 58,
      "outputs": [
        {
          "output_type": "stream",
          "name": "stdout",
          "text": [
            "10\n",
            "9\n",
            "8\n",
            "7\n",
            "6\n",
            "5\n",
            "4\n",
            "3\n",
            "2\n",
            "1\n",
            "Encerrado\n"
          ]
        }
      ]
    },
    {
      "cell_type": "code",
      "source": [
        "indice = 10\n",
        "print(\"Programa inicializado\")\n",
        "while (indice >= 2):\n",
        "  resto = (indice % 2)\n",
        "  if resto == 0:\n",
        "    print(f\"Número {indice} é par\")\n",
        "  else:\n",
        "    print(f\"Número {indice} é ímpar\")\n",
        "  indice -= 1\n",
        "\n",
        "print(\"Programa encerrado\")\n"
      ],
      "metadata": {
        "colab": {
          "base_uri": "https://localhost:8080/"
        },
        "id": "kbMgT-Qs4yZ8",
        "outputId": "79220431-4970-4682-8958-75cf819aa71f"
      },
      "execution_count": 59,
      "outputs": [
        {
          "output_type": "stream",
          "name": "stdout",
          "text": [
            "Programa inicializado\n",
            "Número 10 é par\n",
            "Número 9 é ímpar\n",
            "Número 8 é par\n",
            "Número 7 é ímpar\n",
            "Número 6 é par\n",
            "Número 5 é ímpar\n",
            "Número 4 é par\n",
            "Número 3 é ímpar\n",
            "Número 2 é par\n",
            "Programa encerrado\n"
          ]
        }
      ]
    },
    {
      "cell_type": "code",
      "source": [
        "soma = 0\n",
        "cont = 0\n",
        "\n",
        "while (cont < 5):\n",
        "  numero = float(input(\"Digite um valor: \"))\n",
        "  soma += numero\n",
        "  cont += 1\n",
        "print(f\"Soma é {soma}\")"
      ],
      "metadata": {
        "colab": {
          "base_uri": "https://localhost:8080/"
        },
        "id": "qZm0-RQF6D0c",
        "outputId": "49005922-c294-4d03-bed1-33a8cb4bfe3e"
      },
      "execution_count": 61,
      "outputs": [
        {
          "output_type": "stream",
          "name": "stdout",
          "text": [
            "Digite um valor: 20\n",
            "Digite um valor: 30\n",
            "Digite um valor: 12.5\n",
            "Digite um valor: 10\n",
            "Digite um valor: 30\n",
            "Soma é 102.5\n"
          ]
        }
      ]
    },
    {
      "cell_type": "code",
      "source": [
        "texto = \"Olá 123 _\"\n",
        "indice = 0\n",
        "while (indice < len(texto)):\n",
        "  print(texto[indice])\n",
        "  indice += 1\n"
      ],
      "metadata": {
        "colab": {
          "base_uri": "https://localhost:8080/"
        },
        "id": "H6PNrQ1-7ZIr",
        "outputId": "c588b615-613d-4a14-ccee-8be68ac724c8"
      },
      "execution_count": 63,
      "outputs": [
        {
          "output_type": "stream",
          "name": "stdout",
          "text": [
            "O\n",
            "l\n",
            "á\n",
            " \n",
            "1\n",
            "2\n",
            "3\n",
            " \n",
            "_\n"
          ]
        }
      ]
    },
    {
      "cell_type": "code",
      "source": [
        "num_atual = 0\n",
        "while (True):\n",
        "  if num_atual == 5:\n",
        "    break\n",
        "  print(num_atual)\n",
        "  num_atual += 1\n",
        "\n",
        "print(\"Encerrado\")"
      ],
      "metadata": {
        "colab": {
          "base_uri": "https://localhost:8080/"
        },
        "id": "DIhSQT2m714U",
        "outputId": "ba6b879a-8809-46ce-82ba-4073d1350ec0"
      },
      "execution_count": 64,
      "outputs": [
        {
          "output_type": "stream",
          "name": "stdout",
          "text": [
            "0\n",
            "1\n",
            "2\n",
            "3\n",
            "4\n",
            "Encerrado\n"
          ]
        }
      ]
    },
    {
      "cell_type": "code",
      "source": [
        "num_atual = 0\n",
        "\n",
        "while (num_atual < 10):\n",
        "  num_atual += 1\n",
        "  if num_atual == 7:\n",
        "    continue\n",
        "  print(num_atual)\n",
        "\n",
        "print(\"Encerrado\")"
      ],
      "metadata": {
        "colab": {
          "base_uri": "https://localhost:8080/"
        },
        "id": "-zJ53me69Bhr",
        "outputId": "4e9b06ed-1acc-4c7b-8111-877fec3ba20a"
      },
      "execution_count": 66,
      "outputs": [
        {
          "output_type": "stream",
          "name": "stdout",
          "text": [
            "1\n",
            "2\n",
            "3\n",
            "4\n",
            "5\n",
            "6\n",
            "8\n",
            "9\n",
            "10\n",
            "Encerrado\n"
          ]
        }
      ]
    },
    {
      "cell_type": "markdown",
      "source": [
        "## Atividades de Laços While"
      ],
      "metadata": {
        "id": "VnAfauOm9r13"
      }
    },
    {
      "cell_type": "code",
      "source": [
        "#1 - Crie um programa que receba 5 números e retorne a\n",
        "# média aritmética entre esses números"
      ],
      "metadata": {
        "id": "TDSVY1Ls9Zm7"
      },
      "execution_count": null,
      "outputs": []
    },
    {
      "cell_type": "code",
      "source": [
        "soma = 0\n",
        "cont = 1\n",
        "\n",
        "while (cont < 6):\n",
        "  numero = float(input(\"Digite um número: \"))\n",
        "  soma += numero\n",
        "  cont += 1\n",
        "\n",
        "print(f\"A média aritmética é {soma/cont:.2f}\")"
      ],
      "metadata": {
        "colab": {
          "base_uri": "https://localhost:8080/"
        },
        "id": "ygAdfy4690JB",
        "outputId": "164ca841-b330-4274-ca75-1c0066eb0fc9"
      },
      "execution_count": 69,
      "outputs": [
        {
          "output_type": "stream",
          "name": "stdout",
          "text": [
            "Digite um número: 10\n",
            "Digite um número: 0\n",
            "Digite um número: 10\n",
            "Digite um número: 10\n",
            "Digite um número: 10\n",
            "A média aritmética é 6.67\n"
          ]
        }
      ]
    },
    {
      "cell_type": "code",
      "source": [
        "#2 - Crie um programa que receba 5 números, realiza a\n",
        "# soma destes números, mas caso um destes números seja\n",
        "# negativo não considere ele na soma."
      ],
      "metadata": {
        "id": "q8TwlY9I-i77"
      },
      "execution_count": null,
      "outputs": []
    },
    {
      "cell_type": "code",
      "source": [
        "soma = 0\n",
        "cont = 0\n",
        "\n",
        "while (cont < 5):\n",
        "  numero = float(input(\"Digite um número: \"))\n",
        "  if numero < 0:\n",
        "    continue\n",
        "  soma += numero\n",
        "  cont += 1\n",
        "\n",
        "print(f\"Soma geral: {soma}\")"
      ],
      "metadata": {
        "colab": {
          "base_uri": "https://localhost:8080/"
        },
        "id": "uAqWYjaI_Ggc",
        "outputId": "6b48806a-d9b9-4368-8660-4278241fb926"
      },
      "execution_count": 72,
      "outputs": [
        {
          "output_type": "stream",
          "name": "stdout",
          "text": [
            "Digite um número: 10\n",
            "Digite um número: 10\n",
            "Digite um número: -10\n",
            "Digite um número: 10\n",
            "Digite um número: 10\n",
            "Digite um número: 10\n",
            "Soma geral: 50.0\n"
          ]
        }
      ]
    },
    {
      "cell_type": "code",
      "source": [
        "#3 - Cria um programa que receba um número arbitrário\n",
        "# (definido pelo usuário) de números que serão lidos e\n",
        "# retorne a soma de todos eles."
      ],
      "metadata": {
        "id": "W_3cw_ve_tLT"
      },
      "execution_count": null,
      "outputs": []
    },
    {
      "cell_type": "code",
      "source": [
        "numero_arbitrario = int(input(\"Digite um número arbitrário: \"))\n",
        "soma = 0\n",
        "cont = 0\n",
        "\n",
        "while (cont < numero_arbitrario):\n",
        "  numero = float(input(\"Digite um número: \"))\n",
        "  soma += numero\n",
        "  cont += 1\n",
        "\n",
        "print(f\"Soma: {soma:.2f}\")"
      ],
      "metadata": {
        "colab": {
          "base_uri": "https://localhost:8080/"
        },
        "id": "YHXhLPgKABde",
        "outputId": "a708e190-480b-4e73-c868-d3b4cea7e0bb"
      },
      "execution_count": 73,
      "outputs": [
        {
          "output_type": "stream",
          "name": "stdout",
          "text": [
            "Digite um número arbitrário: 2\n",
            "Digite um número: 10\n",
            "Digite um número: 10\n",
            "Soma: 20.00\n"
          ]
        }
      ]
    },
    {
      "cell_type": "code",
      "source": [
        "#4 - Percorra os números de 2 até 10 e diga se o número é\n",
        "# par ou impar."
      ],
      "metadata": {
        "id": "9_-LER-cAgH7"
      },
      "execution_count": null,
      "outputs": []
    },
    {
      "cell_type": "code",
      "source": [
        "cont = 2\n",
        "\n",
        "while cont >= 2 and cont <= 10:\n",
        "  resto = cont % 2\n",
        "  if resto == 0:\n",
        "    print(f\"Número {cont} par\")\n",
        "  else:\n",
        "    print(f\"Número {cont} ímpar\")\n",
        "  cont+=1"
      ],
      "metadata": {
        "colab": {
          "base_uri": "https://localhost:8080/"
        },
        "id": "EvKChkHGAoTa",
        "outputId": "f52ddf66-6d26-4093-ad2b-a63b36df443a"
      },
      "execution_count": 75,
      "outputs": [
        {
          "output_type": "stream",
          "name": "stdout",
          "text": [
            "Número 2 par\n",
            "Número 3 ímpar\n",
            "Número 4 par\n",
            "Número 5 ímpar\n",
            "Número 6 par\n",
            "Número 7 ímpar\n",
            "Número 8 par\n",
            "Número 9 ímpar\n",
            "Número 10 par\n"
          ]
        }
      ]
    },
    {
      "cell_type": "code",
      "source": [
        "#5 - Crie um programa que receba como input uma string.\n",
        "# Em seguida percorra a string e diga quantos espaços em branco essa string tem."
      ],
      "metadata": {
        "id": "Es9Iw2vFBKpq"
      },
      "execution_count": null,
      "outputs": []
    },
    {
      "cell_type": "code",
      "source": [
        "texto = input(\"Digite uma string: \")\n",
        "cont = 0\n",
        "cont_brancos = 0\n",
        "while (cont < len(texto)):\n",
        "  if texto[cont] == \" \":\n",
        "    cont_brancos += 1\n",
        "  cont += 1\n",
        "print(f\"A string {texto} possui {cont_brancos} espaços em branco\")"
      ],
      "metadata": {
        "colab": {
          "base_uri": "https://localhost:8080/"
        },
        "id": "yb9GQwtUBUl2",
        "outputId": "27f46821-5a67-4b83-e957-2410cea02a47"
      },
      "execution_count": 78,
      "outputs": [
        {
          "output_type": "stream",
          "name": "stdout",
          "text": [
            "Digite uma string: Jean o melhor\n",
            "A string Jean o melhor possui 2 espaços em branco\n"
          ]
        }
      ]
    },
    {
      "cell_type": "code",
      "source": [],
      "metadata": {
        "id": "WCFxij0sCAo6"
      },
      "execution_count": null,
      "outputs": []
    }
  ]
}