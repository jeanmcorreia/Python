{
  "nbformat": 4,
  "nbformat_minor": 0,
  "metadata": {
    "colab": {
      "provenance": [],
      "authorship_tag": "ABX9TyNage72IXHyGmC6HklErCKQ",
      "include_colab_link": true
    },
    "kernelspec": {
      "name": "python3",
      "display_name": "Python 3"
    },
    "language_info": {
      "name": "python"
    }
  },
  "cells": [
    {
      "cell_type": "markdown",
      "metadata": {
        "id": "view-in-github",
        "colab_type": "text"
      },
      "source": [
        "<a href=\"https://colab.research.google.com/github/jeanmcorreia/Python/blob/main/3_EstruturasdeProgramacao.ipynb\" target=\"_parent\"><img src=\"https://colab.research.google.com/assets/colab-badge.svg\" alt=\"Open In Colab\"/></a>"
      ]
    },
    {
      "cell_type": "markdown",
      "source": [
        "# IF"
      ],
      "metadata": {
        "id": "kXV66G2QP6x4"
      }
    },
    {
      "cell_type": "code",
      "execution_count": null,
      "metadata": {
        "colab": {
          "base_uri": "https://localhost:8080/"
        },
        "id": "3ffGEgxNP1hF",
        "outputId": "cd0682ed-84f0-4cb4-b12b-6f23b5218038"
      },
      "outputs": [
        {
          "output_type": "stream",
          "name": "stdout",
          "text": [
            "Isto está fora dos ifs\n",
            "Este código vai ser executado\n",
            "Isto está fora dos ifs\n",
            "Isto está fora dos ifs\n"
          ]
        }
      ],
      "source": [
        "print(\"Isto está fora dos ifs\")\n",
        "if (True):\n",
        "  print(\"Este código vai ser executado\")\n",
        "\n",
        "print(\"Isto está fora dos ifs\")\n",
        "\n",
        "if (False):\n",
        "  print(\"Este código não vai ser executado\")\n",
        "\n",
        "print(\"Isto está fora dos ifs\")"
      ]
    },
    {
      "cell_type": "code",
      "source": [
        "if (True):\n",
        "  pass"
      ],
      "metadata": {
        "id": "KDwrmf1gRTAP"
      },
      "execution_count": null,
      "outputs": []
    },
    {
      "cell_type": "code",
      "source": [
        "valor1 = 10\n",
        "valor2 = 10\n",
        "sao_iguais = (valor1 == valor2)\n",
        "\n",
        "if (sao_iguais):\n",
        "  print(\"São iguais\")"
      ],
      "metadata": {
        "colab": {
          "base_uri": "https://localhost:8080/"
        },
        "id": "cygmTJ-4RiQ2",
        "outputId": "ce93f425-303a-43ae-fcc8-fe6beb6102d6"
      },
      "execution_count": null,
      "outputs": [
        {
          "output_type": "stream",
          "name": "stdout",
          "text": [
            "São iguais\n"
          ]
        }
      ]
    },
    {
      "cell_type": "code",
      "source": [
        "valor1 = 10\n",
        "valor2 = 10\n",
        "if (valor1 == valor2): print(\"São iguais\")"
      ],
      "metadata": {
        "colab": {
          "base_uri": "https://localhost:8080/"
        },
        "id": "Cp8d8QYxR0RF",
        "outputId": "9d24e1ac-2bf7-4a0d-ae92-10e6aaed2533"
      },
      "execution_count": null,
      "outputs": [
        {
          "output_type": "stream",
          "name": "stdout",
          "text": [
            "São iguais\n"
          ]
        }
      ]
    },
    {
      "cell_type": "code",
      "source": [
        "if (10 != 20):\n",
        "  print(\"São diferentes 1\")\n",
        "\n",
        "if (20 != 20):\n",
        "  print(\"São diferentes 2\")\n",
        "\n",
        "if (\"olá\" != \"alo\"):\n",
        "  print(\"São diferentes 3\")"
      ],
      "metadata": {
        "colab": {
          "base_uri": "https://localhost:8080/"
        },
        "id": "B1cMgCPuSBI9",
        "outputId": "cc950652-ac27-4b22-9764-486e54e0cbca"
      },
      "execution_count": null,
      "outputs": [
        {
          "output_type": "stream",
          "name": "stdout",
          "text": [
            "São diferentes 1\n",
            "São diferentes 3\n"
          ]
        }
      ]
    },
    {
      "cell_type": "code",
      "source": [
        "numero = 11\n",
        "if (numero > 10):\n",
        "  print(\"É maior que 10\")"
      ],
      "metadata": {
        "colab": {
          "base_uri": "https://localhost:8080/"
        },
        "id": "TYf9aPOmSW5l",
        "outputId": "e4f0fcad-34a8-4b17-9254-6167a6f89c38"
      },
      "execution_count": null,
      "outputs": [
        {
          "output_type": "stream",
          "name": "stdout",
          "text": [
            "É maior que 10\n"
          ]
        }
      ]
    },
    {
      "cell_type": "code",
      "source": [
        "nome = input(\"Digite o nome: \")\n",
        "if (\"a\" in nome):\n",
        "  print(\"Possui a letra \\'A\\'\")"
      ],
      "metadata": {
        "colab": {
          "base_uri": "https://localhost:8080/"
        },
        "id": "5vzRPvENSu0W",
        "outputId": "82d5d5df-db1d-4a5e-86d8-256d134404ad"
      },
      "execution_count": null,
      "outputs": [
        {
          "name": "stdout",
          "output_type": "stream",
          "text": [
            "Digite o nome: Irene\n"
          ]
        }
      ]
    },
    {
      "cell_type": "code",
      "source": [
        "nome = input(\"Digite seu nome: \")\n",
        "possui_vogal = (\"a\" in nome or \"e\" in nome or \"i\" in nome or \"o\" in nome or \"u\" in nome)\n",
        "if (possui_vogal):\n",
        "  print(\"Possui alguma vogal\")"
      ],
      "metadata": {
        "colab": {
          "base_uri": "https://localhost:8080/"
        },
        "id": "ufQDfPl0S4s9",
        "outputId": "8bd23206-2ca0-4297-c3d0-8502631abb08"
      },
      "execution_count": null,
      "outputs": [
        {
          "name": "stdout",
          "output_type": "stream",
          "text": [
            "Digite seu nome: djdj\n"
          ]
        }
      ]
    },
    {
      "cell_type": "code",
      "source": [
        "numero = 10\n",
        "if (numero >= 10):\n",
        "  print(\"Maior ou igual a 10\")\n",
        "  print(\"--------------\")\n",
        "else:\n",
        "  print(\"Menor que 10\")\n",
        "  print(\"**********\")\n",
        "print(\"Fim\")"
      ],
      "metadata": {
        "id": "nGjCVifiTZat",
        "colab": {
          "base_uri": "https://localhost:8080/"
        },
        "outputId": "8a62a1a7-cd64-432b-8555-fb5c5d876c7c"
      },
      "execution_count": null,
      "outputs": [
        {
          "output_type": "stream",
          "name": "stdout",
          "text": [
            "Maior ou igual a 10\n",
            "--------------\n",
            "Fim\n"
          ]
        }
      ]
    },
    {
      "cell_type": "code",
      "source": [
        "numero = 11\n",
        "if (numero % 2 == 0):\n",
        "  print(\"Par\")\n",
        "else:\n",
        "  print(\"Ímpar\")\n",
        "print(\"Programa encerrado.\")"
      ],
      "metadata": {
        "id": "MTxxfAhqd9HT",
        "colab": {
          "base_uri": "https://localhost:8080/"
        },
        "outputId": "82322614-1c81-46bf-ae4e-dd3377ff956a"
      },
      "execution_count": null,
      "outputs": [
        {
          "output_type": "stream",
          "name": "stdout",
          "text": [
            "Ímpar\n",
            "Programa encerrado.\n"
          ]
        }
      ]
    },
    {
      "cell_type": "code",
      "source": [
        "valor = -1\n",
        "if valor >= 0 and valor < 10:\n",
        "  print(valor)\n",
        "else:\n",
        "  print(\"Valor não aceito\")"
      ],
      "metadata": {
        "colab": {
          "base_uri": "https://localhost:8080/"
        },
        "id": "63jmZlNhnHbY",
        "outputId": "edf0e036-fd67-4bc6-962d-edb41c64b571"
      },
      "execution_count": null,
      "outputs": [
        {
          "output_type": "stream",
          "name": "stdout",
          "text": [
            "Valor não aceito\n"
          ]
        }
      ]
    },
    {
      "cell_type": "code",
      "source": [
        "texto = \"ab\"\n",
        "if len(texto) == 1:\n",
        "  print(\"Tem um caractere\")\n",
        "else:\n",
        "  print(\"Não tem um caractere\")"
      ],
      "metadata": {
        "colab": {
          "base_uri": "https://localhost:8080/"
        },
        "id": "9WrsxWyenk9w",
        "outputId": "b18d39c3-e07d-4300-d334-e0bf0df3f336"
      },
      "execution_count": null,
      "outputs": [
        {
          "output_type": "stream",
          "name": "stdout",
          "text": [
            "Não tem um caractere\n"
          ]
        }
      ]
    },
    {
      "cell_type": "code",
      "source": [
        "numero = 1\n",
        "if numero == 1 or numero == 0:\n",
        "  print(\"É 1 ou 0\")"
      ],
      "metadata": {
        "colab": {
          "base_uri": "https://localhost:8080/"
        },
        "id": "cSCKYZX1n7U4",
        "outputId": "b974fe99-b28d-4b5f-ab09-943480a61e2d"
      },
      "execution_count": null,
      "outputs": [
        {
          "output_type": "stream",
          "name": "stdout",
          "text": [
            "É 1 ou 0\n"
          ]
        }
      ]
    },
    {
      "cell_type": "code",
      "source": [
        "numero = -11\n",
        "condicao = numero > 10 or numero < -10\n",
        "if condicao:\n",
        "  print(\"Absolutamente maior que 10\")"
      ],
      "metadata": {
        "colab": {
          "base_uri": "https://localhost:8080/"
        },
        "id": "lg5qVX4GoZ6w",
        "outputId": "767b34fb-728e-4189-e103-3b207c91b151"
      },
      "execution_count": null,
      "outputs": [
        {
          "output_type": "stream",
          "name": "stdout",
          "text": [
            "Absolutamente maior que 10\n"
          ]
        }
      ]
    },
    {
      "cell_type": "code",
      "source": [
        "numero = 11\n",
        "if numero > 0:\n",
        "  print(\"Número maior que 0\")\n",
        "  if numero > 10:\n",
        "    print(\"Número é maior que 10\")"
      ],
      "metadata": {
        "colab": {
          "base_uri": "https://localhost:8080/"
        },
        "id": "JoPmL1popap3",
        "outputId": "84767239-7327-4d15-a3ed-8036eff00cce"
      },
      "execution_count": null,
      "outputs": [
        {
          "output_type": "stream",
          "name": "stdout",
          "text": [
            "Número maior que 0\n",
            "Número é maior que 10\n"
          ]
        }
      ]
    },
    {
      "cell_type": "code",
      "source": [
        "numero = 1001\n",
        "if numero < 10:\n",
        "  print(\"Menor que dez\")\n",
        "elif numero < 100:\n",
        "  print(\"Menor que cem\")\n",
        "elif numero <= 1000:\n",
        "  print(\"Menor ou igual a mil\")\n",
        "else:\n",
        "  print(\"Nenhuma anterior\")"
      ],
      "metadata": {
        "colab": {
          "base_uri": "https://localhost:8080/"
        },
        "id": "yOkbeqqXp0xX",
        "outputId": "d5989b09-05c4-4d05-b5c0-252ebdc0d5f3"
      },
      "execution_count": null,
      "outputs": [
        {
          "output_type": "stream",
          "name": "stdout",
          "text": [
            "Nenhuma anterior\n"
          ]
        }
      ]
    },
    {
      "cell_type": "code",
      "source": [
        "texto = \"c\"\n",
        "if texto == \"a\":\n",
        "  print(\"é vogal a\")\n",
        "elif texto == \"e\":\n",
        "  print(\"é vogal e\")\n",
        "elif texto == \"i\":\n",
        "  print(\"é vogal i\")\n",
        "elif texto == \"o\":\n",
        "  print(\"é vogal o\")\n",
        "elif texto == \"u\":\n",
        "  print(\"é vogal u\")\n",
        "else:\n",
        "  print(\"Consoante\")"
      ],
      "metadata": {
        "colab": {
          "base_uri": "https://localhost:8080/"
        },
        "id": "WvjVJmDDrLyP",
        "outputId": "3ec32c90-e398-423e-96b0-eb4026830c75"
      },
      "execution_count": null,
      "outputs": [
        {
          "output_type": "stream",
          "name": "stdout",
          "text": [
            "Consoante\n"
          ]
        }
      ]
    },
    {
      "cell_type": "code",
      "source": [
        "numero = 11\n",
        "resultado = \"PAR\" if numero % 2 == 0 else \"IMPAR\"\n",
        "print(resultado)"
      ],
      "metadata": {
        "colab": {
          "base_uri": "https://localhost:8080/"
        },
        "id": "5DiT9Jfer_DW",
        "outputId": "9dc0d224-5eb5-411d-e87e-9d106cc73595"
      },
      "execution_count": null,
      "outputs": [
        {
          "output_type": "stream",
          "name": "stdout",
          "text": [
            "IMPAR\n"
          ]
        }
      ]
    },
    {
      "cell_type": "code",
      "source": [
        "numero = 3\n",
        "resultado = \"UM\" if numero == 1 else \"DOIS\" if numero == 2 else \"TRÊS\"\n",
        "print(resultado)"
      ],
      "metadata": {
        "colab": {
          "base_uri": "https://localhost:8080/"
        },
        "id": "sfmORTUXtJKm",
        "outputId": "64bf9e8e-bee6-4037-d474-58b750941ff7"
      },
      "execution_count": null,
      "outputs": [
        {
          "output_type": "stream",
          "name": "stdout",
          "text": [
            "TRÊS\n"
          ]
        }
      ]
    },
    {
      "cell_type": "markdown",
      "source": [
        "## Atividades de Ifs"
      ],
      "metadata": {
        "id": "er2qAxw_vGCM"
      }
    },
    {
      "cell_type": "code",
      "source": [
        "#1 - Crie um programa que receba o seu saldo bancário e o quanto você deve.\n",
        "# Em seguida o programa deve dizer se você tem saldo positivo ou negativo."
      ],
      "metadata": {
        "id": "VC5VdrovtpKu"
      },
      "execution_count": null,
      "outputs": []
    },
    {
      "cell_type": "code",
      "source": [
        "saldo_bancario = input(\"Digite o saldo: \")\n",
        "dividas = input(\"Digite quanto deve: \")\n",
        "saldo_atual = float(saldo_bancario) - float(dividas)\n",
        "if saldo_atual >= 0:\n",
        "  print(\"Você possui saldo positivo, R$\", saldo_atual)\n",
        "else:\n",
        "  print(\"Você possui saldo negativos, R$\", saldo_atual)"
      ],
      "metadata": {
        "colab": {
          "base_uri": "https://localhost:8080/"
        },
        "id": "Y1FuyBVWvNyE",
        "outputId": "e5295d21-5c2a-4a71-a4a6-c7e25103e44d"
      },
      "execution_count": null,
      "outputs": [
        {
          "output_type": "stream",
          "name": "stdout",
          "text": [
            "Digite o saldo: 200\n",
            "Digite quanto deve: 300\n",
            "Você possui saldo negativos, R$ -100.0\n"
          ]
        }
      ]
    },
    {
      "cell_type": "code",
      "source": [
        "#2 - Crie um programa que possui uma variável que guarde seu CPF e que guarde uma senha de sua escolha.\n",
        "# Em seguida receba por input uma senha do usuário.\n",
        "# Caso a senha recebida seja a correta mostre o CPF, caso não diga que a senha esta incorreta."
      ],
      "metadata": {
        "id": "w6MacWZWwJLm"
      },
      "execution_count": null,
      "outputs": []
    },
    {
      "cell_type": "code",
      "source": [
        "cpf = \"123.456.789-10\"\n",
        "senha = \"admin\"\n",
        "senha_usuario = input(\"Digite a senha: \")\n",
        "if senha == senha_usuario:\n",
        "  print(\"Senha correta!\\nSeu cpf:\", cpf)\n",
        "else:\n",
        "  print(\"Senha incorreta\")"
      ],
      "metadata": {
        "colab": {
          "base_uri": "https://localhost:8080/"
        },
        "id": "50rFOJmWwbXC",
        "outputId": "29b3aa2e-03af-4253-d477-cf201147eb75"
      },
      "execution_count": null,
      "outputs": [
        {
          "output_type": "stream",
          "name": "stdout",
          "text": [
            "Digite a senha: fulado\n",
            "Senha incorreta\n"
          ]
        }
      ]
    },
    {
      "cell_type": "code",
      "source": [
        "#3 - Crie um programa que fale sobre sua idade. As regras são a seguinte, você deve receber por input sua idade, se você tiver ate\n",
        "# três anos printe que é um bebe, ate 13 anos uma criança, ate 18 anos adolescente,\n",
        "# até 65 adulto. Em nenhum deste casos é um idoso"
      ],
      "metadata": {
        "id": "lQ_Jjc_pw3Q2"
      },
      "execution_count": null,
      "outputs": []
    },
    {
      "cell_type": "code",
      "source": [
        "idade = int(input(\"Digite sua idade: \"))\n",
        "if idade <= 3:\n",
        "  print(\"Você é um bebê\")\n",
        "elif idade <= 13:\n",
        "  print(\"Você é uma criança\")\n",
        "elif idade <= 18:\n",
        "  print(\"Você é um adolescente\")\n",
        "elif idade <= 65:\n",
        "  print(\"Você é um adulto\")\n",
        "else:\n",
        "  print(\"Você é um idoso\")"
      ],
      "metadata": {
        "colab": {
          "base_uri": "https://localhost:8080/"
        },
        "id": "RfilUAV3xAMj",
        "outputId": "fcf28bd8-9412-4143-85b9-2a3ef2a9e6ae"
      },
      "execution_count": null,
      "outputs": [
        {
          "output_type": "stream",
          "name": "stdout",
          "text": [
            "Digite sua idade: 70\n",
            "Você é um idoso\n"
          ]
        }
      ]
    },
    {
      "cell_type": "code",
      "source": [
        "#4 - Crie um programa que receba dois números, e também receba do usuário a operação que deve ser feita,\n",
        "# as possibilidades são soma(+), subtração (-), divisão(/) e multiplicação(*).\n",
        "# Realize a operação escolhida sobre os dois números."
      ],
      "metadata": {
        "id": "1eKF7gyCxvhl"
      },
      "execution_count": null,
      "outputs": []
    },
    {
      "cell_type": "code",
      "source": [
        "numero1 = float(input(\"Digite um número: \"))\n",
        "numero2 = float(input(\"Digite outro número: \"))\n",
        "operacao = input(\"Digite uma operação \\'+\\' ou \\'-\\' ou \\'/\\' ou \\'*\\'\")\n",
        "if operacao == \"+\":\n",
        "  print(numero1 + numero2)\n",
        "elif operacao == \"-\":\n",
        "  print(numero1 - numero2)\n",
        "elif operacao == \"/\":\n",
        "  print(numero1 / numero2)\n",
        "elif operacao == \"*\":\n",
        "  print(numero1 * numero2)\n",
        "else:\n",
        "  print(\"Operação invalida\")"
      ],
      "metadata": {
        "colab": {
          "base_uri": "https://localhost:8080/"
        },
        "id": "RpKMi_vEyCVv",
        "outputId": "18823c2b-3b14-4c0b-9218-63aadd8b7257"
      },
      "execution_count": null,
      "outputs": [
        {
          "output_type": "stream",
          "name": "stdout",
          "text": [
            "Digite um número: 1\n",
            "Digite outro número: 2\n",
            "Digite uma operação '+' ou '-' ou '/' ou '*'+\n",
            "3.0\n"
          ]
        }
      ]
    },
    {
      "cell_type": "markdown",
      "source": [
        "# Laços / Loops"
      ],
      "metadata": {
        "id": "x0IQ7rzK3-TS"
      }
    },
    {
      "cell_type": "code",
      "source": [
        "while (True):\n",
        "  print(\"Isso não vai parar!\")"
      ],
      "metadata": {
        "id": "rZmisHrKyh4u"
      },
      "execution_count": null,
      "outputs": []
    },
    {
      "cell_type": "code",
      "source": [
        "interacao = 10\n",
        "while (interacao > 0):\n",
        "  print(interacao)\n",
        "  interacao -= 1\n",
        "\n",
        "print(\"Encerrado\")"
      ],
      "metadata": {
        "colab": {
          "base_uri": "https://localhost:8080/"
        },
        "id": "y5wgXqQy4Uxc",
        "outputId": "912311bf-d421-4b66-c99b-0f1a9112d47b"
      },
      "execution_count": null,
      "outputs": [
        {
          "output_type": "stream",
          "name": "stdout",
          "text": [
            "10\n",
            "9\n",
            "8\n",
            "7\n",
            "6\n",
            "5\n",
            "4\n",
            "3\n",
            "2\n",
            "1\n",
            "Encerrado\n"
          ]
        }
      ]
    },
    {
      "cell_type": "code",
      "source": [
        "indice = 10\n",
        "print(\"Programa inicializado\")\n",
        "while (indice >= 2):\n",
        "  resto = (indice % 2)\n",
        "  if resto == 0:\n",
        "    print(f\"Número {indice} é par\")\n",
        "  else:\n",
        "    print(f\"Número {indice} é ímpar\")\n",
        "  indice -= 1\n",
        "\n",
        "print(\"Programa encerrado\")\n"
      ],
      "metadata": {
        "colab": {
          "base_uri": "https://localhost:8080/"
        },
        "id": "kbMgT-Qs4yZ8",
        "outputId": "79220431-4970-4682-8958-75cf819aa71f"
      },
      "execution_count": null,
      "outputs": [
        {
          "output_type": "stream",
          "name": "stdout",
          "text": [
            "Programa inicializado\n",
            "Número 10 é par\n",
            "Número 9 é ímpar\n",
            "Número 8 é par\n",
            "Número 7 é ímpar\n",
            "Número 6 é par\n",
            "Número 5 é ímpar\n",
            "Número 4 é par\n",
            "Número 3 é ímpar\n",
            "Número 2 é par\n",
            "Programa encerrado\n"
          ]
        }
      ]
    },
    {
      "cell_type": "code",
      "source": [
        "soma = 0\n",
        "cont = 0\n",
        "\n",
        "while (cont < 5):\n",
        "  numero = float(input(\"Digite um valor: \"))\n",
        "  soma += numero\n",
        "  cont += 1\n",
        "print(f\"Soma é {soma}\")"
      ],
      "metadata": {
        "colab": {
          "base_uri": "https://localhost:8080/"
        },
        "id": "qZm0-RQF6D0c",
        "outputId": "49005922-c294-4d03-bed1-33a8cb4bfe3e"
      },
      "execution_count": null,
      "outputs": [
        {
          "output_type": "stream",
          "name": "stdout",
          "text": [
            "Digite um valor: 20\n",
            "Digite um valor: 30\n",
            "Digite um valor: 12.5\n",
            "Digite um valor: 10\n",
            "Digite um valor: 30\n",
            "Soma é 102.5\n"
          ]
        }
      ]
    },
    {
      "cell_type": "code",
      "source": [
        "texto = \"Olá 123 _\"\n",
        "indice = 0\n",
        "while (indice < len(texto)):\n",
        "  print(texto[indice])\n",
        "  indice += 1\n"
      ],
      "metadata": {
        "colab": {
          "base_uri": "https://localhost:8080/"
        },
        "id": "H6PNrQ1-7ZIr",
        "outputId": "c588b615-613d-4a14-ccee-8be68ac724c8"
      },
      "execution_count": null,
      "outputs": [
        {
          "output_type": "stream",
          "name": "stdout",
          "text": [
            "O\n",
            "l\n",
            "á\n",
            " \n",
            "1\n",
            "2\n",
            "3\n",
            " \n",
            "_\n"
          ]
        }
      ]
    },
    {
      "cell_type": "code",
      "source": [
        "num_atual = 0\n",
        "while (True):\n",
        "  if num_atual == 5:\n",
        "    break\n",
        "  print(num_atual)\n",
        "  num_atual += 1\n",
        "\n",
        "print(\"Encerrado\")"
      ],
      "metadata": {
        "colab": {
          "base_uri": "https://localhost:8080/"
        },
        "id": "DIhSQT2m714U",
        "outputId": "ba6b879a-8809-46ce-82ba-4073d1350ec0"
      },
      "execution_count": null,
      "outputs": [
        {
          "output_type": "stream",
          "name": "stdout",
          "text": [
            "0\n",
            "1\n",
            "2\n",
            "3\n",
            "4\n",
            "Encerrado\n"
          ]
        }
      ]
    },
    {
      "cell_type": "code",
      "source": [
        "num_atual = 0\n",
        "\n",
        "while (num_atual < 10):\n",
        "  num_atual += 1\n",
        "  if num_atual == 7:\n",
        "    continue\n",
        "  print(num_atual)\n",
        "\n",
        "print(\"Encerrado\")"
      ],
      "metadata": {
        "colab": {
          "base_uri": "https://localhost:8080/"
        },
        "id": "-zJ53me69Bhr",
        "outputId": "4e9b06ed-1acc-4c7b-8111-877fec3ba20a"
      },
      "execution_count": null,
      "outputs": [
        {
          "output_type": "stream",
          "name": "stdout",
          "text": [
            "1\n",
            "2\n",
            "3\n",
            "4\n",
            "5\n",
            "6\n",
            "8\n",
            "9\n",
            "10\n",
            "Encerrado\n"
          ]
        }
      ]
    },
    {
      "cell_type": "markdown",
      "source": [
        "## Atividades de Laços While"
      ],
      "metadata": {
        "id": "VnAfauOm9r13"
      }
    },
    {
      "cell_type": "code",
      "source": [
        "#1 - Crie um programa que receba 5 números e retorne a\n",
        "# média aritmética entre esses números"
      ],
      "metadata": {
        "id": "TDSVY1Ls9Zm7"
      },
      "execution_count": null,
      "outputs": []
    },
    {
      "cell_type": "code",
      "source": [
        "soma = 0\n",
        "cont = 0\n",
        "\n",
        "while (cont < 5):\n",
        "  numero = float(input(\"Digite um número: \"))\n",
        "  soma += numero\n",
        "  cont += 1\n",
        "\n",
        "print(f\"A média aritmética é {soma/5:.2f}\")"
      ],
      "metadata": {
        "colab": {
          "base_uri": "https://localhost:8080/"
        },
        "id": "ygAdfy4690JB",
        "outputId": "59f324f4-eef3-4980-f6d8-f7acb8283302"
      },
      "execution_count": null,
      "outputs": [
        {
          "output_type": "stream",
          "name": "stdout",
          "text": [
            "Digite um número: 10\n",
            "Digite um número: 0\n",
            "Digite um número: 10\n",
            "Digite um número: 10\n",
            "Digite um número: 10\n",
            "A média aritmética é 8.00\n"
          ]
        }
      ]
    },
    {
      "cell_type": "code",
      "source": [
        "#2 - Crie um programa que receba 5 números, realiza a\n",
        "# soma destes números, mas caso um destes números seja\n",
        "# negativo não considere ele na soma."
      ],
      "metadata": {
        "id": "q8TwlY9I-i77"
      },
      "execution_count": null,
      "outputs": []
    },
    {
      "cell_type": "code",
      "source": [
        "soma = 0\n",
        "cont = 0\n",
        "\n",
        "while (cont < 5):\n",
        "  numero = float(input(\"Digite um número: \"))\n",
        "  if numero >= 0:\n",
        "    soma += numero\n",
        "  cont += 1\n",
        "\n",
        "print(f\"Soma geral: {soma}\")"
      ],
      "metadata": {
        "colab": {
          "base_uri": "https://localhost:8080/"
        },
        "id": "uAqWYjaI_Ggc",
        "outputId": "a32812f9-5c42-4308-87ee-383040968e3d"
      },
      "execution_count": 1,
      "outputs": [
        {
          "output_type": "stream",
          "name": "stdout",
          "text": [
            "Digite um número: 10\n",
            "Digite um número: 20\n",
            "Digite um número: 10\n",
            "Digite um número: 10\n",
            "Digite um número: -10\n",
            "Soma geral: 50.0\n"
          ]
        }
      ]
    },
    {
      "cell_type": "code",
      "source": [
        "#3 - Cria um programa que receba um número arbitrário\n",
        "# (definido pelo usuário) de números que serão lidos e\n",
        "# retorne a soma de todos eles."
      ],
      "metadata": {
        "id": "W_3cw_ve_tLT"
      },
      "execution_count": null,
      "outputs": []
    },
    {
      "cell_type": "code",
      "source": [
        "numero_arbitrario = int(input(\"Digite um número arbitrário: \"))\n",
        "soma = 0\n",
        "cont = 0\n",
        "\n",
        "while (cont < numero_arbitrario):\n",
        "  numero = float(input(\"Digite um número: \"))\n",
        "  soma += numero\n",
        "  cont += 1\n",
        "\n",
        "print(f\"Soma: {soma:.2f}\")"
      ],
      "metadata": {
        "colab": {
          "base_uri": "https://localhost:8080/"
        },
        "id": "YHXhLPgKABde",
        "outputId": "a708e190-480b-4e73-c868-d3b4cea7e0bb"
      },
      "execution_count": null,
      "outputs": [
        {
          "output_type": "stream",
          "name": "stdout",
          "text": [
            "Digite um número arbitrário: 2\n",
            "Digite um número: 10\n",
            "Digite um número: 10\n",
            "Soma: 20.00\n"
          ]
        }
      ]
    },
    {
      "cell_type": "code",
      "source": [
        "#4 - Percorra os números de 2 até 10 e diga se o número é\n",
        "# par ou impar."
      ],
      "metadata": {
        "id": "9_-LER-cAgH7"
      },
      "execution_count": null,
      "outputs": []
    },
    {
      "cell_type": "code",
      "source": [
        "cont = 2\n",
        "\n",
        "while cont >= 2 and cont <= 10:\n",
        "  resto = cont % 2\n",
        "  if resto == 0:\n",
        "    print(f\"Número {cont} par\")\n",
        "  else:\n",
        "    print(f\"Número {cont} ímpar\")\n",
        "  cont+=1"
      ],
      "metadata": {
        "colab": {
          "base_uri": "https://localhost:8080/"
        },
        "id": "EvKChkHGAoTa",
        "outputId": "f52ddf66-6d26-4093-ad2b-a63b36df443a"
      },
      "execution_count": null,
      "outputs": [
        {
          "output_type": "stream",
          "name": "stdout",
          "text": [
            "Número 2 par\n",
            "Número 3 ímpar\n",
            "Número 4 par\n",
            "Número 5 ímpar\n",
            "Número 6 par\n",
            "Número 7 ímpar\n",
            "Número 8 par\n",
            "Número 9 ímpar\n",
            "Número 10 par\n"
          ]
        }
      ]
    },
    {
      "cell_type": "code",
      "source": [
        "#5 - Crie um programa que receba como input uma string.\n",
        "# Em seguida percorra a string e diga quantos espaços em branco essa string tem."
      ],
      "metadata": {
        "id": "Es9Iw2vFBKpq"
      },
      "execution_count": null,
      "outputs": []
    },
    {
      "cell_type": "code",
      "source": [
        "texto = input(\"Digite uma string: \")\n",
        "cont = 0\n",
        "cont_brancos = 0\n",
        "while (cont < len(texto)):\n",
        "  if texto[cont] == \" \":\n",
        "    cont_brancos += 1\n",
        "  cont += 1\n",
        "print(f\"A string {texto} possui {cont_brancos} espaços em branco\")"
      ],
      "metadata": {
        "colab": {
          "base_uri": "https://localhost:8080/"
        },
        "id": "yb9GQwtUBUl2",
        "outputId": "27f46821-5a67-4b83-e957-2410cea02a47"
      },
      "execution_count": null,
      "outputs": [
        {
          "output_type": "stream",
          "name": "stdout",
          "text": [
            "Digite uma string: Jean o melhor\n",
            "A string Jean o melhor possui 2 espaços em branco\n"
          ]
        }
      ]
    },
    {
      "cell_type": "code",
      "source": [
        "for x in range(10):\n",
        "  print(x)"
      ],
      "metadata": {
        "id": "WCFxij0sCAo6",
        "colab": {
          "base_uri": "https://localhost:8080/"
        },
        "outputId": "0f116184-2be5-4d6e-9577-cb76781f1dc6"
      },
      "execution_count": 2,
      "outputs": [
        {
          "output_type": "stream",
          "name": "stdout",
          "text": [
            "0\n",
            "1\n",
            "2\n",
            "3\n",
            "4\n",
            "5\n",
            "6\n",
            "7\n",
            "8\n",
            "9\n"
          ]
        }
      ]
    },
    {
      "cell_type": "code",
      "source": [
        "for x in range(5,10):\n",
        "  print(x)"
      ],
      "metadata": {
        "colab": {
          "base_uri": "https://localhost:8080/"
        },
        "id": "85wqJIYjzhlB",
        "outputId": "a560d546-ac46-4c1b-cfd7-660ca8ae6870"
      },
      "execution_count": 3,
      "outputs": [
        {
          "output_type": "stream",
          "name": "stdout",
          "text": [
            "5\n",
            "6\n",
            "7\n",
            "8\n",
            "9\n"
          ]
        }
      ]
    },
    {
      "cell_type": "code",
      "source": [
        "for x in range(5,20,5):\n",
        "  print(x)"
      ],
      "metadata": {
        "colab": {
          "base_uri": "https://localhost:8080/"
        },
        "id": "haZTtKKczk_4",
        "outputId": "67e2decd-17b9-40ce-b53a-78a9b83341d2"
      },
      "execution_count": 4,
      "outputs": [
        {
          "output_type": "stream",
          "name": "stdout",
          "text": [
            "5\n",
            "10\n",
            "15\n"
          ]
        }
      ]
    },
    {
      "cell_type": "code",
      "source": [
        "for x in range(20,5,-5):\n",
        "  print(x)"
      ],
      "metadata": {
        "colab": {
          "base_uri": "https://localhost:8080/"
        },
        "id": "OyruSAbrzuh_",
        "outputId": "e97c1c6d-84e2-4759-9340-0a22b6f46b5f"
      },
      "execution_count": 5,
      "outputs": [
        {
          "output_type": "stream",
          "name": "stdout",
          "text": [
            "20\n",
            "15\n",
            "10\n"
          ]
        }
      ]
    },
    {
      "cell_type": "code",
      "source": [
        "texto = \"123t456789\"\n",
        "for x in range(0, len(texto)):\n",
        "  print(texto[x])"
      ],
      "metadata": {
        "colab": {
          "base_uri": "https://localhost:8080/"
        },
        "id": "S46VUsxz5B4T",
        "outputId": "349e8c0c-df15-4d22-8ec6-6a0fc4f991d8"
      },
      "execution_count": 7,
      "outputs": [
        {
          "output_type": "stream",
          "name": "stdout",
          "text": [
            "1\n",
            "2\n",
            "3\n",
            "t\n",
            "4\n",
            "5\n",
            "6\n",
            "7\n",
            "8\n",
            "9\n"
          ]
        }
      ]
    },
    {
      "cell_type": "code",
      "source": [
        "letra = input(\"Digite uma letra: \")\n",
        "if (len(letra) != 1):\n",
        "  print(\"Precisa ter um dígito\")\n",
        "else:\n",
        "  texto = input(\"Digite um texto: \")\n",
        "  for i in range(0, len(texto)):\n",
        "    if letra == texto[i]:\n",
        "      print(f\"Encontrei a letra {letra} na posição {i}\")"
      ],
      "metadata": {
        "colab": {
          "base_uri": "https://localhost:8080/"
        },
        "id": "zaQSiQGt5SlJ",
        "outputId": "ccb7367b-ef10-4496-f6c5-822abb01f816"
      },
      "execution_count": 13,
      "outputs": [
        {
          "output_type": "stream",
          "name": "stdout",
          "text": [
            "Digite uma letra: a\n",
            "Digite um texto: jean marcos\n",
            "Encontrei a letra a na posição 2\n",
            "Encontrei a letra a na posição 6\n"
          ]
        }
      ]
    },
    {
      "cell_type": "code",
      "source": [
        "texto = \"Olá, eu sou iterável\"\n",
        "for x in texto:\n",
        "  print(x)"
      ],
      "metadata": {
        "colab": {
          "base_uri": "https://localhost:8080/"
        },
        "id": "H-YyYTY85_nL",
        "outputId": "1f64a921-abf9-439e-d800-f70909ab9c63"
      },
      "execution_count": 14,
      "outputs": [
        {
          "output_type": "stream",
          "name": "stdout",
          "text": [
            "O\n",
            "l\n",
            "á\n",
            ",\n",
            " \n",
            "e\n",
            "u\n",
            " \n",
            "s\n",
            "o\n",
            "u\n",
            " \n",
            "i\n",
            "t\n",
            "e\n",
            "r\n",
            "á\n",
            "v\n",
            "e\n",
            "l\n"
          ]
        }
      ]
    },
    {
      "cell_type": "code",
      "source": [
        "for x in range(0,3):\n",
        "  for y in range(0,5):\n",
        "    print(x, y)"
      ],
      "metadata": {
        "colab": {
          "base_uri": "https://localhost:8080/"
        },
        "id": "QWEVm0bi7KKC",
        "outputId": "c0143d10-df16-4e94-f995-c3888851923a"
      },
      "execution_count": 16,
      "outputs": [
        {
          "output_type": "stream",
          "name": "stdout",
          "text": [
            "0 0\n",
            "0 1\n",
            "0 2\n",
            "0 3\n",
            "0 4\n",
            "1 0\n",
            "1 1\n",
            "1 2\n",
            "1 3\n",
            "1 4\n",
            "2 0\n",
            "2 1\n",
            "2 2\n",
            "2 3\n",
            "2 4\n"
          ]
        }
      ]
    },
    {
      "cell_type": "code",
      "source": [
        "for num1 in range(1,11):\n",
        "  print(\"--------------\")\n",
        "  for num2 in range(1,11):\n",
        "    print(f\"{num1} X {num2} = {num1*num2}\")"
      ],
      "metadata": {
        "colab": {
          "base_uri": "https://localhost:8080/"
        },
        "id": "dGSGd4dl7a-5",
        "outputId": "5bb63017-7ce2-470f-f5bb-ebc14edd9148"
      },
      "execution_count": 19,
      "outputs": [
        {
          "output_type": "stream",
          "name": "stdout",
          "text": [
            "--------------\n",
            "1 X 1 = 1\n",
            "1 X 2 = 2\n",
            "1 X 3 = 3\n",
            "1 X 4 = 4\n",
            "1 X 5 = 5\n",
            "1 X 6 = 6\n",
            "1 X 7 = 7\n",
            "1 X 8 = 8\n",
            "1 X 9 = 9\n",
            "1 X 10 = 10\n",
            "--------------\n",
            "2 X 1 = 2\n",
            "2 X 2 = 4\n",
            "2 X 3 = 6\n",
            "2 X 4 = 8\n",
            "2 X 5 = 10\n",
            "2 X 6 = 12\n",
            "2 X 7 = 14\n",
            "2 X 8 = 16\n",
            "2 X 9 = 18\n",
            "2 X 10 = 20\n",
            "--------------\n",
            "3 X 1 = 3\n",
            "3 X 2 = 6\n",
            "3 X 3 = 9\n",
            "3 X 4 = 12\n",
            "3 X 5 = 15\n",
            "3 X 6 = 18\n",
            "3 X 7 = 21\n",
            "3 X 8 = 24\n",
            "3 X 9 = 27\n",
            "3 X 10 = 30\n",
            "--------------\n",
            "4 X 1 = 4\n",
            "4 X 2 = 8\n",
            "4 X 3 = 12\n",
            "4 X 4 = 16\n",
            "4 X 5 = 20\n",
            "4 X 6 = 24\n",
            "4 X 7 = 28\n",
            "4 X 8 = 32\n",
            "4 X 9 = 36\n",
            "4 X 10 = 40\n",
            "--------------\n",
            "5 X 1 = 5\n",
            "5 X 2 = 10\n",
            "5 X 3 = 15\n",
            "5 X 4 = 20\n",
            "5 X 5 = 25\n",
            "5 X 6 = 30\n",
            "5 X 7 = 35\n",
            "5 X 8 = 40\n",
            "5 X 9 = 45\n",
            "5 X 10 = 50\n",
            "--------------\n",
            "6 X 1 = 6\n",
            "6 X 2 = 12\n",
            "6 X 3 = 18\n",
            "6 X 4 = 24\n",
            "6 X 5 = 30\n",
            "6 X 6 = 36\n",
            "6 X 7 = 42\n",
            "6 X 8 = 48\n",
            "6 X 9 = 54\n",
            "6 X 10 = 60\n",
            "--------------\n",
            "7 X 1 = 7\n",
            "7 X 2 = 14\n",
            "7 X 3 = 21\n",
            "7 X 4 = 28\n",
            "7 X 5 = 35\n",
            "7 X 6 = 42\n",
            "7 X 7 = 49\n",
            "7 X 8 = 56\n",
            "7 X 9 = 63\n",
            "7 X 10 = 70\n",
            "--------------\n",
            "8 X 1 = 8\n",
            "8 X 2 = 16\n",
            "8 X 3 = 24\n",
            "8 X 4 = 32\n",
            "8 X 5 = 40\n",
            "8 X 6 = 48\n",
            "8 X 7 = 56\n",
            "8 X 8 = 64\n",
            "8 X 9 = 72\n",
            "8 X 10 = 80\n",
            "--------------\n",
            "9 X 1 = 9\n",
            "9 X 2 = 18\n",
            "9 X 3 = 27\n",
            "9 X 4 = 36\n",
            "9 X 5 = 45\n",
            "9 X 6 = 54\n",
            "9 X 7 = 63\n",
            "9 X 8 = 72\n",
            "9 X 9 = 81\n",
            "9 X 10 = 90\n",
            "--------------\n",
            "10 X 1 = 10\n",
            "10 X 2 = 20\n",
            "10 X 3 = 30\n",
            "10 X 4 = 40\n",
            "10 X 5 = 50\n",
            "10 X 6 = 60\n",
            "10 X 7 = 70\n",
            "10 X 8 = 80\n",
            "10 X 9 = 90\n",
            "10 X 10 = 100\n"
          ]
        }
      ]
    },
    {
      "cell_type": "code",
      "source": [],
      "metadata": {
        "id": "UJ3tXA9Z8M1a"
      },
      "execution_count": null,
      "outputs": []
    }
  ]
}